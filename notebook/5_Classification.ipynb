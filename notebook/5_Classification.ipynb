{
 "cells": [
  {
   "cell_type": "markdown",
   "metadata": {
    "id": "BhmsP3Z1YpYv"
   },
   "source": [
    "# Time Series Classification\n",
    "**Content:**\n",
    "- Google Colab Setup\n",
    "- Preprocessing\n",
    "- Modeling\n",
    "- Evaluation"
   ]
  },
  {
   "cell_type": "code",
   "execution_count": 1,
   "metadata": {
    "id": "4-crFrc7IhcS"
   },
   "outputs": [],
   "source": [
    "# util.py has pmdarima function inside\n",
    "# Need to install it before import the pyfile\n",
    "# !pip install pmdarima"
   ]
  },
  {
   "cell_type": "markdown",
   "metadata": {
    "id": "Ld58vlziWqM1"
   },
   "source": [
    "## I. Google Colab Setup"
   ]
  },
  {
   "cell_type": "code",
   "execution_count": 2,
   "metadata": {
    "id": "2M_ASM1ON86H"
   },
   "outputs": [],
   "source": [
    "# Google Colab\n",
    "from google.colab import drive\n",
    "import os\n",
    "\n",
    "# General\n",
    "import pandas as pd\n",
    "pd.set_option('display.float_format', lambda x: '%.4f' % x)\n",
    "import numpy as np\n",
    "np.set_printoptions(precision=4, suppress=True)\n",
    "import matplotlib.pyplot as plt\n",
    "%matplotlib inline\n",
    "import warnings\n",
    "warnings.filterwarnings('ignore')\n",
    "from pickle import dump, load\n",
    "\n",
    "# Scikit-Learn\n",
    "from sklearn.pipeline import Pipeline\n",
    "from sklearn.compose import ColumnTransformer\n",
    "from sklearn.preprocessing import LabelEncoder, MinMaxScaler\n",
    "from sklearn.metrics import accuracy_score, plot_confusion_matrix, classification_report, roc_auc_score, plot_roc_curve\n",
    "from sklearn.model_selection import GridSearchCV\n",
    "\n",
    "# Classifier\n",
    "from sklearn.linear_model import LogisticRegression\n",
    "from sklearn.neighbors import KNeighborsClassifier\n",
    "from sklearn.tree import DecisionTreeClassifier\n",
    "from sklearn.ensemble import RandomForestClassifier, BaggingClassifier, AdaBoostClassifier, GradientBoostingClassifier\n",
    "from xgboost import XGBClassifier\n",
    "from sklearn.svm import SVC, NuSVC\n",
    "\n",
    "# Plotly\n",
    "import plotly.express as px\n",
    "import plotly.graph_objects as go"
   ]
  },
  {
   "cell_type": "code",
   "execution_count": 3,
   "metadata": {
    "colab": {
     "base_uri": "https://localhost:8080/"
    },
    "id": "TSuTJf0FItHH",
    "outputId": "6531dcea-e745-40df-e0d9-bae3d528fe12"
   },
   "outputs": [
    {
     "name": "stdout",
     "output_type": "stream",
     "text": [
      "Mounted at /gdrive\n"
     ]
    }
   ],
   "source": [
    "# Mount Google Drive\n",
    "drive.mount('/gdrive', force_remount=True)"
   ]
  },
  {
   "cell_type": "code",
   "execution_count": 4,
   "metadata": {
    "colab": {
     "base_uri": "https://localhost:8080/"
    },
    "id": "LE2SoVpgItEt",
    "outputId": "707d7c88-9f41-42a4-cec3-44a39026f026"
   },
   "outputs": [
    {
     "name": "stdout",
     "output_type": "stream",
     "text": [
      "/content\n"
     ]
    }
   ],
   "source": [
    "# Get the current working directory\n",
    "print(os.getcwd())"
   ]
  },
  {
   "cell_type": "code",
   "execution_count": 5,
   "metadata": {
    "id": "JOexmeeDJIOB"
   },
   "outputs": [],
   "source": [
    "# Drive path is the path where I upload the ETFs history file and pre-written pyfile\n",
    "drive_path_csv = '/gdrive/MyDrive/Capstone_Project/REIT_ETFs.csv'\n",
    "drive_path_util = '/gdrive/MyDrive/Capstone_Project/util.py'\n",
    "\n",
    "# Expect to move these file into the local path\n",
    "local_path = '/content'"
   ]
  },
  {
   "cell_type": "code",
   "execution_count": 6,
   "metadata": {
    "id": "JFideisMItCG"
   },
   "outputs": [],
   "source": [
    "# Copy these file in drive path\n",
    "!cp '{drive_path_csv}' .\n",
    "!cp '{drive_path_util}' .\n",
    "\n",
    "# Change these file from drive path to the local path\n",
    "os.chdir(local_path)"
   ]
  },
  {
   "cell_type": "code",
   "execution_count": 7,
   "metadata": {
    "id": "Wc0Pgn7kIs_t"
   },
   "outputs": [],
   "source": [
    "# Pre-written function\n",
    "import util as ut"
   ]
  },
  {
   "cell_type": "markdown",
   "metadata": {
    "id": "fJlZGpc3Wwjs"
   },
   "source": [
    "## II. Preprocessing"
   ]
  },
  {
   "cell_type": "code",
   "execution_count": 8,
   "metadata": {
    "colab": {
     "base_uri": "https://localhost:8080/",
     "height": 419
    },
    "id": "KuGVgeJ9Is4h",
    "outputId": "72c49f8e-f67d-4a6c-decf-0040382a0377"
   },
   "outputs": [
    {
     "data": {
      "text/html": [
       "<div>\n",
       "<style scoped>\n",
       "    .dataframe tbody tr th:only-of-type {\n",
       "        vertical-align: middle;\n",
       "    }\n",
       "\n",
       "    .dataframe tbody tr th {\n",
       "        vertical-align: top;\n",
       "    }\n",
       "\n",
       "    .dataframe thead th {\n",
       "        text-align: right;\n",
       "    }\n",
       "</style>\n",
       "<table border=\"1\" class=\"dataframe\">\n",
       "  <thead>\n",
       "    <tr style=\"text-align: right;\">\n",
       "      <th></th>\n",
       "      <th>Date</th>\n",
       "      <th>Open</th>\n",
       "      <th>High</th>\n",
       "      <th>Low</th>\n",
       "      <th>Close</th>\n",
       "      <th>Volume</th>\n",
       "      <th>Dividends</th>\n",
       "      <th>Stock Splits</th>\n",
       "      <th>Ticker</th>\n",
       "    </tr>\n",
       "  </thead>\n",
       "  <tbody>\n",
       "    <tr>\n",
       "      <th>0</th>\n",
       "      <td>2004-09-29</td>\n",
       "      <td>23.7945</td>\n",
       "      <td>23.8614</td>\n",
       "      <td>23.7898</td>\n",
       "      <td>23.7945</td>\n",
       "      <td>205800</td>\n",
       "      <td>0.0000</td>\n",
       "      <td>0.0000</td>\n",
       "      <td>VNQ</td>\n",
       "    </tr>\n",
       "    <tr>\n",
       "      <th>1</th>\n",
       "      <td>2004-09-30</td>\n",
       "      <td>23.8661</td>\n",
       "      <td>24.0237</td>\n",
       "      <td>23.8614</td>\n",
       "      <td>23.9855</td>\n",
       "      <td>27900</td>\n",
       "      <td>0.0000</td>\n",
       "      <td>0.0000</td>\n",
       "      <td>VNQ</td>\n",
       "    </tr>\n",
       "    <tr>\n",
       "      <th>2</th>\n",
       "      <td>2004-10-01</td>\n",
       "      <td>24.0332</td>\n",
       "      <td>24.4628</td>\n",
       "      <td>23.9855</td>\n",
       "      <td>24.4294</td>\n",
       "      <td>129800</td>\n",
       "      <td>0.0000</td>\n",
       "      <td>0.0000</td>\n",
       "      <td>VNQ</td>\n",
       "    </tr>\n",
       "    <tr>\n",
       "      <th>3</th>\n",
       "      <td>2004-10-04</td>\n",
       "      <td>24.5296</td>\n",
       "      <td>24.6060</td>\n",
       "      <td>24.5296</td>\n",
       "      <td>24.5344</td>\n",
       "      <td>8100</td>\n",
       "      <td>0.0000</td>\n",
       "      <td>0.0000</td>\n",
       "      <td>VNQ</td>\n",
       "    </tr>\n",
       "    <tr>\n",
       "      <th>4</th>\n",
       "      <td>2004-10-05</td>\n",
       "      <td>24.5344</td>\n",
       "      <td>24.5821</td>\n",
       "      <td>24.5105</td>\n",
       "      <td>24.5296</td>\n",
       "      <td>11900</td>\n",
       "      <td>0.0000</td>\n",
       "      <td>0.0000</td>\n",
       "      <td>VNQ</td>\n",
       "    </tr>\n",
       "    <tr>\n",
       "      <th>...</th>\n",
       "      <td>...</td>\n",
       "      <td>...</td>\n",
       "      <td>...</td>\n",
       "      <td>...</td>\n",
       "      <td>...</td>\n",
       "      <td>...</td>\n",
       "      <td>...</td>\n",
       "      <td>...</td>\n",
       "      <td>...</td>\n",
       "    </tr>\n",
       "    <tr>\n",
       "      <th>53434</th>\n",
       "      <td>2021-06-17</td>\n",
       "      <td>9.2800</td>\n",
       "      <td>9.2900</td>\n",
       "      <td>9.2200</td>\n",
       "      <td>9.2200</td>\n",
       "      <td>5200</td>\n",
       "      <td>0.0000</td>\n",
       "      <td>0.0000</td>\n",
       "      <td>REK</td>\n",
       "    </tr>\n",
       "    <tr>\n",
       "      <th>53435</th>\n",
       "      <td>2021-06-18</td>\n",
       "      <td>9.3300</td>\n",
       "      <td>9.3700</td>\n",
       "      <td>9.2700</td>\n",
       "      <td>9.3700</td>\n",
       "      <td>22800</td>\n",
       "      <td>0.0000</td>\n",
       "      <td>0.0000</td>\n",
       "      <td>REK</td>\n",
       "    </tr>\n",
       "    <tr>\n",
       "      <th>53436</th>\n",
       "      <td>2021-06-21</td>\n",
       "      <td>9.3200</td>\n",
       "      <td>9.3200</td>\n",
       "      <td>9.1700</td>\n",
       "      <td>9.1700</td>\n",
       "      <td>22900</td>\n",
       "      <td>0.0000</td>\n",
       "      <td>0.0000</td>\n",
       "      <td>REK</td>\n",
       "    </tr>\n",
       "    <tr>\n",
       "      <th>53437</th>\n",
       "      <td>2021-06-22</td>\n",
       "      <td>9.1600</td>\n",
       "      <td>9.2300</td>\n",
       "      <td>9.1600</td>\n",
       "      <td>9.2200</td>\n",
       "      <td>6200</td>\n",
       "      <td>0.0000</td>\n",
       "      <td>0.0000</td>\n",
       "      <td>REK</td>\n",
       "    </tr>\n",
       "    <tr>\n",
       "      <th>53438</th>\n",
       "      <td>2021-06-23</td>\n",
       "      <td>9.2000</td>\n",
       "      <td>9.2600</td>\n",
       "      <td>9.2000</td>\n",
       "      <td>9.2600</td>\n",
       "      <td>4500</td>\n",
       "      <td>0.0000</td>\n",
       "      <td>0.0000</td>\n",
       "      <td>REK</td>\n",
       "    </tr>\n",
       "  </tbody>\n",
       "</table>\n",
       "<p>53439 rows × 9 columns</p>\n",
       "</div>"
      ],
      "text/plain": [
       "             Date    Open    High  ...  Dividends  Stock Splits  Ticker\n",
       "0      2004-09-29 23.7945 23.8614  ...     0.0000        0.0000     VNQ\n",
       "1      2004-09-30 23.8661 24.0237  ...     0.0000        0.0000     VNQ\n",
       "2      2004-10-01 24.0332 24.4628  ...     0.0000        0.0000     VNQ\n",
       "3      2004-10-04 24.5296 24.6060  ...     0.0000        0.0000     VNQ\n",
       "4      2004-10-05 24.5344 24.5821  ...     0.0000        0.0000     VNQ\n",
       "...           ...     ...     ...  ...        ...           ...     ...\n",
       "53434  2021-06-17  9.2800  9.2900  ...     0.0000        0.0000     REK\n",
       "53435  2021-06-18  9.3300  9.3700  ...     0.0000        0.0000     REK\n",
       "53436  2021-06-21  9.3200  9.3200  ...     0.0000        0.0000     REK\n",
       "53437  2021-06-22  9.1600  9.2300  ...     0.0000        0.0000     REK\n",
       "53438  2021-06-23  9.2000  9.2600  ...     0.0000        0.0000     REK\n",
       "\n",
       "[53439 rows x 9 columns]"
      ]
     },
     "execution_count": 8,
     "metadata": {
      "tags": []
     },
     "output_type": "execute_result"
    }
   ],
   "source": [
    "data = pd.read_csv('/content/REIT_ETFs.csv')\n",
    "data"
   ]
  },
  {
   "cell_type": "code",
   "execution_count": 9,
   "metadata": {
    "id": "ntiAxLL9JLag"
   },
   "outputs": [],
   "source": [
    "# Select one REIT ETF\n",
    "vnq = data.copy().loc[data['Ticker'] == \"VNQ\"]"
   ]
  },
  {
   "cell_type": "code",
   "execution_count": 10,
   "metadata": {
    "colab": {
     "base_uri": "https://localhost:8080/"
    },
    "id": "pRvtfx8rG99L",
    "outputId": "607f5559-187f-4b2c-c0c0-b83e6e82f680"
   },
   "outputs": [
    {
     "data": {
      "text/plain": [
       "(4213, 9)"
      ]
     },
     "execution_count": 10,
     "metadata": {
      "tags": []
     },
     "output_type": "execute_result"
    }
   ],
   "source": [
    "vnq.shape"
   ]
  },
  {
   "cell_type": "code",
   "execution_count": 11,
   "metadata": {
    "id": "lTghZiwcNjQ2"
   },
   "outputs": [],
   "source": [
    "# Drop unnecessary columns\n",
    "vnq.drop(columns=['Volume', 'Dividends', 'Stock Splits', 'Ticker'], inplace=True)"
   ]
  },
  {
   "cell_type": "code",
   "execution_count": 12,
   "metadata": {
    "id": "qKCkQSyzUBTL"
   },
   "outputs": [],
   "source": [
    "# Shift index by 1 period => lag-1\n",
    "vnq['Lag 1'] = vnq['Close'].shift(periods=1)"
   ]
  },
  {
   "cell_type": "code",
   "execution_count": 13,
   "metadata": {
    "id": "z1fsKKm5P218"
   },
   "outputs": [],
   "source": [
    "# Find the difference between closing price and lag-1\n",
    "# Positive results => up trend\n",
    "# Negtive (or 0) result => down trend\n",
    "vnq.loc[vnq['Close'] - vnq['Lag 1'] > 0, 'Trend'] = 'up'\n",
    "vnq.loc[vnq['Close'] - vnq['Lag 1'] <= 0, 'Trend'] = 'down'"
   ]
  },
  {
   "cell_type": "code",
   "execution_count": 14,
   "metadata": {
    "colab": {
     "base_uri": "https://localhost:8080/"
    },
    "id": "RcNanN2uP2wP",
    "outputId": "dde676d9-7190-48da-976f-3d57d6f92274"
   },
   "outputs": [
    {
     "data": {
      "text/plain": [
       "1"
      ]
     },
     "execution_count": 14,
     "metadata": {
      "tags": []
     },
     "output_type": "execute_result"
    }
   ],
   "source": [
    "vnq['Trend'].isna().sum() # The 1st row should have a null value"
   ]
  },
  {
   "cell_type": "code",
   "execution_count": 15,
   "metadata": {
    "id": "pGXWDU_7W5yp"
   },
   "outputs": [],
   "source": [
    "# Drop the \"Lag 1\" column\n",
    "vnq.drop(columns=['Lag 1'], inplace=True)\n",
    "\n",
    "# Drop the 1st row which has a null value\n",
    "vnq.drop([0], inplace=True)"
   ]
  },
  {
   "cell_type": "code",
   "execution_count": 16,
   "metadata": {
    "colab": {
     "base_uri": "https://localhost:8080/",
     "height": 467
    },
    "id": "l8AoVtcAJOBM",
    "outputId": "54c86e4b-203f-4e74-edfb-249b10bb5dda"
   },
   "outputs": [
    {
     "name": "stdout",
     "output_type": "stream",
     "text": [
      "This dataframe's index is in datatime64? True\n"
     ]
    },
    {
     "data": {
      "text/html": [
       "<div>\n",
       "<style scoped>\n",
       "    .dataframe tbody tr th:only-of-type {\n",
       "        vertical-align: middle;\n",
       "    }\n",
       "\n",
       "    .dataframe tbody tr th {\n",
       "        vertical-align: top;\n",
       "    }\n",
       "\n",
       "    .dataframe thead th {\n",
       "        text-align: right;\n",
       "    }\n",
       "</style>\n",
       "<table border=\"1\" class=\"dataframe\">\n",
       "  <thead>\n",
       "    <tr style=\"text-align: right;\">\n",
       "      <th></th>\n",
       "      <th>Open</th>\n",
       "      <th>High</th>\n",
       "      <th>Low</th>\n",
       "      <th>Close</th>\n",
       "      <th>Trend</th>\n",
       "    </tr>\n",
       "    <tr>\n",
       "      <th>Date</th>\n",
       "      <th></th>\n",
       "      <th></th>\n",
       "      <th></th>\n",
       "      <th></th>\n",
       "      <th></th>\n",
       "    </tr>\n",
       "  </thead>\n",
       "  <tbody>\n",
       "    <tr>\n",
       "      <th>2004-09-30</th>\n",
       "      <td>23.8661</td>\n",
       "      <td>24.0237</td>\n",
       "      <td>23.8614</td>\n",
       "      <td>23.9855</td>\n",
       "      <td>up</td>\n",
       "    </tr>\n",
       "    <tr>\n",
       "      <th>2004-10-01</th>\n",
       "      <td>24.0332</td>\n",
       "      <td>24.4628</td>\n",
       "      <td>23.9855</td>\n",
       "      <td>24.4294</td>\n",
       "      <td>up</td>\n",
       "    </tr>\n",
       "    <tr>\n",
       "      <th>2004-10-04</th>\n",
       "      <td>24.5296</td>\n",
       "      <td>24.6060</td>\n",
       "      <td>24.5296</td>\n",
       "      <td>24.5344</td>\n",
       "      <td>up</td>\n",
       "    </tr>\n",
       "    <tr>\n",
       "      <th>2004-10-05</th>\n",
       "      <td>24.5344</td>\n",
       "      <td>24.5821</td>\n",
       "      <td>24.5105</td>\n",
       "      <td>24.5296</td>\n",
       "      <td>down</td>\n",
       "    </tr>\n",
       "    <tr>\n",
       "      <th>2004-10-06</th>\n",
       "      <td>24.5821</td>\n",
       "      <td>24.6442</td>\n",
       "      <td>24.5774</td>\n",
       "      <td>24.6442</td>\n",
       "      <td>up</td>\n",
       "    </tr>\n",
       "    <tr>\n",
       "      <th>...</th>\n",
       "      <td>...</td>\n",
       "      <td>...</td>\n",
       "      <td>...</td>\n",
       "      <td>...</td>\n",
       "      <td>...</td>\n",
       "    </tr>\n",
       "    <tr>\n",
       "      <th>2021-06-17</th>\n",
       "      <td>103.4100</td>\n",
       "      <td>103.7000</td>\n",
       "      <td>102.8600</td>\n",
       "      <td>103.5500</td>\n",
       "      <td>down</td>\n",
       "    </tr>\n",
       "    <tr>\n",
       "      <th>2021-06-18</th>\n",
       "      <td>103.0200</td>\n",
       "      <td>103.4700</td>\n",
       "      <td>101.7900</td>\n",
       "      <td>101.7900</td>\n",
       "      <td>down</td>\n",
       "    </tr>\n",
       "    <tr>\n",
       "      <th>2021-06-21</th>\n",
       "      <td>102.3100</td>\n",
       "      <td>104.2100</td>\n",
       "      <td>101.8000</td>\n",
       "      <td>103.8900</td>\n",
       "      <td>up</td>\n",
       "    </tr>\n",
       "    <tr>\n",
       "      <th>2021-06-22</th>\n",
       "      <td>103.8900</td>\n",
       "      <td>104.0100</td>\n",
       "      <td>103.2800</td>\n",
       "      <td>103.3500</td>\n",
       "      <td>down</td>\n",
       "    </tr>\n",
       "    <tr>\n",
       "      <th>2021-06-23</th>\n",
       "      <td>103.3500</td>\n",
       "      <td>103.7500</td>\n",
       "      <td>103.0800</td>\n",
       "      <td>103.1700</td>\n",
       "      <td>down</td>\n",
       "    </tr>\n",
       "  </tbody>\n",
       "</table>\n",
       "<p>4212 rows × 5 columns</p>\n",
       "</div>"
      ],
      "text/plain": [
       "               Open     High      Low    Close Trend\n",
       "Date                                                \n",
       "2004-09-30  23.8661  24.0237  23.8614  23.9855    up\n",
       "2004-10-01  24.0332  24.4628  23.9855  24.4294    up\n",
       "2004-10-04  24.5296  24.6060  24.5296  24.5344    up\n",
       "2004-10-05  24.5344  24.5821  24.5105  24.5296  down\n",
       "2004-10-06  24.5821  24.6442  24.5774  24.6442    up\n",
       "...             ...      ...      ...      ...   ...\n",
       "2021-06-17 103.4100 103.7000 102.8600 103.5500  down\n",
       "2021-06-18 103.0200 103.4700 101.7900 101.7900  down\n",
       "2021-06-21 102.3100 104.2100 101.8000 103.8900    up\n",
       "2021-06-22 103.8900 104.0100 103.2800 103.3500  down\n",
       "2021-06-23 103.3500 103.7500 103.0800 103.1700  down\n",
       "\n",
       "[4212 rows x 5 columns]"
      ]
     },
     "metadata": {
      "tags": []
     },
     "output_type": "display_data"
    }
   ],
   "source": [
    "# Set the \"Date\" column as the index \n",
    "ut.preprocess_df(vnq)"
   ]
  },
  {
   "cell_type": "code",
   "execution_count": 17,
   "metadata": {
    "colab": {
     "base_uri": "https://localhost:8080/"
    },
    "id": "ceypXmCts-id",
    "outputId": "f22a4902-e463-45ee-9c27-097a634d8235"
   },
   "outputs": [
    {
     "data": {
      "text/plain": [
       "array(['up', 'down'], dtype=object)"
      ]
     },
     "execution_count": 17,
     "metadata": {
      "tags": []
     },
     "output_type": "execute_result"
    }
   ],
   "source": [
    "vnq['Trend'].unique()"
   ]
  },
  {
   "cell_type": "code",
   "execution_count": 18,
   "metadata": {
    "colab": {
     "base_uri": "https://localhost:8080/"
    },
    "id": "7YZQXQNzq3af",
    "outputId": "51ee1f57-0a25-4b05-c736-347693d39b01"
   },
   "outputs": [
    {
     "data": {
      "text/plain": [
       "up      2264\n",
       "down    1948\n",
       "Name: Trend, dtype: int64"
      ]
     },
     "execution_count": 18,
     "metadata": {
      "tags": []
     },
     "output_type": "execute_result"
    }
   ],
   "source": [
    "vnq['Trend'].value_counts()"
   ]
  },
  {
   "cell_type": "code",
   "execution_count": 19,
   "metadata": {
    "id": "xP4OQG6_tDZC"
   },
   "outputs": [],
   "source": [
    "# Label encoding\n",
    "label_encoder = LabelEncoder()\n",
    "vnq['Trend']= label_encoder.fit_transform(vnq['Trend'])"
   ]
  },
  {
   "cell_type": "code",
   "execution_count": 20,
   "metadata": {
    "colab": {
     "base_uri": "https://localhost:8080/"
    },
    "id": "jvUWQjCbtSUF",
    "outputId": "eaf5e8fb-e858-4fdb-fa3c-a9cf32fba1e1"
   },
   "outputs": [
    {
     "data": {
      "text/plain": [
       "1    2264\n",
       "0    1948\n",
       "Name: Trend, dtype: int64"
      ]
     },
     "execution_count": 20,
     "metadata": {
      "tags": []
     },
     "output_type": "execute_result"
    }
   ],
   "source": [
    "vnq['Trend'].value_counts()"
   ]
  },
  {
   "cell_type": "markdown",
   "metadata": {
    "id": "8A3Ui0PwGREN"
   },
   "source": [
    "### Train-Val-Test"
   ]
  },
  {
   "cell_type": "code",
   "execution_count": 21,
   "metadata": {
    "id": "iIY8GHfTbI8w"
   },
   "outputs": [],
   "source": [
    "# Split the data into train, val and test set\n",
    "# Test size = 1 month (22 days)\n",
    "# Val size = 1 year (253 days)\n",
    "# Train size = rest of the time\n",
    "train = vnq.iloc[:-275]\n",
    "val = vnq.iloc[-275:-22]\n",
    "test = vnq.iloc[-22:]"
   ]
  },
  {
   "cell_type": "code",
   "execution_count": 22,
   "metadata": {
    "id": "n6W2V7FacCHr"
   },
   "outputs": [],
   "source": [
    "def xy_split(dataset):\n",
    "    '''\n",
    "    Split the dataset into X-part and y-part(label).\n",
    "\n",
    "    -*-*-*-*-*-*-*-*-*-*-*-*-*-*-*-*-*-*-*-*-*-*-*-*-*-*-*-*-*-*-*-*-*-*-*-*-*-*\n",
    "    \n",
    "    Input:\n",
    "    - dataset: dataframe\n",
    "\n",
    "    Return:\n",
    "    - X, y\n",
    "    \n",
    "    '''\n",
    "\n",
    "    X = dataset.drop(columns=['Trend'], axis=1)\n",
    "    y = dataset['Trend']\n",
    "\n",
    "    return X, y"
   ]
  },
  {
   "cell_type": "code",
   "execution_count": 23,
   "metadata": {
    "id": "I4PYNjoJb-Sj"
   },
   "outputs": [],
   "source": [
    "X_train, y_train = xy_split(train)\n",
    "X_val, y_val = xy_split(val)\n",
    "X_test, y_test = xy_split(test)"
   ]
  },
  {
   "cell_type": "markdown",
   "metadata": {
    "id": "Kd8EX2DAle68"
   },
   "source": [
    "### Pipeline"
   ]
  },
  {
   "cell_type": "code",
   "execution_count": 24,
   "metadata": {
    "colab": {
     "base_uri": "https://localhost:8080/"
    },
    "id": "kja3-sA8IJfS",
    "outputId": "9916e251-675b-468b-d208-55973f5dc5e9"
   },
   "outputs": [
    {
     "data": {
      "text/plain": [
       "['Open', 'High', 'Low', 'Close']"
      ]
     },
     "execution_count": 24,
     "metadata": {
      "tags": []
     },
     "output_type": "execute_result"
    }
   ],
   "source": [
    "num_cols = vnq.columns[:-1].tolist()\n",
    "num_cols"
   ]
  },
  {
   "cell_type": "code",
   "execution_count": 25,
   "metadata": {
    "id": "t20UsRpOleY_"
   },
   "outputs": [],
   "source": [
    "# Set up scaling step\n",
    "num_transformer = Pipeline(steps=[('scaler', MinMaxScaler())])  \n",
    "\n",
    "# Put scaling step into a Column Transformer\n",
    "preprocessor = ColumnTransformer(transformers=[('num', num_transformer, num_cols)])"
   ]
  },
  {
   "cell_type": "markdown",
   "metadata": {
    "id": "aFFWq8u0Jof3"
   },
   "source": [
    "## III. Modeling\n",
    "Metrics used:\n",
    "- Accuracy\n",
    "- ROC-AUC\n",
    "- Classification Report\n",
    "- Confusion Matrix\n",
    "- ROC Curve"
   ]
  },
  {
   "cell_type": "markdown",
   "metadata": {
    "id": "NbwI_wyWJqzB"
   },
   "source": [
    "### Baseline Model\n",
    "- Logistic Regression\n",
    "    - Use a sigmoid function to transform the result between 0 and 1\n",
    "    - p < 0.5 = 0\n",
    "    - p ≥ 0.5 => 1"
   ]
  },
  {
   "cell_type": "code",
   "execution_count": 26,
   "metadata": {
    "colab": {
     "base_uri": "https://localhost:8080/",
     "height": 898
    },
    "id": "AAWdQv2zPx5S",
    "outputId": "a605272e-7b16-4efe-e86b-f3956918d66f"
   },
   "outputs": [
    {
     "name": "stdout",
     "output_type": "stream",
     "text": [
      "Train\n",
      "-*-*-*-*-*-*-*-*\n",
      "accuracy: 0.5438\n",
      "roc-auc: 0.7147 \n",
      "\n",
      "Val\n",
      "-*-*-*-*-*-*-*-*\n",
      "accuracy: 0.5731\n",
      "roc-auc: 0.8933\n",
      "\n",
      "\n",
      "              precision    recall  f1-score   support\n",
      "\n",
      "           0       0.00      0.00      0.00       108\n",
      "           1       0.57      1.00      0.73       145\n",
      "\n",
      "    accuracy                           0.57       253\n",
      "   macro avg       0.29      0.50      0.36       253\n",
      "weighted avg       0.33      0.57      0.42       253\n",
      "\n"
     ]
    },
    {
     "data": {
      "image/png": "[encoded data removed]",
      "text/plain": [
       "<Figure size 432x288 with 2 Axes>"
      ]
     },
     "metadata": {
      "needs_background": "light",
      "tags": []
     },
     "output_type": "display_data"
    },
    {
     "data": {
      "image/png": "[encoded data removed]",
      "text/plain": [
       "<Figure size 432x288 with 1 Axes>"
      ]
     },
     "metadata": {
      "needs_background": "light",
      "tags": []
     },
     "output_type": "display_data"
    },
    {
     "data": {
      "text/plain": [
       "([0.5438], [0.5731], [0.7147], [0.8933])"
      ]
     },
     "execution_count": 26,
     "metadata": {
      "tags": []
     },
     "output_type": "execute_result"
    }
   ],
   "source": [
    "lg_clf = Pipeline(steps=[\n",
    "    ('preprocess', preprocessor),\n",
    "    ('classifier', LogisticRegression(random_state=24))])\n",
    "\n",
    "lg_clf.fit(X_train, y_train)\n",
    "\n",
    "lg_result = ut.class_model_evaluation(lg_clf, X_train, y_train, X_val, y_val, use_decision_function='yes')\n",
    "lg_result"
   ]
  },
  {
   "cell_type": "markdown",
   "metadata": {
    "id": "tdKnkDTW4CHo"
   },
   "source": [
    ">**Comment:** *Logistic Regression (Baseline Model)*\n",
    "- Val accuracy 0.5731 is higher than train accuracy 0.5438 => slightly underfit\n",
    "- F1-score (0.00 and 0.73) indicates the model can not classify the downtrend\n",
    "- Although the roc-score is 0.89 which is relative high, the confusion matrix (TN is 0) indicates that the model is unable to detect the down pattern\n",
    "    - Logistic regression thinks the price will always increase haha :)"
   ]
  },
  {
   "cell_type": "markdown",
   "metadata": {
    "id": "PQxM9sRgJ1hW"
   },
   "source": [
    "### KNN\n",
    "- KNN takes a point, calculates the distaces between that point and every single point in the training set, and finds the k nearest neighbors to examine the label"
   ]
  },
  {
   "cell_type": "code",
   "execution_count": 27,
   "metadata": {
    "colab": {
     "base_uri": "https://localhost:8080/",
     "height": 898
    },
    "id": "NSLT89qWl2SR",
    "outputId": "84bc1431-6527-40cd-ea8a-7a5b86d7a140"
   },
   "outputs": [
    {
     "name": "stdout",
     "output_type": "stream",
     "text": [
      "Train\n",
      "-*-*-*-*-*-*-*-*\n",
      "accuracy: 0.8890\n",
      "roc-auc: 0.9541 \n",
      "\n",
      "Val\n",
      "-*-*-*-*-*-*-*-*\n",
      "accuracy: 0.7708\n",
      "roc-auc: 0.8355\n",
      "\n",
      "\n",
      "              precision    recall  f1-score   support\n",
      "\n",
      "           0       0.78      0.65      0.71       108\n",
      "           1       0.77      0.86      0.81       145\n",
      "\n",
      "    accuracy                           0.77       253\n",
      "   macro avg       0.77      0.76      0.76       253\n",
      "weighted avg       0.77      0.77      0.77       253\n",
      "\n"
     ]
    },
    {
     "data": {
      "image/png": "[encoded data removed]",
      "text/plain": [
       "<Figure size 432x288 with 2 Axes>"
      ]
     },
     "metadata": {
      "needs_background": "light",
      "tags": []
     },
     "output_type": "display_data"
    },
    {
     "data": {
      "image/png": "[encoded data removed]",
      "text/plain": [
       "<Figure size 432x288 with 1 Axes>"
      ]
     },
     "metadata": {
      "needs_background": "light",
      "tags": []
     },
     "output_type": "display_data"
    },
    {
     "data": {
      "text/plain": [
       "([0.889], [0.7708], [0.9541], [0.8355])"
      ]
     },
     "execution_count": 27,
     "metadata": {
      "tags": []
     },
     "output_type": "execute_result"
    }
   ],
   "source": [
    "knn_clf = Pipeline(steps=[\n",
    "    ('preprocess', preprocessor),\n",
    "    ('classifier', KNeighborsClassifier())])\n",
    "\n",
    "knn_clf.fit(X_train, y_train)\n",
    "\n",
    "knn_result = ut.class_model_evaluation(knn_clf, X_train, y_train, X_val, y_val, use_decision_function='no')\n",
    "knn_result"
   ]
  },
  {
   "cell_type": "markdown",
   "metadata": {
    "id": "VWV4PECP4fmt"
   },
   "source": [
    ">**Comment:** *KNN*\n",
    "- Val accuracy 0.7708 is lower than train accuracy 0.8890 = > overfit\n",
    "- Model able to classfify the uptrend/downtrend, better than the baseline model\n",
    "- Improve on f1-score (0.71 and  0.78) but still have some misclassify points\n",
    "- ROC-score is 0.84 which is relative high"
   ]
  },
  {
   "cell_type": "markdown",
   "metadata": {
    "id": "ppVrRWWmU5A3"
   },
   "source": [
    "### Tree\n",
    "- Strong learners"
   ]
  },
  {
   "cell_type": "markdown",
   "metadata": {
    "id": "hQdevE4KKsy9"
   },
   "source": [
    "#### Random Forest\n",
    "- Use ensemble of decision trees\n",
    "- Use greedy algorithm \n",
    "    - Pros: maximizes information at every step\n",
    "    - Cons: trees trained on the same dataset will generate exact same answer (lack of randomness)"
   ]
  },
  {
   "cell_type": "code",
   "execution_count": 28,
   "metadata": {
    "colab": {
     "base_uri": "https://localhost:8080/",
     "height": 898
    },
    "id": "soha-XSvpVBq",
    "outputId": "dfdabf4c-be54-4d6b-b384-8fc3e0c0e4b1"
   },
   "outputs": [
    {
     "name": "stdout",
     "output_type": "stream",
     "text": [
      "Train\n",
      "-*-*-*-*-*-*-*-*\n",
      "accuracy: 1.0000\n",
      "roc-auc: 1.0000 \n",
      "\n",
      "Val\n",
      "-*-*-*-*-*-*-*-*\n",
      "accuracy: 0.7352\n",
      "roc-auc: 0.8113\n",
      "\n",
      "\n",
      "              precision    recall  f1-score   support\n",
      "\n",
      "           0       0.67      0.76      0.71       108\n",
      "           1       0.80      0.72      0.76       145\n",
      "\n",
      "    accuracy                           0.74       253\n",
      "   macro avg       0.73      0.74      0.73       253\n",
      "weighted avg       0.74      0.74      0.74       253\n",
      "\n"
     ]
    },
    {
     "data": {
      "image/png": "[encoded data removed]",
      "text/plain": [
       "<Figure size 432x288 with 2 Axes>"
      ]
     },
     "metadata": {
      "needs_background": "light",
      "tags": []
     },
     "output_type": "display_data"
    },
    {
     "data": {
      "image/png": "[encoded data removed]",
      "text/plain": [
       "<Figure size 432x288 with 1 Axes>"
      ]
     },
     "metadata": {
      "needs_background": "light",
      "tags": []
     },
     "output_type": "display_data"
    },
    {
     "data": {
      "text/plain": [
       "([1.0], [0.7352], [1.0], [0.8113])"
      ]
     },
     "execution_count": 28,
     "metadata": {
      "tags": []
     },
     "output_type": "execute_result"
    }
   ],
   "source": [
    "rf_clf = Pipeline(steps=[\n",
    "    ('preprocess', preprocessor),\n",
    "    ('classifier', RandomForestClassifier(criterion='entropy', random_state=24))])\n",
    "\n",
    "rf_clf.fit(X_train, y_train)\n",
    "\n",
    "rf_result = ut.class_model_evaluation(rf_clf, X_train, y_train, X_val, y_val, use_decision_function='no')\n",
    "rf_result"
   ]
  },
  {
   "cell_type": "markdown",
   "metadata": {
    "id": "gpFjK5a94n91"
   },
   "source": [
    ">**Comment:** *Random Forest*\n",
    "- Val accuracy 0.7352 is lower than train accuracy 1.0000 = > super overfit\n",
    "- Model is able to classify the uptrend/downtrend, better than the baseline model\n",
    "- F1-score (0.71 and 0.76), slightly worse than KNN (0.71 and 0.78)\n",
    "- ROC-score is 0.81 which is relative high"
   ]
  },
  {
   "cell_type": "markdown",
   "metadata": {
    "id": "juIRyGblvDHI"
   },
   "source": [
    "#### Bagging\n",
    "- Similar to RF, but encourage difference between trees\n",
    "    - Pros: obtain portion of data by sampling with replacement (increase variability)\n",
    "    - Cons: potential weakness affect all the trees at once (fake signal may lead wrong prediction)"
   ]
  },
  {
   "cell_type": "code",
   "execution_count": 29,
   "metadata": {
    "colab": {
     "base_uri": "https://localhost:8080/",
     "height": 898
    },
    "id": "AcMyrutAvJQW",
    "outputId": "657c38b0-8aa6-43b2-e628-bac4671084ee"
   },
   "outputs": [
    {
     "name": "stdout",
     "output_type": "stream",
     "text": [
      "Train\n",
      "-*-*-*-*-*-*-*-*\n",
      "accuracy: 0.9878\n",
      "roc-auc: 0.9994 \n",
      "\n",
      "Val\n",
      "-*-*-*-*-*-*-*-*\n",
      "accuracy: 0.6917\n",
      "roc-auc: 0.7998\n",
      "\n",
      "\n",
      "              precision    recall  f1-score   support\n",
      "\n",
      "           0       0.60      0.81      0.69       108\n",
      "           1       0.81      0.60      0.69       145\n",
      "\n",
      "    accuracy                           0.69       253\n",
      "   macro avg       0.71      0.71      0.69       253\n",
      "weighted avg       0.72      0.69      0.69       253\n",
      "\n"
     ]
    },
    {
     "data": {
      "image/png": "[encoded data removed]",
      "text/plain": [
       "<Figure size 432x288 with 2 Axes>"
      ]
     },
     "metadata": {
      "needs_background": "light",
      "tags": []
     },
     "output_type": "display_data"
    },
    {
     "data": {
      "image/png": "[encoded data removed]",
      "text/plain": [
       "<Figure size 432x288 with 1 Axes>"
      ]
     },
     "metadata": {
      "needs_background": "light",
      "tags": []
     },
     "output_type": "display_data"
    },
    {
     "data": {
      "text/plain": [
       "([0.9878], [0.6917], [0.9994], [0.7998])"
      ]
     },
     "execution_count": 29,
     "metadata": {
      "tags": []
     },
     "output_type": "execute_result"
    }
   ],
   "source": [
    "bag_clf = Pipeline(steps=[\n",
    "    ('preprocess', preprocessor),\n",
    "    ('classifier', BaggingClassifier(DecisionTreeClassifier(criterion='entropy', random_state=24)))])\n",
    "\n",
    "bag_clf.fit(X_train, y_train)\n",
    "\n",
    "bag_result = ut.class_model_evaluation(bag_clf, X_train, y_train, X_val, y_val, use_decision_function='no')\n",
    "bag_result"
   ]
  },
  {
   "cell_type": "markdown",
   "metadata": {
    "id": "4JOcDeLe4s5J"
   },
   "source": [
    ">**Comment:** *Bagging*\n",
    "- Val accuracy 0.7431 is lower than train accuracy 0.9898 = > super overfit\n",
    "- Model is able to classify the uptrend/downtrend, better than the baseline model\n",
    "- F1-score (0.71 and 0.80) is better than RF (0.71 and 0.76)\n",
    "- ROC-score is 0.81 which is relative high"
   ]
  },
  {
   "cell_type": "markdown",
   "metadata": {
    "id": "DTeIoGsYDifD"
   },
   "source": [
    "### Boost\n",
    "- Weak learners: start from simple models but focuse on areas the previous learner got wrong"
   ]
  },
  {
   "cell_type": "markdown",
   "metadata": {
    "id": "9myb4z2TL1CH"
   },
   "source": [
    "#### XGBoost\n",
    "- gradient boost with highest performance"
   ]
  },
  {
   "cell_type": "code",
   "execution_count": 30,
   "metadata": {
    "colab": {
     "base_uri": "https://localhost:8080/",
     "height": 898
    },
    "id": "qMz-SlyeK6P7",
    "outputId": "f79ef792-8c9e-44e3-a983-b573b94752f1"
   },
   "outputs": [
    {
     "name": "stdout",
     "output_type": "stream",
     "text": [
      "Train\n",
      "-*-*-*-*-*-*-*-*\n",
      "accuracy: 0.7536\n",
      "roc-auc: 0.8695 \n",
      "\n",
      "Val\n",
      "-*-*-*-*-*-*-*-*\n",
      "accuracy: 0.5810\n",
      "roc-auc: 0.6472\n",
      "\n",
      "\n",
      "              precision    recall  f1-score   support\n",
      "\n",
      "           0       0.55      0.10      0.17       108\n",
      "           1       0.58      0.94      0.72       145\n",
      "\n",
      "    accuracy                           0.58       253\n",
      "   macro avg       0.57      0.52      0.45       253\n",
      "weighted avg       0.57      0.58      0.49       253\n",
      "\n"
     ]
    },
    {
     "data": {
      "image/png": "[encoded data removed]",
      "text/plain": [
       "<Figure size 432x288 with 2 Axes>"
      ]
     },
     "metadata": {
      "needs_background": "light",
      "tags": []
     },
     "output_type": "display_data"
    },
    {
     "data": {
      "image/png": "[encoded data removed]",
      "text/plain": [
       "<Figure size 432x288 with 1 Axes>"
      ]
     },
     "metadata": {
      "needs_background": "light",
      "tags": []
     },
     "output_type": "display_data"
    },
    {
     "data": {
      "text/plain": [
       "([0.7536], [0.581], [0.8695], [0.6472])"
      ]
     },
     "execution_count": 30,
     "metadata": {
      "tags": []
     },
     "output_type": "execute_result"
    }
   ],
   "source": [
    "xgb_clf = Pipeline(steps=[\n",
    "    ('preprocess', preprocessor),\n",
    "    ('classifier', XGBClassifier(random_state=24))])\n",
    "\n",
    "xgb_clf.fit(X_train, y_train)\n",
    "\n",
    "xgb_result = ut.class_model_evaluation(xgb_clf, X_train, y_train, X_val, y_val, use_decision_function='no')\n",
    "xgb_result"
   ]
  },
  {
   "cell_type": "markdown",
   "metadata": {
    "id": "cywcwxZP44v5"
   },
   "source": [
    ">**Comment:** *XGBoost*\n",
    "- Val accuracy 0.581 is lower than train accuracy 0.7536 = > overfit\n",
    "- Model is able to classify the uptrend/downtrend, better than the baseline model\n",
    "- F1-score (0.17 and 0.72) indicates poor performance on classifing downtrend\n",
    "- ROC-AUC score is 0.65 which is relative worse (better than guessing)"
   ]
  },
  {
   "cell_type": "markdown",
   "metadata": {
    "id": "_2rjFNYZL3gf"
   },
   "source": [
    "#### AdaBoost\n",
    "- Similar to Bagging\n",
    "    - Pros: correct classification's weight is reduced which incorrect classification's weight is increase\n",
    "    - Cons: continually influencing the distribution of data sampled to train each successive learner"
   ]
  },
  {
   "cell_type": "code",
   "execution_count": 31,
   "metadata": {
    "colab": {
     "base_uri": "https://localhost:8080/",
     "height": 898
    },
    "id": "9D7lrHQ2LSTU",
    "outputId": "b7ee9041-eb5e-4b70-e2a6-cf94096ce2f5"
   },
   "outputs": [
    {
     "name": "stdout",
     "output_type": "stream",
     "text": [
      "Train\n",
      "-*-*-*-*-*-*-*-*\n",
      "accuracy: 1.0000\n",
      "roc-auc: 1.0000 \n",
      "\n",
      "Val\n",
      "-*-*-*-*-*-*-*-*\n",
      "accuracy: 0.6798\n",
      "roc-auc: 0.6959\n",
      "\n",
      "\n",
      "              precision    recall  f1-score   support\n",
      "\n",
      "           0       0.59      0.81      0.68       108\n",
      "           1       0.80      0.59      0.68       145\n",
      "\n",
      "    accuracy                           0.68       253\n",
      "   macro avg       0.70      0.70      0.68       253\n",
      "weighted avg       0.71      0.68      0.68       253\n",
      "\n"
     ]
    },
    {
     "data": {
      "image/png": "[encoded data removed]",
      "text/plain": [
       "<Figure size 432x288 with 2 Axes>"
      ]
     },
     "metadata": {
      "needs_background": "light",
      "tags": []
     },
     "output_type": "display_data"
    },
    {
     "data": {
      "image/png": "[encoded data removed]",
      "text/plain": [
       "<Figure size 432x288 with 1 Axes>"
      ]
     },
     "metadata": {
      "needs_background": "light",
      "tags": []
     },
     "output_type": "display_data"
    },
    {
     "data": {
      "text/plain": [
       "([1.0], [0.6798], [1.0], [0.6959])"
      ]
     },
     "execution_count": 31,
     "metadata": {
      "tags": []
     },
     "output_type": "execute_result"
    }
   ],
   "source": [
    "ada_clf = Pipeline(steps=[\n",
    "    ('preprocess', preprocessor),\n",
    "    ('classifier', AdaBoostClassifier(DecisionTreeClassifier(criterion='entropy', random_state=24)))])\n",
    "\n",
    "ada_clf.fit(X_train, y_train)\n",
    "\n",
    "ada_result = ut.class_model_evaluation(ada_clf, X_train, y_train, X_val, y_val, use_decision_function='no')\n",
    "ada_result"
   ]
  },
  {
   "cell_type": "markdown",
   "metadata": {
    "id": "-yfXfJ7-4_je"
   },
   "source": [
    ">**Comment:** *AdaBoost*\n",
    "- Val accuracy 0.6838 is lower than train accuracy 1.000 = > super overfit\n",
    "- Model is able to classify the uptrend/downtrend, better than the baseline model\n",
    "- F1-score (0.68 and 0.69)\n",
    "- ROC-AUC score is 0.70 which is above average (better than guessing)"
   ]
  },
  {
   "cell_type": "markdown",
   "metadata": {
    "id": "ab4G04VLL_y9"
   },
   "source": [
    "#### Gradient Boosting\n",
    "- Similar to AdaBoost\n",
    "    - Pros: use loss functino to calculate the distance between residuals and prediction\n",
    "    - Cons: sensitive learning rates"
   ]
  },
  {
   "cell_type": "code",
   "execution_count": 32,
   "metadata": {
    "colab": {
     "base_uri": "https://localhost:8080/",
     "height": 898
    },
    "id": "ogqiymnzMD4j",
    "outputId": "4e85d9fd-78b9-4f54-97e6-4e431e301d24"
   },
   "outputs": [
    {
     "name": "stdout",
     "output_type": "stream",
     "text": [
      "Train\n",
      "-*-*-*-*-*-*-*-*\n",
      "accuracy: 0.7727\n",
      "roc-auc: 0.8748 \n",
      "\n",
      "Val\n",
      "-*-*-*-*-*-*-*-*\n",
      "accuracy: 0.5731\n",
      "roc-auc: 0.5531\n",
      "\n",
      "\n",
      "              precision    recall  f1-score   support\n",
      "\n",
      "           0       0.50      0.20      0.29       108\n",
      "           1       0.59      0.85      0.69       145\n",
      "\n",
      "    accuracy                           0.57       253\n",
      "   macro avg       0.54      0.53      0.49       253\n",
      "weighted avg       0.55      0.57      0.52       253\n",
      "\n"
     ]
    },
    {
     "data": {
      "image/png": "[encoded data removed]",
      "text/plain": [
       "<Figure size 432x288 with 2 Axes>"
      ]
     },
     "metadata": {
      "needs_background": "light",
      "tags": []
     },
     "output_type": "display_data"
    },
    {
     "data": {
      "image/png": "[encoded data removed]",
      "text/plain": [
       "<Figure size 432x288 with 1 Axes>"
      ]
     },
     "metadata": {
      "needs_background": "light",
      "tags": []
     },
     "output_type": "display_data"
    },
    {
     "data": {
      "text/plain": [
       "([0.7727], [0.5731], [0.8748], [0.5531])"
      ]
     },
     "execution_count": 32,
     "metadata": {
      "tags": []
     },
     "output_type": "execute_result"
    }
   ],
   "source": [
    "gb_clf = Pipeline(steps=[\n",
    "    ('preprocess', preprocessor),\n",
    "    ('classifier', GradientBoostingClassifier(random_state=24))])\n",
    "\n",
    "gb_clf.fit(X_train, y_train)\n",
    "\n",
    "gb_result = ut.class_model_evaluation(gb_clf, X_train, y_train, X_val, y_val, use_decision_function='no')\n",
    "gb_result"
   ]
  },
  {
   "cell_type": "markdown",
   "metadata": {
    "id": "puYvHoCa5Ebe"
   },
   "source": [
    ">**Comment:** *Gradient Boost*\n",
    "- Val accuracy 0.5731 is lower than train accuracy 0.7727 = > overfit\n",
    "- Model is able to classify the uptrend/downtrend, better than the baseline model\n",
    "- F1-score (0.29 and 0.69) indicates poor performance on classifing downtrend\n",
    "- ROC-AUC score is 0.55 which is relative worse (better than guessing)"
   ]
  },
  {
   "cell_type": "markdown",
   "metadata": {
    "id": "nFWURFs8C6FE"
   },
   "source": [
    "### SVM\n",
    "- Find a hyperplane that maximizes the distance between two classes"
   ]
  },
  {
   "cell_type": "markdown",
   "metadata": {
    "id": "V0X-j3JzDArN"
   },
   "source": [
    "#### SVC\n",
    "- C-Support Vector Classification"
   ]
  },
  {
   "cell_type": "code",
   "execution_count": 33,
   "metadata": {
    "colab": {
     "base_uri": "https://localhost:8080/",
     "height": 898
    },
    "id": "I9erkdBNDFjd",
    "outputId": "bb4152cd-62b6-4963-95a1-813fab41c905"
   },
   "outputs": [
    {
     "name": "stdout",
     "output_type": "stream",
     "text": [
      "Train\n",
      "-*-*-*-*-*-*-*-*\n",
      "accuracy: 0.7770\n",
      "roc-auc: 0.9115 \n",
      "\n",
      "Val\n",
      "-*-*-*-*-*-*-*-*\n",
      "accuracy: 0.8498\n",
      "roc-auc: 0.9302\n",
      "\n",
      "\n",
      "              precision    recall  f1-score   support\n",
      "\n",
      "           0       0.79      0.89      0.83       108\n",
      "           1       0.91      0.82      0.86       145\n",
      "\n",
      "    accuracy                           0.85       253\n",
      "   macro avg       0.85      0.85      0.85       253\n",
      "weighted avg       0.86      0.85      0.85       253\n",
      "\n"
     ]
    },
    {
     "data": {
      "image/png": "[encoded data removed]",
      "text/plain": [
       "<Figure size 432x288 with 2 Axes>"
      ]
     },
     "metadata": {
      "needs_background": "light",
      "tags": []
     },
     "output_type": "display_data"
    },
    {
     "data": {
      "image/png": "[encoded data removed]",
      "text/plain": [
       "<Figure size 432x288 with 1 Axes>"
      ]
     },
     "metadata": {
      "needs_background": "light",
      "tags": []
     },
     "output_type": "display_data"
    },
    {
     "data": {
      "text/plain": [
       "([0.777], [0.8498], [0.9115], [0.9302])"
      ]
     },
     "execution_count": 33,
     "metadata": {
      "tags": []
     },
     "output_type": "execute_result"
    }
   ],
   "source": [
    "svc_clf = Pipeline(steps=[\n",
    "    ('preprocess', preprocessor),\n",
    "    ('classifier', SVC(kernel='poly', probability=True, random_state=24))])\n",
    "\n",
    "svc_clf.fit(X_train, y_train)\n",
    "\n",
    "svc_result = ut.class_model_evaluation(svc_clf, X_train, y_train, X_val, y_val, use_decision_function='yes')\n",
    "svc_result"
   ]
  },
  {
   "cell_type": "markdown",
   "metadata": {
    "id": "CKlLbCVJk4v9"
   },
   "source": [
    ">**Comment:** *SVC*\n",
    "- Val accuracy 0.8498 is higher than train accuracy 0.777 = > slightly underfit\n",
    "- Model is able to classify the uptrend/downtrend, better than the baseline model\n",
    "- F1-score (0.83 and 0.86), higher than previous classifiers\n",
    "- ROC-AUC score is 0.93 which is relative good"
   ]
  },
  {
   "cell_type": "markdown",
   "metadata": {
    "id": "oJMkPNlBDDBE"
   },
   "source": [
    "#### NuSVC\n",
    "- Similar to SVC\n",
    "- Nu-Support Vector Classification\n",
    "    - Use a parameter to control the number of support vectors"
   ]
  },
  {
   "cell_type": "code",
   "execution_count": 34,
   "metadata": {
    "colab": {
     "base_uri": "https://localhost:8080/",
     "height": 898
    },
    "id": "g-YPIZmiDF-a",
    "outputId": "96507c68-e07c-4332-b43a-97237e0ccc1b"
   },
   "outputs": [
    {
     "name": "stdout",
     "output_type": "stream",
     "text": [
      "Train\n",
      "-*-*-*-*-*-*-*-*\n",
      "accuracy: 0.8095\n",
      "roc-auc: 0.9162 \n",
      "\n",
      "Val\n",
      "-*-*-*-*-*-*-*-*\n",
      "accuracy: 0.8617\n",
      "roc-auc: 0.9292\n",
      "\n",
      "\n",
      "              precision    recall  f1-score   support\n",
      "\n",
      "           0       0.81      0.89      0.85       108\n",
      "           1       0.91      0.84      0.87       145\n",
      "\n",
      "    accuracy                           0.86       253\n",
      "   macro avg       0.86      0.87      0.86       253\n",
      "weighted avg       0.87      0.86      0.86       253\n",
      "\n"
     ]
    },
    {
     "data": {
      "image/png": "[encoded data removed]",
      "text/plain": [
       "<Figure size 432x288 with 2 Axes>"
      ]
     },
     "metadata": {
      "needs_background": "light",
      "tags": []
     },
     "output_type": "display_data"
    },
    {
     "data": {
      "image/png": "[encoded data removed]",
      "text/plain": [
       "<Figure size 432x288 with 1 Axes>"
      ]
     },
     "metadata": {
      "needs_background": "light",
      "tags": []
     },
     "output_type": "display_data"
    },
    {
     "data": {
      "text/plain": [
       "([0.8095], [0.8617], [0.9162], [0.9292])"
      ]
     },
     "execution_count": 34,
     "metadata": {
      "tags": []
     },
     "output_type": "execute_result"
    }
   ],
   "source": [
    "nusvc_clf = Pipeline(steps=[\n",
    "    ('preprocess', preprocessor),\n",
    "    ('classifier', NuSVC(kernel='poly', probability=True, random_state=24))])\n",
    "\n",
    "nusvc_clf.fit(X_train, y_train)\n",
    "\n",
    "nusvc_result = ut.class_model_evaluation(nusvc_clf, X_train, y_train, X_val, y_val, use_decision_function='yes')\n",
    "nusvc_result"
   ]
  },
  {
   "cell_type": "markdown",
   "metadata": {
    "id": "7Hebpw0Jk-FP"
   },
   "source": [
    ">**Comment:** * NuSVC*\n",
    "- Val accuracy 0.8617 is higher than train accuracy 0.8095 = > slightly underfit\n",
    "- Model is able to classify the uptrend/downtrend, better than the baseline model\n",
    "- F1-score (0.83 and 0.86), higher than SVC\n",
    "- ROC-AUC score is 0.93 which is relative good"
   ]
  },
  {
   "cell_type": "markdown",
   "metadata": {
    "id": "T6gqYSyD0v3t"
   },
   "source": [
    "## IV. Evaluation\n",
    "- I expect to select a model:\n",
    "    - with higher accuracy, but not overfit/underfit too much  \n",
    "    - with fewer false positives and false negatives = > higher f1-score "
   ]
  },
  {
   "cell_type": "code",
   "execution_count": 35,
   "metadata": {
    "id": "1HJYI5urItwk"
   },
   "outputs": [],
   "source": [
    "# Put all models' evaluation results in a list\n",
    "model_results = [lg_result,\n",
    "                 knn_result,\n",
    "                 rf_result,\n",
    "                 bag_result,\n",
    "                 xgb_result,\n",
    "                 ada_result,\n",
    "                 gb_result,\n",
    "                 svc_result,\n",
    "                 nusvc_result]"
   ]
  },
  {
   "cell_type": "code",
   "execution_count": 36,
   "metadata": {
    "colab": {
     "base_uri": "https://localhost:8080/",
     "height": 328
    },
    "id": "icHUKqXjfFHO",
    "outputId": "7c0649f1-a5d4-4c40-c6f0-324e5ce1d992"
   },
   "outputs": [
    {
     "data": {
      "text/html": [
       "<div>\n",
       "<style scoped>\n",
       "    .dataframe tbody tr th:only-of-type {\n",
       "        vertical-align: middle;\n",
       "    }\n",
       "\n",
       "    .dataframe tbody tr th {\n",
       "        vertical-align: top;\n",
       "    }\n",
       "\n",
       "    .dataframe thead th {\n",
       "        text-align: right;\n",
       "    }\n",
       "</style>\n",
       "<table border=\"1\" class=\"dataframe\">\n",
       "  <thead>\n",
       "    <tr style=\"text-align: right;\">\n",
       "      <th></th>\n",
       "      <th>classifier</th>\n",
       "      <th>train_acc</th>\n",
       "      <th>val_acc</th>\n",
       "      <th>acc_diff</th>\n",
       "      <th>train_roc_auc</th>\n",
       "      <th>val_roc_auc</th>\n",
       "      <th>roc_auc_diff</th>\n",
       "    </tr>\n",
       "  </thead>\n",
       "  <tbody>\n",
       "    <tr>\n",
       "      <th>0</th>\n",
       "      <td>Logistic Regression</td>\n",
       "      <td>0.5438</td>\n",
       "      <td>0.5731</td>\n",
       "      <td>0.0293</td>\n",
       "      <td>0.7147</td>\n",
       "      <td>0.8933</td>\n",
       "      <td>0.1786</td>\n",
       "    </tr>\n",
       "    <tr>\n",
       "      <th>1</th>\n",
       "      <td>KNN</td>\n",
       "      <td>0.8890</td>\n",
       "      <td>0.7708</td>\n",
       "      <td>0.1182</td>\n",
       "      <td>0.9541</td>\n",
       "      <td>0.8355</td>\n",
       "      <td>0.1186</td>\n",
       "    </tr>\n",
       "    <tr>\n",
       "      <th>2</th>\n",
       "      <td>Random Forest</td>\n",
       "      <td>1.0000</td>\n",
       "      <td>0.7352</td>\n",
       "      <td>0.2648</td>\n",
       "      <td>1.0000</td>\n",
       "      <td>0.8113</td>\n",
       "      <td>0.1887</td>\n",
       "    </tr>\n",
       "    <tr>\n",
       "      <th>3</th>\n",
       "      <td>Bagging</td>\n",
       "      <td>0.9878</td>\n",
       "      <td>0.6917</td>\n",
       "      <td>0.2961</td>\n",
       "      <td>0.9994</td>\n",
       "      <td>0.7998</td>\n",
       "      <td>0.1996</td>\n",
       "    </tr>\n",
       "    <tr>\n",
       "      <th>4</th>\n",
       "      <td>XGBoost</td>\n",
       "      <td>0.7536</td>\n",
       "      <td>0.5810</td>\n",
       "      <td>0.1726</td>\n",
       "      <td>0.8695</td>\n",
       "      <td>0.6472</td>\n",
       "      <td>0.2223</td>\n",
       "    </tr>\n",
       "    <tr>\n",
       "      <th>5</th>\n",
       "      <td>AdaBoost</td>\n",
       "      <td>1.0000</td>\n",
       "      <td>0.6798</td>\n",
       "      <td>0.3202</td>\n",
       "      <td>1.0000</td>\n",
       "      <td>0.6959</td>\n",
       "      <td>0.3041</td>\n",
       "    </tr>\n",
       "    <tr>\n",
       "      <th>6</th>\n",
       "      <td>GradientBoost</td>\n",
       "      <td>0.7727</td>\n",
       "      <td>0.5731</td>\n",
       "      <td>0.1996</td>\n",
       "      <td>0.8748</td>\n",
       "      <td>0.5531</td>\n",
       "      <td>0.3217</td>\n",
       "    </tr>\n",
       "    <tr>\n",
       "      <th>7</th>\n",
       "      <td>SVC</td>\n",
       "      <td>0.7770</td>\n",
       "      <td>0.8498</td>\n",
       "      <td>0.0728</td>\n",
       "      <td>0.9115</td>\n",
       "      <td>0.9302</td>\n",
       "      <td>0.0187</td>\n",
       "    </tr>\n",
       "    <tr>\n",
       "      <th>8</th>\n",
       "      <td>NuSVC</td>\n",
       "      <td>0.8095</td>\n",
       "      <td>0.8617</td>\n",
       "      <td>0.0522</td>\n",
       "      <td>0.9162</td>\n",
       "      <td>0.9292</td>\n",
       "      <td>0.0130</td>\n",
       "    </tr>\n",
       "  </tbody>\n",
       "</table>\n",
       "</div>"
      ],
      "text/plain": [
       "            classifier train_acc val_acc  ... train_roc_auc val_roc_auc roc_auc_diff\n",
       "0  Logistic Regression    0.5438  0.5731  ...        0.7147      0.8933       0.1786\n",
       "1                  KNN    0.8890  0.7708  ...        0.9541      0.8355       0.1186\n",
       "2        Random Forest    1.0000  0.7352  ...        1.0000      0.8113       0.1887\n",
       "3              Bagging    0.9878  0.6917  ...        0.9994      0.7998       0.1996\n",
       "4              XGBoost    0.7536  0.5810  ...        0.8695      0.6472       0.2223\n",
       "5             AdaBoost    1.0000  0.6798  ...        1.0000      0.6959       0.3041\n",
       "6        GradientBoost    0.7727  0.5731  ...        0.8748      0.5531       0.3217\n",
       "7                  SVC    0.7770  0.8498  ...        0.9115      0.9302       0.0187\n",
       "8                NuSVC    0.8095  0.8617  ...        0.9162      0.9292       0.0130\n",
       "\n",
       "[9 rows x 7 columns]"
      ]
     },
     "execution_count": 36,
     "metadata": {
      "tags": []
     },
     "output_type": "execute_result"
    }
   ],
   "source": [
    "# Use pre-defined function to store the all classification model results in a df\n",
    "model_comp = ut.class_model_comparison(model_results)\n",
    "model_comp"
   ]
  },
  {
   "cell_type": "code",
   "execution_count": 37,
   "metadata": {
    "colab": {
     "base_uri": "https://localhost:8080/",
     "height": 97
    },
    "id": "6lwlkz_JdCEc",
    "outputId": "3495140a-f59f-4ca5-aea8-d574671f026f"
   },
   "outputs": [
    {
     "name": "stdout",
     "output_type": "stream",
     "text": [
      "0.8617\n"
     ]
    },
    {
     "data": {
      "text/html": [
       "<div>\n",
       "<style scoped>\n",
       "    .dataframe tbody tr th:only-of-type {\n",
       "        vertical-align: middle;\n",
       "    }\n",
       "\n",
       "    .dataframe tbody tr th {\n",
       "        vertical-align: top;\n",
       "    }\n",
       "\n",
       "    .dataframe thead th {\n",
       "        text-align: right;\n",
       "    }\n",
       "</style>\n",
       "<table border=\"1\" class=\"dataframe\">\n",
       "  <thead>\n",
       "    <tr style=\"text-align: right;\">\n",
       "      <th></th>\n",
       "      <th>classifier</th>\n",
       "      <th>train_acc</th>\n",
       "      <th>val_acc</th>\n",
       "      <th>acc_diff</th>\n",
       "      <th>train_roc_auc</th>\n",
       "      <th>val_roc_auc</th>\n",
       "      <th>roc_auc_diff</th>\n",
       "    </tr>\n",
       "  </thead>\n",
       "  <tbody>\n",
       "    <tr>\n",
       "      <th>8</th>\n",
       "      <td>NuSVC</td>\n",
       "      <td>0.8095</td>\n",
       "      <td>0.8617</td>\n",
       "      <td>0.0522</td>\n",
       "      <td>0.9162</td>\n",
       "      <td>0.9292</td>\n",
       "      <td>0.0130</td>\n",
       "    </tr>\n",
       "  </tbody>\n",
       "</table>\n",
       "</div>"
      ],
      "text/plain": [
       "  classifier train_acc val_acc acc_diff train_roc_auc val_roc_auc roc_auc_diff\n",
       "8      NuSVC    0.8095  0.8617   0.0522        0.9162      0.9292       0.0130"
      ]
     },
     "execution_count": 37,
     "metadata": {
      "tags": []
     },
     "output_type": "execute_result"
    }
   ],
   "source": [
    "highest_test_acc = model_comp['val_acc'].max()\n",
    "print(highest_test_acc)\n",
    "\n",
    "model_comp.loc[model_comp['val_acc'] == highest_test_acc]"
   ]
  },
  {
   "cell_type": "markdown",
   "metadata": {
    "id": "OO1T6UFtN86R"
   },
   "source": [
    "- NuSVC is the best classifer with highest accuracy while having relative less FP and FN (f1-score: 0.85, 0.87)"
   ]
  },
  {
   "cell_type": "markdown",
   "metadata": {
    "id": "uVVjiVoQFaWR"
   },
   "source": [
    "### Holdout Test Set"
   ]
  },
  {
   "cell_type": "code",
   "execution_count": 38,
   "metadata": {
    "colab": {
     "base_uri": "https://localhost:8080/",
     "height": 762
    },
    "id": "tIT6OPswBocO",
    "outputId": "4687957f-ea0b-4ae6-fdb9-cdcb09446edf"
   },
   "outputs": [
    {
     "name": "stdout",
     "output_type": "stream",
     "text": [
      "Test\n",
      "-*-*-*-*-*-*-*-*\n",
      "accuracy: 0.9091\n",
      "roc-auc: 0.9500\n",
      "              precision    recall  f1-score   support\n",
      "\n",
      "           0       0.90      0.90      0.90        10\n",
      "           1       0.92      0.92      0.92        12\n",
      "\n",
      "    accuracy                           0.91        22\n",
      "   macro avg       0.91      0.91      0.91        22\n",
      "weighted avg       0.91      0.91      0.91        22\n",
      "\n"
     ]
    },
    {
     "data": {
      "image/png": "[encoded data removed]",
      "text/plain": [
       "<Figure size 432x288 with 2 Axes>"
      ]
     },
     "metadata": {
      "needs_background": "light",
      "tags": []
     },
     "output_type": "display_data"
    },
    {
     "data": {
      "image/png": "[encoded data removed]",
      "text/plain": [
       "<Figure size 432x288 with 1 Axes>"
      ]
     },
     "metadata": {
      "needs_background": "light",
      "tags": []
     },
     "output_type": "display_data"
    }
   ],
   "source": [
    "ut.class_evaluate(nusvc_clf, X_test, y_test, use_decision_function='yes')"
   ]
  },
  {
   "cell_type": "markdown",
   "metadata": {
    "id": "JvttJ2TYFvbK"
   },
   "source": [
    ">**Comment:** *Best NuSVC*\n",
    "- The test accuracy for holdout test set reaches 0.9091 which is relative high\n",
    "- Among 22 test samples, only 2 samples were predicted incorrectly"
   ]
  },
  {
   "cell_type": "code",
   "execution_count": 39,
   "metadata": {
    "id": "mr0up8fyBj0M"
   },
   "outputs": [],
   "source": [
    "# Save the best classification model\n",
    "dump(nusvc_clf, open('/content/nusvc.pkl', 'wb'))\n",
    "\n",
    "# Load the best model (if run in another notebook)\n",
    "# best = load(open('/content/nusvc.pkl', 'rb'))"
   ]
  },
  {
   "cell_type": "code",
   "execution_count": 40,
   "metadata": {
    "colab": {
     "base_uri": "https://localhost:8080/",
     "height": 762
    },
    "id": "XtzXOx6IPfNX",
    "outputId": "b0fa0300-fc50-49e1-830e-90e034458e6e"
   },
   "outputs": [
    {
     "data": {
      "text/html": [
       "<div>\n",
       "<style scoped>\n",
       "    .dataframe tbody tr th:only-of-type {\n",
       "        vertical-align: middle;\n",
       "    }\n",
       "\n",
       "    .dataframe tbody tr th {\n",
       "        vertical-align: top;\n",
       "    }\n",
       "\n",
       "    .dataframe thead th {\n",
       "        text-align: right;\n",
       "    }\n",
       "</style>\n",
       "<table border=\"1\" class=\"dataframe\">\n",
       "  <thead>\n",
       "    <tr style=\"text-align: right;\">\n",
       "      <th></th>\n",
       "      <th>true</th>\n",
       "      <th>pred</th>\n",
       "      <th>uptrend</th>\n",
       "      <th>downtrend</th>\n",
       "    </tr>\n",
       "    <tr>\n",
       "      <th>Date</th>\n",
       "      <th></th>\n",
       "      <th></th>\n",
       "      <th></th>\n",
       "      <th></th>\n",
       "    </tr>\n",
       "  </thead>\n",
       "  <tbody>\n",
       "    <tr>\n",
       "      <th>2021-05-24</th>\n",
       "      <td>1</td>\n",
       "      <td>1</td>\n",
       "      <td>1.0000</td>\n",
       "      <td>0.0000</td>\n",
       "    </tr>\n",
       "    <tr>\n",
       "      <th>2021-05-25</th>\n",
       "      <td>0</td>\n",
       "      <td>0</td>\n",
       "      <td>0.0378</td>\n",
       "      <td>0.9622</td>\n",
       "    </tr>\n",
       "    <tr>\n",
       "      <th>2021-05-26</th>\n",
       "      <td>1</td>\n",
       "      <td>1</td>\n",
       "      <td>1.0000</td>\n",
       "      <td>0.0000</td>\n",
       "    </tr>\n",
       "    <tr>\n",
       "      <th>2021-05-27</th>\n",
       "      <td>0</td>\n",
       "      <td>0</td>\n",
       "      <td>0.0000</td>\n",
       "      <td>1.0000</td>\n",
       "    </tr>\n",
       "    <tr>\n",
       "      <th>2021-05-28</th>\n",
       "      <td>1</td>\n",
       "      <td>1</td>\n",
       "      <td>0.9949</td>\n",
       "      <td>0.0051</td>\n",
       "    </tr>\n",
       "    <tr>\n",
       "      <th>2021-06-01</th>\n",
       "      <td>1</td>\n",
       "      <td>1</td>\n",
       "      <td>1.0000</td>\n",
       "      <td>0.0000</td>\n",
       "    </tr>\n",
       "    <tr>\n",
       "      <th>2021-06-02</th>\n",
       "      <td>1</td>\n",
       "      <td>1</td>\n",
       "      <td>1.0000</td>\n",
       "      <td>0.0000</td>\n",
       "    </tr>\n",
       "    <tr>\n",
       "      <th>2021-06-03</th>\n",
       "      <td>0</td>\n",
       "      <td>0</td>\n",
       "      <td>0.0169</td>\n",
       "      <td>0.9831</td>\n",
       "    </tr>\n",
       "    <tr>\n",
       "      <th>2021-06-04</th>\n",
       "      <td>1</td>\n",
       "      <td>0</td>\n",
       "      <td>0.0000</td>\n",
       "      <td>1.0000</td>\n",
       "    </tr>\n",
       "    <tr>\n",
       "      <th>2021-06-07</th>\n",
       "      <td>1</td>\n",
       "      <td>1</td>\n",
       "      <td>1.0000</td>\n",
       "      <td>0.0000</td>\n",
       "    </tr>\n",
       "    <tr>\n",
       "      <th>2021-06-08</th>\n",
       "      <td>1</td>\n",
       "      <td>1</td>\n",
       "      <td>1.0000</td>\n",
       "      <td>0.0000</td>\n",
       "    </tr>\n",
       "    <tr>\n",
       "      <th>2021-06-09</th>\n",
       "      <td>1</td>\n",
       "      <td>1</td>\n",
       "      <td>0.7159</td>\n",
       "      <td>0.2841</td>\n",
       "    </tr>\n",
       "    <tr>\n",
       "      <th>2021-06-10</th>\n",
       "      <td>1</td>\n",
       "      <td>1</td>\n",
       "      <td>1.0000</td>\n",
       "      <td>0.0000</td>\n",
       "    </tr>\n",
       "    <tr>\n",
       "      <th>2021-06-11</th>\n",
       "      <td>0</td>\n",
       "      <td>0</td>\n",
       "      <td>0.0000</td>\n",
       "      <td>1.0000</td>\n",
       "    </tr>\n",
       "    <tr>\n",
       "      <th>2021-06-14</th>\n",
       "      <td>1</td>\n",
       "      <td>1</td>\n",
       "      <td>1.0000</td>\n",
       "      <td>0.0000</td>\n",
       "    </tr>\n",
       "    <tr>\n",
       "      <th>2021-06-15</th>\n",
       "      <td>0</td>\n",
       "      <td>0</td>\n",
       "      <td>0.0000</td>\n",
       "      <td>1.0000</td>\n",
       "    </tr>\n",
       "    <tr>\n",
       "      <th>2021-06-16</th>\n",
       "      <td>0</td>\n",
       "      <td>0</td>\n",
       "      <td>0.0000</td>\n",
       "      <td>1.0000</td>\n",
       "    </tr>\n",
       "    <tr>\n",
       "      <th>2021-06-17</th>\n",
       "      <td>0</td>\n",
       "      <td>1</td>\n",
       "      <td>1.0000</td>\n",
       "      <td>0.0000</td>\n",
       "    </tr>\n",
       "    <tr>\n",
       "      <th>2021-06-18</th>\n",
       "      <td>0</td>\n",
       "      <td>0</td>\n",
       "      <td>0.0000</td>\n",
       "      <td>1.0000</td>\n",
       "    </tr>\n",
       "    <tr>\n",
       "      <th>2021-06-21</th>\n",
       "      <td>1</td>\n",
       "      <td>1</td>\n",
       "      <td>1.0000</td>\n",
       "      <td>0.0000</td>\n",
       "    </tr>\n",
       "    <tr>\n",
       "      <th>2021-06-22</th>\n",
       "      <td>0</td>\n",
       "      <td>0</td>\n",
       "      <td>0.0000</td>\n",
       "      <td>1.0000</td>\n",
       "    </tr>\n",
       "    <tr>\n",
       "      <th>2021-06-23</th>\n",
       "      <td>0</td>\n",
       "      <td>0</td>\n",
       "      <td>0.2626</td>\n",
       "      <td>0.7374</td>\n",
       "    </tr>\n",
       "  </tbody>\n",
       "</table>\n",
       "</div>"
      ],
      "text/plain": [
       "            true  pred  uptrend  downtrend\n",
       "Date                                      \n",
       "2021-05-24     1     1   1.0000     0.0000\n",
       "2021-05-25     0     0   0.0378     0.9622\n",
       "2021-05-26     1     1   1.0000     0.0000\n",
       "2021-05-27     0     0   0.0000     1.0000\n",
       "2021-05-28     1     1   0.9949     0.0051\n",
       "2021-06-01     1     1   1.0000     0.0000\n",
       "2021-06-02     1     1   1.0000     0.0000\n",
       "2021-06-03     0     0   0.0169     0.9831\n",
       "2021-06-04     1     0   0.0000     1.0000\n",
       "2021-06-07     1     1   1.0000     0.0000\n",
       "2021-06-08     1     1   1.0000     0.0000\n",
       "2021-06-09     1     1   0.7159     0.2841\n",
       "2021-06-10     1     1   1.0000     0.0000\n",
       "2021-06-11     0     0   0.0000     1.0000\n",
       "2021-06-14     1     1   1.0000     0.0000\n",
       "2021-06-15     0     0   0.0000     1.0000\n",
       "2021-06-16     0     0   0.0000     1.0000\n",
       "2021-06-17     0     1   1.0000     0.0000\n",
       "2021-06-18     0     0   0.0000     1.0000\n",
       "2021-06-21     1     1   1.0000     0.0000\n",
       "2021-06-22     0     0   0.0000     1.0000\n",
       "2021-06-23     0     0   0.2626     0.7374"
      ]
     },
     "execution_count": 40,
     "metadata": {
      "tags": []
     },
     "output_type": "execute_result"
    }
   ],
   "source": [
    "# Create a df and store the prediction probability and results\n",
    "test_result = pd.DataFrame(columns=['true', 'pred', 'uptrend', 'downtrend'])\n",
    "\n",
    "test_result['true'] = y_test\n",
    "test_result['pred'] = nusvc_clf.predict(X_test)\n",
    "test_result['downtrend'] = nusvc_clf.predict_proba(X_test)[:, 0]\n",
    "test_result['uptrend'] = nusvc_clf.predict_proba(X_test)[:, 1]\n",
    "\n",
    "test_result"
   ]
  },
  {
   "cell_type": "code",
   "execution_count": 41,
   "metadata": {
    "colab": {
     "base_uri": "https://localhost:8080/",
     "height": 142
    },
    "id": "Yo_SnlU7PfIT",
    "outputId": "06e34330-c4a1-4a1e-d5cb-e3bde1ddae27"
   },
   "outputs": [
    {
     "data": {
      "text/html": [
       "<div>\n",
       "<style scoped>\n",
       "    .dataframe tbody tr th:only-of-type {\n",
       "        vertical-align: middle;\n",
       "    }\n",
       "\n",
       "    .dataframe tbody tr th {\n",
       "        vertical-align: top;\n",
       "    }\n",
       "\n",
       "    .dataframe thead th {\n",
       "        text-align: right;\n",
       "    }\n",
       "</style>\n",
       "<table border=\"1\" class=\"dataframe\">\n",
       "  <thead>\n",
       "    <tr style=\"text-align: right;\">\n",
       "      <th></th>\n",
       "      <th>true</th>\n",
       "      <th>pred</th>\n",
       "      <th>uptrend</th>\n",
       "      <th>downtrend</th>\n",
       "    </tr>\n",
       "    <tr>\n",
       "      <th>Date</th>\n",
       "      <th></th>\n",
       "      <th></th>\n",
       "      <th></th>\n",
       "      <th></th>\n",
       "    </tr>\n",
       "  </thead>\n",
       "  <tbody>\n",
       "    <tr>\n",
       "      <th>2021-06-04</th>\n",
       "      <td>1</td>\n",
       "      <td>0</td>\n",
       "      <td>0.0000</td>\n",
       "      <td>1.0000</td>\n",
       "    </tr>\n",
       "    <tr>\n",
       "      <th>2021-06-17</th>\n",
       "      <td>0</td>\n",
       "      <td>1</td>\n",
       "      <td>1.0000</td>\n",
       "      <td>0.0000</td>\n",
       "    </tr>\n",
       "  </tbody>\n",
       "</table>\n",
       "</div>"
      ],
      "text/plain": [
       "            true  pred  uptrend  downtrend\n",
       "Date                                      \n",
       "2021-06-04     1     0   0.0000     1.0000\n",
       "2021-06-17     0     1   1.0000     0.0000"
      ]
     },
     "execution_count": 41,
     "metadata": {
      "tags": []
     },
     "output_type": "execute_result"
    }
   ],
   "source": [
    "# Find the incorrect predictions\n",
    "test_result.loc[test_result['true'] != test_result['pred']]"
   ]
  },
  {
   "cell_type": "markdown",
   "metadata": {
    "id": "Ot0srsGtIeVP"
   },
   "source": [
    ">**Comment:** *Prediction Probability*\n",
    "- The prediction probabiliy is 1.0 for both incorrect predictions\n",
    "- This could be due to the nature of SVM"
   ]
  },
  {
   "cell_type": "code",
   "execution_count": 42,
   "metadata": {
    "id": "cv7OWhjYANo2"
   },
   "outputs": [],
   "source": [
    "# Create two sub-df which contain the correct predictions and incorrect predictions\n",
    "df_right = test_result.loc[test_result['true'] == test_result['pred']]\n",
    "df_wrong = test_result.loc[test_result['true'] != test_result['pred']]"
   ]
  },
  {
   "cell_type": "code",
   "execution_count": 43,
   "metadata": {
    "colab": {
     "base_uri": "https://localhost:8080/",
     "height": 333
    },
    "id": "ojH2HAKIBqoP",
    "outputId": "4192e755-7563-4702-a7fe-f80775bb761c"
   },
   "outputs": [
    {
     "data": {
      "image/png": "[encoded data removed]",
      "text/plain": [
       "<Figure size 1152x288 with 1 Axes>"
      ]
     },
     "metadata": {
      "needs_background": "light",
      "tags": []
     },
     "output_type": "display_data"
    }
   ],
   "source": [
    "# Visualize the predicting probabilities\n",
    "plt.figure(figsize=(16,4)) \n",
    "plt.scatter(x=df_right.index, y=df_right['uptrend'], color='b', label=\"correct\")\n",
    "plt.scatter(x=df_wrong.index, y=df_wrong['uptrend'], color='r', label=\"incorrect\")\n",
    "plt.hlines(0.5, test_result.index.min(), test_result.index.max(), color='gray', alpha=0.5)\n",
    "plt.xticks(test_result.index, rotation=45)\n",
    "plt.yticks(np.arange(0,1.1, 0.1))\n",
    "plt.title(\"Prediction Probability of Uptrend\")\n",
    "plt.xlabel(\"Date\")\n",
    "plt.ylabel(\"Probability\")\n",
    "plt.legend(loc='center')\n",
    "plt.show()"
   ]
  },
  {
   "cell_type": "code",
   "execution_count": 44,
   "metadata": {
    "colab": {
     "base_uri": "https://localhost:8080/",
     "height": 731
    },
    "id": "DtHgBzsUE6RU",
    "outputId": "c39ce4fc-3262-4be4-a0f0-d33cf0f99cfd"
   },
   "outputs": [
    {
     "data": {
      "text/html": [
       "<div>\n",
       "<style scoped>\n",
       "    .dataframe tbody tr th:only-of-type {\n",
       "        vertical-align: middle;\n",
       "    }\n",
       "\n",
       "    .dataframe tbody tr th {\n",
       "        vertical-align: top;\n",
       "    }\n",
       "\n",
       "    .dataframe thead th {\n",
       "        text-align: right;\n",
       "    }\n",
       "</style>\n",
       "<table border=\"1\" class=\"dataframe\">\n",
       "  <thead>\n",
       "    <tr style=\"text-align: right;\">\n",
       "      <th></th>\n",
       "      <th>date</th>\n",
       "      <th>close</th>\n",
       "      <th>prob</th>\n",
       "      <th>trend</th>\n",
       "    </tr>\n",
       "  </thead>\n",
       "  <tbody>\n",
       "    <tr>\n",
       "      <th>0</th>\n",
       "      <td>2021-05-24</td>\n",
       "      <td>99.1000</td>\n",
       "      <td>1.0000</td>\n",
       "      <td>1</td>\n",
       "    </tr>\n",
       "    <tr>\n",
       "      <th>1</th>\n",
       "      <td>2021-05-25</td>\n",
       "      <td>99.0700</td>\n",
       "      <td>0.0378</td>\n",
       "      <td>0</td>\n",
       "    </tr>\n",
       "    <tr>\n",
       "      <th>2</th>\n",
       "      <td>2021-05-26</td>\n",
       "      <td>99.5100</td>\n",
       "      <td>1.0000</td>\n",
       "      <td>1</td>\n",
       "    </tr>\n",
       "    <tr>\n",
       "      <th>3</th>\n",
       "      <td>2021-05-27</td>\n",
       "      <td>99.2800</td>\n",
       "      <td>0.0000</td>\n",
       "      <td>0</td>\n",
       "    </tr>\n",
       "    <tr>\n",
       "      <th>4</th>\n",
       "      <td>2021-05-28</td>\n",
       "      <td>99.8800</td>\n",
       "      <td>0.9949</td>\n",
       "      <td>1</td>\n",
       "    </tr>\n",
       "    <tr>\n",
       "      <th>5</th>\n",
       "      <td>2021-06-01</td>\n",
       "      <td>101.6800</td>\n",
       "      <td>1.0000</td>\n",
       "      <td>1</td>\n",
       "    </tr>\n",
       "    <tr>\n",
       "      <th>6</th>\n",
       "      <td>2021-06-02</td>\n",
       "      <td>102.8700</td>\n",
       "      <td>1.0000</td>\n",
       "      <td>1</td>\n",
       "    </tr>\n",
       "    <tr>\n",
       "      <th>7</th>\n",
       "      <td>2021-06-03</td>\n",
       "      <td>102.4900</td>\n",
       "      <td>0.0169</td>\n",
       "      <td>0</td>\n",
       "    </tr>\n",
       "    <tr>\n",
       "      <th>8</th>\n",
       "      <td>2021-06-04</td>\n",
       "      <td>102.5400</td>\n",
       "      <td>0.0000</td>\n",
       "      <td>1</td>\n",
       "    </tr>\n",
       "    <tr>\n",
       "      <th>9</th>\n",
       "      <td>2021-06-07</td>\n",
       "      <td>103.7500</td>\n",
       "      <td>1.0000</td>\n",
       "      <td>1</td>\n",
       "    </tr>\n",
       "    <tr>\n",
       "      <th>10</th>\n",
       "      <td>2021-06-08</td>\n",
       "      <td>104.6100</td>\n",
       "      <td>1.0000</td>\n",
       "      <td>1</td>\n",
       "    </tr>\n",
       "    <tr>\n",
       "      <th>11</th>\n",
       "      <td>2021-06-09</td>\n",
       "      <td>104.7500</td>\n",
       "      <td>0.7159</td>\n",
       "      <td>1</td>\n",
       "    </tr>\n",
       "    <tr>\n",
       "      <th>12</th>\n",
       "      <td>2021-06-10</td>\n",
       "      <td>105.5000</td>\n",
       "      <td>1.0000</td>\n",
       "      <td>1</td>\n",
       "    </tr>\n",
       "    <tr>\n",
       "      <th>13</th>\n",
       "      <td>2021-06-11</td>\n",
       "      <td>105.0800</td>\n",
       "      <td>0.0000</td>\n",
       "      <td>0</td>\n",
       "    </tr>\n",
       "    <tr>\n",
       "      <th>14</th>\n",
       "      <td>2021-06-14</td>\n",
       "      <td>105.4900</td>\n",
       "      <td>1.0000</td>\n",
       "      <td>1</td>\n",
       "    </tr>\n",
       "    <tr>\n",
       "      <th>15</th>\n",
       "      <td>2021-06-15</td>\n",
       "      <td>104.3600</td>\n",
       "      <td>0.0000</td>\n",
       "      <td>0</td>\n",
       "    </tr>\n",
       "    <tr>\n",
       "      <th>16</th>\n",
       "      <td>2021-06-16</td>\n",
       "      <td>103.6800</td>\n",
       "      <td>0.0000</td>\n",
       "      <td>0</td>\n",
       "    </tr>\n",
       "    <tr>\n",
       "      <th>17</th>\n",
       "      <td>2021-06-17</td>\n",
       "      <td>103.5500</td>\n",
       "      <td>1.0000</td>\n",
       "      <td>0</td>\n",
       "    </tr>\n",
       "    <tr>\n",
       "      <th>18</th>\n",
       "      <td>2021-06-18</td>\n",
       "      <td>101.7900</td>\n",
       "      <td>0.0000</td>\n",
       "      <td>0</td>\n",
       "    </tr>\n",
       "    <tr>\n",
       "      <th>19</th>\n",
       "      <td>2021-06-21</td>\n",
       "      <td>103.8900</td>\n",
       "      <td>1.0000</td>\n",
       "      <td>1</td>\n",
       "    </tr>\n",
       "    <tr>\n",
       "      <th>20</th>\n",
       "      <td>2021-06-22</td>\n",
       "      <td>103.3500</td>\n",
       "      <td>0.0000</td>\n",
       "      <td>0</td>\n",
       "    </tr>\n",
       "    <tr>\n",
       "      <th>21</th>\n",
       "      <td>2021-06-23</td>\n",
       "      <td>103.1700</td>\n",
       "      <td>0.2626</td>\n",
       "      <td>0</td>\n",
       "    </tr>\n",
       "  </tbody>\n",
       "</table>\n",
       "</div>"
      ],
      "text/plain": [
       "         date    close   prob  trend\n",
       "0  2021-05-24  99.1000 1.0000      1\n",
       "1  2021-05-25  99.0700 0.0378      0\n",
       "2  2021-05-26  99.5100 1.0000      1\n",
       "3  2021-05-27  99.2800 0.0000      0\n",
       "4  2021-05-28  99.8800 0.9949      1\n",
       "5  2021-06-01 101.6800 1.0000      1\n",
       "6  2021-06-02 102.8700 1.0000      1\n",
       "7  2021-06-03 102.4900 0.0169      0\n",
       "8  2021-06-04 102.5400 0.0000      1\n",
       "9  2021-06-07 103.7500 1.0000      1\n",
       "10 2021-06-08 104.6100 1.0000      1\n",
       "11 2021-06-09 104.7500 0.7159      1\n",
       "12 2021-06-10 105.5000 1.0000      1\n",
       "13 2021-06-11 105.0800 0.0000      0\n",
       "14 2021-06-14 105.4900 1.0000      1\n",
       "15 2021-06-15 104.3600 0.0000      0\n",
       "16 2021-06-16 103.6800 0.0000      0\n",
       "17 2021-06-17 103.5500 1.0000      0\n",
       "18 2021-06-18 101.7900 0.0000      0\n",
       "19 2021-06-21 103.8900 1.0000      1\n",
       "20 2021-06-22 103.3500 0.0000      0\n",
       "21 2021-06-23 103.1700 0.2626      0"
      ]
     },
     "execution_count": 44,
     "metadata": {
      "tags": []
     },
     "output_type": "execute_result"
    }
   ],
   "source": [
    "# Create a new df which used for 3D plot\n",
    "dff = pd.DataFrame(columns=['date','close', 'prob', 'trend'])\n",
    "dff['date'] = test.index\n",
    "dff['close'] = test['Close'].values\n",
    "dff['prob'] = test_result['uptrend'].values\n",
    "dff['trend'] = test['Trend'].values\n",
    "dff"
   ]
  },
  {
   "cell_type": "code",
   "execution_count": 45,
   "metadata": {
    "colab": {
     "base_uri": "https://localhost:8080/",
     "height": 542
    },
    "id": "EMaDF7CuUz6D",
    "outputId": "1fb7c184-d2af-40ad-8d12-a9a327dddedb"
   },
   "outputs": [
    {
     "data": {
      "text/html": [
       "<html>\n",
       "<head><meta charset=\"utf-8\" /></head>\n",
       "<body>\n",
       "    <div>\n",
       "            <script src=\"https://cdnjs.cloudflare.com/ajax/libs/mathjax/2.7.5/MathJax.js?config=TeX-AMS-MML_SVG\"></script><script type=\"text/javascript\">if (window.MathJax) {MathJax.Hub.Config({SVG: {font: \"STIX-Web\"}});}</script>\n",
       "                <script type=\"text/javascript\">window.PlotlyConfig = {MathJaxConfig: 'local'};</script>\n",
       "        <script src=\"https://cdn.plot.ly/plotly-latest.min.js\"></script>    \n",
       "            <div id=\"2e39c9bb-b33e-4646-9551-4777f61d23da\" class=\"plotly-graph-div\" style=\"height:525px; width:100%;\"></div>\n",
       "            <script type=\"text/javascript\">\n",
       "                \n",
       "                    window.PLOTLYENV=window.PLOTLYENV || {};\n",
       "                    \n",
       "                if (document.getElementById(\"2e39c9bb-b33e-4646-9551-4777f61d23da\")) {\n",
       "                    Plotly.newPlot(\n",
       "                        '2e39c9bb-b33e-4646-9551-4777f61d23da',\n",
       "                        [{\"hoverlabel\": {\"namelength\": 0}, \"hovertemplate\": \"trend=%{marker.color}<br>date=%{x}<br>close=%{y}<br>prob=%{z}\", \"legendgroup\": \"trend=1\", \"marker\": {\"color\": [1, 1, 1, 1, 1, 1, 1, 1, 1, 1, 1, 1], \"coloraxis\": \"coloraxis\", \"symbol\": \"circle\"}, \"mode\": \"markers\", \"name\": \"trend=1\", \"scene\": \"scene\", \"showlegend\": true, \"type\": \"scatter3d\", \"x\": [\"2021-05-24T00:00:00\", \"2021-05-26T00:00:00\", \"2021-05-28T00:00:00\", \"2021-06-01T00:00:00\", \"2021-06-02T00:00:00\", \"2021-06-04T00:00:00\", \"2021-06-07T00:00:00\", \"2021-06-08T00:00:00\", \"2021-06-09T00:00:00\", \"2021-06-10T00:00:00\", \"2021-06-14T00:00:00\", \"2021-06-21T00:00:00\"], \"y\": [99.0999984741211, 99.51000213623048, 99.87999725341795, 101.68000030517578, 102.87000274658205, 102.54000091552734, 103.75, 104.61000061035156, 104.75, 105.5, 105.48999786376952, 103.88999938964844], \"z\": [0.9999999999999699, 0.9999999967959617, 0.9949189535242615, 0.9999999999999699, 0.9999999999999699, 6.774979829572196e-06, 0.9999999999999699, 0.9999999999999699, 0.715899060084579, 0.9999999999999699, 0.9999999999999699, 0.9999999999999699]}, {\"hoverlabel\": {\"namelength\": 0}, \"hovertemplate\": \"trend=%{marker.color}<br>date=%{x}<br>close=%{y}<br>prob=%{z}\", \"legendgroup\": \"trend=0\", \"marker\": {\"color\": [0, 0, 0, 0, 0, 0, 0, 0, 0, 0], \"coloraxis\": \"coloraxis\", \"symbol\": \"diamond\"}, \"mode\": \"markers\", \"name\": \"trend=0\", \"scene\": \"scene\", \"showlegend\": true, \"type\": \"scatter3d\", \"x\": [\"2021-05-25T00:00:00\", \"2021-05-27T00:00:00\", \"2021-06-03T00:00:00\", \"2021-06-11T00:00:00\", \"2021-06-15T00:00:00\", \"2021-06-16T00:00:00\", \"2021-06-17T00:00:00\", \"2021-06-18T00:00:00\", \"2021-06-22T00:00:00\", \"2021-06-23T00:00:00\"], \"y\": [99.06999969482422, 99.27999877929688, 102.48999786376952, 105.08000183105469, 104.36000061035156, 103.68000030517578, 103.5500030517578, 101.79000091552734, 103.3499984741211, 103.16999816894531], \"z\": [0.03778675828559468, 2.9580437071794483e-06, 0.01693382950142259, 4.064351308270522e-06, 1.0000000994736041e-07, 1.0000000994736041e-07, 0.9999999597715369, 1.0000000994736041e-07, 1.1101103196578342e-06, 0.26255789931463186]}],\n",
       "                        {\"coloraxis\": {\"colorbar\": {\"title\": {\"text\": \"trend\"}}, \"colorscale\": [[0.0, \"#0d0887\"], [0.1111111111111111, \"#46039f\"], [0.2222222222222222, \"#7201a8\"], [0.3333333333333333, \"#9c179e\"], [0.4444444444444444, \"#bd3786\"], [0.5555555555555556, \"#d8576b\"], [0.6666666666666666, \"#ed7953\"], [0.7777777777777778, \"#fb9f3a\"], [0.8888888888888888, \"#fdca26\"], [1.0, \"#f0f921\"]]}, \"legend\": {\"tracegroupgap\": 0}, \"margin\": {\"t\": 60}, \"scene\": {\"domain\": {\"x\": [0.0, 1.0], \"y\": [0.0, 1.0]}, \"xaxis\": {\"title\": {\"text\": \"date\"}}, \"yaxis\": {\"title\": {\"text\": \"close\"}}, \"zaxis\": {\"title\": {\"text\": \"prob\"}}}, \"template\": {\"data\": {\"bar\": [{\"error_x\": {\"color\": \"#2a3f5f\"}, \"error_y\": {\"color\": \"#2a3f5f\"}, \"marker\": {\"line\": {\"color\": \"#E5ECF6\", \"width\": 0.5}}, \"type\": \"bar\"}], \"barpolar\": [{\"marker\": {\"line\": {\"color\": \"#E5ECF6\", \"width\": 0.5}}, \"type\": \"barpolar\"}], \"carpet\": [{\"aaxis\": {\"endlinecolor\": \"#2a3f5f\", \"gridcolor\": \"white\", \"linecolor\": \"white\", \"minorgridcolor\": \"white\", \"startlinecolor\": \"#2a3f5f\"}, \"baxis\": {\"endlinecolor\": \"#2a3f5f\", \"gridcolor\": \"white\", \"linecolor\": \"white\", \"minorgridcolor\": \"white\", \"startlinecolor\": \"#2a3f5f\"}, \"type\": \"carpet\"}], \"choropleth\": [{\"colorbar\": {\"outlinewidth\": 0, \"ticks\": \"\"}, \"type\": \"choropleth\"}], \"contour\": [{\"colorbar\": {\"outlinewidth\": 0, \"ticks\": \"\"}, \"colorscale\": [[0.0, \"#0d0887\"], [0.1111111111111111, \"#46039f\"], [0.2222222222222222, \"#7201a8\"], [0.3333333333333333, \"#9c179e\"], [0.4444444444444444, \"#bd3786\"], [0.5555555555555556, \"#d8576b\"], [0.6666666666666666, \"#ed7953\"], [0.7777777777777778, \"#fb9f3a\"], [0.8888888888888888, \"#fdca26\"], [1.0, \"#f0f921\"]], \"type\": \"contour\"}], \"contourcarpet\": [{\"colorbar\": {\"outlinewidth\": 0, \"ticks\": \"\"}, \"type\": \"contourcarpet\"}], \"heatmap\": [{\"colorbar\": {\"outlinewidth\": 0, \"ticks\": \"\"}, \"colorscale\": [[0.0, \"#0d0887\"], [0.1111111111111111, \"#46039f\"], [0.2222222222222222, \"#7201a8\"], [0.3333333333333333, \"#9c179e\"], [0.4444444444444444, \"#bd3786\"], [0.5555555555555556, \"#d8576b\"], [0.6666666666666666, \"#ed7953\"], [0.7777777777777778, \"#fb9f3a\"], [0.8888888888888888, \"#fdca26\"], [1.0, \"#f0f921\"]], \"type\": \"heatmap\"}], \"heatmapgl\": [{\"colorbar\": {\"outlinewidth\": 0, \"ticks\": \"\"}, \"colorscale\": [[0.0, \"#0d0887\"], [0.1111111111111111, \"#46039f\"], [0.2222222222222222, \"#7201a8\"], [0.3333333333333333, \"#9c179e\"], [0.4444444444444444, \"#bd3786\"], [0.5555555555555556, \"#d8576b\"], [0.6666666666666666, \"#ed7953\"], [0.7777777777777778, \"#fb9f3a\"], [0.8888888888888888, \"#fdca26\"], [1.0, \"#f0f921\"]], \"type\": \"heatmapgl\"}], \"histogram\": [{\"marker\": {\"colorbar\": {\"outlinewidth\": 0, \"ticks\": \"\"}}, \"type\": \"histogram\"}], \"histogram2d\": [{\"colorbar\": {\"outlinewidth\": 0, \"ticks\": \"\"}, \"colorscale\": [[0.0, \"#0d0887\"], [0.1111111111111111, \"#46039f\"], [0.2222222222222222, \"#7201a8\"], [0.3333333333333333, \"#9c179e\"], [0.4444444444444444, \"#bd3786\"], [0.5555555555555556, \"#d8576b\"], [0.6666666666666666, \"#ed7953\"], [0.7777777777777778, \"#fb9f3a\"], [0.8888888888888888, \"#fdca26\"], [1.0, \"#f0f921\"]], \"type\": \"histogram2d\"}], \"histogram2dcontour\": [{\"colorbar\": {\"outlinewidth\": 0, \"ticks\": \"\"}, \"colorscale\": [[0.0, \"#0d0887\"], [0.1111111111111111, \"#46039f\"], [0.2222222222222222, \"#7201a8\"], [0.3333333333333333, \"#9c179e\"], [0.4444444444444444, \"#bd3786\"], [0.5555555555555556, \"#d8576b\"], [0.6666666666666666, \"#ed7953\"], [0.7777777777777778, \"#fb9f3a\"], [0.8888888888888888, \"#fdca26\"], [1.0, \"#f0f921\"]], \"type\": \"histogram2dcontour\"}], \"mesh3d\": [{\"colorbar\": {\"outlinewidth\": 0, \"ticks\": \"\"}, \"type\": \"mesh3d\"}], \"parcoords\": [{\"line\": {\"colorbar\": {\"outlinewidth\": 0, \"ticks\": \"\"}}, \"type\": \"parcoords\"}], \"pie\": [{\"automargin\": true, \"type\": \"pie\"}], \"scatter\": [{\"marker\": {\"colorbar\": {\"outlinewidth\": 0, \"ticks\": \"\"}}, \"type\": \"scatter\"}], \"scatter3d\": [{\"line\": {\"colorbar\": {\"outlinewidth\": 0, \"ticks\": \"\"}}, \"marker\": {\"colorbar\": {\"outlinewidth\": 0, \"ticks\": \"\"}}, \"type\": \"scatter3d\"}], \"scattercarpet\": [{\"marker\": {\"colorbar\": {\"outlinewidth\": 0, \"ticks\": \"\"}}, \"type\": \"scattercarpet\"}], \"scattergeo\": [{\"marker\": {\"colorbar\": {\"outlinewidth\": 0, \"ticks\": \"\"}}, \"type\": \"scattergeo\"}], \"scattergl\": [{\"marker\": {\"colorbar\": {\"outlinewidth\": 0, \"ticks\": \"\"}}, \"type\": \"scattergl\"}], \"scattermapbox\": [{\"marker\": {\"colorbar\": {\"outlinewidth\": 0, \"ticks\": \"\"}}, \"type\": \"scattermapbox\"}], \"scatterpolar\": [{\"marker\": {\"colorbar\": {\"outlinewidth\": 0, \"ticks\": \"\"}}, \"type\": \"scatterpolar\"}], \"scatterpolargl\": [{\"marker\": {\"colorbar\": {\"outlinewidth\": 0, \"ticks\": \"\"}}, \"type\": \"scatterpolargl\"}], \"scatterternary\": [{\"marker\": {\"colorbar\": {\"outlinewidth\": 0, \"ticks\": \"\"}}, \"type\": \"scatterternary\"}], \"surface\": [{\"colorbar\": {\"outlinewidth\": 0, \"ticks\": \"\"}, \"colorscale\": [[0.0, \"#0d0887\"], [0.1111111111111111, \"#46039f\"], [0.2222222222222222, \"#7201a8\"], [0.3333333333333333, \"#9c179e\"], [0.4444444444444444, \"#bd3786\"], [0.5555555555555556, \"#d8576b\"], [0.6666666666666666, \"#ed7953\"], [0.7777777777777778, \"#fb9f3a\"], [0.8888888888888888, \"#fdca26\"], [1.0, \"#f0f921\"]], \"type\": \"surface\"}], \"table\": [{\"cells\": {\"fill\": {\"color\": \"#EBF0F8\"}, \"line\": {\"color\": \"white\"}}, \"header\": {\"fill\": {\"color\": \"#C8D4E3\"}, \"line\": {\"color\": \"white\"}}, \"type\": \"table\"}]}, \"layout\": {\"annotationdefaults\": {\"arrowcolor\": \"#2a3f5f\", \"arrowhead\": 0, \"arrowwidth\": 1}, \"coloraxis\": {\"colorbar\": {\"outlinewidth\": 0, \"ticks\": \"\"}}, \"colorscale\": {\"diverging\": [[0, \"#8e0152\"], [0.1, \"#c51b7d\"], [0.2, \"#de77ae\"], [0.3, \"#f1b6da\"], [0.4, \"#fde0ef\"], [0.5, \"#f7f7f7\"], [0.6, \"#e6f5d0\"], [0.7, \"#b8e186\"], [0.8, \"#7fbc41\"], [0.9, \"#4d9221\"], [1, \"#276419\"]], \"sequential\": [[0.0, \"#0d0887\"], [0.1111111111111111, \"#46039f\"], [0.2222222222222222, \"#7201a8\"], [0.3333333333333333, \"#9c179e\"], [0.4444444444444444, \"#bd3786\"], [0.5555555555555556, \"#d8576b\"], [0.6666666666666666, \"#ed7953\"], [0.7777777777777778, \"#fb9f3a\"], [0.8888888888888888, \"#fdca26\"], [1.0, \"#f0f921\"]], \"sequentialminus\": [[0.0, \"#0d0887\"], [0.1111111111111111, \"#46039f\"], [0.2222222222222222, \"#7201a8\"], [0.3333333333333333, \"#9c179e\"], [0.4444444444444444, \"#bd3786\"], [0.5555555555555556, \"#d8576b\"], [0.6666666666666666, \"#ed7953\"], [0.7777777777777778, \"#fb9f3a\"], [0.8888888888888888, \"#fdca26\"], [1.0, \"#f0f921\"]]}, \"colorway\": [\"#636efa\", \"#EF553B\", \"#00cc96\", \"#ab63fa\", \"#FFA15A\", \"#19d3f3\", \"#FF6692\", \"#B6E880\", \"#FF97FF\", \"#FECB52\"], \"font\": {\"color\": \"#2a3f5f\"}, \"geo\": {\"bgcolor\": \"white\", \"lakecolor\": \"white\", \"landcolor\": \"#E5ECF6\", \"showlakes\": true, \"showland\": true, \"subunitcolor\": \"white\"}, \"hoverlabel\": {\"align\": \"left\"}, \"hovermode\": \"closest\", \"mapbox\": {\"style\": \"light\"}, \"paper_bgcolor\": \"white\", \"plot_bgcolor\": \"#E5ECF6\", \"polar\": {\"angularaxis\": {\"gridcolor\": \"white\", \"linecolor\": \"white\", \"ticks\": \"\"}, \"bgcolor\": \"#E5ECF6\", \"radialaxis\": {\"gridcolor\": \"white\", \"linecolor\": \"white\", \"ticks\": \"\"}}, \"scene\": {\"xaxis\": {\"backgroundcolor\": \"#E5ECF6\", \"gridcolor\": \"white\", \"gridwidth\": 2, \"linecolor\": \"white\", \"showbackground\": true, \"ticks\": \"\", \"zerolinecolor\": \"white\"}, \"yaxis\": {\"backgroundcolor\": \"#E5ECF6\", \"gridcolor\": \"white\", \"gridwidth\": 2, \"linecolor\": \"white\", \"showbackground\": true, \"ticks\": \"\", \"zerolinecolor\": \"white\"}, \"zaxis\": {\"backgroundcolor\": \"#E5ECF6\", \"gridcolor\": \"white\", \"gridwidth\": 2, \"linecolor\": \"white\", \"showbackground\": true, \"ticks\": \"\", \"zerolinecolor\": \"white\"}}, \"shapedefaults\": {\"line\": {\"color\": \"#2a3f5f\"}}, \"ternary\": {\"aaxis\": {\"gridcolor\": \"white\", \"linecolor\": \"white\", \"ticks\": \"\"}, \"baxis\": {\"gridcolor\": \"white\", \"linecolor\": \"white\", \"ticks\": \"\"}, \"bgcolor\": \"#E5ECF6\", \"caxis\": {\"gridcolor\": \"white\", \"linecolor\": \"white\", \"ticks\": \"\"}}, \"title\": {\"x\": 0.05}, \"xaxis\": {\"automargin\": true, \"gridcolor\": \"white\", \"linecolor\": \"white\", \"ticks\": \"\", \"title\": {\"standoff\": 15}, \"zerolinecolor\": \"white\", \"zerolinewidth\": 2}, \"yaxis\": {\"automargin\": true, \"gridcolor\": \"white\", \"linecolor\": \"white\", \"ticks\": \"\", \"title\": {\"standoff\": 15}, \"zerolinecolor\": \"white\", \"zerolinewidth\": 2}}}},\n",
       "                        {\"responsive\": true}\n",
       "                    ).then(function(){\n",
       "                            \n",
       "var gd = document.getElementById('2e39c9bb-b33e-4646-9551-4777f61d23da');\n",
       "var x = new MutationObserver(function (mutations, observer) {{\n",
       "        var display = window.getComputedStyle(gd).display;\n",
       "        if (!display || display === 'none') {{\n",
       "            console.log([gd, 'removed!']);\n",
       "            Plotly.purge(gd);\n",
       "            observer.disconnect();\n",
       "        }}\n",
       "}});\n",
       "\n",
       "// Listen for the removal of the full notebook cells\n",
       "var notebookContainer = gd.closest('#notebook-container');\n",
       "if (notebookContainer) {{\n",
       "    x.observe(notebookContainer, {childList: true});\n",
       "}}\n",
       "\n",
       "// Listen for the clearing of the current output cell\n",
       "var outputEl = gd.closest('.output');\n",
       "if (outputEl) {{\n",
       "    x.observe(outputEl, {childList: true});\n",
       "}}\n",
       "\n",
       "                        })\n",
       "                };\n",
       "                \n",
       "            </script>\n",
       "        </div>\n",
       "</body>\n",
       "</html>"
      ]
     },
     "metadata": {
      "tags": []
     },
     "output_type": "display_data"
    }
   ],
   "source": [
    "fig = px.scatter_3d(dff, x='date', y='close', z='prob', color='trend', symbol='trend')\n",
    "fig.write_html(\"/content/vnq_test_prob_trend.html\")\n",
    "fig.show()"
   ]
  },
  {
   "cell_type": "markdown",
   "metadata": {},
   "source": [
    "### Note:\n",
    "- The above 3D plot can be only viewd in Google Colab. For visualization in Github, a static plot will be shown instead"
   ]
  },
  {
   "attachments": {
    "3d_plot.png": {
     "image/png": "[encoded data removed]"
    }
   },
   "cell_type": "markdown",
   "metadata": {},
   "source": [
    "![3d_plot.png](attachment:3d_plot.png)"
   ]
  },
  {
   "cell_type": "markdown",
   "metadata": {
    "id": "nnV5a8qej4aO"
   },
   "source": [
    "### Tuning Hyperparameter\n",
    "- grid search on poly degree\n",
    "- default is d = 3"
   ]
  },
  {
   "cell_type": "code",
   "execution_count": null,
   "metadata": {
    "id": "w0BGK3806_94"
   },
   "outputs": [],
   "source": [
    "# This took real long time too run...\n",
    "\n",
    "# Polynomial degree\n",
    "d = list(range(1, 6, 1))\n",
    "\n",
    "param_grid = {'classifier__degree': d}\n",
    "\n",
    "# Grid search\n",
    "search = GridSearchCV(nusvc_clf, param_grid, cv=5, scoring='f1')\n",
    "search.fit(X_train, y_train)\n",
    "\n",
    "print(f\"Best parameter: {search.best_params_}\\n\")\n",
    "\n",
    "# Evaluate the model with best k\n",
    "ut.class_model_evaluation(search.best_estimator_, X_train, y_train, X_test, y_test)"
   ]
  },
  {
   "cell_type": "markdown",
   "metadata": {
    "id": "me3bAPocN86R"
   },
   "source": [
    "## V. Conclusion\n",
    "- Among analyze 4213 historical data from VNQ, NuSVC classifier was selected among 9 different classifier. The hyperarameter tunning took relative long time to run. For now, current model will be considered as the best NuSVC model\n",
    "- True holdout test accuracy reaches 0.9091 which is relative high\n",
    "- There is a small change that the machine will predict incorrectly"
   ]
  }
 ],
 "metadata": {
  "colab": {
   "collapsed_sections": [],
   "name": "5_Classification.ipynb",
   "provenance": []
  },
  "kernelspec": {
   "display_name": "Python 3",
   "language": "python",
   "name": "python3"
  },
  "language_info": {
   "codemirror_mode": {
    "name": "ipython",
    "version": 3
   },
   "file_extension": ".py",
   "mimetype": "text/x-python",
   "name": "python",
   "nbconvert_exporter": "python",
   "pygments_lexer": "ipython3",
   "version": "3.6.9"
  },
  "toc": {
   "base_numbering": 1,
   "nav_menu": {},
   "number_sections": false,
   "sideBar": true,
   "skip_h1_title": false,
   "title_cell": "Table of Contents",
   "title_sidebar": "Contents",
   "toc_cell": false,
   "toc_position": {
    "height": "calc(100% - 180px)",
    "left": "10px",
    "top": "150px",
    "width": "358.391px"
   },
   "toc_section_display": true,
   "toc_window_display": true
  }
 },
 "nbformat": 4,
 "nbformat_minor": 1
}
