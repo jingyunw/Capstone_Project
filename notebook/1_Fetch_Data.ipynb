{
 "cells": [
  {
   "cell_type": "markdown",
   "metadata": {},
   "source": [
    "# Fetch Data\n",
    "The purpose of this notebook is to fetch multiple REIT ETFs' historical data from Yahoo Finance and combine them into one dataframe."
   ]
  },
  {
   "cell_type": "code",
   "execution_count": 1,
   "metadata": {
    "ExecuteTime": {
     "end_time": "2021-06-24T05:13:48.260627Z",
     "start_time": "2021-06-24T05:13:47.756325Z"
    }
   },
   "outputs": [],
   "source": [
    "import pandas as pd\n",
    "import numpy as np\n",
    "# import matplotlib.pyplot as plt\n",
    "\n",
    "import yfinance as yf"
   ]
  },
  {
   "cell_type": "code",
   "execution_count": 2,
   "metadata": {
    "ExecuteTime": {
     "end_time": "2021-06-24T05:13:48.273278Z",
     "start_time": "2021-06-24T05:13:48.262422Z"
    }
   },
   "outputs": [
    {
     "data": {
      "text/html": [
       "<div>\n",
       "<style scoped>\n",
       "    .dataframe tbody tr th:only-of-type {\n",
       "        vertical-align: middle;\n",
       "    }\n",
       "\n",
       "    .dataframe tbody tr th {\n",
       "        vertical-align: top;\n",
       "    }\n",
       "\n",
       "    .dataframe thead th {\n",
       "        text-align: right;\n",
       "    }\n",
       "</style>\n",
       "<table border=\"1\" class=\"dataframe\">\n",
       "  <thead>\n",
       "    <tr style=\"text-align: right;\">\n",
       "      <th></th>\n",
       "      <th>Symbol</th>\n",
       "    </tr>\n",
       "  </thead>\n",
       "  <tbody>\n",
       "    <tr>\n",
       "      <th>0</th>\n",
       "      <td>VNQ</td>\n",
       "    </tr>\n",
       "    <tr>\n",
       "      <th>1</th>\n",
       "      <td>IYR</td>\n",
       "    </tr>\n",
       "    <tr>\n",
       "      <th>2</th>\n",
       "      <td>SCHH</td>\n",
       "    </tr>\n",
       "    <tr>\n",
       "      <th>3</th>\n",
       "      <td>XLRE</td>\n",
       "    </tr>\n",
       "    <tr>\n",
       "      <th>4</th>\n",
       "      <td>ICF</td>\n",
       "    </tr>\n",
       "  </tbody>\n",
       "</table>\n",
       "</div>"
      ],
      "text/plain": [
       "  Symbol\n",
       "0    VNQ\n",
       "1    IYR\n",
       "2   SCHH\n",
       "3   XLRE\n",
       "4    ICF"
      ]
     },
     "execution_count": 2,
     "metadata": {},
     "output_type": "execute_result"
    }
   ],
   "source": [
    "# Import the ticker name\n",
    "ticker_name = pd.read_csv('data/ticker_name.csv')\n",
    "ticker_name.head()"
   ]
  },
  {
   "cell_type": "code",
   "execution_count": 3,
   "metadata": {
    "ExecuteTime": {
     "end_time": "2021-06-24T05:13:48.280488Z",
     "start_time": "2021-06-24T05:13:48.276540Z"
    }
   },
   "outputs": [
    {
     "data": {
      "text/plain": [
       "['VNQ', 'IYR', 'SCHH', 'XLRE', 'ICF', 'USRT', 'RWR', 'FREL', 'REM', 'BBRE']"
      ]
     },
     "execution_count": 3,
     "metadata": {},
     "output_type": "execute_result"
    }
   ],
   "source": [
    "top28 = ticker_name['Symbol'].tolist()\n",
    "top28[:10]"
   ]
  },
  {
   "cell_type": "markdown",
   "metadata": {},
   "source": [
    "## Instruction\n",
    "1. Function 1\n",
    "    - This function helps to select REIT ETFs which has certain of historical data\n",
    "2. Function 2\n",
    "    - Fetch historical data from Yahoo Finance\n",
    "3. Function 3\n",
    "    - Combine the multiple data into a single dataframe"
   ]
  },
  {
   "cell_type": "code",
   "execution_count": 4,
   "metadata": {
    "ExecuteTime": {
     "end_time": "2021-06-24T05:13:48.307379Z",
     "start_time": "2021-06-24T05:13:48.282451Z"
    }
   },
   "outputs": [],
   "source": [
    "# Function 1\n",
    "def select_ticker(symbols, year):\n",
    "    '''\n",
    "    Select tickers have siginificant years of history.\n",
    "    ex. 2011 => means that stock has at least 2021-2011 = 10 years of history\n",
    "    \n",
    "    -*-*-*-*-*-*-*-*-*-*-*-*-*-*-*-*-*-*-*-*-*-*-*-*-*-*-*-*-*-*-*-*-*-*-*-*-*-*\n",
    "    \n",
    "    Inputs: \n",
    "    - symbols: ticker \n",
    "    - year: int\n",
    "        ex. 2010\n",
    "    \n",
    "    Return:\n",
    "    - new_ticker_list that fulfilled the requirement\n",
    "    '''\n",
    "    \n",
    "    timestamps = []\n",
    "    incep_year = []\n",
    "    \n",
    "    for symbol in symbols:\n",
    "        # Acquire the inception date for each ticker\n",
    "        timestamps.append(yf.Ticker(symbol).info.get('fundInceptionDate'))\n",
    "    \n",
    "    for timestamp in timestamps: \n",
    "        # Convert epoch unix to readable dates\n",
    "        incep_year.append(pd.to_datetime(timestamp, unit='s').year)\n",
    "    \n",
    "    # Create a dictionary to pair the ticker with corresponding year\n",
    "    ticker_dict = dict(zip(symbols, incep_year))\n",
    "    \n",
    "    # Create a ticker df\n",
    "    ticker_df = pd.DataFrame(list(ticker_dict.items()), columns=['symbol', 'start_year'])\n",
    "    \n",
    "    # Select desire ticker based on inception date\n",
    "    new_ticker_df = ticker_df.loc[ticker_df['start_year'] <= year]\n",
    "    \n",
    "    new_ticker_list = new_ticker_df['symbol'].tolist()\n",
    "                                                     \n",
    "    return new_ticker_list\n",
    "                                                     \n",
    "                                                     \n",
    "                                                     \n",
    "# Function 2                                                     \n",
    "def get_stock_data(symbols):\n",
    "    '''\n",
    "    Acquire the historical data from Yahoo Finance.\n",
    "    \n",
    "    -*-*-*-*-*-*-*-*-*-*-*-*-*-*-*-*-*-*-*-*-*-*-*-*-*-*-*-*-*-*-*-*-*-*-*-*-*-*\n",
    "    \n",
    "    Input:\n",
    "    - symbols: ticker\n",
    "    \n",
    "    Return:\n",
    "    - Historical data from Yahoo Finance\n",
    "    \n",
    "    '''\n",
    "    \n",
    "    # Access ticker data\n",
    "    ticker = yf.Ticker(symbols)\n",
    "    \n",
    "    # Get historical market data\n",
    "    data = ticker.history(period='max')\n",
    "    \n",
    "    return data\n",
    "\n",
    "\n",
    "\n",
    "# Function 3\n",
    "def get_data(symbols):\n",
    "    '''\n",
    "    Acquire the historical data from Yahoo Finance by calling get_stock_data function.\n",
    "    Put multiple REIT ETFs's historical data in one dataframe.\n",
    "    \n",
    "    -*-*-*-*-*-*-*-*-*-*-*-*-*-*-*-*-*-*-*-*-*-*-*-*-*-*-*-*-*-*-*-*-*-*-*-*-*-*\n",
    "    \n",
    "    Input:\n",
    "    - symbol: ticker\n",
    "    \n",
    "    Return:\n",
    "    - Panda dataframe\n",
    "    '''\n",
    "    \n",
    "    # Create a blank dataframe\n",
    "    df = pd.DataFrame()\n",
    "    \n",
    "    for symbol in symbols:\n",
    "        try:\n",
    "            # Get all historical market data for all tickers\n",
    "            df_extra = get_stock_data(symbol)\n",
    "            \n",
    "            # Add an extra column to label the ticker\n",
    "            df_extra['Ticker'] = symbol\n",
    "            \n",
    "            # Concatenate all the piece\n",
    "            df = pd.concat([df,df_extra])\n",
    "        \n",
    "        except:\n",
    "            print(f'Ticker error:{symbol}')\n",
    "     \n",
    "    return df"
   ]
  },
  {
   "cell_type": "code",
   "execution_count": 5,
   "metadata": {
    "ExecuteTime": {
     "end_time": "2021-06-24T05:16:30.256726Z",
     "start_time": "2021-06-24T05:13:48.308974Z"
    }
   },
   "outputs": [],
   "source": [
    "# This should take a little bit longer\n",
    "# Select REIT ETFs have at least of 10 years history\n",
    "ticker_list = select_ticker(top28, 2011)"
   ]
  },
  {
   "cell_type": "code",
   "execution_count": 6,
   "metadata": {
    "ExecuteTime": {
     "end_time": "2021-06-24T05:16:30.261136Z",
     "start_time": "2021-06-24T05:16:30.258199Z"
    }
   },
   "outputs": [
    {
     "data": {
      "text/plain": [
       "15"
      ]
     },
     "execution_count": 6,
     "metadata": {},
     "output_type": "execute_result"
    }
   ],
   "source": [
    "len(ticker_list)"
   ]
  },
  {
   "cell_type": "code",
   "execution_count": 7,
   "metadata": {
    "ExecuteTime": {
     "end_time": "2021-06-24T05:16:49.313113Z",
     "start_time": "2021-06-24T05:16:30.262572Z"
    }
   },
   "outputs": [
    {
     "data": {
      "text/html": [
       "<div>\n",
       "<style scoped>\n",
       "    .dataframe tbody tr th:only-of-type {\n",
       "        vertical-align: middle;\n",
       "    }\n",
       "\n",
       "    .dataframe tbody tr th {\n",
       "        vertical-align: top;\n",
       "    }\n",
       "\n",
       "    .dataframe thead th {\n",
       "        text-align: right;\n",
       "    }\n",
       "</style>\n",
       "<table border=\"1\" class=\"dataframe\">\n",
       "  <thead>\n",
       "    <tr style=\"text-align: right;\">\n",
       "      <th></th>\n",
       "      <th>Open</th>\n",
       "      <th>High</th>\n",
       "      <th>Low</th>\n",
       "      <th>Close</th>\n",
       "      <th>Volume</th>\n",
       "      <th>Dividends</th>\n",
       "      <th>Stock Splits</th>\n",
       "      <th>Ticker</th>\n",
       "    </tr>\n",
       "    <tr>\n",
       "      <th>Date</th>\n",
       "      <th></th>\n",
       "      <th></th>\n",
       "      <th></th>\n",
       "      <th></th>\n",
       "      <th></th>\n",
       "      <th></th>\n",
       "      <th></th>\n",
       "      <th></th>\n",
       "    </tr>\n",
       "  </thead>\n",
       "  <tbody>\n",
       "    <tr>\n",
       "      <th>2004-09-29</th>\n",
       "      <td>23.794544</td>\n",
       "      <td>23.861371</td>\n",
       "      <td>23.789772</td>\n",
       "      <td>23.794544</td>\n",
       "      <td>205800</td>\n",
       "      <td>0.0</td>\n",
       "      <td>0.0</td>\n",
       "      <td>VNQ</td>\n",
       "    </tr>\n",
       "    <tr>\n",
       "      <th>2004-09-30</th>\n",
       "      <td>23.866143</td>\n",
       "      <td>24.023660</td>\n",
       "      <td>23.861370</td>\n",
       "      <td>23.985474</td>\n",
       "      <td>27900</td>\n",
       "      <td>0.0</td>\n",
       "      <td>0.0</td>\n",
       "      <td>VNQ</td>\n",
       "    </tr>\n",
       "    <tr>\n",
       "      <th>2004-10-01</th>\n",
       "      <td>24.033207</td>\n",
       "      <td>24.462799</td>\n",
       "      <td>23.985476</td>\n",
       "      <td>24.429386</td>\n",
       "      <td>129800</td>\n",
       "      <td>0.0</td>\n",
       "      <td>0.0</td>\n",
       "      <td>VNQ</td>\n",
       "    </tr>\n",
       "    <tr>\n",
       "      <th>2004-10-04</th>\n",
       "      <td>24.529629</td>\n",
       "      <td>24.606000</td>\n",
       "      <td>24.529629</td>\n",
       "      <td>24.534403</td>\n",
       "      <td>8100</td>\n",
       "      <td>0.0</td>\n",
       "      <td>0.0</td>\n",
       "      <td>VNQ</td>\n",
       "    </tr>\n",
       "    <tr>\n",
       "      <th>2004-10-05</th>\n",
       "      <td>24.534403</td>\n",
       "      <td>24.582135</td>\n",
       "      <td>24.510535</td>\n",
       "      <td>24.529629</td>\n",
       "      <td>11900</td>\n",
       "      <td>0.0</td>\n",
       "      <td>0.0</td>\n",
       "      <td>VNQ</td>\n",
       "    </tr>\n",
       "    <tr>\n",
       "      <th>...</th>\n",
       "      <td>...</td>\n",
       "      <td>...</td>\n",
       "      <td>...</td>\n",
       "      <td>...</td>\n",
       "      <td>...</td>\n",
       "      <td>...</td>\n",
       "      <td>...</td>\n",
       "      <td>...</td>\n",
       "    </tr>\n",
       "    <tr>\n",
       "      <th>2021-06-17</th>\n",
       "      <td>9.280000</td>\n",
       "      <td>9.290000</td>\n",
       "      <td>9.220000</td>\n",
       "      <td>9.220000</td>\n",
       "      <td>5200</td>\n",
       "      <td>0.0</td>\n",
       "      <td>0.0</td>\n",
       "      <td>REK</td>\n",
       "    </tr>\n",
       "    <tr>\n",
       "      <th>2021-06-18</th>\n",
       "      <td>9.330000</td>\n",
       "      <td>9.370000</td>\n",
       "      <td>9.270000</td>\n",
       "      <td>9.370000</td>\n",
       "      <td>22800</td>\n",
       "      <td>0.0</td>\n",
       "      <td>0.0</td>\n",
       "      <td>REK</td>\n",
       "    </tr>\n",
       "    <tr>\n",
       "      <th>2021-06-21</th>\n",
       "      <td>9.320000</td>\n",
       "      <td>9.320000</td>\n",
       "      <td>9.170000</td>\n",
       "      <td>9.170000</td>\n",
       "      <td>22900</td>\n",
       "      <td>0.0</td>\n",
       "      <td>0.0</td>\n",
       "      <td>REK</td>\n",
       "    </tr>\n",
       "    <tr>\n",
       "      <th>2021-06-22</th>\n",
       "      <td>9.160000</td>\n",
       "      <td>9.230000</td>\n",
       "      <td>9.160000</td>\n",
       "      <td>9.220000</td>\n",
       "      <td>6200</td>\n",
       "      <td>0.0</td>\n",
       "      <td>0.0</td>\n",
       "      <td>REK</td>\n",
       "    </tr>\n",
       "    <tr>\n",
       "      <th>2021-06-23</th>\n",
       "      <td>9.200000</td>\n",
       "      <td>9.260000</td>\n",
       "      <td>9.200000</td>\n",
       "      <td>9.260000</td>\n",
       "      <td>4500</td>\n",
       "      <td>0.0</td>\n",
       "      <td>0.0</td>\n",
       "      <td>REK</td>\n",
       "    </tr>\n",
       "  </tbody>\n",
       "</table>\n",
       "<p>53439 rows × 8 columns</p>\n",
       "</div>"
      ],
      "text/plain": [
       "                 Open       High        Low      Close  Volume  Dividends  \\\n",
       "Date                                                                        \n",
       "2004-09-29  23.794544  23.861371  23.789772  23.794544  205800        0.0   \n",
       "2004-09-30  23.866143  24.023660  23.861370  23.985474   27900        0.0   \n",
       "2004-10-01  24.033207  24.462799  23.985476  24.429386  129800        0.0   \n",
       "2004-10-04  24.529629  24.606000  24.529629  24.534403    8100        0.0   \n",
       "2004-10-05  24.534403  24.582135  24.510535  24.529629   11900        0.0   \n",
       "...               ...        ...        ...        ...     ...        ...   \n",
       "2021-06-17   9.280000   9.290000   9.220000   9.220000    5200        0.0   \n",
       "2021-06-18   9.330000   9.370000   9.270000   9.370000   22800        0.0   \n",
       "2021-06-21   9.320000   9.320000   9.170000   9.170000   22900        0.0   \n",
       "2021-06-22   9.160000   9.230000   9.160000   9.220000    6200        0.0   \n",
       "2021-06-23   9.200000   9.260000   9.200000   9.260000    4500        0.0   \n",
       "\n",
       "            Stock Splits Ticker  \n",
       "Date                             \n",
       "2004-09-29           0.0    VNQ  \n",
       "2004-09-30           0.0    VNQ  \n",
       "2004-10-01           0.0    VNQ  \n",
       "2004-10-04           0.0    VNQ  \n",
       "2004-10-05           0.0    VNQ  \n",
       "...                  ...    ...  \n",
       "2021-06-17           0.0    REK  \n",
       "2021-06-18           0.0    REK  \n",
       "2021-06-21           0.0    REK  \n",
       "2021-06-22           0.0    REK  \n",
       "2021-06-23           0.0    REK  \n",
       "\n",
       "[53439 rows x 8 columns]"
      ]
     },
     "execution_count": 7,
     "metadata": {},
     "output_type": "execute_result"
    }
   ],
   "source": [
    "data = get_data(ticker_list)\n",
    "data"
   ]
  },
  {
   "cell_type": "code",
   "execution_count": 8,
   "metadata": {
    "ExecuteTime": {
     "end_time": "2021-06-24T05:16:49.319937Z",
     "start_time": "2021-06-24T05:16:49.315673Z"
    }
   },
   "outputs": [
    {
     "data": {
      "text/plain": [
       "15"
      ]
     },
     "execution_count": 8,
     "metadata": {},
     "output_type": "execute_result"
    }
   ],
   "source": [
    "data['Ticker'].nunique()"
   ]
  },
  {
   "cell_type": "code",
   "execution_count": 9,
   "metadata": {
    "ExecuteTime": {
     "end_time": "2021-06-24T05:16:49.963151Z",
     "start_time": "2021-06-24T05:16:49.321336Z"
    }
   },
   "outputs": [],
   "source": [
    "# Save data to csv file\n",
    "data.to_csv('./data/REIT_ETFs.csv')"
   ]
  }
 ],
 "metadata": {
  "kernelspec": {
   "display_name": "learn-env",
   "language": "python",
   "name": "learn-env"
  },
  "language_info": {
   "codemirror_mode": {
    "name": "ipython",
    "version": 3
   },
   "file_extension": ".py",
   "mimetype": "text/x-python",
   "name": "python",
   "nbconvert_exporter": "python",
   "pygments_lexer": "ipython3",
   "version": "3.6.9"
  },
  "toc": {
   "base_numbering": 1,
   "nav_menu": {},
   "number_sections": false,
   "sideBar": true,
   "skip_h1_title": false,
   "title_cell": "Table of Contents",
   "title_sidebar": "Contents",
   "toc_cell": false,
   "toc_position": {},
   "toc_section_display": true,
   "toc_window_display": false
  }
 },
 "nbformat": 4,
 "nbformat_minor": 4
}
