{
 "cells": [
  {
   "cell_type": "markdown",
   "metadata": {
    "id": "E8Rnbkn7g3l9"
   },
   "source": [
    "# LSTM"
   ]
  },
  {
   "cell_type": "code",
   "execution_count": 1,
   "metadata": {
    "colab": {
     "base_uri": "https://localhost:8080/"
    },
    "id": "zyMqgW5ihVU-",
    "outputId": "037e3764-3366-48a6-e3f9-6a912ec3a7ed"
   },
   "outputs": [
    {
     "name": "stdout",
     "output_type": "stream",
     "text": [
      "Collecting pmdarima\n",
      "\u001b[?25l  Downloading https://files.pythonhosted.org/packages/f4/c2/2a94bce6bba1deac3c0b16dbb14f28de0b9035e3211919cae8448455aa65/pmdarima-1.8.2-cp37-cp37m-manylinux1_x86_64.whl (1.5MB)\n",
      "\u001b[K     |████████████████████████████████| 1.5MB 5.1MB/s \n",
      "\u001b[?25hRequirement already satisfied: numpy~=1.19.0 in /usr/local/lib/python3.7/dist-packages (from pmdarima) (1.19.5)\n",
      "Requirement already satisfied: joblib>=0.11 in /usr/local/lib/python3.7/dist-packages (from pmdarima) (1.0.1)\n",
      "Requirement already satisfied: setuptools!=50.0.0,>=38.6.0 in /usr/local/lib/python3.7/dist-packages (from pmdarima) (57.0.0)\n",
      "Requirement already satisfied: scipy>=1.3.2 in /usr/local/lib/python3.7/dist-packages (from pmdarima) (1.4.1)\n",
      "Requirement already satisfied: urllib3 in /usr/local/lib/python3.7/dist-packages (from pmdarima) (1.24.3)\n",
      "Collecting statsmodels!=0.12.0,>=0.11\n",
      "\u001b[?25l  Downloading https://files.pythonhosted.org/packages/da/69/8eef30a6237c54f3c0b524140e2975f4b1eea3489b45eb3339574fc8acee/statsmodels-0.12.2-cp37-cp37m-manylinux1_x86_64.whl (9.5MB)\n",
      "\u001b[K     |████████████████████████████████| 9.5MB 19.7MB/s \n",
      "\u001b[?25hRequirement already satisfied: pandas>=0.19 in /usr/local/lib/python3.7/dist-packages (from pmdarima) (1.1.5)\n",
      "Requirement already satisfied: Cython!=0.29.18,>=0.29 in /usr/local/lib/python3.7/dist-packages (from pmdarima) (0.29.23)\n",
      "Requirement already satisfied: scikit-learn>=0.22 in /usr/local/lib/python3.7/dist-packages (from pmdarima) (0.22.2.post1)\n",
      "Requirement already satisfied: patsy>=0.5 in /usr/local/lib/python3.7/dist-packages (from statsmodels!=0.12.0,>=0.11->pmdarima) (0.5.1)\n",
      "Requirement already satisfied: pytz>=2017.2 in /usr/local/lib/python3.7/dist-packages (from pandas>=0.19->pmdarima) (2018.9)\n",
      "Requirement already satisfied: python-dateutil>=2.7.3 in /usr/local/lib/python3.7/dist-packages (from pandas>=0.19->pmdarima) (2.8.1)\n",
      "Requirement already satisfied: six in /usr/local/lib/python3.7/dist-packages (from patsy>=0.5->statsmodels!=0.12.0,>=0.11->pmdarima) (1.15.0)\n",
      "Installing collected packages: statsmodels, pmdarima\n",
      "  Found existing installation: statsmodels 0.10.2\n",
      "    Uninstalling statsmodels-0.10.2:\n",
      "      Successfully uninstalled statsmodels-0.10.2\n",
      "Successfully installed pmdarima-1.8.2 statsmodels-0.12.2\n"
     ]
    }
   ],
   "source": [
    "# util.py has pmdarima function inside\n",
    "# Need to install it before import the pyfile\n",
    "!pip install pmdarima"
   ]
  },
  {
   "cell_type": "code",
   "execution_count": 2,
   "metadata": {
    "id": "wwfDbUjDe-Mx"
   },
   "outputs": [],
   "source": [
    "# Google Colab\n",
    "from google.colab import drive\n",
    "import os\n",
    "\n",
    "# General\n",
    "import pandas as pd\n",
    "import numpy as np\n",
    "import matplotlib.pyplot as plt\n",
    "%matplotlib inline\n",
    "import warnings\n",
    "warnings.filterwarnings('ignore')\n",
    "from pickle import dump, load\n",
    "\n",
    "# Scikit-Learn\n",
    "from sklearn.preprocessing import MinMaxScaler\n",
    "from sklearn.metrics import mean_absolute_error, mean_squared_error, r2_score\n",
    "from sklearn.model_selection import GridSearchCV\n",
    "\n",
    "# Keras, Tensorflow\n",
    "from tensorflow.keras.models import Sequential, load_model\n",
    "from tensorflow.keras.layers import LSTM, Dense, Dropout\n",
    "from tensorflow.keras.callbacks import EarlyStopping, ModelCheckpoint\n",
    "from tensorflow.keras.wrappers.scikit_learn import KerasRegressor"
   ]
  },
  {
   "cell_type": "markdown",
   "metadata": {
    "id": "IxqB6kJ5g03i"
   },
   "source": [
    "## Goole Colab Setup"
   ]
  },
  {
   "cell_type": "code",
   "execution_count": 3,
   "metadata": {
    "colab": {
     "base_uri": "https://localhost:8080/"
    },
    "id": "7L2DWsfHfLcU",
    "outputId": "356f3411-5d67-4516-bef2-97b241c102fd"
   },
   "outputs": [
    {
     "name": "stdout",
     "output_type": "stream",
     "text": [
      "Mounted at /gdrive\n"
     ]
    }
   ],
   "source": [
    "# Mount Google Drive\n",
    "drive.mount('/gdrive', force_remount=True)"
   ]
  },
  {
   "cell_type": "code",
   "execution_count": 4,
   "metadata": {
    "colab": {
     "base_uri": "https://localhost:8080/"
    },
    "id": "ZGNeDG67ePKF",
    "outputId": "90ee9bee-b842-404b-a5c4-f523710b890a"
   },
   "outputs": [
    {
     "name": "stdout",
     "output_type": "stream",
     "text": [
      "/content\n"
     ]
    }
   ],
   "source": [
    "# Get the current working directory\n",
    "print(os.getcwd())"
   ]
  },
  {
   "cell_type": "code",
   "execution_count": 5,
   "metadata": {
    "id": "-d50lPIlePUS"
   },
   "outputs": [],
   "source": [
    "# Drive path is the path where I upload the ETFs history file and pre-written pyfile\n",
    "drive_path_csv = '/gdrive/MyDrive/Capstone_Project/REIT_ETFs.csv'\n",
    "drive_path_util = '/gdrive/MyDrive/Capstone_Project/util.py'\n",
    "\n",
    "# Expect to move these file into the local path\n",
    "local_path = '/content'"
   ]
  },
  {
   "cell_type": "code",
   "execution_count": 6,
   "metadata": {
    "id": "OjXoZYqYePcy"
   },
   "outputs": [],
   "source": [
    "# Copy these file in drive path\n",
    "!cp '{drive_path_csv}' .\n",
    "!cp '{drive_path_util}' .\n",
    "\n",
    "# Change these file from drive path to the local path\n",
    "os.chdir(local_path)"
   ]
  },
  {
   "cell_type": "code",
   "execution_count": 7,
   "metadata": {
    "id": "UZkFuoMqo2i7"
   },
   "outputs": [],
   "source": [
    "# Pre-written function\n",
    "import util as ut"
   ]
  },
  {
   "cell_type": "markdown",
   "metadata": {
    "id": "wX4TrSmvhBFS"
   },
   "source": [
    "## Preprocesing"
   ]
  },
  {
   "cell_type": "code",
   "execution_count": 8,
   "metadata": {
    "colab": {
     "base_uri": "https://localhost:8080/",
     "height": 419
    },
    "id": "TDBk_8lylots",
    "outputId": "6ee9a026-0039-4d15-d0e6-0811e5d8e1cd"
   },
   "outputs": [
    {
     "data": {
      "text/html": [
       "<div>\n",
       "<style scoped>\n",
       "    .dataframe tbody tr th:only-of-type {\n",
       "        vertical-align: middle;\n",
       "    }\n",
       "\n",
       "    .dataframe tbody tr th {\n",
       "        vertical-align: top;\n",
       "    }\n",
       "\n",
       "    .dataframe thead th {\n",
       "        text-align: right;\n",
       "    }\n",
       "</style>\n",
       "<table border=\"1\" class=\"dataframe\">\n",
       "  <thead>\n",
       "    <tr style=\"text-align: right;\">\n",
       "      <th></th>\n",
       "      <th>Date</th>\n",
       "      <th>Open</th>\n",
       "      <th>High</th>\n",
       "      <th>Low</th>\n",
       "      <th>Close</th>\n",
       "      <th>Volume</th>\n",
       "      <th>Dividends</th>\n",
       "      <th>Stock Splits</th>\n",
       "      <th>Ticker</th>\n",
       "    </tr>\n",
       "  </thead>\n",
       "  <tbody>\n",
       "    <tr>\n",
       "      <th>0</th>\n",
       "      <td>2004-09-29</td>\n",
       "      <td>23.794544</td>\n",
       "      <td>23.861371</td>\n",
       "      <td>23.789772</td>\n",
       "      <td>23.794544</td>\n",
       "      <td>205800</td>\n",
       "      <td>0.0</td>\n",
       "      <td>0.0</td>\n",
       "      <td>VNQ</td>\n",
       "    </tr>\n",
       "    <tr>\n",
       "      <th>1</th>\n",
       "      <td>2004-09-30</td>\n",
       "      <td>23.866143</td>\n",
       "      <td>24.023660</td>\n",
       "      <td>23.861370</td>\n",
       "      <td>23.985474</td>\n",
       "      <td>27900</td>\n",
       "      <td>0.0</td>\n",
       "      <td>0.0</td>\n",
       "      <td>VNQ</td>\n",
       "    </tr>\n",
       "    <tr>\n",
       "      <th>2</th>\n",
       "      <td>2004-10-01</td>\n",
       "      <td>24.033207</td>\n",
       "      <td>24.462799</td>\n",
       "      <td>23.985476</td>\n",
       "      <td>24.429386</td>\n",
       "      <td>129800</td>\n",
       "      <td>0.0</td>\n",
       "      <td>0.0</td>\n",
       "      <td>VNQ</td>\n",
       "    </tr>\n",
       "    <tr>\n",
       "      <th>3</th>\n",
       "      <td>2004-10-04</td>\n",
       "      <td>24.529629</td>\n",
       "      <td>24.606000</td>\n",
       "      <td>24.529629</td>\n",
       "      <td>24.534403</td>\n",
       "      <td>8100</td>\n",
       "      <td>0.0</td>\n",
       "      <td>0.0</td>\n",
       "      <td>VNQ</td>\n",
       "    </tr>\n",
       "    <tr>\n",
       "      <th>4</th>\n",
       "      <td>2004-10-05</td>\n",
       "      <td>24.534403</td>\n",
       "      <td>24.582135</td>\n",
       "      <td>24.510535</td>\n",
       "      <td>24.529629</td>\n",
       "      <td>11900</td>\n",
       "      <td>0.0</td>\n",
       "      <td>0.0</td>\n",
       "      <td>VNQ</td>\n",
       "    </tr>\n",
       "    <tr>\n",
       "      <th>...</th>\n",
       "      <td>...</td>\n",
       "      <td>...</td>\n",
       "      <td>...</td>\n",
       "      <td>...</td>\n",
       "      <td>...</td>\n",
       "      <td>...</td>\n",
       "      <td>...</td>\n",
       "      <td>...</td>\n",
       "      <td>...</td>\n",
       "    </tr>\n",
       "    <tr>\n",
       "      <th>53434</th>\n",
       "      <td>2021-06-17</td>\n",
       "      <td>9.280000</td>\n",
       "      <td>9.290000</td>\n",
       "      <td>9.220000</td>\n",
       "      <td>9.220000</td>\n",
       "      <td>5200</td>\n",
       "      <td>0.0</td>\n",
       "      <td>0.0</td>\n",
       "      <td>REK</td>\n",
       "    </tr>\n",
       "    <tr>\n",
       "      <th>53435</th>\n",
       "      <td>2021-06-18</td>\n",
       "      <td>9.330000</td>\n",
       "      <td>9.370000</td>\n",
       "      <td>9.270000</td>\n",
       "      <td>9.370000</td>\n",
       "      <td>22800</td>\n",
       "      <td>0.0</td>\n",
       "      <td>0.0</td>\n",
       "      <td>REK</td>\n",
       "    </tr>\n",
       "    <tr>\n",
       "      <th>53436</th>\n",
       "      <td>2021-06-21</td>\n",
       "      <td>9.320000</td>\n",
       "      <td>9.320000</td>\n",
       "      <td>9.170000</td>\n",
       "      <td>9.170000</td>\n",
       "      <td>22900</td>\n",
       "      <td>0.0</td>\n",
       "      <td>0.0</td>\n",
       "      <td>REK</td>\n",
       "    </tr>\n",
       "    <tr>\n",
       "      <th>53437</th>\n",
       "      <td>2021-06-22</td>\n",
       "      <td>9.160000</td>\n",
       "      <td>9.230000</td>\n",
       "      <td>9.160000</td>\n",
       "      <td>9.220000</td>\n",
       "      <td>6200</td>\n",
       "      <td>0.0</td>\n",
       "      <td>0.0</td>\n",
       "      <td>REK</td>\n",
       "    </tr>\n",
       "    <tr>\n",
       "      <th>53438</th>\n",
       "      <td>2021-06-23</td>\n",
       "      <td>9.200000</td>\n",
       "      <td>9.260000</td>\n",
       "      <td>9.200000</td>\n",
       "      <td>9.260000</td>\n",
       "      <td>4500</td>\n",
       "      <td>0.0</td>\n",
       "      <td>0.0</td>\n",
       "      <td>REK</td>\n",
       "    </tr>\n",
       "  </tbody>\n",
       "</table>\n",
       "<p>53439 rows × 9 columns</p>\n",
       "</div>"
      ],
      "text/plain": [
       "             Date       Open       High  ...  Dividends  Stock Splits  Ticker\n",
       "0      2004-09-29  23.794544  23.861371  ...        0.0           0.0     VNQ\n",
       "1      2004-09-30  23.866143  24.023660  ...        0.0           0.0     VNQ\n",
       "2      2004-10-01  24.033207  24.462799  ...        0.0           0.0     VNQ\n",
       "3      2004-10-04  24.529629  24.606000  ...        0.0           0.0     VNQ\n",
       "4      2004-10-05  24.534403  24.582135  ...        0.0           0.0     VNQ\n",
       "...           ...        ...        ...  ...        ...           ...     ...\n",
       "53434  2021-06-17   9.280000   9.290000  ...        0.0           0.0     REK\n",
       "53435  2021-06-18   9.330000   9.370000  ...        0.0           0.0     REK\n",
       "53436  2021-06-21   9.320000   9.320000  ...        0.0           0.0     REK\n",
       "53437  2021-06-22   9.160000   9.230000  ...        0.0           0.0     REK\n",
       "53438  2021-06-23   9.200000   9.260000  ...        0.0           0.0     REK\n",
       "\n",
       "[53439 rows x 9 columns]"
      ]
     },
     "execution_count": 8,
     "metadata": {
      "tags": []
     },
     "output_type": "execute_result"
    }
   ],
   "source": [
    "data = pd.read_csv('/content/REIT_ETFs.csv')\n",
    "data"
   ]
  },
  {
   "cell_type": "code",
   "execution_count": 9,
   "metadata": {
    "id": "hMIJ-BYVl0Uh"
   },
   "outputs": [],
   "source": [
    "# Select one REIT ETF\n",
    "vnq = data.copy().loc[data['Ticker'] == \"VNQ\"]"
   ]
  },
  {
   "cell_type": "code",
   "execution_count": 10,
   "metadata": {
    "colab": {
     "base_uri": "https://localhost:8080/",
     "height": 467
    },
    "id": "jHN_jd77QhsN",
    "outputId": "00d2d10f-7696-4475-9c94-6adc3b036ad5"
   },
   "outputs": [
    {
     "name": "stdout",
     "output_type": "stream",
     "text": [
      "This dataframe's index is in datatime64? True\n"
     ]
    },
    {
     "data": {
      "text/html": [
       "<div>\n",
       "<style scoped>\n",
       "    .dataframe tbody tr th:only-of-type {\n",
       "        vertical-align: middle;\n",
       "    }\n",
       "\n",
       "    .dataframe tbody tr th {\n",
       "        vertical-align: top;\n",
       "    }\n",
       "\n",
       "    .dataframe thead th {\n",
       "        text-align: right;\n",
       "    }\n",
       "</style>\n",
       "<table border=\"1\" class=\"dataframe\">\n",
       "  <thead>\n",
       "    <tr style=\"text-align: right;\">\n",
       "      <th></th>\n",
       "      <th>Open</th>\n",
       "      <th>High</th>\n",
       "      <th>Low</th>\n",
       "      <th>Close</th>\n",
       "      <th>Volume</th>\n",
       "      <th>Dividends</th>\n",
       "      <th>Stock Splits</th>\n",
       "      <th>Ticker</th>\n",
       "    </tr>\n",
       "    <tr>\n",
       "      <th>Date</th>\n",
       "      <th></th>\n",
       "      <th></th>\n",
       "      <th></th>\n",
       "      <th></th>\n",
       "      <th></th>\n",
       "      <th></th>\n",
       "      <th></th>\n",
       "      <th></th>\n",
       "    </tr>\n",
       "  </thead>\n",
       "  <tbody>\n",
       "    <tr>\n",
       "      <th>2004-09-29</th>\n",
       "      <td>23.794544</td>\n",
       "      <td>23.861371</td>\n",
       "      <td>23.789772</td>\n",
       "      <td>23.794544</td>\n",
       "      <td>205800</td>\n",
       "      <td>0.0</td>\n",
       "      <td>0.0</td>\n",
       "      <td>VNQ</td>\n",
       "    </tr>\n",
       "    <tr>\n",
       "      <th>2004-09-30</th>\n",
       "      <td>23.866143</td>\n",
       "      <td>24.023660</td>\n",
       "      <td>23.861370</td>\n",
       "      <td>23.985474</td>\n",
       "      <td>27900</td>\n",
       "      <td>0.0</td>\n",
       "      <td>0.0</td>\n",
       "      <td>VNQ</td>\n",
       "    </tr>\n",
       "    <tr>\n",
       "      <th>2004-10-01</th>\n",
       "      <td>24.033207</td>\n",
       "      <td>24.462799</td>\n",
       "      <td>23.985476</td>\n",
       "      <td>24.429386</td>\n",
       "      <td>129800</td>\n",
       "      <td>0.0</td>\n",
       "      <td>0.0</td>\n",
       "      <td>VNQ</td>\n",
       "    </tr>\n",
       "    <tr>\n",
       "      <th>2004-10-04</th>\n",
       "      <td>24.529629</td>\n",
       "      <td>24.606000</td>\n",
       "      <td>24.529629</td>\n",
       "      <td>24.534403</td>\n",
       "      <td>8100</td>\n",
       "      <td>0.0</td>\n",
       "      <td>0.0</td>\n",
       "      <td>VNQ</td>\n",
       "    </tr>\n",
       "    <tr>\n",
       "      <th>2004-10-05</th>\n",
       "      <td>24.534403</td>\n",
       "      <td>24.582135</td>\n",
       "      <td>24.510535</td>\n",
       "      <td>24.529629</td>\n",
       "      <td>11900</td>\n",
       "      <td>0.0</td>\n",
       "      <td>0.0</td>\n",
       "      <td>VNQ</td>\n",
       "    </tr>\n",
       "    <tr>\n",
       "      <th>...</th>\n",
       "      <td>...</td>\n",
       "      <td>...</td>\n",
       "      <td>...</td>\n",
       "      <td>...</td>\n",
       "      <td>...</td>\n",
       "      <td>...</td>\n",
       "      <td>...</td>\n",
       "      <td>...</td>\n",
       "    </tr>\n",
       "    <tr>\n",
       "      <th>2021-06-17</th>\n",
       "      <td>103.410004</td>\n",
       "      <td>103.699997</td>\n",
       "      <td>102.860001</td>\n",
       "      <td>103.550003</td>\n",
       "      <td>5055100</td>\n",
       "      <td>0.0</td>\n",
       "      <td>0.0</td>\n",
       "      <td>VNQ</td>\n",
       "    </tr>\n",
       "    <tr>\n",
       "      <th>2021-06-18</th>\n",
       "      <td>103.019997</td>\n",
       "      <td>103.470001</td>\n",
       "      <td>101.790001</td>\n",
       "      <td>101.790001</td>\n",
       "      <td>5358000</td>\n",
       "      <td>0.0</td>\n",
       "      <td>0.0</td>\n",
       "      <td>VNQ</td>\n",
       "    </tr>\n",
       "    <tr>\n",
       "      <th>2021-06-21</th>\n",
       "      <td>102.309998</td>\n",
       "      <td>104.209999</td>\n",
       "      <td>101.800003</td>\n",
       "      <td>103.889999</td>\n",
       "      <td>3672900</td>\n",
       "      <td>0.0</td>\n",
       "      <td>0.0</td>\n",
       "      <td>VNQ</td>\n",
       "    </tr>\n",
       "    <tr>\n",
       "      <th>2021-06-22</th>\n",
       "      <td>103.889999</td>\n",
       "      <td>104.010002</td>\n",
       "      <td>103.279999</td>\n",
       "      <td>103.349998</td>\n",
       "      <td>3088200</td>\n",
       "      <td>0.0</td>\n",
       "      <td>0.0</td>\n",
       "      <td>VNQ</td>\n",
       "    </tr>\n",
       "    <tr>\n",
       "      <th>2021-06-23</th>\n",
       "      <td>103.349998</td>\n",
       "      <td>103.750000</td>\n",
       "      <td>103.080002</td>\n",
       "      <td>103.169998</td>\n",
       "      <td>3682900</td>\n",
       "      <td>0.0</td>\n",
       "      <td>0.0</td>\n",
       "      <td>VNQ</td>\n",
       "    </tr>\n",
       "  </tbody>\n",
       "</table>\n",
       "<p>4213 rows × 8 columns</p>\n",
       "</div>"
      ],
      "text/plain": [
       "                  Open        High         Low  ...  Dividends  Stock Splits  Ticker\n",
       "Date                                            ...                                 \n",
       "2004-09-29   23.794544   23.861371   23.789772  ...        0.0           0.0     VNQ\n",
       "2004-09-30   23.866143   24.023660   23.861370  ...        0.0           0.0     VNQ\n",
       "2004-10-01   24.033207   24.462799   23.985476  ...        0.0           0.0     VNQ\n",
       "2004-10-04   24.529629   24.606000   24.529629  ...        0.0           0.0     VNQ\n",
       "2004-10-05   24.534403   24.582135   24.510535  ...        0.0           0.0     VNQ\n",
       "...                ...         ...         ...  ...        ...           ...     ...\n",
       "2021-06-17  103.410004  103.699997  102.860001  ...        0.0           0.0     VNQ\n",
       "2021-06-18  103.019997  103.470001  101.790001  ...        0.0           0.0     VNQ\n",
       "2021-06-21  102.309998  104.209999  101.800003  ...        0.0           0.0     VNQ\n",
       "2021-06-22  103.889999  104.010002  103.279999  ...        0.0           0.0     VNQ\n",
       "2021-06-23  103.349998  103.750000  103.080002  ...        0.0           0.0     VNQ\n",
       "\n",
       "[4213 rows x 8 columns]"
      ]
     },
     "metadata": {
      "tags": []
     },
     "output_type": "display_data"
    }
   ],
   "source": [
    "# Preprocess the dataframe\n",
    "ut.preprocess_df(vnq)"
   ]
  },
  {
   "cell_type": "code",
   "execution_count": 11,
   "metadata": {
    "id": "YnEc3QyuDWL1"
   },
   "outputs": [],
   "source": [
    "# Split the data into train, validation, and test set\n",
    "# Test size = 1 month (22 days)\n",
    "# Val size = 1 year (253 days)\n",
    "# Train size = rest of the time\n",
    "train = vnq['Close'].iloc[:-275]\n",
    "val = vnq['Close'].iloc[-275:-22]\n",
    "test = vnq['Close'].iloc[-22:]"
   ]
  },
  {
   "cell_type": "code",
   "execution_count": 12,
   "metadata": {
    "colab": {
     "base_uri": "https://localhost:8080/"
    },
    "id": "1yLpegr7ZMtE",
    "outputId": "a3715960-99fa-4381-d8c6-2e6472b5d009"
   },
   "outputs": [
    {
     "name": "stdout",
     "output_type": "stream",
     "text": [
      "Train: date from 2004-09-29 00:00:00 to 2020-05-20 00:00:00, total of 3938 days\n",
      "Val: date from 2020-05-21 00:00:00 to 2021-05-21 00:00:00, total of 253 days\n",
      "Test: date from 2021-05-24 00:00:00 to 2021-06-23 00:00:00, total of 22 days\n"
     ]
    }
   ],
   "source": [
    "print(\"Train: date from {} to {}, total of {} days\".format(train.index[0],train.index[-1], len(train)))\n",
    "print(\"Val: date from {} to {}, total of {} days\".format(val.index[0],val.index[-1], len(val)))\n",
    "print(\"Test: date from {} to {}, total of {} days\".format(test.index[0],test.index[-1], len(test)))"
   ]
  },
  {
   "cell_type": "code",
   "execution_count": 13,
   "metadata": {
    "colab": {
     "base_uri": "https://localhost:8080/",
     "height": 481
    },
    "id": "0cmmaa9Q8lBF",
    "outputId": "5be28c19-5247-47cd-fdd3-2ae987d7115b"
   },
   "outputs": [
    {
     "data": {
      "image/png": "[encoded data removed]",
      "text/plain": [
       "<Figure size 864x576 with 1 Axes>"
      ]
     },
     "metadata": {
      "needs_background": "light",
      "tags": []
     },
     "output_type": "display_data"
    }
   ],
   "source": [
    "plt.figure(figsize=(12,8))\n",
    "train.plot()\n",
    "val.plot()\n",
    "test.plot()\n",
    "plt.title(\"VNQ\")\n",
    "plt.ylabel(\"Price\")\n",
    "plt.legend(['train', 'val', 'test'])\n",
    "plt.show()"
   ]
  },
  {
   "cell_type": "code",
   "execution_count": 14,
   "metadata": {
    "id": "wrsNRPZ6DWJS"
   },
   "outputs": [],
   "source": [
    "# Scale the data\n",
    "scaler = MinMaxScaler()\n",
    "\n",
    "train_scale = scaler.fit_transform(train.values.reshape(-1,1))\n",
    "val_scale = scaler.transform(val.values.reshape(-1,1))\n",
    "test_scale = scaler.transform(test.values.reshape(-1,1))"
   ]
  },
  {
   "cell_type": "code",
   "execution_count": 15,
   "metadata": {
    "id": "qFy1sqonG4ww"
   },
   "outputs": [],
   "source": [
    "# Save the scaler (for future use)\n",
    "dump(scaler, open('/content/scaler.pkl', 'wb'))\n",
    "\n",
    "# Load the scaler (if run in another notebook)\n",
    "# sc = load(open('/content/scaler.pkl', 'rb'))"
   ]
  },
  {
   "cell_type": "code",
   "execution_count": 16,
   "metadata": {
    "id": "FPDxafppDWEP"
   },
   "outputs": [],
   "source": [
    "def xy_split (dataset, timestep):\n",
    "    '''\n",
    "    Split the time series into X and y part based on the number of timestep.\n",
    "    Ex. Use n days to predict the next preceding day (n+1) price.\n",
    "    \n",
    "    -*-*-*-*-*-*-*-*-*-*-*-*-*-*-*-*-*-*-*-*-*-*-*-*-*-*-*-*-*-*-*-*-*-*-*-*-*-*\n",
    "\n",
    "    Inputs:\n",
    "    - dataset: Time series data\n",
    "    - timestep: number of days in integer\n",
    "    \n",
    "    Return: \n",
    "    - X_part, y_part (in arrays)\n",
    "    '''\n",
    "    \n",
    "    X_part, y_part = [], []\n",
    "    \n",
    "    for i in range(len(dataset)-timestep-1):\n",
    "         \n",
    "        X_part.append(dataset[i:(i+timestep)])\n",
    "\n",
    "        y_part.append(dataset[i+timestep])\n",
    "\n",
    "    return np.array(X_part), np.array(y_part)"
   ]
  },
  {
   "cell_type": "markdown",
   "metadata": {
    "id": "EtAPkJOlNhWN"
   },
   "source": [
    "## Modeling"
   ]
  },
  {
   "cell_type": "code",
   "execution_count": 17,
   "metadata": {
    "id": "K1q5bwSP_HAr"
   },
   "outputs": [],
   "source": [
    "def model_evaluation(model, X_train, y_train, X_val, y_val):\n",
    "    '''\n",
    "    Evaluate the LSTM model by using  prediction of y based on X.\n",
    "    Inverse transform both the prediction y and actual y. \n",
    "    \n",
    "    -*-*-*-*-*-*-*-*-*-*-*-*-*-*-*-*-*-*-*-*-*-*-*-*-*-*-*-*-*-*-*-*-*-*-*-*-*-*\n",
    "\n",
    "    Inputs:\n",
    "    - model: Time series model name\n",
    "    - X_train, y_train, X_val, y_val\n",
    "    \n",
    "    Outpus:\n",
    "    - Evalution results for true y and predicted y\n",
    "        - MAE, RMSE, and R^2\n",
    "    \n",
    "    Return:\n",
    "    - y_val_true, y_val_inv\n",
    "\n",
    "    '''\n",
    "    \n",
    "    # Make prediction\n",
    "    y_train_pred = model.predict(X_train)\n",
    "    y_val_pred = model.predict(X_val)\n",
    "    \n",
    "    # Inverse transform the prediction and actual\n",
    "    y_train_inv = scaler.inverse_transform(y_train_pred) # prediction\n",
    "    y_val_inv = scaler.inverse_transform(y_val_pred) # prediction\n",
    "\n",
    "    y_train_true = scaler.inverse_transform(y_train) # actual\n",
    "    y_val_true =scaler.inverse_transform(y_val) # actual\n",
    "    \n",
    "    # Use the evalute function from util pyfile\n",
    "    print(\"Train results: \")\n",
    "    print(ut.evaluate(y_train_true, y_train_inv))\n",
    "    print(\"\\n\")\n",
    "    print(\"Val results: \")\n",
    "    print(ut.evaluate(y_val_true, y_val_inv))\n",
    "\n",
    "    return y_val_true, y_val_inv"
   ]
  },
  {
   "cell_type": "code",
   "execution_count": 18,
   "metadata": {
    "id": "CjyBV4fI_G9u"
   },
   "outputs": [],
   "source": [
    "def plot_prediction(y_true, y_pred):\n",
    "    '''\n",
    "    Comparison plot of actual y and predicted y.\n",
    "\n",
    "    -*-*-*-*-*-*-*-*-*-*-*-*-*-*-*-*-*-*-*-*-*-*-*-*-*-*-*-*-*-*-*-*-*-*-*-*-*-*\n",
    "    \n",
    "    Inputs:\n",
    "    - y_true, y_pred: true y and predicted y\n",
    "    \n",
    "    Outpus:\n",
    "    - Scatter plot of true y and line plot of predicted y\n",
    "    '''\n",
    "\n",
    "    plt.figure(figsize=(20,10))\n",
    "    plt.plot(y_true, '.')\n",
    "    plt.plot(y_pred)\n",
    "    plt.legend(['Actual', 'Predicted'])\n",
    "    plt.show()"
   ]
  },
  {
   "cell_type": "markdown",
   "metadata": {
    "id": "QYCzb0gJNWdC"
   },
   "source": [
    "### Baseline Model"
   ]
  },
  {
   "cell_type": "code",
   "execution_count": 19,
   "metadata": {
    "id": "O-vXGQc3iQGs"
   },
   "outputs": [],
   "source": [
    "# X,y split with timestep of 1\n",
    "X_train, y_train = xy_split(train_scale, timestep=1)\n",
    "X_val, y_val = xy_split(val_scale, timestep=1)\n",
    "X_test, y_test = xy_split(test_scale, timestep=1)"
   ]
  },
  {
   "cell_type": "code",
   "execution_count": 20,
   "metadata": {
    "colab": {
     "base_uri": "https://localhost:8080/"
    },
    "id": "cHAsXu2fDWBm",
    "outputId": "1cc0fbd1-f378-4249-c83f-fddf54911624"
   },
   "outputs": [
    {
     "name": "stdout",
     "output_type": "stream",
     "text": [
      "X_train shape:  (3936, 1, 1)\n",
      "y_train shape:  (3936, 1)\n",
      "X_val shape:  (251, 1, 1)\n",
      "y_val shape:  (251, 1)\n",
      "X_test shape:  (20, 1, 1)\n",
      "y_test shape:  (20, 1)\n"
     ]
    }
   ],
   "source": [
    "print(\"X_train shape: \", X_train.shape)\n",
    "print(\"y_train shape: \", y_train.shape)\n",
    "\n",
    "print(\"X_val shape: \", X_val.shape)\n",
    "print(\"y_val shape: \", y_val.shape)\n",
    "\n",
    "print(\"X_test shape: \", X_test.shape)\n",
    "print(\"y_test shape: \", y_test.shape)"
   ]
  },
  {
   "cell_type": "markdown",
   "metadata": {
    "id": "Df3gvNUeViLs"
   },
   "source": [
    "https://www.tensorflow.org/versions/r2.0/api_docs/python/tf/keras/layers/LSTM"
   ]
  },
  {
   "cell_type": "markdown",
   "metadata": {
    "id": "agyLLlIzCCpI"
   },
   "source": [
    "### Early Stopping"
   ]
  },
  {
   "cell_type": "code",
   "execution_count": 65,
   "metadata": {
    "id": "yDyNeHjVA7IM"
   },
   "outputs": [],
   "source": [
    "# Early Stopping\n",
    "es = EarlyStopping(monitor='val_loss', mode='min', verbose=1, patience=6)  # early stopping when MSE reaches minimum"
   ]
  },
  {
   "cell_type": "code",
   "execution_count": 24,
   "metadata": {
    "id": "tKrs3bEoEVR1"
   },
   "outputs": [],
   "source": [
    "# Build the model\n",
    "base_model = Sequential()\n",
    "base_model.add(LSTM(units=50, return_sequences=True, input_shape=(X_train.shape[1:])))\n",
    "base_model.add(LSTM(50))\n",
    "base_model.add(Dense(units=1))\n",
    "\n",
    "# Compile the model\n",
    "base_model.compile(optimizer='adam', loss='mean_squared_error')"
   ]
  },
  {
   "cell_type": "code",
   "execution_count": 25,
   "metadata": {
    "colab": {
     "base_uri": "https://localhost:8080/"
    },
    "id": "2dqEE6gsEXg0",
    "outputId": "c367d7fd-ab00-47d7-996d-6f2267d8fc6b"
   },
   "outputs": [
    {
     "name": "stdout",
     "output_type": "stream",
     "text": [
      "Model: \"sequential_1\"\n",
      "_________________________________________________________________\n",
      "Layer (type)                 Output Shape              Param #   \n",
      "=================================================================\n",
      "lstm_2 (LSTM)                (None, 1, 50)             10400     \n",
      "_________________________________________________________________\n",
      "lstm_3 (LSTM)                (None, 50)                20200     \n",
      "_________________________________________________________________\n",
      "dense_1 (Dense)              (None, 1)                 51        \n",
      "=================================================================\n",
      "Total params: 30,651\n",
      "Trainable params: 30,651\n",
      "Non-trainable params: 0\n",
      "_________________________________________________________________\n"
     ]
    }
   ],
   "source": [
    "base_model.summary()"
   ]
  },
  {
   "cell_type": "code",
   "execution_count": 26,
   "metadata": {
    "id": "uqGL_MT5BzTB"
   },
   "outputs": [],
   "source": [
    "# Model Checkpoint\n",
    "mc_base = ModelCheckpoint(filepath='/content/t1_u50.h5',\n",
    "                     monitor='val_loss', mode='min', verbose=0, save_best_only=True)"
   ]
  },
  {
   "cell_type": "code",
   "execution_count": 27,
   "metadata": {
    "colab": {
     "base_uri": "https://localhost:8080/"
    },
    "id": "TU_YLsoviUBx",
    "outputId": "e57666d8-274a-450e-8a1d-05283206df90"
   },
   "outputs": [
    {
     "data": {
      "text/plain": [
       "<tensorflow.python.keras.callbacks.History at 0x7fc8a5e40450>"
      ]
     },
     "execution_count": 27,
     "metadata": {
      "tags": []
     },
     "output_type": "execute_result"
    }
   ],
   "source": [
    "# Fit the model\n",
    "base_model.fit(X_train, y_train, batch_size=23, epochs=50,\n",
    "               validation_data=(X_val, y_val),\n",
    "               callbacks=[es, mc_base],\n",
    "               verbose=0)"
   ]
  },
  {
   "cell_type": "code",
   "execution_count": 28,
   "metadata": {
    "colab": {
     "base_uri": "https://localhost:8080/"
    },
    "id": "i_kwrS29PVf5",
    "outputId": "3278c5f8-f2dc-4783-f73d-cef669417657"
   },
   "outputs": [
    {
     "name": "stdout",
     "output_type": "stream",
     "text": [
      "Train results: \n",
      "MAE: 0.4891\n",
      "RMSE: 0.7551\n",
      "R^2: 0.9984\n",
      "None\n",
      "\n",
      "\n",
      "Val results: \n",
      "MAE: 0.8898\n",
      "RMSE: 1.1147\n",
      "R^2: 0.9736\n",
      "None\n"
     ]
    }
   ],
   "source": [
    "base_y_val_true, base_y_val_inv = model_evaluation(base_model, X_train, y_train, X_val, y_val)"
   ]
  },
  {
   "cell_type": "code",
   "execution_count": 29,
   "metadata": {
    "colab": {
     "base_uri": "https://localhost:8080/",
     "height": 592
    },
    "id": "So9Y5p6rdnSc",
    "outputId": "bc460fdb-3622-4764-b3bf-7ae55ca08488"
   },
   "outputs": [
    {
     "data": {
      "image/png": "[encoded data removed]",
      "text/plain": [
       "<Figure size 1440x720 with 1 Axes>"
      ]
     },
     "metadata": {
      "needs_background": "light",
      "tags": []
     },
     "output_type": "display_data"
    }
   ],
   "source": [
    "plot_prediction(base_y_val_true, base_y_val_inv)"
   ]
  },
  {
   "cell_type": "markdown",
   "metadata": {
    "id": "kgoJIOHfa7fz"
   },
   "source": [
    "- Compare the train and val r^2, no sign of overfitting"
   ]
  },
  {
   "cell_type": "markdown",
   "metadata": {
    "id": "5eBV8bGEO1XQ"
   },
   "source": [
    "## Tuning Steps\n",
    "- Timestep changing\n",
    "- Increase the depth of the LSTM\n",
    "- Pretrained network"
   ]
  },
  {
   "cell_type": "markdown",
   "metadata": {
    "id": "-mtTDu27t4W4"
   },
   "source": [
    "### a)Time Steps"
   ]
  },
  {
   "cell_type": "markdown",
   "metadata": {
    "id": "pelgAZRjPNM2"
   },
   "source": [
    "#### timestep = 5 days"
   ]
  },
  {
   "cell_type": "code",
   "execution_count": 34,
   "metadata": {
    "id": "SAY_hyfoNcKY"
   },
   "outputs": [],
   "source": [
    "# X,y split with timestep of 5\n",
    "X_train_5, y_train_5 = xy_split(train_scale, timestep=5)\n",
    "X_val_5, y_val_5 = xy_split(val_scale, timestep=5)"
   ]
  },
  {
   "cell_type": "code",
   "execution_count": 35,
   "metadata": {
    "id": "YWw4dw4XPiIy"
   },
   "outputs": [],
   "source": [
    "# Build the model\n",
    "t5_model = Sequential()\n",
    "t5_model.add(LSTM(units=50, return_sequences=True, input_shape=(X_train.shape[1:])))\n",
    "t5_model.add(LSTM(50))\n",
    "t5_model.add(Dense(units=1))\n",
    "\n",
    "# Compile the model\n",
    "t5_model.compile(optimizer='adam', loss='mean_squared_error')"
   ]
  },
  {
   "cell_type": "code",
   "execution_count": 38,
   "metadata": {
    "id": "_ekc8B8vPr1R"
   },
   "outputs": [],
   "source": [
    "# Model Checkpoint\n",
    "mc_t5 = ModelCheckpoint(filepath='/content/t5_u50.h5',\n",
    "                        monitor='val_loss', mode='min', verbose=0, save_best_only=True)"
   ]
  },
  {
   "cell_type": "code",
   "execution_count": 39,
   "metadata": {
    "colab": {
     "base_uri": "https://localhost:8080/"
    },
    "id": "zml2U29RP5Fd",
    "outputId": "ee4650ae-232d-47d2-afd6-752ed7c1eeff"
   },
   "outputs": [
    {
     "data": {
      "text/plain": [
       "<tensorflow.python.keras.callbacks.History at 0x7fc8a104a150>"
      ]
     },
     "execution_count": 39,
     "metadata": {
      "tags": []
     },
     "output_type": "execute_result"
    }
   ],
   "source": [
    "# Fit the model\n",
    "t5_model.fit(X_train_5, y_train_5, batch_size=23, epochs=50,\n",
    "             validation_data=(X_val_5, y_val_5),\n",
    "             callbacks=[es, mc_t5],\n",
    "             verbose=0)"
   ]
  },
  {
   "cell_type": "code",
   "execution_count": 41,
   "metadata": {
    "colab": {
     "base_uri": "https://localhost:8080/"
    },
    "id": "AMVEJtuOQSY4",
    "outputId": "96bbe3b9-cd2f-46cb-cbe4-d75b4b7ff351"
   },
   "outputs": [
    {
     "name": "stdout",
     "output_type": "stream",
     "text": [
      "Train results: \n",
      "MAE: 0.7534\n",
      "RMSE: 1.1503\n",
      "R^2: 0.9962\n",
      "None\n",
      "\n",
      "\n",
      "Val results: \n",
      "MAE: 1.3773\n",
      "RMSE: 1.7201\n",
      "R^2: 0.9359\n",
      "None\n"
     ]
    }
   ],
   "source": [
    "t5_y_val_true, t5_y_val_inv = model_evaluation(t5_model, X_train_5, y_train_5, X_val_5, y_val_5)"
   ]
  },
  {
   "cell_type": "code",
   "execution_count": 42,
   "metadata": {
    "colab": {
     "base_uri": "https://localhost:8080/",
     "height": 592
    },
    "id": "Sgtuonz2QlYn",
    "outputId": "f3de1a90-0a82-4935-d58b-19d09b512321"
   },
   "outputs": [
    {
     "data": {
      "image/png": "[encoded data removed]",
      "text/plain": [
       "<Figure size 1440x720 with 1 Axes>"
      ]
     },
     "metadata": {
      "needs_background": "light",
      "tags": []
     },
     "output_type": "display_data"
    }
   ],
   "source": [
    "plot_prediction(t5_y_val_true, t5_y_val_inv)"
   ]
  },
  {
   "cell_type": "markdown",
   "metadata": {
    "id": "kFPTNErxQuCG"
   },
   "source": [
    "#### timestep = 21 days"
   ]
  },
  {
   "cell_type": "code",
   "execution_count": 51,
   "metadata": {
    "id": "HSHthplsQrCc"
   },
   "outputs": [],
   "source": [
    "# X,y split with timestep of 21\n",
    "X_train_21, y_train_21 = xy_split(train_scale, timestep=21)\n",
    "X_val_21, y_val_21 = xy_split(val_scale, timestep=21)"
   ]
  },
  {
   "cell_type": "code",
   "execution_count": 52,
   "metadata": {
    "id": "vg0fKftbQtpP"
   },
   "outputs": [],
   "source": [
    "# Build the model\n",
    "t21_model = Sequential()\n",
    "t21_model.add(LSTM(units=50, return_sequences=True, input_shape=(X_train.shape[1:])))\n",
    "t21_model.add(LSTM(units=50))\n",
    "t21_model.add(Dense(units=1))\n",
    "\n",
    "# Compile the model\n",
    "t21_model.compile(optimizer='adam', loss='mean_squared_error')"
   ]
  },
  {
   "cell_type": "code",
   "execution_count": 53,
   "metadata": {
    "id": "VIQO1Yu1QtnO"
   },
   "outputs": [],
   "source": [
    "# Model Checkpoint\n",
    "mc_t21 = ModelCheckpoint(filepath='/content/t21_u50.h5',\n",
    "                         monitor='val_loss', mode='min', verbose=0, save_best_only=True)"
   ]
  },
  {
   "cell_type": "code",
   "execution_count": 56,
   "metadata": {
    "colab": {
     "base_uri": "https://localhost:8080/"
    },
    "id": "MRGXGglgQtkQ",
    "outputId": "0da9e576-155a-4ca0-e8cb-9708fe47fb39"
   },
   "outputs": [
    {
     "data": {
      "text/plain": [
       "<tensorflow.python.keras.callbacks.History at 0x7fc899178110>"
      ]
     },
     "execution_count": 56,
     "metadata": {
      "tags": []
     },
     "output_type": "execute_result"
    }
   ],
   "source": [
    "# Fit the model\n",
    "t21_model.fit(X_train_21, y_train_21, batch_size=23, epochs=50,\n",
    "             validation_data=(X_val_21, y_val_21),\n",
    "             callbacks=[es, mc_t21],\n",
    "             verbose=0)"
   ]
  },
  {
   "cell_type": "code",
   "execution_count": 58,
   "metadata": {
    "colab": {
     "base_uri": "https://localhost:8080/"
    },
    "id": "Y4kJ430dQtiI",
    "outputId": "3b2790fe-02b9-4c04-9b0b-629d2240af0c"
   },
   "outputs": [
    {
     "name": "stdout",
     "output_type": "stream",
     "text": [
      "Train results: \n",
      "MAE: 0.9217\n",
      "RMSE: 1.2905\n",
      "R^2: 0.9952\n",
      "None\n",
      "\n",
      "\n",
      "Val results: \n",
      "MAE: 1.3687\n",
      "RMSE: 1.7071\n",
      "R^2: 0.9380\n",
      "None\n"
     ]
    }
   ],
   "source": [
    "t21_y_val_true, t21_y_val_inv = model_evaluation(t21_model, X_train_21, y_train_21, X_val_21, y_val_21)"
   ]
  },
  {
   "cell_type": "code",
   "execution_count": 59,
   "metadata": {
    "colab": {
     "base_uri": "https://localhost:8080/",
     "height": 592
    },
    "id": "-uUUVR1MQtfu",
    "outputId": "c030b808-fdb7-4b60-e822-62f73b08828f"
   },
   "outputs": [
    {
     "data": {
      "image/png": "[encoded data removed]",
      "text/plain": [
       "<Figure size 1440x720 with 1 Axes>"
      ]
     },
     "metadata": {
      "needs_background": "light",
      "tags": []
     },
     "output_type": "display_data"
    }
   ],
   "source": [
    "plot_prediction(t21_y_val_true, t21_y_val_inv)"
   ]
  },
  {
   "cell_type": "markdown",
   "metadata": {
    "id": "IJMlks6GYCSY"
   },
   "source": [
    ">**Comment:** *Time step*\n",
    "- Increase the time step makes the model less predictable"
   ]
  },
  {
   "cell_type": "markdown",
   "metadata": {
    "id": "zkUDcwTuaiTI"
   },
   "source": [
    "- Batch size controls how often to update the weights\n",
    "- Epoch defines the number times that the learning algorithm will work through the entire training dataset"
   ]
  },
  {
   "cell_type": "markdown",
   "metadata": {
    "id": "BWVQueZijNcV"
   },
   "source": [
    "https://github.com/tirthajyoti/Deep-learning-with-Python/blob/master/Notebooks/Keras_Scikit_Learn_wrapper.ipynb\n",
    "\n",
    "https://towardsdatascience.com/are-you-using-the-scikit-learn-wrapper-in-your-keras-deep-learning-model-a3005696ff38"
   ]
  },
  {
   "cell_type": "markdown",
   "metadata": {
    "id": "Wnm-KRTfuNQ8"
   },
   "source": [
    "### b) Input Features"
   ]
  },
  {
   "cell_type": "markdown",
   "metadata": {
    "id": "mEHa5kkuzt_B"
   },
   "source": [
    "#### Grid Search"
   ]
  },
  {
   "cell_type": "code",
   "execution_count": 60,
   "metadata": {
    "id": "-MRBycBwlxYL"
   },
   "outputs": [],
   "source": [
    "def feature_model(features):\n",
    "    '''\n",
    "    Create a LSTM model with custom input features.\n",
    "\n",
    "    -*-*-*-*-*-*-*-*-*-*-*-*-*-*-*-*-*-*-*-*-*-*-*-*-*-*-*-*-*-*-*-*-*-*-*-*-*-*\n",
    "\n",
    "    Inputs:\n",
    "    - fetures: integer\n",
    "\n",
    "    Return:\n",
    "    - Custom model\n",
    "    '''\n",
    "\n",
    "    # Build the model\n",
    "    model = Sequential()\n",
    "    model.add(LSTM(units=features, return_sequences=True, input_shape=(X_train.shape[1:])))\n",
    "    model.add(LSTM(units=features))\n",
    "    model.add(Dense(units=1))\n",
    "\n",
    "    # Compile the model\n",
    "    model.compile(optimizer='adam', loss='mean_squared_error')\n",
    "  \n",
    "    return model"
   ]
  },
  {
   "cell_type": "code",
   "execution_count": 61,
   "metadata": {
    "id": "qJaF0dKShbiO"
   },
   "outputs": [],
   "source": [
    "# Wrapper\n",
    "f_model = KerasRegressor(build_fn=feature_model)"
   ]
  },
  {
   "cell_type": "code",
   "execution_count": 62,
   "metadata": {
    "id": "wsxCIOJehuv3"
   },
   "outputs": [],
   "source": [
    "# Input features\n",
    "f = [50, 100, 150, 200, 250, 300]\n",
    "\n",
    "# Parameter grid\n",
    "f_param_grid = dict(features = f)"
   ]
  },
  {
   "cell_type": "code",
   "execution_count": 63,
   "metadata": {
    "id": "FnQgFiC6huta"
   },
   "outputs": [],
   "source": [
    "# Grid Search\n",
    "f_grid = GridSearchCV(f_model, param_grid = f_param_grid, cv=3)"
   ]
  },
  {
   "cell_type": "code",
   "execution_count": 67,
   "metadata": {
    "colab": {
     "base_uri": "https://localhost:8080/"
    },
    "id": "2flYfSLmhuo1",
    "outputId": "5486b031-8c41-4253-e46c-3e195109aa3c"
   },
   "outputs": [
    {
     "name": "stdout",
     "output_type": "stream",
     "text": [
      "Epoch 1/50\n",
      "115/115 [==============================] - 4s 11ms/step - loss: 0.0936 - val_loss: 0.0201\n",
      "Epoch 2/50\n",
      "115/115 [==============================] - 0s 4ms/step - loss: 0.0060 - val_loss: 0.0026\n",
      "Epoch 3/50\n",
      "115/115 [==============================] - 1s 5ms/step - loss: 9.9404e-04 - val_loss: 4.6155e-04\n",
      "Epoch 4/50\n",
      "115/115 [==============================] - 0s 4ms/step - loss: 2.9581e-04 - val_loss: 7.3395e-04\n",
      "Epoch 5/50\n",
      "115/115 [==============================] - 1s 5ms/step - loss: 2.7817e-04 - val_loss: 8.9029e-04\n",
      "Epoch 6/50\n",
      "115/115 [==============================] - 1s 5ms/step - loss: 2.6239e-04 - val_loss: 5.1688e-04\n",
      "Epoch 7/50\n",
      "115/115 [==============================] - 1s 5ms/step - loss: 2.5565e-04 - val_loss: 6.7740e-04\n",
      "Epoch 8/50\n",
      "115/115 [==============================] - 0s 4ms/step - loss: 2.3104e-04 - val_loss: 7.4618e-04\n",
      "Epoch 9/50\n",
      "115/115 [==============================] - 0s 4ms/step - loss: 2.2002e-04 - val_loss: 6.9598e-04\n",
      "Epoch 00009: early stopping\n",
      "41/41 [==============================] - 1s 2ms/step - loss: 0.0011\n",
      "Epoch 1/50\n",
      "115/115 [==============================] - 4s 12ms/step - loss: 0.0881 - val_loss: 0.0194\n",
      "Epoch 2/50\n",
      "115/115 [==============================] - 1s 4ms/step - loss: 0.0041 - val_loss: 8.0457e-04\n",
      "Epoch 3/50\n",
      "115/115 [==============================] - 0s 4ms/step - loss: 4.9997e-04 - val_loss: 0.0020\n",
      "Epoch 4/50\n",
      "115/115 [==============================] - 1s 5ms/step - loss: 4.5537e-04 - val_loss: 0.0016\n",
      "Epoch 5/50\n",
      "115/115 [==============================] - 1s 6ms/step - loss: 4.0233e-04 - val_loss: 0.0012\n",
      "Epoch 6/50\n",
      "115/115 [==============================] - 1s 7ms/step - loss: 3.5149e-04 - val_loss: 6.2911e-04\n",
      "Epoch 7/50\n",
      "115/115 [==============================] - 1s 6ms/step - loss: 3.1060e-04 - val_loss: 5.2793e-04\n",
      "Epoch 8/50\n",
      "115/115 [==============================] - 1s 4ms/step - loss: 2.6561e-04 - val_loss: 9.1937e-04\n",
      "Epoch 9/50\n",
      "115/115 [==============================] - 0s 4ms/step - loss: 2.2924e-04 - val_loss: 7.9494e-04\n",
      "Epoch 10/50\n",
      "115/115 [==============================] - 1s 4ms/step - loss: 1.9748e-04 - val_loss: 2.6095e-04\n",
      "Epoch 11/50\n",
      "115/115 [==============================] - 0s 4ms/step - loss: 1.7338e-04 - val_loss: 4.3056e-04\n",
      "Epoch 12/50\n",
      "115/115 [==============================] - 1s 5ms/step - loss: 1.4456e-04 - val_loss: 2.4282e-04\n",
      "Epoch 13/50\n",
      "115/115 [==============================] - 0s 4ms/step - loss: 1.3159e-04 - val_loss: 1.8121e-04\n",
      "Epoch 14/50\n",
      "115/115 [==============================] - 0s 4ms/step - loss: 1.2293e-04 - val_loss: 1.9532e-04\n",
      "Epoch 15/50\n",
      "115/115 [==============================] - 1s 5ms/step - loss: 1.1875e-04 - val_loss: 1.9544e-04\n",
      "Epoch 16/50\n",
      "115/115 [==============================] - 0s 4ms/step - loss: 1.1454e-04 - val_loss: 1.7740e-04\n",
      "Epoch 17/50\n",
      "115/115 [==============================] - 0s 4ms/step - loss: 1.1228e-04 - val_loss: 1.9347e-04\n",
      "Epoch 18/50\n",
      "115/115 [==============================] - 1s 4ms/step - loss: 1.1234e-04 - val_loss: 1.6964e-04\n",
      "Epoch 19/50\n",
      "115/115 [==============================] - 1s 5ms/step - loss: 1.1361e-04 - val_loss: 1.7941e-04\n",
      "Epoch 20/50\n",
      "115/115 [==============================] - 0s 4ms/step - loss: 1.1282e-04 - val_loss: 1.9558e-04\n",
      "Epoch 21/50\n",
      "115/115 [==============================] - 0s 4ms/step - loss: 1.1217e-04 - val_loss: 1.9615e-04\n",
      "Epoch 22/50\n",
      "115/115 [==============================] - 0s 4ms/step - loss: 1.1391e-04 - val_loss: 1.7045e-04\n",
      "Epoch 23/50\n",
      "115/115 [==============================] - 1s 5ms/step - loss: 1.1491e-04 - val_loss: 1.7065e-04\n",
      "Epoch 24/50\n",
      "115/115 [==============================] - 0s 4ms/step - loss: 1.1077e-04 - val_loss: 1.7465e-04\n",
      "Epoch 00024: early stopping\n",
      "41/41 [==============================] - 1s 2ms/step - loss: 3.9323e-05\n",
      "Epoch 1/50\n",
      "115/115 [==============================] - 5s 11ms/step - loss: 0.0287 - val_loss: 0.0888\n",
      "Epoch 2/50\n",
      "115/115 [==============================] - 0s 4ms/step - loss: 0.0027 - val_loss: 0.0028\n",
      "Epoch 3/50\n",
      "115/115 [==============================] - 1s 5ms/step - loss: 1.7189e-04 - val_loss: 0.0147\n",
      "Epoch 4/50\n",
      "115/115 [==============================] - 0s 4ms/step - loss: 1.4330e-04 - val_loss: 0.0119\n",
      "Epoch 5/50\n",
      "115/115 [==============================] - 1s 5ms/step - loss: 1.2926e-04 - val_loss: 0.0094\n",
      "Epoch 6/50\n",
      "115/115 [==============================] - 0s 4ms/step - loss: 1.1808e-04 - val_loss: 0.0076\n",
      "Epoch 7/50\n",
      "115/115 [==============================] - 0s 4ms/step - loss: 1.0625e-04 - val_loss: 0.0049\n",
      "Epoch 8/50\n",
      "115/115 [==============================] - 0s 4ms/step - loss: 1.0338e-04 - val_loss: 0.0042\n",
      "Epoch 00008: early stopping\n",
      "41/41 [==============================] - 1s 2ms/step - loss: 0.0016\n",
      "Epoch 1/50\n",
      "115/115 [==============================] - 5s 12ms/step - loss: 0.0679 - val_loss: 0.0139\n",
      "Epoch 2/50\n",
      "115/115 [==============================] - 1s 6ms/step - loss: 0.0026 - val_loss: 3.2266e-04\n",
      "Epoch 3/50\n",
      "115/115 [==============================] - 1s 6ms/step - loss: 2.8056e-04 - val_loss: 6.4303e-04\n",
      "Epoch 4/50\n",
      "115/115 [==============================] - 1s 6ms/step - loss: 2.3223e-04 - val_loss: 5.6532e-04\n",
      "Epoch 5/50\n",
      "115/115 [==============================] - 1s 6ms/step - loss: 2.2545e-04 - val_loss: 9.6054e-04\n",
      "Epoch 6/50\n",
      "115/115 [==============================] - 1s 6ms/step - loss: 2.0778e-04 - val_loss: 5.4021e-04\n",
      "Epoch 7/50\n",
      "115/115 [==============================] - 1s 5ms/step - loss: 1.9954e-04 - val_loss: 7.0537e-04\n",
      "Epoch 8/50\n",
      "115/115 [==============================] - 1s 6ms/step - loss: 1.8040e-04 - val_loss: 5.6895e-04\n",
      "Epoch 00008: early stopping\n",
      "41/41 [==============================] - 1s 2ms/step - loss: 6.6953e-04\n",
      "Epoch 1/50\n",
      "115/115 [==============================] - 5s 13ms/step - loss: 0.0582 - val_loss: 9.2653e-04\n",
      "Epoch 2/50\n",
      "115/115 [==============================] - 1s 6ms/step - loss: 6.8698e-04 - val_loss: 9.0218e-04\n",
      "Epoch 3/50\n",
      "115/115 [==============================] - 1s 5ms/step - loss: 2.9769e-04 - val_loss: 8.3443e-04\n",
      "Epoch 4/50\n",
      "115/115 [==============================] - 1s 6ms/step - loss: 2.6735e-04 - val_loss: 4.5270e-04\n",
      "Epoch 5/50\n",
      "115/115 [==============================] - 1s 6ms/step - loss: 2.2897e-04 - val_loss: 3.9445e-04\n",
      "Epoch 6/50\n",
      "115/115 [==============================] - 1s 6ms/step - loss: 1.9673e-04 - val_loss: 3.5470e-04\n",
      "Epoch 7/50\n",
      "115/115 [==============================] - 1s 6ms/step - loss: 1.7101e-04 - val_loss: 3.1200e-04\n",
      "Epoch 8/50\n",
      "115/115 [==============================] - 1s 6ms/step - loss: 1.4952e-04 - val_loss: 2.1631e-04\n",
      "Epoch 9/50\n",
      "115/115 [==============================] - 1s 6ms/step - loss: 1.3687e-04 - val_loss: 2.4508e-04\n",
      "Epoch 10/50\n",
      "115/115 [==============================] - 1s 6ms/step - loss: 1.2905e-04 - val_loss: 2.1842e-04\n",
      "Epoch 11/50\n",
      "115/115 [==============================] - 1s 5ms/step - loss: 1.2166e-04 - val_loss: 2.0266e-04\n",
      "Epoch 12/50\n",
      "115/115 [==============================] - 1s 6ms/step - loss: 1.1712e-04 - val_loss: 1.7596e-04\n",
      "Epoch 13/50\n",
      "115/115 [==============================] - 1s 6ms/step - loss: 1.1455e-04 - val_loss: 2.0771e-04\n",
      "Epoch 14/50\n",
      "115/115 [==============================] - 1s 6ms/step - loss: 1.1631e-04 - val_loss: 1.7104e-04\n",
      "Epoch 15/50\n",
      "115/115 [==============================] - 1s 6ms/step - loss: 1.1557e-04 - val_loss: 1.9036e-04\n",
      "Epoch 16/50\n",
      "115/115 [==============================] - 1s 6ms/step - loss: 1.1246e-04 - val_loss: 1.7087e-04\n",
      "Epoch 17/50\n",
      "115/115 [==============================] - 1s 6ms/step - loss: 1.1391e-04 - val_loss: 1.7316e-04\n",
      "Epoch 18/50\n",
      "115/115 [==============================] - 1s 6ms/step - loss: 1.1169e-04 - val_loss: 1.6937e-04\n",
      "Epoch 19/50\n",
      "115/115 [==============================] - 1s 6ms/step - loss: 1.1633e-04 - val_loss: 1.8780e-04\n",
      "Epoch 20/50\n",
      "115/115 [==============================] - 1s 6ms/step - loss: 1.2038e-04 - val_loss: 1.7873e-04\n",
      "Epoch 21/50\n",
      "115/115 [==============================] - 1s 6ms/step - loss: 1.1330e-04 - val_loss: 1.7064e-04\n",
      "Epoch 22/50\n",
      "115/115 [==============================] - 1s 6ms/step - loss: 1.2509e-04 - val_loss: 1.7160e-04\n",
      "Epoch 23/50\n",
      "115/115 [==============================] - 1s 6ms/step - loss: 1.1121e-04 - val_loss: 1.7498e-04\n",
      "Epoch 24/50\n",
      "115/115 [==============================] - 1s 6ms/step - loss: 1.1959e-04 - val_loss: 2.3475e-04\n",
      "Epoch 00024: early stopping\n",
      "41/41 [==============================] - 1s 2ms/step - loss: 4.9857e-05\n",
      "Epoch 1/50\n",
      "115/115 [==============================] - 5s 13ms/step - loss: 0.0193 - val_loss: 0.0226\n",
      "Epoch 2/50\n",
      "115/115 [==============================] - 1s 6ms/step - loss: 4.6329e-04 - val_loss: 0.0068\n",
      "Epoch 3/50\n",
      "115/115 [==============================] - 1s 6ms/step - loss: 9.7947e-05 - val_loss: 0.0066\n",
      "Epoch 4/50\n",
      "115/115 [==============================] - 1s 6ms/step - loss: 9.1779e-05 - val_loss: 0.0053\n",
      "Epoch 5/50\n",
      "115/115 [==============================] - 1s 6ms/step - loss: 8.5248e-05 - val_loss: 0.0039\n",
      "Epoch 6/50\n",
      "115/115 [==============================] - 1s 6ms/step - loss: 8.0145e-05 - val_loss: 0.0025\n",
      "Epoch 7/50\n",
      "115/115 [==============================] - 1s 5ms/step - loss: 8.0095e-05 - val_loss: 0.0019\n",
      "Epoch 8/50\n",
      "115/115 [==============================] - 1s 6ms/step - loss: 6.8974e-05 - val_loss: 0.0014\n",
      "Epoch 9/50\n",
      "115/115 [==============================] - 1s 6ms/step - loss: 6.5623e-05 - val_loss: 8.6220e-04\n",
      "Epoch 10/50\n",
      "115/115 [==============================] - 1s 6ms/step - loss: 6.4927e-05 - val_loss: 5.9085e-04\n",
      "Epoch 11/50\n",
      "115/115 [==============================] - 1s 5ms/step - loss: 6.0741e-05 - val_loss: 7.2631e-04\n",
      "Epoch 12/50\n",
      "115/115 [==============================] - 1s 6ms/step - loss: 6.0955e-05 - val_loss: 2.3600e-04\n",
      "Epoch 13/50\n",
      "115/115 [==============================] - 1s 5ms/step - loss: 5.9375e-05 - val_loss: 2.8080e-04\n",
      "Epoch 14/50\n",
      "115/115 [==============================] - 1s 5ms/step - loss: 6.0994e-05 - val_loss: 2.7109e-04\n",
      "Epoch 15/50\n",
      "115/115 [==============================] - 1s 5ms/step - loss: 6.0034e-05 - val_loss: 2.4872e-04\n",
      "Epoch 16/50\n",
      "115/115 [==============================] - 1s 6ms/step - loss: 6.0945e-05 - val_loss: 2.3360e-04\n",
      "Epoch 17/50\n",
      "115/115 [==============================] - 1s 5ms/step - loss: 6.1526e-05 - val_loss: 1.6978e-04\n",
      "Epoch 18/50\n",
      "115/115 [==============================] - 1s 6ms/step - loss: 5.9483e-05 - val_loss: 1.8979e-04\n",
      "Epoch 19/50\n",
      "115/115 [==============================] - 1s 6ms/step - loss: 6.1128e-05 - val_loss: 3.8434e-04\n",
      "Epoch 20/50\n",
      "115/115 [==============================] - 1s 6ms/step - loss: 6.8008e-05 - val_loss: 1.7048e-04\n",
      "Epoch 21/50\n",
      "115/115 [==============================] - 1s 6ms/step - loss: 5.8765e-05 - val_loss: 1.6886e-04\n",
      "Epoch 22/50\n",
      "115/115 [==============================] - 1s 6ms/step - loss: 5.9636e-05 - val_loss: 1.6894e-04\n",
      "Epoch 23/50\n",
      "115/115 [==============================] - 1s 6ms/step - loss: 6.3328e-05 - val_loss: 2.1102e-04\n",
      "Epoch 24/50\n",
      "115/115 [==============================] - 1s 5ms/step - loss: 7.2190e-05 - val_loss: 1.7629e-04\n",
      "Epoch 25/50\n",
      "115/115 [==============================] - 1s 6ms/step - loss: 6.8549e-05 - val_loss: 1.7558e-04\n",
      "Epoch 26/50\n",
      "115/115 [==============================] - 1s 6ms/step - loss: 6.0193e-05 - val_loss: 1.9592e-04\n",
      "Epoch 27/50\n",
      "115/115 [==============================] - 1s 6ms/step - loss: 5.9851e-05 - val_loss: 2.7378e-04\n",
      "Epoch 00027: early stopping\n",
      "41/41 [==============================] - 1s 3ms/step - loss: 1.8773e-04\n",
      "Epoch 1/50\n",
      "115/115 [==============================] - 5s 14ms/step - loss: 0.0500 - val_loss: 0.0054\n",
      "Epoch 2/50\n",
      "115/115 [==============================] - 1s 7ms/step - loss: 0.0011 - val_loss: 3.7749e-04\n",
      "Epoch 3/50\n",
      "115/115 [==============================] - 1s 7ms/step - loss: 1.7179e-04 - val_loss: 3.5924e-04\n",
      "Epoch 4/50\n",
      "115/115 [==============================] - 1s 8ms/step - loss: 1.6194e-04 - val_loss: 4.0746e-04\n",
      "Epoch 5/50\n",
      "115/115 [==============================] - 1s 8ms/step - loss: 1.5515e-04 - val_loss: 3.9569e-04\n",
      "Epoch 6/50\n",
      "115/115 [==============================] - 1s 8ms/step - loss: 1.5133e-04 - val_loss: 3.7098e-04\n",
      "Epoch 7/50\n",
      "115/115 [==============================] - 1s 7ms/step - loss: 1.3935e-04 - val_loss: 3.1326e-04\n",
      "Epoch 8/50\n",
      "115/115 [==============================] - 1s 8ms/step - loss: 1.3257e-04 - val_loss: 2.3882e-04\n",
      "Epoch 9/50\n",
      "115/115 [==============================] - 1s 8ms/step - loss: 1.3053e-04 - val_loss: 2.6684e-04\n",
      "Epoch 10/50\n",
      "115/115 [==============================] - 1s 8ms/step - loss: 1.2748e-04 - val_loss: 2.4937e-04\n",
      "Epoch 11/50\n",
      "115/115 [==============================] - 1s 7ms/step - loss: 1.1941e-04 - val_loss: 2.1137e-04\n",
      "Epoch 12/50\n",
      "115/115 [==============================] - 1s 8ms/step - loss: 1.0918e-04 - val_loss: 5.5942e-04\n",
      "Epoch 13/50\n",
      "115/115 [==============================] - 1s 8ms/step - loss: 1.3603e-04 - val_loss: 1.9285e-04\n",
      "Epoch 14/50\n",
      "115/115 [==============================] - 1s 7ms/step - loss: 1.0201e-04 - val_loss: 2.4622e-04\n",
      "Epoch 15/50\n",
      "115/115 [==============================] - 1s 8ms/step - loss: 1.0354e-04 - val_loss: 1.7751e-04\n",
      "Epoch 16/50\n",
      "115/115 [==============================] - 1s 8ms/step - loss: 9.8376e-05 - val_loss: 1.7967e-04\n",
      "Epoch 17/50\n",
      "115/115 [==============================] - 1s 8ms/step - loss: 1.0783e-04 - val_loss: 1.7872e-04\n",
      "Epoch 18/50\n",
      "115/115 [==============================] - 1s 8ms/step - loss: 1.0430e-04 - val_loss: 1.7061e-04\n",
      "Epoch 19/50\n",
      "115/115 [==============================] - 1s 8ms/step - loss: 9.5396e-05 - val_loss: 1.7511e-04\n",
      "Epoch 20/50\n",
      "115/115 [==============================] - 1s 7ms/step - loss: 1.0131e-04 - val_loss: 1.7996e-04\n",
      "Epoch 21/50\n",
      "115/115 [==============================] - 1s 8ms/step - loss: 1.1520e-04 - val_loss: 1.8871e-04\n",
      "Epoch 22/50\n",
      "115/115 [==============================] - 1s 9ms/step - loss: 9.7309e-05 - val_loss: 2.0326e-04\n",
      "Epoch 23/50\n",
      "115/115 [==============================] - 1s 9ms/step - loss: 9.7543e-05 - val_loss: 3.2409e-04\n",
      "Epoch 24/50\n",
      "115/115 [==============================] - 1s 9ms/step - loss: 1.0326e-04 - val_loss: 2.0026e-04\n",
      "Epoch 00024: early stopping\n",
      "41/41 [==============================] - 2s 3ms/step - loss: 7.2800e-05\n",
      "Epoch 1/50\n",
      "115/115 [==============================] - 5s 14ms/step - loss: 0.0466 - val_loss: 3.5631e-04\n",
      "Epoch 2/50\n",
      "115/115 [==============================] - 1s 8ms/step - loss: 3.0096e-04 - val_loss: 6.0362e-04\n",
      "Epoch 3/50\n",
      "115/115 [==============================] - 1s 8ms/step - loss: 2.2515e-04 - val_loss: 6.7312e-04\n",
      "Epoch 4/50\n",
      "115/115 [==============================] - 1s 8ms/step - loss: 2.0498e-04 - val_loss: 4.7350e-04\n",
      "Epoch 5/50\n",
      "115/115 [==============================] - 1s 8ms/step - loss: 1.8367e-04 - val_loss: 3.8534e-04\n",
      "Epoch 6/50\n",
      "115/115 [==============================] - 1s 8ms/step - loss: 1.6519e-04 - val_loss: 2.8163e-04\n",
      "Epoch 7/50\n",
      "115/115 [==============================] - 1s 7ms/step - loss: 1.4606e-04 - val_loss: 3.3838e-04\n",
      "Epoch 8/50\n",
      "115/115 [==============================] - 1s 8ms/step - loss: 1.3298e-04 - val_loss: 2.0926e-04\n",
      "Epoch 9/50\n",
      "115/115 [==============================] - 1s 7ms/step - loss: 1.2294e-04 - val_loss: 1.9652e-04\n",
      "Epoch 10/50\n",
      "115/115 [==============================] - 1s 8ms/step - loss: 1.2140e-04 - val_loss: 1.7788e-04\n",
      "Epoch 11/50\n",
      "115/115 [==============================] - 1s 8ms/step - loss: 1.1518e-04 - val_loss: 1.7279e-04\n",
      "Epoch 12/50\n",
      "115/115 [==============================] - 1s 8ms/step - loss: 1.1512e-04 - val_loss: 1.7160e-04\n",
      "Epoch 13/50\n",
      "115/115 [==============================] - 1s 8ms/step - loss: 1.1060e-04 - val_loss: 2.1010e-04\n",
      "Epoch 14/50\n",
      "115/115 [==============================] - 1s 8ms/step - loss: 1.1496e-04 - val_loss: 1.7230e-04\n",
      "Epoch 15/50\n",
      "115/115 [==============================] - 1s 8ms/step - loss: 1.1139e-04 - val_loss: 1.7525e-04\n",
      "Epoch 16/50\n",
      "115/115 [==============================] - 1s 8ms/step - loss: 1.1473e-04 - val_loss: 1.8193e-04\n",
      "Epoch 17/50\n",
      "115/115 [==============================] - 1s 8ms/step - loss: 1.1687e-04 - val_loss: 4.3836e-04\n",
      "Epoch 18/50\n",
      "115/115 [==============================] - 1s 8ms/step - loss: 1.2539e-04 - val_loss: 1.8073e-04\n",
      "Epoch 00018: early stopping\n",
      "41/41 [==============================] - 1s 3ms/step - loss: 3.9510e-05\n",
      "Epoch 1/50\n",
      "115/115 [==============================] - 5s 15ms/step - loss: 0.0163 - val_loss: 0.0030\n",
      "Epoch 2/50\n",
      "115/115 [==============================] - 1s 7ms/step - loss: 1.2561e-04 - val_loss: 0.0032\n",
      "Epoch 3/50\n",
      "115/115 [==============================] - 1s 8ms/step - loss: 8.3072e-05 - val_loss: 0.0031\n",
      "Epoch 4/50\n",
      "115/115 [==============================] - 1s 8ms/step - loss: 7.4445e-05 - val_loss: 0.0029\n",
      "Epoch 5/50\n",
      "115/115 [==============================] - 1s 8ms/step - loss: 7.1957e-05 - val_loss: 0.0013\n",
      "Epoch 6/50\n",
      "115/115 [==============================] - 1s 8ms/step - loss: 6.7636e-05 - val_loss: 0.0011\n",
      "Epoch 7/50\n",
      "115/115 [==============================] - 1s 8ms/step - loss: 6.5478e-05 - val_loss: 7.1501e-04\n",
      "Epoch 8/50\n",
      "115/115 [==============================] - 1s 8ms/step - loss: 6.2649e-05 - val_loss: 6.1360e-04\n",
      "Epoch 9/50\n",
      "115/115 [==============================] - 1s 8ms/step - loss: 6.3378e-05 - val_loss: 7.8954e-04\n",
      "Epoch 10/50\n",
      "115/115 [==============================] - 1s 8ms/step - loss: 6.1417e-05 - val_loss: 3.0827e-04\n",
      "Epoch 11/50\n",
      "115/115 [==============================] - 1s 7ms/step - loss: 6.1493e-05 - val_loss: 3.0043e-04\n",
      "Epoch 12/50\n",
      "115/115 [==============================] - 1s 8ms/step - loss: 5.9983e-05 - val_loss: 2.5025e-04\n",
      "Epoch 13/50\n",
      "115/115 [==============================] - 1s 9ms/step - loss: 6.1265e-05 - val_loss: 1.7603e-04\n",
      "Epoch 14/50\n",
      "115/115 [==============================] - 1s 8ms/step - loss: 6.2079e-05 - val_loss: 1.8127e-04\n",
      "Epoch 15/50\n",
      "115/115 [==============================] - 1s 8ms/step - loss: 6.0289e-05 - val_loss: 1.9496e-04\n",
      "Epoch 16/50\n",
      "115/115 [==============================] - 1s 8ms/step - loss: 6.1888e-05 - val_loss: 2.2075e-04\n",
      "Epoch 17/50\n",
      "115/115 [==============================] - 1s 8ms/step - loss: 6.0684e-05 - val_loss: 1.7066e-04\n",
      "Epoch 18/50\n",
      "115/115 [==============================] - 1s 8ms/step - loss: 5.9597e-05 - val_loss: 1.7241e-04\n",
      "Epoch 19/50\n",
      "115/115 [==============================] - 1s 8ms/step - loss: 6.0317e-05 - val_loss: 2.0424e-04\n",
      "Epoch 20/50\n",
      "115/115 [==============================] - 1s 9ms/step - loss: 6.0848e-05 - val_loss: 2.4506e-04\n",
      "Epoch 21/50\n",
      "115/115 [==============================] - 1s 8ms/step - loss: 6.2713e-05 - val_loss: 2.4151e-04\n",
      "Epoch 22/50\n",
      "115/115 [==============================] - 1s 8ms/step - loss: 6.0427e-05 - val_loss: 2.3102e-04\n",
      "Epoch 23/50\n",
      "115/115 [==============================] - 1s 8ms/step - loss: 6.0857e-05 - val_loss: 2.1114e-04\n",
      "Epoch 00023: early stopping\n",
      "41/41 [==============================] - 1s 3ms/step - loss: 1.8980e-04\n",
      "Epoch 1/50\n",
      "115/115 [==============================] - 6s 19ms/step - loss: 0.0417 - val_loss: 0.0040\n",
      "Epoch 2/50\n",
      "115/115 [==============================] - 1s 12ms/step - loss: 5.8383e-04 - val_loss: 4.5814e-04\n",
      "Epoch 3/50\n",
      "115/115 [==============================] - 1s 11ms/step - loss: 1.5431e-04 - val_loss: 2.7476e-04\n",
      "Epoch 4/50\n",
      "115/115 [==============================] - 1s 12ms/step - loss: 1.4430e-04 - val_loss: 3.8562e-04\n",
      "Epoch 5/50\n",
      "115/115 [==============================] - 1s 10ms/step - loss: 1.3929e-04 - val_loss: 3.2508e-04\n",
      "Epoch 6/50\n",
      "115/115 [==============================] - 1s 11ms/step - loss: 1.4026e-04 - val_loss: 3.6847e-04\n",
      "Epoch 7/50\n",
      "115/115 [==============================] - 1s 11ms/step - loss: 1.3117e-04 - val_loss: 2.9406e-04\n",
      "Epoch 8/50\n",
      "115/115 [==============================] - 1s 12ms/step - loss: 1.2236e-04 - val_loss: 2.3172e-04\n",
      "Epoch 9/50\n",
      "115/115 [==============================] - 1s 11ms/step - loss: 1.2267e-04 - val_loss: 2.6235e-04\n",
      "Epoch 10/50\n",
      "115/115 [==============================] - 1s 11ms/step - loss: 1.1500e-04 - val_loss: 2.6805e-04\n",
      "Epoch 11/50\n",
      "115/115 [==============================] - 1s 11ms/step - loss: 1.1488e-04 - val_loss: 1.9529e-04\n",
      "Epoch 12/50\n",
      "115/115 [==============================] - 1s 11ms/step - loss: 1.1036e-04 - val_loss: 1.8292e-04\n",
      "Epoch 13/50\n",
      "115/115 [==============================] - 1s 12ms/step - loss: 1.0352e-04 - val_loss: 1.8257e-04\n",
      "Epoch 14/50\n",
      "115/115 [==============================] - 1s 11ms/step - loss: 1.0883e-04 - val_loss: 2.0865e-04\n",
      "Epoch 15/50\n",
      "115/115 [==============================] - 1s 11ms/step - loss: 1.0020e-04 - val_loss: 1.7471e-04\n",
      "Epoch 16/50\n",
      "115/115 [==============================] - 1s 11ms/step - loss: 9.7833e-05 - val_loss: 1.9438e-04\n",
      "Epoch 17/50\n",
      "115/115 [==============================] - 1s 11ms/step - loss: 1.0002e-04 - val_loss: 2.9619e-04\n",
      "Epoch 18/50\n",
      "115/115 [==============================] - 1s 12ms/step - loss: 1.0157e-04 - val_loss: 1.8239e-04\n",
      "Epoch 19/50\n",
      "115/115 [==============================] - 1s 11ms/step - loss: 1.0040e-04 - val_loss: 2.6510e-04\n",
      "Epoch 20/50\n",
      "115/115 [==============================] - 1s 12ms/step - loss: 1.0013e-04 - val_loss: 1.9384e-04\n",
      "Epoch 21/50\n",
      "115/115 [==============================] - 1s 11ms/step - loss: 1.0121e-04 - val_loss: 2.4337e-04\n",
      "Epoch 00021: early stopping\n",
      "41/41 [==============================] - 1s 6ms/step - loss: 7.5205e-05\n",
      "Epoch 1/50\n",
      "115/115 [==============================] - 5s 17ms/step - loss: 0.0400 - val_loss: 4.6982e-04\n",
      "Epoch 2/50\n",
      "115/115 [==============================] - 1s 11ms/step - loss: 2.0393e-04 - val_loss: 4.9723e-04\n",
      "Epoch 3/50\n",
      "115/115 [==============================] - 1s 10ms/step - loss: 1.9166e-04 - val_loss: 3.7308e-04\n",
      "Epoch 4/50\n",
      "115/115 [==============================] - 1s 11ms/step - loss: 1.7876e-04 - val_loss: 3.0443e-04\n",
      "Epoch 5/50\n",
      "115/115 [==============================] - 1s 12ms/step - loss: 1.5748e-04 - val_loss: 2.4872e-04\n",
      "Epoch 6/50\n",
      "115/115 [==============================] - 1s 11ms/step - loss: 1.4274e-04 - val_loss: 2.9527e-04\n",
      "Epoch 7/50\n",
      "115/115 [==============================] - 1s 11ms/step - loss: 1.3079e-04 - val_loss: 2.0443e-04\n",
      "Epoch 8/50\n",
      "115/115 [==============================] - 1s 13ms/step - loss: 1.2202e-04 - val_loss: 1.8512e-04\n",
      "Epoch 9/50\n",
      "115/115 [==============================] - 2s 13ms/step - loss: 1.2003e-04 - val_loss: 1.8722e-04\n",
      "Epoch 10/50\n",
      "115/115 [==============================] - 1s 12ms/step - loss: 1.1708e-04 - val_loss: 1.8108e-04\n",
      "Epoch 11/50\n",
      "115/115 [==============================] - 1s 12ms/step - loss: 1.1542e-04 - val_loss: 2.0302e-04\n",
      "Epoch 12/50\n",
      "115/115 [==============================] - 1s 13ms/step - loss: 1.1718e-04 - val_loss: 1.7079e-04\n",
      "Epoch 13/50\n",
      "115/115 [==============================] - 2s 14ms/step - loss: 1.1213e-04 - val_loss: 2.2448e-04\n",
      "Epoch 14/50\n",
      "115/115 [==============================] - 1s 13ms/step - loss: 1.1955e-04 - val_loss: 1.7522e-04\n",
      "Epoch 15/50\n",
      "115/115 [==============================] - 1s 11ms/step - loss: 1.1887e-04 - val_loss: 2.1084e-04\n",
      "Epoch 16/50\n",
      "115/115 [==============================] - 1s 11ms/step - loss: 1.1782e-04 - val_loss: 2.0666e-04\n",
      "Epoch 17/50\n",
      "115/115 [==============================] - 1s 11ms/step - loss: 1.1876e-04 - val_loss: 1.7156e-04\n",
      "Epoch 18/50\n",
      "115/115 [==============================] - 1s 11ms/step - loss: 1.1302e-04 - val_loss: 1.7598e-04\n",
      "Epoch 00018: early stopping\n",
      "41/41 [==============================] - 1s 5ms/step - loss: 4.1715e-05\n",
      "Epoch 1/50\n",
      "115/115 [==============================] - 6s 16ms/step - loss: 0.0149 - val_loss: 2.6804e-04\n",
      "Epoch 2/50\n",
      "115/115 [==============================] - 1s 10ms/step - loss: 8.3134e-05 - val_loss: 0.0019\n",
      "Epoch 3/50\n",
      "115/115 [==============================] - 1s 11ms/step - loss: 7.1840e-05 - val_loss: 0.0020\n",
      "Epoch 4/50\n",
      "115/115 [==============================] - 1s 11ms/step - loss: 6.7988e-05 - val_loss: 0.0013\n",
      "Epoch 5/50\n",
      "115/115 [==============================] - 1s 10ms/step - loss: 6.7023e-05 - val_loss: 0.0014\n",
      "Epoch 6/50\n",
      "115/115 [==============================] - 1s 11ms/step - loss: 6.5068e-05 - val_loss: 9.0673e-04\n",
      "Epoch 7/50\n",
      "115/115 [==============================] - 1s 10ms/step - loss: 6.4168e-05 - val_loss: 8.7174e-04\n",
      "Epoch 00007: early stopping\n",
      "41/41 [==============================] - 1s 4ms/step - loss: 4.6667e-04\n",
      "Epoch 1/50\n",
      "115/115 [==============================] - 5s 19ms/step - loss: 0.0392 - val_loss: 0.0031\n",
      "Epoch 2/50\n",
      "115/115 [==============================] - 1s 13ms/step - loss: 3.7175e-04 - val_loss: 3.8750e-04\n",
      "Epoch 3/50\n",
      "115/115 [==============================] - 1s 13ms/step - loss: 1.3688e-04 - val_loss: 3.2233e-04\n",
      "Epoch 4/50\n",
      "115/115 [==============================] - 1s 13ms/step - loss: 1.2856e-04 - val_loss: 3.3007e-04\n",
      "Epoch 5/50\n",
      "115/115 [==============================] - 1s 13ms/step - loss: 1.2727e-04 - val_loss: 3.2664e-04\n",
      "Epoch 6/50\n",
      "115/115 [==============================] - 1s 13ms/step - loss: 1.2371e-04 - val_loss: 3.7921e-04\n",
      "Epoch 7/50\n",
      "115/115 [==============================] - 1s 13ms/step - loss: 1.1797e-04 - val_loss: 3.7618e-04\n",
      "Epoch 8/50\n",
      "115/115 [==============================] - 1s 13ms/step - loss: 1.1978e-04 - val_loss: 2.0675e-04\n",
      "Epoch 9/50\n",
      "115/115 [==============================] - 1s 13ms/step - loss: 1.1140e-04 - val_loss: 2.0325e-04\n",
      "Epoch 10/50\n",
      "115/115 [==============================] - 2s 13ms/step - loss: 1.0951e-04 - val_loss: 2.2610e-04\n",
      "Epoch 11/50\n",
      "115/115 [==============================] - 1s 12ms/step - loss: 1.1756e-04 - val_loss: 1.9023e-04\n",
      "Epoch 12/50\n",
      "115/115 [==============================] - 1s 13ms/step - loss: 1.1802e-04 - val_loss: 1.8091e-04\n",
      "Epoch 13/50\n",
      "115/115 [==============================] - 1s 13ms/step - loss: 9.9353e-05 - val_loss: 2.1274e-04\n",
      "Epoch 14/50\n",
      "115/115 [==============================] - 1s 13ms/step - loss: 1.0386e-04 - val_loss: 2.1669e-04\n",
      "Epoch 15/50\n",
      "115/115 [==============================] - 1s 12ms/step - loss: 1.0328e-04 - val_loss: 1.7157e-04\n",
      "Epoch 16/50\n",
      "115/115 [==============================] - 1s 13ms/step - loss: 9.5416e-05 - val_loss: 1.9192e-04\n",
      "Epoch 17/50\n",
      "115/115 [==============================] - 1s 13ms/step - loss: 1.0012e-04 - val_loss: 2.4195e-04\n",
      "Epoch 18/50\n",
      "115/115 [==============================] - 1s 13ms/step - loss: 9.9300e-05 - val_loss: 1.9426e-04\n",
      "Epoch 19/50\n",
      "115/115 [==============================] - 1s 13ms/step - loss: 1.0509e-04 - val_loss: 1.7027e-04\n",
      "Epoch 20/50\n",
      "115/115 [==============================] - 2s 13ms/step - loss: 1.0458e-04 - val_loss: 2.1517e-04\n",
      "Epoch 21/50\n",
      "115/115 [==============================] - 1s 12ms/step - loss: 1.0032e-04 - val_loss: 1.7121e-04\n",
      "Epoch 22/50\n",
      "115/115 [==============================] - 1s 13ms/step - loss: 1.0376e-04 - val_loss: 2.1321e-04\n",
      "Epoch 23/50\n",
      "115/115 [==============================] - 1s 13ms/step - loss: 1.0863e-04 - val_loss: 2.1225e-04\n",
      "Epoch 24/50\n",
      "115/115 [==============================] - 1s 13ms/step - loss: 1.0307e-04 - val_loss: 1.8194e-04\n",
      "Epoch 25/50\n",
      "115/115 [==============================] - 1s 13ms/step - loss: 1.0306e-04 - val_loss: 2.2518e-04\n",
      "Epoch 00025: early stopping\n",
      "41/41 [==============================] - 1s 6ms/step - loss: 7.6881e-05\n",
      "Epoch 1/50\n",
      "115/115 [==============================] - 5s 19ms/step - loss: 0.0326 - val_loss: 3.8199e-04\n",
      "Epoch 2/50\n",
      "115/115 [==============================] - 1s 13ms/step - loss: 1.8544e-04 - val_loss: 4.0137e-04\n",
      "Epoch 3/50\n",
      "115/115 [==============================] - 1s 13ms/step - loss: 1.6554e-04 - val_loss: 3.4210e-04\n",
      "Epoch 4/50\n",
      "115/115 [==============================] - 2s 13ms/step - loss: 1.5179e-04 - val_loss: 3.6110e-04\n",
      "Epoch 5/50\n",
      "115/115 [==============================] - 2s 13ms/step - loss: 1.3961e-04 - val_loss: 3.5230e-04\n",
      "Epoch 6/50\n",
      "115/115 [==============================] - 2s 13ms/step - loss: 1.3285e-04 - val_loss: 1.9258e-04\n",
      "Epoch 7/50\n",
      "115/115 [==============================] - 1s 13ms/step - loss: 1.2639e-04 - val_loss: 1.8383e-04\n",
      "Epoch 8/50\n",
      "115/115 [==============================] - 2s 13ms/step - loss: 1.2855e-04 - val_loss: 2.1188e-04\n",
      "Epoch 9/50\n",
      "115/115 [==============================] - 1s 12ms/step - loss: 1.1940e-04 - val_loss: 2.0257e-04\n",
      "Epoch 10/50\n",
      "115/115 [==============================] - 1s 13ms/step - loss: 1.1930e-04 - val_loss: 1.7084e-04\n",
      "Epoch 11/50\n",
      "115/115 [==============================] - 1s 12ms/step - loss: 1.1702e-04 - val_loss: 2.3222e-04\n",
      "Epoch 12/50\n",
      "115/115 [==============================] - 1s 13ms/step - loss: 1.1625e-04 - val_loss: 1.7073e-04\n",
      "Epoch 13/50\n",
      "115/115 [==============================] - 1s 13ms/step - loss: 1.1992e-04 - val_loss: 2.0986e-04\n",
      "Epoch 14/50\n",
      "115/115 [==============================] - 1s 13ms/step - loss: 1.2301e-04 - val_loss: 1.9224e-04\n",
      "Epoch 15/50\n",
      "115/115 [==============================] - 1s 13ms/step - loss: 1.1241e-04 - val_loss: 2.1415e-04\n",
      "Epoch 16/50\n",
      "115/115 [==============================] - 2s 13ms/step - loss: 1.1871e-04 - val_loss: 1.6977e-04\n",
      "Epoch 17/50\n",
      "115/115 [==============================] - 1s 13ms/step - loss: 1.2890e-04 - val_loss: 1.7235e-04\n",
      "Epoch 18/50\n",
      "115/115 [==============================] - 1s 13ms/step - loss: 1.3149e-04 - val_loss: 1.6994e-04\n",
      "Epoch 19/50\n",
      "115/115 [==============================] - 1s 13ms/step - loss: 1.1425e-04 - val_loss: 3.9127e-04\n",
      "Epoch 20/50\n",
      "115/115 [==============================] - 2s 13ms/step - loss: 1.1893e-04 - val_loss: 3.2298e-04\n",
      "Epoch 21/50\n",
      "115/115 [==============================] - 1s 13ms/step - loss: 1.3740e-04 - val_loss: 1.9702e-04\n",
      "Epoch 22/50\n",
      "115/115 [==============================] - 2s 13ms/step - loss: 1.2337e-04 - val_loss: 2.0994e-04\n",
      "Epoch 00022: early stopping\n",
      "41/41 [==============================] - 1s 5ms/step - loss: 4.2862e-05\n",
      "Epoch 1/50\n",
      "115/115 [==============================] - 7s 20ms/step - loss: 0.0126 - val_loss: 9.5795e-04\n",
      "Epoch 2/50\n",
      "115/115 [==============================] - 2s 14ms/step - loss: 7.0937e-05 - val_loss: 0.0019\n",
      "Epoch 3/50\n",
      "115/115 [==============================] - 2s 13ms/step - loss: 6.5605e-05 - val_loss: 0.0014\n",
      "Epoch 4/50\n",
      "115/115 [==============================] - 1s 13ms/step - loss: 6.3851e-05 - val_loss: 0.0011\n",
      "Epoch 5/50\n",
      "115/115 [==============================] - 2s 14ms/step - loss: 6.4946e-05 - val_loss: 9.0722e-04\n",
      "Epoch 6/50\n",
      "115/115 [==============================] - 1s 13ms/step - loss: 6.1486e-05 - val_loss: 5.0108e-04\n",
      "Epoch 7/50\n",
      "115/115 [==============================] - 1s 13ms/step - loss: 6.3648e-05 - val_loss: 4.5516e-04\n",
      "Epoch 8/50\n",
      "115/115 [==============================] - 2s 14ms/step - loss: 5.9694e-05 - val_loss: 4.0524e-04\n",
      "Epoch 9/50\n",
      "115/115 [==============================] - 2s 13ms/step - loss: 6.4486e-05 - val_loss: 2.6944e-04\n",
      "Epoch 10/50\n",
      "115/115 [==============================] - 2s 13ms/step - loss: 6.4277e-05 - val_loss: 1.7737e-04\n",
      "Epoch 11/50\n",
      "115/115 [==============================] - 1s 13ms/step - loss: 6.1490e-05 - val_loss: 2.9626e-04\n",
      "Epoch 12/50\n",
      "115/115 [==============================] - 2s 14ms/step - loss: 5.8551e-05 - val_loss: 3.1793e-04\n",
      "Epoch 13/50\n",
      "115/115 [==============================] - 1s 13ms/step - loss: 6.7441e-05 - val_loss: 5.8414e-04\n",
      "Epoch 14/50\n",
      "115/115 [==============================] - 2s 13ms/step - loss: 6.8042e-05 - val_loss: 1.8518e-04\n",
      "Epoch 15/50\n",
      "115/115 [==============================] - 1s 13ms/step - loss: 5.9167e-05 - val_loss: 2.3959e-04\n",
      "Epoch 16/50\n",
      "115/115 [==============================] - 2s 13ms/step - loss: 6.7586e-05 - val_loss: 2.0702e-04\n",
      "Epoch 00016: early stopping\n",
      "41/41 [==============================] - 1s 6ms/step - loss: 1.6275e-04\n",
      "Epoch 1/50\n",
      "115/115 [==============================] - 6s 23ms/step - loss: 0.0346 - val_loss: 0.0016\n",
      "Epoch 2/50\n",
      "115/115 [==============================] - 2s 17ms/step - loss: 2.4084e-04 - val_loss: 2.2265e-04\n",
      "Epoch 3/50\n",
      "115/115 [==============================] - 2s 16ms/step - loss: 1.1918e-04 - val_loss: 3.4745e-04\n",
      "Epoch 4/50\n",
      "115/115 [==============================] - 2s 16ms/step - loss: 1.1749e-04 - val_loss: 2.1248e-04\n",
      "Epoch 5/50\n",
      "115/115 [==============================] - 2s 16ms/step - loss: 1.1995e-04 - val_loss: 2.2374e-04\n",
      "Epoch 6/50\n",
      "115/115 [==============================] - 2s 16ms/step - loss: 1.1001e-04 - val_loss: 2.1834e-04\n",
      "Epoch 7/50\n",
      "115/115 [==============================] - 2s 16ms/step - loss: 1.1218e-04 - val_loss: 3.3146e-04\n",
      "Epoch 8/50\n",
      "115/115 [==============================] - 2s 17ms/step - loss: 1.0780e-04 - val_loss: 2.1008e-04\n",
      "Epoch 9/50\n",
      "115/115 [==============================] - 2s 17ms/step - loss: 1.0775e-04 - val_loss: 2.1585e-04\n",
      "Epoch 10/50\n",
      "115/115 [==============================] - 2s 16ms/step - loss: 1.0792e-04 - val_loss: 1.8164e-04\n",
      "Epoch 11/50\n",
      "115/115 [==============================] - 2s 16ms/step - loss: 1.0396e-04 - val_loss: 1.8572e-04\n",
      "Epoch 12/50\n",
      "115/115 [==============================] - 2s 17ms/step - loss: 1.0723e-04 - val_loss: 1.7617e-04\n",
      "Epoch 13/50\n",
      "115/115 [==============================] - 2s 16ms/step - loss: 1.0028e-04 - val_loss: 1.8464e-04\n",
      "Epoch 14/50\n",
      "115/115 [==============================] - 2s 16ms/step - loss: 1.0238e-04 - val_loss: 6.7584e-04\n",
      "Epoch 15/50\n",
      "115/115 [==============================] - 2s 16ms/step - loss: 1.3910e-04 - val_loss: 1.7776e-04\n",
      "Epoch 16/50\n",
      "115/115 [==============================] - 2s 16ms/step - loss: 1.0005e-04 - val_loss: 1.7403e-04\n",
      "Epoch 17/50\n",
      "115/115 [==============================] - 2s 16ms/step - loss: 1.0222e-04 - val_loss: 2.1515e-04\n",
      "Epoch 18/50\n",
      "115/115 [==============================] - 2s 16ms/step - loss: 1.0431e-04 - val_loss: 1.8200e-04\n",
      "Epoch 19/50\n",
      "115/115 [==============================] - 2s 16ms/step - loss: 9.9070e-05 - val_loss: 1.9839e-04\n",
      "Epoch 20/50\n",
      "115/115 [==============================] - 2s 17ms/step - loss: 9.5499e-05 - val_loss: 1.9488e-04\n",
      "Epoch 21/50\n",
      "115/115 [==============================] - 2s 16ms/step - loss: 1.0824e-04 - val_loss: 1.7138e-04\n",
      "Epoch 22/50\n",
      "115/115 [==============================] - 2s 16ms/step - loss: 1.1205e-04 - val_loss: 1.7542e-04\n",
      "Epoch 23/50\n",
      "115/115 [==============================] - 2s 17ms/step - loss: 1.0986e-04 - val_loss: 1.7532e-04\n",
      "Epoch 24/50\n",
      "115/115 [==============================] - 2s 17ms/step - loss: 9.9468e-05 - val_loss: 1.8535e-04\n",
      "Epoch 25/50\n",
      "115/115 [==============================] - 2s 17ms/step - loss: 1.0373e-04 - val_loss: 1.8005e-04\n",
      "Epoch 26/50\n",
      "115/115 [==============================] - 2s 17ms/step - loss: 1.0553e-04 - val_loss: 2.2451e-04\n",
      "Epoch 27/50\n",
      "115/115 [==============================] - 2s 16ms/step - loss: 1.0534e-04 - val_loss: 2.0993e-04\n",
      "Epoch 00027: early stopping\n",
      "41/41 [==============================] - 1s 7ms/step - loss: 9.7440e-05\n",
      "Epoch 1/50\n",
      "115/115 [==============================] - 7s 23ms/step - loss: 0.0314 - val_loss: 4.8614e-04\n",
      "Epoch 2/50\n",
      "115/115 [==============================] - 2s 16ms/step - loss: 1.5971e-04 - val_loss: 3.5097e-04\n",
      "Epoch 3/50\n",
      "115/115 [==============================] - 2s 16ms/step - loss: 1.5164e-04 - val_loss: 2.7432e-04\n",
      "Epoch 4/50\n",
      "115/115 [==============================] - 2s 17ms/step - loss: 1.5045e-04 - val_loss: 2.5993e-04\n",
      "Epoch 5/50\n",
      "115/115 [==============================] - 2s 16ms/step - loss: 1.3572e-04 - val_loss: 2.2577e-04\n",
      "Epoch 6/50\n",
      "115/115 [==============================] - 2s 16ms/step - loss: 1.2596e-04 - val_loss: 2.1262e-04\n",
      "Epoch 7/50\n",
      "115/115 [==============================] - 2s 16ms/step - loss: 1.2468e-04 - val_loss: 2.4243e-04\n",
      "Epoch 8/50\n",
      "115/115 [==============================] - 2s 16ms/step - loss: 1.2455e-04 - val_loss: 1.7586e-04\n",
      "Epoch 9/50\n",
      "115/115 [==============================] - 2s 16ms/step - loss: 1.1938e-04 - val_loss: 1.9293e-04\n",
      "Epoch 10/50\n",
      "115/115 [==============================] - 2s 16ms/step - loss: 1.1785e-04 - val_loss: 2.4027e-04\n",
      "Epoch 11/50\n",
      "115/115 [==============================] - 2s 16ms/step - loss: 1.2216e-04 - val_loss: 1.7330e-04\n",
      "Epoch 12/50\n",
      "115/115 [==============================] - 2s 16ms/step - loss: 1.1837e-04 - val_loss: 1.7726e-04\n",
      "Epoch 13/50\n",
      "115/115 [==============================] - 2s 18ms/step - loss: 1.2072e-04 - val_loss: 1.7543e-04\n",
      "Epoch 14/50\n",
      "115/115 [==============================] - 2s 16ms/step - loss: 1.1799e-04 - val_loss: 0.0011\n",
      "Epoch 15/50\n",
      "115/115 [==============================] - 2s 16ms/step - loss: 1.7847e-04 - val_loss: 1.6940e-04\n",
      "Epoch 16/50\n",
      "115/115 [==============================] - 2s 16ms/step - loss: 1.1299e-04 - val_loss: 1.6870e-04\n",
      "Epoch 17/50\n",
      "115/115 [==============================] - 2s 16ms/step - loss: 1.1343e-04 - val_loss: 1.8289e-04\n",
      "Epoch 18/50\n",
      "115/115 [==============================] - 2s 16ms/step - loss: 1.2941e-04 - val_loss: 3.1195e-04\n",
      "Epoch 19/50\n",
      "115/115 [==============================] - 2s 16ms/step - loss: 1.4140e-04 - val_loss: 2.9893e-04\n",
      "Epoch 20/50\n",
      "115/115 [==============================] - 2s 16ms/step - loss: 1.2314e-04 - val_loss: 3.4458e-04\n",
      "Epoch 21/50\n",
      "115/115 [==============================] - 2s 17ms/step - loss: 1.2753e-04 - val_loss: 4.2145e-04\n",
      "Epoch 22/50\n",
      "115/115 [==============================] - 2s 16ms/step - loss: 1.3282e-04 - val_loss: 1.7353e-04\n",
      "Epoch 00022: early stopping\n",
      "41/41 [==============================] - 1s 6ms/step - loss: 4.3267e-05\n",
      "Epoch 1/50\n",
      "115/115 [==============================] - 6s 23ms/step - loss: 0.0121 - val_loss: 8.9292e-04\n",
      "Epoch 2/50\n",
      "115/115 [==============================] - 2s 16ms/step - loss: 6.6366e-05 - val_loss: 0.0011\n",
      "Epoch 3/50\n",
      "115/115 [==============================] - 2s 16ms/step - loss: 6.1959e-05 - val_loss: 9.6880e-04\n",
      "Epoch 4/50\n",
      "115/115 [==============================] - 2s 17ms/step - loss: 6.2814e-05 - val_loss: 0.0011\n",
      "Epoch 5/50\n",
      "115/115 [==============================] - 2s 16ms/step - loss: 6.2566e-05 - val_loss: 8.0462e-04\n",
      "Epoch 6/50\n",
      "115/115 [==============================] - 2s 16ms/step - loss: 6.1441e-05 - val_loss: 7.2976e-04\n",
      "Epoch 7/50\n",
      "115/115 [==============================] - 2s 17ms/step - loss: 6.3298e-05 - val_loss: 2.3696e-04\n",
      "Epoch 8/50\n",
      "115/115 [==============================] - 2s 16ms/step - loss: 6.2958e-05 - val_loss: 3.2195e-04\n",
      "Epoch 9/50\n",
      "115/115 [==============================] - 2s 17ms/step - loss: 6.3163e-05 - val_loss: 2.0403e-04\n",
      "Epoch 10/50\n",
      "115/115 [==============================] - 2s 16ms/step - loss: 6.5399e-05 - val_loss: 2.5437e-04\n",
      "Epoch 11/50\n",
      "115/115 [==============================] - 2s 16ms/step - loss: 6.2720e-05 - val_loss: 1.8943e-04\n",
      "Epoch 12/50\n",
      "115/115 [==============================] - 2s 17ms/step - loss: 6.0517e-05 - val_loss: 5.3448e-04\n",
      "Epoch 13/50\n",
      "115/115 [==============================] - 2s 17ms/step - loss: 6.4320e-05 - val_loss: 2.2779e-04\n",
      "Epoch 14/50\n",
      "115/115 [==============================] - 2s 16ms/step - loss: 6.3247e-05 - val_loss: 2.2337e-04\n",
      "Epoch 15/50\n",
      "115/115 [==============================] - 2s 16ms/step - loss: 6.2853e-05 - val_loss: 2.1320e-04\n",
      "Epoch 16/50\n",
      "115/115 [==============================] - 2s 16ms/step - loss: 6.5873e-05 - val_loss: 1.9434e-04\n",
      "Epoch 17/50\n",
      "115/115 [==============================] - 2s 16ms/step - loss: 6.5065e-05 - val_loss: 3.1595e-04\n",
      "Epoch 00017: early stopping\n",
      "41/41 [==============================] - 1s 7ms/step - loss: 2.6062e-04\n",
      "Epoch 1/50\n",
      "172/172 [==============================] - 6s 17ms/step - loss: 0.0202 - val_loss: 4.9575e-04\n",
      "Epoch 2/50\n",
      "172/172 [==============================] - 2s 13ms/step - loss: 1.4347e-04 - val_loss: 4.6570e-04\n",
      "Epoch 3/50\n",
      "172/172 [==============================] - 2s 13ms/step - loss: 1.2450e-04 - val_loss: 2.2094e-04\n",
      "Epoch 4/50\n",
      "172/172 [==============================] - 2s 13ms/step - loss: 1.1109e-04 - val_loss: 3.3716e-04\n",
      "Epoch 5/50\n",
      "172/172 [==============================] - 2s 13ms/step - loss: 1.0038e-04 - val_loss: 2.1172e-04\n",
      "Epoch 6/50\n",
      "172/172 [==============================] - 2s 13ms/step - loss: 9.3203e-05 - val_loss: 1.7477e-04\n",
      "Epoch 7/50\n",
      "172/172 [==============================] - 2s 14ms/step - loss: 9.4204e-05 - val_loss: 1.8254e-04\n",
      "Epoch 8/50\n",
      "172/172 [==============================] - 2s 13ms/step - loss: 8.8164e-05 - val_loss: 1.6993e-04\n",
      "Epoch 9/50\n",
      "172/172 [==============================] - 2s 13ms/step - loss: 9.3708e-05 - val_loss: 1.7108e-04\n",
      "Epoch 10/50\n",
      "172/172 [==============================] - 2s 13ms/step - loss: 9.5007e-05 - val_loss: 1.7752e-04\n",
      "Epoch 11/50\n",
      "172/172 [==============================] - 3s 16ms/step - loss: 9.3046e-05 - val_loss: 1.7215e-04\n",
      "Epoch 12/50\n",
      "172/172 [==============================] - 2s 12ms/step - loss: 9.2885e-05 - val_loss: 2.3859e-04\n",
      "Epoch 13/50\n",
      "172/172 [==============================] - 2s 13ms/step - loss: 9.4044e-05 - val_loss: 2.0606e-04\n",
      "Epoch 14/50\n",
      "172/172 [==============================] - 2s 13ms/step - loss: 9.9466e-05 - val_loss: 1.6836e-04\n",
      "Epoch 15/50\n",
      "172/172 [==============================] - 2s 13ms/step - loss: 9.5129e-05 - val_loss: 1.6914e-04\n",
      "Epoch 16/50\n",
      "172/172 [==============================] - 2s 13ms/step - loss: 9.3714e-05 - val_loss: 1.7208e-04\n",
      "Epoch 17/50\n",
      "172/172 [==============================] - 2s 13ms/step - loss: 1.0514e-04 - val_loss: 3.0562e-04\n",
      "Epoch 18/50\n",
      "172/172 [==============================] - 2s 13ms/step - loss: 1.1914e-04 - val_loss: 1.6918e-04\n",
      "Epoch 19/50\n",
      "172/172 [==============================] - 2s 13ms/step - loss: 1.0247e-04 - val_loss: 5.5902e-04\n",
      "Epoch 20/50\n",
      "172/172 [==============================] - 2s 13ms/step - loss: 1.1420e-04 - val_loss: 1.7072e-04\n",
      "Epoch 00020: early stopping\n"
     ]
    }
   ],
   "source": [
    "f_grid_history = f_grid.fit(X_train, y_train,\n",
    "                            batch_size=23, epochs=50,\n",
    "                            validation_data=(X_val, y_val),\n",
    "                            callbacks=es,\n",
    "                            verbose=1)"
   ]
  },
  {
   "cell_type": "code",
   "execution_count": 82,
   "metadata": {
    "colab": {
     "base_uri": "https://localhost:8080/"
    },
    "id": "Fcx_mLj3humR",
    "outputId": "126ad925-dd3d-4a61-c751-99c19b0a4c35"
   },
   "outputs": [
    {
     "data": {
      "text/plain": [
       "{'features': 250}"
      ]
     },
     "execution_count": 82,
     "metadata": {
      "tags": []
     },
     "output_type": "execute_result"
    }
   ],
   "source": [
    "# Find the best parameter\n",
    "f_grid_history.best_params_"
   ]
  },
  {
   "cell_type": "code",
   "execution_count": 93,
   "metadata": {
    "colab": {
     "base_uri": "https://localhost:8080/"
    },
    "id": "lYP2vo_WqUek",
    "outputId": "76844eb4-d642-47af-8f32-68fde29c530d"
   },
   "outputs": [
    {
     "data": {
      "text/plain": [
       "250"
      ]
     },
     "execution_count": 93,
     "metadata": {
      "tags": []
     },
     "output_type": "execute_result"
    }
   ],
   "source": [
    "# Number of features\n",
    "n_features = f_grid_history.best_params_['features']\n",
    "n_features"
   ]
  },
  {
   "cell_type": "markdown",
   "metadata": {
    "id": "vg_W9vgkrCdE"
   },
   "source": [
    "#### input features = 250"
   ]
  },
  {
   "cell_type": "code",
   "execution_count": 74,
   "metadata": {
    "id": "liv2y41AnRrv"
   },
   "outputs": [],
   "source": [
    "model_f250 = feature_model(250)"
   ]
  },
  {
   "cell_type": "code",
   "execution_count": 72,
   "metadata": {
    "id": "juzbGEC8nDc3"
   },
   "outputs": [],
   "source": [
    "mc_f250 = ModelCheckpoint(filepath='/content/f250.h5',\n",
    "                            monitor='val_loss', mode='min', verbose=1, save_best_only=True)"
   ]
  },
  {
   "cell_type": "code",
   "execution_count": 75,
   "metadata": {
    "colab": {
     "base_uri": "https://localhost:8080/"
    },
    "id": "QH3FpZ1HnDZ6",
    "outputId": "9e4b4dff-d292-46a1-970c-629b8b620ef0"
   },
   "outputs": [
    {
     "name": "stdout",
     "output_type": "stream",
     "text": [
      "Epoch 1/50\n",
      "172/172 [==============================] - 6s 17ms/step - loss: 0.0187 - val_loss: 4.2822e-04\n",
      "\n",
      "Epoch 00001: val_loss did not improve from 0.00017\n",
      "Epoch 2/50\n",
      "172/172 [==============================] - 2s 13ms/step - loss: 1.4379e-04 - val_loss: 3.1240e-04\n",
      "\n",
      "Epoch 00002: val_loss did not improve from 0.00017\n",
      "Epoch 3/50\n",
      "172/172 [==============================] - 2s 13ms/step - loss: 1.2431e-04 - val_loss: 2.2782e-04\n",
      "\n",
      "Epoch 00003: val_loss did not improve from 0.00017\n",
      "Epoch 4/50\n",
      "172/172 [==============================] - 2s 12ms/step - loss: 1.1266e-04 - val_loss: 3.1896e-04\n",
      "\n",
      "Epoch 00004: val_loss did not improve from 0.00017\n",
      "Epoch 5/50\n",
      "172/172 [==============================] - 2s 12ms/step - loss: 1.0053e-04 - val_loss: 2.1637e-04\n",
      "\n",
      "Epoch 00005: val_loss did not improve from 0.00017\n",
      "Epoch 6/50\n",
      "172/172 [==============================] - 2s 12ms/step - loss: 9.6329e-05 - val_loss: 1.9675e-04\n",
      "\n",
      "Epoch 00006: val_loss did not improve from 0.00017\n",
      "Epoch 7/50\n",
      "172/172 [==============================] - 2s 12ms/step - loss: 9.3983e-05 - val_loss: 1.7083e-04\n",
      "\n",
      "Epoch 00007: val_loss did not improve from 0.00017\n",
      "Epoch 8/50\n",
      "172/172 [==============================] - 2s 12ms/step - loss: 8.9647e-05 - val_loss: 1.7099e-04\n",
      "\n",
      "Epoch 00008: val_loss did not improve from 0.00017\n",
      "Epoch 9/50\n",
      "172/172 [==============================] - 2s 12ms/step - loss: 9.2587e-05 - val_loss: 2.0020e-04\n",
      "\n",
      "Epoch 00009: val_loss did not improve from 0.00017\n",
      "Epoch 10/50\n",
      "172/172 [==============================] - 2s 12ms/step - loss: 9.7838e-05 - val_loss: 1.6875e-04\n",
      "\n",
      "Epoch 00010: val_loss did not improve from 0.00017\n",
      "Epoch 11/50\n",
      "172/172 [==============================] - 2s 12ms/step - loss: 9.0256e-05 - val_loss: 1.8390e-04\n",
      "\n",
      "Epoch 00011: val_loss did not improve from 0.00017\n",
      "Epoch 12/50\n",
      "172/172 [==============================] - 2s 12ms/step - loss: 9.6726e-05 - val_loss: 4.7931e-04\n",
      "\n",
      "Epoch 00012: val_loss did not improve from 0.00017\n",
      "Epoch 13/50\n",
      "172/172 [==============================] - 2s 12ms/step - loss: 9.3740e-05 - val_loss: 2.3970e-04\n",
      "\n",
      "Epoch 00013: val_loss did not improve from 0.00017\n",
      "Epoch 14/50\n",
      "172/172 [==============================] - 2s 12ms/step - loss: 9.5642e-05 - val_loss: 2.6380e-04\n",
      "\n",
      "Epoch 00014: val_loss did not improve from 0.00017\n",
      "Epoch 15/50\n",
      "172/172 [==============================] - 2s 12ms/step - loss: 1.0203e-04 - val_loss: 2.0626e-04\n",
      "\n",
      "Epoch 00015: val_loss did not improve from 0.00017\n",
      "Epoch 16/50\n",
      "172/172 [==============================] - 2s 12ms/step - loss: 9.3590e-05 - val_loss: 1.8293e-04\n",
      "\n",
      "Epoch 00016: val_loss did not improve from 0.00017\n",
      "Epoch 00016: early stopping\n"
     ]
    },
    {
     "data": {
      "text/plain": [
       "<tensorflow.python.keras.callbacks.History at 0x7fc894b6df90>"
      ]
     },
     "execution_count": 75,
     "metadata": {
      "tags": []
     },
     "output_type": "execute_result"
    }
   ],
   "source": [
    "model_f250.fit(X_train, y_train, batch_size=23, epochs=50,\n",
    "           validation_data=(X_val, y_val),\n",
    "           callbacks=[es, mc_f250])"
   ]
  },
  {
   "cell_type": "code",
   "execution_count": 77,
   "metadata": {
    "id": "vcglvWAtgtCl"
   },
   "outputs": [],
   "source": [
    "f250 = load_model('/content/f250.h5')"
   ]
  },
  {
   "cell_type": "code",
   "execution_count": 78,
   "metadata": {
    "colab": {
     "base_uri": "https://localhost:8080/"
    },
    "id": "r-XBtPCak5pI",
    "outputId": "0f0cab60-9f89-4ef1-e31d-33daf3fcc64a"
   },
   "outputs": [
    {
     "name": "stdout",
     "output_type": "stream",
     "text": [
      "Train results: \n",
      "MAE: 0.4892\n",
      "RMSE: 0.7644\n",
      "R^2: 0.9983\n",
      "None\n",
      "\n",
      "\n",
      "Val results: \n",
      "MAE: 0.8244\n",
      "RMSE: 1.0673\n",
      "R^2: 0.9758\n",
      "None\n"
     ]
    }
   ],
   "source": [
    "f250_y_val_true, f250_y_val_inv = model_evaluation(f250, X_train, y_train, X_val, y_val)"
   ]
  },
  {
   "cell_type": "code",
   "execution_count": 79,
   "metadata": {
    "colab": {
     "base_uri": "https://localhost:8080/",
     "height": 592
    },
    "id": "sM0eGAm2k5lQ",
    "outputId": "6cd836d0-0085-42fb-a21c-668fa587c362"
   },
   "outputs": [
    {
     "data": {
      "image/png": "[encoded data removed]",
      "text/plain": [
       "<Figure size 1440x720 with 1 Axes>"
      ]
     },
     "metadata": {
      "needs_background": "light",
      "tags": []
     },
     "output_type": "display_data"
    }
   ],
   "source": [
    "plot_prediction(f250_y_val_true, f250_y_val_inv)"
   ]
  },
  {
   "cell_type": "code",
   "execution_count": 89,
   "metadata": {
    "id": "4A8u8eEhk5is"
   },
   "outputs": [],
   "source": [
    "# Load model (if run in another notebook)\n",
    "best = load_model('/content/f250.h5')"
   ]
  },
  {
   "cell_type": "code",
   "execution_count": 90,
   "metadata": {
    "id": "rQayPsyMsGQr"
   },
   "outputs": [],
   "source": [
    "# Make prediction on the holdout test set\n",
    "y_test_pred = best.predict(X_test)\n",
    "\n",
    "# Inverse transform the test prediction and actual\n",
    "y_test_inv = scaler.inverse_transform(y_test_pred)\n",
    "y_test_true = scaler.inverse_transform(y_test)"
   ]
  },
  {
   "cell_type": "code",
   "execution_count": 91,
   "metadata": {
    "colab": {
     "base_uri": "https://localhost:8080/"
    },
    "id": "vAHfF3mGsGOC",
    "outputId": "49aa95ad-7621-4398-a601-9d264182fe9d"
   },
   "outputs": [
    {
     "name": "stdout",
     "output_type": "stream",
     "text": [
      "MAE: 0.7419\n",
      "RMSE: 0.9534\n",
      "R^2: 0.7756\n"
     ]
    }
   ],
   "source": [
    "ut.evaluate(y_test_true, y_test_inv)"
   ]
  },
  {
   "cell_type": "code",
   "execution_count": 92,
   "metadata": {
    "colab": {
     "base_uri": "https://localhost:8080/",
     "height": 592
    },
    "id": "N2HmGLvZsGKn",
    "outputId": "d2673689-e376-4444-904d-b7cd5fee16a3"
   },
   "outputs": [
    {
     "data": {
      "image/png": "[encoded data removed]",
      "text/plain": [
       "<Figure size 1440x720 with 1 Axes>"
      ]
     },
     "metadata": {
      "needs_background": "light",
      "tags": []
     },
     "output_type": "display_data"
    }
   ],
   "source": [
    "plot_prediction(y_test_true, y_test_inv)"
   ]
  },
  {
   "cell_type": "markdown",
   "metadata": {
    "id": "0lhIvoIRthFb"
   },
   "source": [
    "### c) Layers"
   ]
  },
  {
   "cell_type": "code",
   "execution_count": 130,
   "metadata": {
    "id": "kXla1kJto0UU"
   },
   "outputs": [],
   "source": [
    "def stack_model(layers):\n",
    "    '''\n",
    "    Create a LSTM with custom hidden layers.\n",
    "    \n",
    "    -*-*-*-*-*-*-*-*-*-*-*-*-*-*-*-*-*-*-*-*-*-*-*-*-*-*-*-*-*-*-*-*-*-*-*-*-*-*\n",
    "\n",
    "    Inputs:\n",
    "    - layers: interger (number of hidden layers)\n",
    "    \n",
    "    Return:\n",
    "    - Custome model\n",
    "\n",
    "    '''\n",
    "    if layers == 2:\n",
    "        # Build the model\n",
    "        model = Sequential()\n",
    "        model.add(LSTM(units=n_features, return_sequences=True, input_shape=(X_train.shape[1:])))\n",
    "        model.add(LSTM(units=n_features))\n",
    "        model.add(Dense(units=1))\n",
    "\n",
    "        # Compile the model\n",
    "        model.compile(optimizer='adam', loss='mean_squared_error')\n",
    "    \n",
    "        return model\n",
    "    \n",
    "    elif layers == 3:\n",
    "        # Build the model\n",
    "        model = Sequential()\n",
    "        model.add(LSTM(units=n_features, return_sequences=True, input_shape=(X_train.shape[1:])))\n",
    "        model.add(LSTM(units=n_features, return_sequences=True))\n",
    "        model.add(LSTM(units=n_features))\n",
    "        model.add(Dense(units=1))\n",
    "\n",
    "        # Compile the model\n",
    "        model.compile(optimizer='adam', loss='mean_squared_error')\n",
    "    \n",
    "        return model\n",
    "    \n",
    "    elif layers == 4:\n",
    "        # Build the model\n",
    "        model = Sequential()\n",
    "        model.add(LSTM(units=n_features, return_sequences=True, input_shape=(X_train.shape[1:])))\n",
    "        model.add(LSTM(units=n_features, return_sequences=True))\n",
    "        model.add(LSTM(units=n_features, return_sequences=True))\n",
    "        model.add(LSTM(units=n_features))\n",
    "        model.add(Dense(units=1))\n",
    "\n",
    "        # Compile the model\n",
    "        model.compile(optimizer='adam', loss='mean_squared_error')\n",
    "    \n",
    "        return model\n",
    "    \n",
    "    elif layers == 5:\n",
    "        # Build the model\n",
    "        model = Sequential()\n",
    "        model.add(LSTM(units=n_features, return_sequences=True, input_shape=(X_train.shape[1:])))\n",
    "        model.add(LSTM(units=n_features, return_sequences=True))\n",
    "        model.add(LSTM(units=n_features, return_sequences=True))\n",
    "        model.add(LSTM(units=n_features, return_sequences=True))\n",
    "        model.add(LSTM(units=n_features))\n",
    "        model.add(Dense(units=1))\n",
    "\n",
    "        # Compile the model\n",
    "        model.compile(optimizer='adam', loss='mean_squared_error')\n",
    "    \n",
    "        return model\n",
    "    \n",
    "    else:\n",
    "        print(\"Please select number of layers betweeen 2 to 5.\")"
   ]
  },
  {
   "cell_type": "markdown",
   "metadata": {
    "id": "zBS8DNkOy4bW"
   },
   "source": [
    "#### Grid Search"
   ]
  },
  {
   "cell_type": "code",
   "execution_count": 131,
   "metadata": {
    "id": "FI6Bd1ZIzE0i"
   },
   "outputs": [],
   "source": [
    "# Wrapper\n",
    "s_model = KerasRegressor(build_fn=stack_model)"
   ]
  },
  {
   "cell_type": "code",
   "execution_count": 132,
   "metadata": {
    "id": "txkHOTNuzM4T"
   },
   "outputs": [],
   "source": [
    "s = [2, 3, 4, 5]\n",
    "\n",
    "# Parameter grid\n",
    "s_param_grid = dict(layers = s)"
   ]
  },
  {
   "cell_type": "code",
   "execution_count": 133,
   "metadata": {
    "id": "pI-DTMgYzM26"
   },
   "outputs": [],
   "source": [
    "# Grid Search\n",
    "s_grid = GridSearchCV(s_model, param_grid = s_param_grid, cv=3)"
   ]
  },
  {
   "cell_type": "code",
   "execution_count": 135,
   "metadata": {
    "colab": {
     "base_uri": "https://localhost:8080/"
    },
    "id": "la7pvjipzMy3",
    "outputId": "32799fb2-3743-4e1c-af2b-16732aa6457d"
   },
   "outputs": [
    {
     "name": "stdout",
     "output_type": "stream",
     "text": [
      "Epoch 00028: early stopping\n",
      "41/41 [==============================] - 1s 5ms/step - loss: 7.5740e-05\n",
      "Epoch 00017: early stopping\n",
      "41/41 [==============================] - 1s 5ms/step - loss: 1.0963e-04\n",
      "Epoch 00017: early stopping\n",
      "41/41 [==============================] - 1s 5ms/step - loss: 1.8725e-04\n",
      "Epoch 00021: early stopping\n",
      "41/41 [==============================] - 1s 7ms/step - loss: 7.3554e-05\n",
      "Epoch 00012: early stopping\n",
      "41/41 [==============================] - 1s 7ms/step - loss: 3.8706e-05\n",
      "Epoch 00016: early stopping\n",
      "41/41 [==============================] - 1s 8ms/step - loss: 7.4122e-04\n",
      "Epoch 00015: early stopping\n",
      "41/41 [==============================] - 2s 9ms/step - loss: 1.1369e-04\n",
      "Epoch 00016: early stopping\n",
      "41/41 [==============================] - 2s 9ms/step - loss: 1.1148e-04\n",
      "Epoch 00011: early stopping\n",
      "41/41 [==============================] - 2s 9ms/step - loss: 4.4535e-04\n",
      "Epoch 00011: early stopping\n",
      "41/41 [==============================] - 2s 11ms/step - loss: 7.2808e-05\n",
      "Epoch 00014: early stopping\n",
      "41/41 [==============================] - 2s 12ms/step - loss: 6.9414e-05\n",
      "Epoch 00008: early stopping\n",
      "41/41 [==============================] - 2s 11ms/step - loss: 7.8219e-04\n",
      "Epoch 00015: early stopping\n"
     ]
    }
   ],
   "source": [
    "s_grid_history = s_grid.fit(X_train, y_train,\n",
    "                            batch_size=23, epochs=50,\n",
    "                            validation_data=(X_val, y_val),\n",
    "                            callbacks=es,\n",
    "                            verbose=0)"
   ]
  },
  {
   "cell_type": "code",
   "execution_count": 136,
   "metadata": {
    "colab": {
     "base_uri": "https://localhost:8080/"
    },
    "id": "hA22usFKzMwm",
    "outputId": "cbfa81cd-2bd5-4cec-c807-7f820935ced9"
   },
   "outputs": [
    {
     "data": {
      "text/plain": [
       "{'layers': 2}"
      ]
     },
     "execution_count": 136,
     "metadata": {
      "tags": []
     },
     "output_type": "execute_result"
    }
   ],
   "source": [
    "s_grid_history.best_params_"
   ]
  },
  {
   "cell_type": "markdown",
   "metadata": {
    "id": "PvjbrHZqEwQm"
   },
   "source": [
    "https://stackoverflow.com/questions/46713734/are-there-some-pre-trained-lstm-rnn-or-ann-models-for-time-series-prediction"
   ]
  },
  {
   "cell_type": "markdown",
   "metadata": {
    "id": "fOEXgTtNBj0Q"
   },
   "source": [
    "### Evaluation\n",
    "- Prediction on true holdout test set"
   ]
  },
  {
   "cell_type": "code",
   "execution_count": 137,
   "metadata": {
    "id": "Kh8ZWqCtBlCr"
   },
   "outputs": [],
   "source": [
    "# Load model (if run in another notebook)\n",
    "best = load_model('/content/f250.h5')"
   ]
  },
  {
   "cell_type": "code",
   "execution_count": 138,
   "metadata": {
    "id": "L1aKju0aLRdE"
   },
   "outputs": [],
   "source": [
    "# Make prediction on the holdout test set\n",
    "y_test_pred = best.predict(X_test)\n",
    "\n",
    "# Inverse transform the test prediction and actual\n",
    "y_test_inv = scaler.inverse_transform(y_test_pred)\n",
    "y_test_true = scaler.inverse_transform(y_test)"
   ]
  },
  {
   "cell_type": "code",
   "execution_count": 139,
   "metadata": {
    "colab": {
     "base_uri": "https://localhost:8080/"
    },
    "id": "4T9hzFzlLRaI",
    "outputId": "948ca852-68d5-4cd7-d974-9cfc30210c3b"
   },
   "outputs": [
    {
     "name": "stdout",
     "output_type": "stream",
     "text": [
      "MAE: 0.7419\n",
      "RMSE: 0.9534\n",
      "R^2: 0.7756\n"
     ]
    }
   ],
   "source": [
    "ut.evaluate(y_test_true, y_test_inv)"
   ]
  },
  {
   "cell_type": "code",
   "execution_count": 140,
   "metadata": {
    "colab": {
     "base_uri": "https://localhost:8080/",
     "height": 592
    },
    "id": "4o5-wPe4LRVO",
    "outputId": "eab0433a-ebdb-4ca9-c7f0-6342a1ffa62b"
   },
   "outputs": [
    {
     "data": {
      "image/png": "[encoded data removed]",
      "text/plain": [
       "<Figure size 1440x720 with 1 Axes>"
      ]
     },
     "metadata": {
      "needs_background": "light",
      "tags": []
     },
     "output_type": "display_data"
    }
   ],
   "source": [
    "plot_prediction(y_test_true, y_test_inv)"
   ]
  }
 ],
 "metadata": {
  "colab": {
   "collapsed_sections": [],
   "name": "LSTM",
   "provenance": []
  },
  "kernelspec": {
   "display_name": "Python 3",
   "language": "python",
   "name": "python3"
  },
  "language_info": {
   "codemirror_mode": {
    "name": "ipython",
    "version": 3
   },
   "file_extension": ".py",
   "mimetype": "text/x-python",
   "name": "python",
   "nbconvert_exporter": "python",
   "pygments_lexer": "ipython3",
   "version": "3.6.9"
  },
  "toc": {
   "base_numbering": 1,
   "nav_menu": {},
   "number_sections": false,
   "sideBar": true,
   "skip_h1_title": false,
   "title_cell": "Table of Contents",
   "title_sidebar": "Contents",
   "toc_cell": false,
   "toc_position": {},
   "toc_section_display": true,
   "toc_window_display": true
  }
 },
 "nbformat": 4,
 "nbformat_minor": 1
}
