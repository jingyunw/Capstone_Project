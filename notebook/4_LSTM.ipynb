{
 "cells": [
  {
   "cell_type": "markdown",
   "metadata": {
    "id": "E8Rnbkn7g3l9"
   },
   "source": [
    "# LSTM\n",
    "**Content:**\n",
    "- Google Colab Setup\n",
    "- Preprocessing\n",
    "- Modeling\n",
    "- Evaluation\n",
    "- Conclusion"
   ]
  },
  {
   "cell_type": "code",
   "execution_count": 1,
   "metadata": {
    "id": "zyMqgW5ihVU-"
   },
   "outputs": [],
   "source": [
    "# util.py has pmdarima function inside\n",
    "# Need to install it before import the pyfile\n",
    "# !pip install pmdarima"
   ]
  },
  {
   "cell_type": "markdown",
   "metadata": {
    "id": "IxqB6kJ5g03i"
   },
   "source": [
    "## I. Goole Colab Setup"
   ]
  },
  {
   "cell_type": "code",
   "execution_count": 2,
   "metadata": {
    "id": "wwfDbUjDe-Mx"
   },
   "outputs": [],
   "source": [
    "# Google Colab\n",
    "from google.colab import drive\n",
    "import os\n",
    "\n",
    "# General\n",
    "import pandas as pd\n",
    "import numpy as np\n",
    "import matplotlib.pyplot as plt\n",
    "%matplotlib inline\n",
    "import warnings\n",
    "warnings.filterwarnings('ignore')\n",
    "from pickle import dump, load\n",
    "\n",
    "# Scikit-Learn\n",
    "from sklearn.preprocessing import MinMaxScaler\n",
    "from sklearn.metrics import mean_absolute_error, mean_squared_error, r2_score\n",
    "from sklearn.model_selection import GridSearchCV\n",
    "\n",
    "# Keras, Tensorflow\n",
    "from tensorflow.keras.models import Sequential, load_model\n",
    "from tensorflow.keras.layers import LSTM, Dense, Dropout\n",
    "from tensorflow.keras.callbacks import EarlyStopping, ModelCheckpoint\n",
    "from tensorflow.keras.wrappers.scikit_learn import KerasRegressor"
   ]
  },
  {
   "cell_type": "code",
   "execution_count": 3,
   "metadata": {
    "colab": {
     "base_uri": "https://localhost:8080/"
    },
    "id": "7L2DWsfHfLcU",
    "outputId": "f207d5f3-29f7-4d50-d982-b3119d9f923d"
   },
   "outputs": [
    {
     "name": "stdout",
     "output_type": "stream",
     "text": [
      "Mounted at /gdrive\n"
     ]
    }
   ],
   "source": [
    "# Mount Google Drive\n",
    "drive.mount('/gdrive', force_remount=True)"
   ]
  },
  {
   "cell_type": "code",
   "execution_count": 4,
   "metadata": {
    "colab": {
     "base_uri": "https://localhost:8080/"
    },
    "id": "ZGNeDG67ePKF",
    "outputId": "e80fc431-83b0-4b0c-861b-9c3085c11993"
   },
   "outputs": [
    {
     "name": "stdout",
     "output_type": "stream",
     "text": [
      "/content\n"
     ]
    }
   ],
   "source": [
    "# Get the current working directory\n",
    "print(os.getcwd())"
   ]
  },
  {
   "cell_type": "code",
   "execution_count": 5,
   "metadata": {
    "id": "-d50lPIlePUS"
   },
   "outputs": [],
   "source": [
    "# Drive path is the path where I upload the ETFs history file and pre-written pyfile\n",
    "drive_path_csv = '/gdrive/MyDrive/Capstone_Project/REIT_ETFs.csv'\n",
    "drive_path_util = '/gdrive/MyDrive/Capstone_Project/util.py'\n",
    "\n",
    "# Expect to move these file into the local path\n",
    "local_path = '/content'"
   ]
  },
  {
   "cell_type": "code",
   "execution_count": 6,
   "metadata": {
    "id": "OjXoZYqYePcy"
   },
   "outputs": [],
   "source": [
    "# Copy these file in drive path\n",
    "!cp '{drive_path_csv}' .\n",
    "!cp '{drive_path_util}' .\n",
    "\n",
    "# Change these file from drive path to the local path\n",
    "os.chdir(local_path)"
   ]
  },
  {
   "cell_type": "code",
   "execution_count": 7,
   "metadata": {
    "id": "UZkFuoMqo2i7"
   },
   "outputs": [],
   "source": [
    "# Pre-written function\n",
    "import util as ut"
   ]
  },
  {
   "cell_type": "markdown",
   "metadata": {
    "id": "wX4TrSmvhBFS"
   },
   "source": [
    "## II. Preprocesing"
   ]
  },
  {
   "cell_type": "code",
   "execution_count": 8,
   "metadata": {
    "colab": {
     "base_uri": "https://localhost:8080/",
     "height": 419
    },
    "id": "TDBk_8lylots",
    "outputId": "3ccc4ef0-915c-4870-ab82-000fd5ded671"
   },
   "outputs": [
    {
     "data": {
      "text/html": [
       "<div>\n",
       "<style scoped>\n",
       "    .dataframe tbody tr th:only-of-type {\n",
       "        vertical-align: middle;\n",
       "    }\n",
       "\n",
       "    .dataframe tbody tr th {\n",
       "        vertical-align: top;\n",
       "    }\n",
       "\n",
       "    .dataframe thead th {\n",
       "        text-align: right;\n",
       "    }\n",
       "</style>\n",
       "<table border=\"1\" class=\"dataframe\">\n",
       "  <thead>\n",
       "    <tr style=\"text-align: right;\">\n",
       "      <th></th>\n",
       "      <th>Date</th>\n",
       "      <th>Open</th>\n",
       "      <th>High</th>\n",
       "      <th>Low</th>\n",
       "      <th>Close</th>\n",
       "      <th>Volume</th>\n",
       "      <th>Dividends</th>\n",
       "      <th>Stock Splits</th>\n",
       "      <th>Ticker</th>\n",
       "    </tr>\n",
       "  </thead>\n",
       "  <tbody>\n",
       "    <tr>\n",
       "      <th>0</th>\n",
       "      <td>2004-09-29</td>\n",
       "      <td>23.794544</td>\n",
       "      <td>23.861371</td>\n",
       "      <td>23.789772</td>\n",
       "      <td>23.794544</td>\n",
       "      <td>205800</td>\n",
       "      <td>0.0</td>\n",
       "      <td>0.0</td>\n",
       "      <td>VNQ</td>\n",
       "    </tr>\n",
       "    <tr>\n",
       "      <th>1</th>\n",
       "      <td>2004-09-30</td>\n",
       "      <td>23.866143</td>\n",
       "      <td>24.023660</td>\n",
       "      <td>23.861370</td>\n",
       "      <td>23.985474</td>\n",
       "      <td>27900</td>\n",
       "      <td>0.0</td>\n",
       "      <td>0.0</td>\n",
       "      <td>VNQ</td>\n",
       "    </tr>\n",
       "    <tr>\n",
       "      <th>2</th>\n",
       "      <td>2004-10-01</td>\n",
       "      <td>24.033207</td>\n",
       "      <td>24.462799</td>\n",
       "      <td>23.985476</td>\n",
       "      <td>24.429386</td>\n",
       "      <td>129800</td>\n",
       "      <td>0.0</td>\n",
       "      <td>0.0</td>\n",
       "      <td>VNQ</td>\n",
       "    </tr>\n",
       "    <tr>\n",
       "      <th>3</th>\n",
       "      <td>2004-10-04</td>\n",
       "      <td>24.529629</td>\n",
       "      <td>24.606000</td>\n",
       "      <td>24.529629</td>\n",
       "      <td>24.534403</td>\n",
       "      <td>8100</td>\n",
       "      <td>0.0</td>\n",
       "      <td>0.0</td>\n",
       "      <td>VNQ</td>\n",
       "    </tr>\n",
       "    <tr>\n",
       "      <th>4</th>\n",
       "      <td>2004-10-05</td>\n",
       "      <td>24.534403</td>\n",
       "      <td>24.582135</td>\n",
       "      <td>24.510535</td>\n",
       "      <td>24.529629</td>\n",
       "      <td>11900</td>\n",
       "      <td>0.0</td>\n",
       "      <td>0.0</td>\n",
       "      <td>VNQ</td>\n",
       "    </tr>\n",
       "    <tr>\n",
       "      <th>...</th>\n",
       "      <td>...</td>\n",
       "      <td>...</td>\n",
       "      <td>...</td>\n",
       "      <td>...</td>\n",
       "      <td>...</td>\n",
       "      <td>...</td>\n",
       "      <td>...</td>\n",
       "      <td>...</td>\n",
       "      <td>...</td>\n",
       "    </tr>\n",
       "    <tr>\n",
       "      <th>53434</th>\n",
       "      <td>2021-06-17</td>\n",
       "      <td>9.280000</td>\n",
       "      <td>9.290000</td>\n",
       "      <td>9.220000</td>\n",
       "      <td>9.220000</td>\n",
       "      <td>5200</td>\n",
       "      <td>0.0</td>\n",
       "      <td>0.0</td>\n",
       "      <td>REK</td>\n",
       "    </tr>\n",
       "    <tr>\n",
       "      <th>53435</th>\n",
       "      <td>2021-06-18</td>\n",
       "      <td>9.330000</td>\n",
       "      <td>9.370000</td>\n",
       "      <td>9.270000</td>\n",
       "      <td>9.370000</td>\n",
       "      <td>22800</td>\n",
       "      <td>0.0</td>\n",
       "      <td>0.0</td>\n",
       "      <td>REK</td>\n",
       "    </tr>\n",
       "    <tr>\n",
       "      <th>53436</th>\n",
       "      <td>2021-06-21</td>\n",
       "      <td>9.320000</td>\n",
       "      <td>9.320000</td>\n",
       "      <td>9.170000</td>\n",
       "      <td>9.170000</td>\n",
       "      <td>22900</td>\n",
       "      <td>0.0</td>\n",
       "      <td>0.0</td>\n",
       "      <td>REK</td>\n",
       "    </tr>\n",
       "    <tr>\n",
       "      <th>53437</th>\n",
       "      <td>2021-06-22</td>\n",
       "      <td>9.160000</td>\n",
       "      <td>9.230000</td>\n",
       "      <td>9.160000</td>\n",
       "      <td>9.220000</td>\n",
       "      <td>6200</td>\n",
       "      <td>0.0</td>\n",
       "      <td>0.0</td>\n",
       "      <td>REK</td>\n",
       "    </tr>\n",
       "    <tr>\n",
       "      <th>53438</th>\n",
       "      <td>2021-06-23</td>\n",
       "      <td>9.200000</td>\n",
       "      <td>9.260000</td>\n",
       "      <td>9.200000</td>\n",
       "      <td>9.260000</td>\n",
       "      <td>4500</td>\n",
       "      <td>0.0</td>\n",
       "      <td>0.0</td>\n",
       "      <td>REK</td>\n",
       "    </tr>\n",
       "  </tbody>\n",
       "</table>\n",
       "<p>53439 rows × 9 columns</p>\n",
       "</div>"
      ],
      "text/plain": [
       "             Date       Open       High  ...  Dividends  Stock Splits  Ticker\n",
       "0      2004-09-29  23.794544  23.861371  ...        0.0           0.0     VNQ\n",
       "1      2004-09-30  23.866143  24.023660  ...        0.0           0.0     VNQ\n",
       "2      2004-10-01  24.033207  24.462799  ...        0.0           0.0     VNQ\n",
       "3      2004-10-04  24.529629  24.606000  ...        0.0           0.0     VNQ\n",
       "4      2004-10-05  24.534403  24.582135  ...        0.0           0.0     VNQ\n",
       "...           ...        ...        ...  ...        ...           ...     ...\n",
       "53434  2021-06-17   9.280000   9.290000  ...        0.0           0.0     REK\n",
       "53435  2021-06-18   9.330000   9.370000  ...        0.0           0.0     REK\n",
       "53436  2021-06-21   9.320000   9.320000  ...        0.0           0.0     REK\n",
       "53437  2021-06-22   9.160000   9.230000  ...        0.0           0.0     REK\n",
       "53438  2021-06-23   9.200000   9.260000  ...        0.0           0.0     REK\n",
       "\n",
       "[53439 rows x 9 columns]"
      ]
     },
     "execution_count": 8,
     "metadata": {
      "tags": []
     },
     "output_type": "execute_result"
    }
   ],
   "source": [
    "data = pd.read_csv('/content/REIT_ETFs.csv')\n",
    "data"
   ]
  },
  {
   "cell_type": "code",
   "execution_count": 9,
   "metadata": {
    "id": "hMIJ-BYVl0Uh"
   },
   "outputs": [],
   "source": [
    "# Select one REIT ETF\n",
    "vnq = data.copy().loc[data['Ticker'] == \"VNQ\"]"
   ]
  },
  {
   "cell_type": "code",
   "execution_count": 10,
   "metadata": {
    "colab": {
     "base_uri": "https://localhost:8080/",
     "height": 467
    },
    "id": "jHN_jd77QhsN",
    "outputId": "820b0a37-c861-4ace-e0da-86c599a3ad1f"
   },
   "outputs": [
    {
     "name": "stdout",
     "output_type": "stream",
     "text": [
      "This dataframe's index is in datatime64? True\n"
     ]
    },
    {
     "data": {
      "text/html": [
       "<div>\n",
       "<style scoped>\n",
       "    .dataframe tbody tr th:only-of-type {\n",
       "        vertical-align: middle;\n",
       "    }\n",
       "\n",
       "    .dataframe tbody tr th {\n",
       "        vertical-align: top;\n",
       "    }\n",
       "\n",
       "    .dataframe thead th {\n",
       "        text-align: right;\n",
       "    }\n",
       "</style>\n",
       "<table border=\"1\" class=\"dataframe\">\n",
       "  <thead>\n",
       "    <tr style=\"text-align: right;\">\n",
       "      <th></th>\n",
       "      <th>Open</th>\n",
       "      <th>High</th>\n",
       "      <th>Low</th>\n",
       "      <th>Close</th>\n",
       "      <th>Volume</th>\n",
       "      <th>Dividends</th>\n",
       "      <th>Stock Splits</th>\n",
       "      <th>Ticker</th>\n",
       "    </tr>\n",
       "    <tr>\n",
       "      <th>Date</th>\n",
       "      <th></th>\n",
       "      <th></th>\n",
       "      <th></th>\n",
       "      <th></th>\n",
       "      <th></th>\n",
       "      <th></th>\n",
       "      <th></th>\n",
       "      <th></th>\n",
       "    </tr>\n",
       "  </thead>\n",
       "  <tbody>\n",
       "    <tr>\n",
       "      <th>2004-09-29</th>\n",
       "      <td>23.794544</td>\n",
       "      <td>23.861371</td>\n",
       "      <td>23.789772</td>\n",
       "      <td>23.794544</td>\n",
       "      <td>205800</td>\n",
       "      <td>0.0</td>\n",
       "      <td>0.0</td>\n",
       "      <td>VNQ</td>\n",
       "    </tr>\n",
       "    <tr>\n",
       "      <th>2004-09-30</th>\n",
       "      <td>23.866143</td>\n",
       "      <td>24.023660</td>\n",
       "      <td>23.861370</td>\n",
       "      <td>23.985474</td>\n",
       "      <td>27900</td>\n",
       "      <td>0.0</td>\n",
       "      <td>0.0</td>\n",
       "      <td>VNQ</td>\n",
       "    </tr>\n",
       "    <tr>\n",
       "      <th>2004-10-01</th>\n",
       "      <td>24.033207</td>\n",
       "      <td>24.462799</td>\n",
       "      <td>23.985476</td>\n",
       "      <td>24.429386</td>\n",
       "      <td>129800</td>\n",
       "      <td>0.0</td>\n",
       "      <td>0.0</td>\n",
       "      <td>VNQ</td>\n",
       "    </tr>\n",
       "    <tr>\n",
       "      <th>2004-10-04</th>\n",
       "      <td>24.529629</td>\n",
       "      <td>24.606000</td>\n",
       "      <td>24.529629</td>\n",
       "      <td>24.534403</td>\n",
       "      <td>8100</td>\n",
       "      <td>0.0</td>\n",
       "      <td>0.0</td>\n",
       "      <td>VNQ</td>\n",
       "    </tr>\n",
       "    <tr>\n",
       "      <th>2004-10-05</th>\n",
       "      <td>24.534403</td>\n",
       "      <td>24.582135</td>\n",
       "      <td>24.510535</td>\n",
       "      <td>24.529629</td>\n",
       "      <td>11900</td>\n",
       "      <td>0.0</td>\n",
       "      <td>0.0</td>\n",
       "      <td>VNQ</td>\n",
       "    </tr>\n",
       "    <tr>\n",
       "      <th>...</th>\n",
       "      <td>...</td>\n",
       "      <td>...</td>\n",
       "      <td>...</td>\n",
       "      <td>...</td>\n",
       "      <td>...</td>\n",
       "      <td>...</td>\n",
       "      <td>...</td>\n",
       "      <td>...</td>\n",
       "    </tr>\n",
       "    <tr>\n",
       "      <th>2021-06-17</th>\n",
       "      <td>103.410004</td>\n",
       "      <td>103.699997</td>\n",
       "      <td>102.860001</td>\n",
       "      <td>103.550003</td>\n",
       "      <td>5055100</td>\n",
       "      <td>0.0</td>\n",
       "      <td>0.0</td>\n",
       "      <td>VNQ</td>\n",
       "    </tr>\n",
       "    <tr>\n",
       "      <th>2021-06-18</th>\n",
       "      <td>103.019997</td>\n",
       "      <td>103.470001</td>\n",
       "      <td>101.790001</td>\n",
       "      <td>101.790001</td>\n",
       "      <td>5358000</td>\n",
       "      <td>0.0</td>\n",
       "      <td>0.0</td>\n",
       "      <td>VNQ</td>\n",
       "    </tr>\n",
       "    <tr>\n",
       "      <th>2021-06-21</th>\n",
       "      <td>102.309998</td>\n",
       "      <td>104.209999</td>\n",
       "      <td>101.800003</td>\n",
       "      <td>103.889999</td>\n",
       "      <td>3672900</td>\n",
       "      <td>0.0</td>\n",
       "      <td>0.0</td>\n",
       "      <td>VNQ</td>\n",
       "    </tr>\n",
       "    <tr>\n",
       "      <th>2021-06-22</th>\n",
       "      <td>103.889999</td>\n",
       "      <td>104.010002</td>\n",
       "      <td>103.279999</td>\n",
       "      <td>103.349998</td>\n",
       "      <td>3088200</td>\n",
       "      <td>0.0</td>\n",
       "      <td>0.0</td>\n",
       "      <td>VNQ</td>\n",
       "    </tr>\n",
       "    <tr>\n",
       "      <th>2021-06-23</th>\n",
       "      <td>103.349998</td>\n",
       "      <td>103.750000</td>\n",
       "      <td>103.080002</td>\n",
       "      <td>103.169998</td>\n",
       "      <td>3682900</td>\n",
       "      <td>0.0</td>\n",
       "      <td>0.0</td>\n",
       "      <td>VNQ</td>\n",
       "    </tr>\n",
       "  </tbody>\n",
       "</table>\n",
       "<p>4213 rows × 8 columns</p>\n",
       "</div>"
      ],
      "text/plain": [
       "                  Open        High         Low  ...  Dividends  Stock Splits  Ticker\n",
       "Date                                            ...                                 \n",
       "2004-09-29   23.794544   23.861371   23.789772  ...        0.0           0.0     VNQ\n",
       "2004-09-30   23.866143   24.023660   23.861370  ...        0.0           0.0     VNQ\n",
       "2004-10-01   24.033207   24.462799   23.985476  ...        0.0           0.0     VNQ\n",
       "2004-10-04   24.529629   24.606000   24.529629  ...        0.0           0.0     VNQ\n",
       "2004-10-05   24.534403   24.582135   24.510535  ...        0.0           0.0     VNQ\n",
       "...                ...         ...         ...  ...        ...           ...     ...\n",
       "2021-06-17  103.410004  103.699997  102.860001  ...        0.0           0.0     VNQ\n",
       "2021-06-18  103.019997  103.470001  101.790001  ...        0.0           0.0     VNQ\n",
       "2021-06-21  102.309998  104.209999  101.800003  ...        0.0           0.0     VNQ\n",
       "2021-06-22  103.889999  104.010002  103.279999  ...        0.0           0.0     VNQ\n",
       "2021-06-23  103.349998  103.750000  103.080002  ...        0.0           0.0     VNQ\n",
       "\n",
       "[4213 rows x 8 columns]"
      ]
     },
     "metadata": {
      "tags": []
     },
     "output_type": "display_data"
    }
   ],
   "source": [
    "# Preprocess the dataframe\n",
    "ut.preprocess_df(vnq)"
   ]
  },
  {
   "cell_type": "code",
   "execution_count": 11,
   "metadata": {
    "id": "YnEc3QyuDWL1"
   },
   "outputs": [],
   "source": [
    "# Split the data into train, validation, and test set\n",
    "# Test size = 1 month (22 days)\n",
    "# Val size = 1 year (253 days)\n",
    "# Train size = rest of the time\n",
    "train = vnq['Close'].iloc[:-275]\n",
    "val = vnq['Close'].iloc[-275:-22]\n",
    "test = vnq['Close'].iloc[-22:]"
   ]
  },
  {
   "cell_type": "code",
   "execution_count": 12,
   "metadata": {
    "colab": {
     "base_uri": "https://localhost:8080/"
    },
    "id": "1yLpegr7ZMtE",
    "outputId": "0981d37b-c58b-4cd0-ec26-32073b47a156"
   },
   "outputs": [
    {
     "name": "stdout",
     "output_type": "stream",
     "text": [
      "Train: date from 2004-09-29 00:00:00 to 2020-05-20 00:00:00, total of 3938 days\n",
      "Val: date from 2020-05-21 00:00:00 to 2021-05-21 00:00:00, total of 253 days\n",
      "Test: date from 2021-05-24 00:00:00 to 2021-06-23 00:00:00, total of 22 days\n"
     ]
    }
   ],
   "source": [
    "print(\"Train: date from {} to {}, total of {} days\".format(train.index[0],train.index[-1], len(train)))\n",
    "print(\"Val: date from {} to {}, total of {} days\".format(val.index[0],val.index[-1], len(val)))\n",
    "print(\"Test: date from {} to {}, total of {} days\".format(test.index[0],test.index[-1], len(test)))"
   ]
  },
  {
   "cell_type": "code",
   "execution_count": 13,
   "metadata": {
    "colab": {
     "base_uri": "https://localhost:8080/",
     "height": 481
    },
    "id": "0cmmaa9Q8lBF",
    "outputId": "0bb144ec-5a3a-41d5-ff64-bb83e32df92f"
   },
   "outputs": [
    {
     "data": {
      "image/png": "[encoded data removed]",
      "text/plain": [
       "<Figure size 864x576 with 1 Axes>"
      ]
     },
     "metadata": {
      "needs_background": "light",
      "tags": []
     },
     "output_type": "display_data"
    }
   ],
   "source": [
    "plt.figure(figsize=(12,8))\n",
    "train.plot()\n",
    "val.plot()\n",
    "test.plot()\n",
    "plt.title(\"VNQ\")\n",
    "plt.ylabel(\"Price\")\n",
    "plt.legend(['train', 'val', 'test'])\n",
    "plt.show()"
   ]
  },
  {
   "cell_type": "code",
   "execution_count": 14,
   "metadata": {
    "id": "wrsNRPZ6DWJS"
   },
   "outputs": [],
   "source": [
    "# Scale the data\n",
    "scaler = MinMaxScaler()\n",
    "\n",
    "train_scale = scaler.fit_transform(train.values.reshape(-1,1))\n",
    "val_scale = scaler.transform(val.values.reshape(-1,1))\n",
    "test_scale = scaler.transform(test.values.reshape(-1,1))"
   ]
  },
  {
   "cell_type": "code",
   "execution_count": 15,
   "metadata": {
    "id": "qFy1sqonG4ww"
   },
   "outputs": [],
   "source": [
    "# Save the scaler (for future use)\n",
    "# dump(scaler, open('/content/scaler.pkl', 'wb'))\n",
    "\n",
    "# Load the scaler (if run in another notebook)\n",
    "# sc = load(open('/content/scaler.pkl', 'rb'))"
   ]
  },
  {
   "cell_type": "code",
   "execution_count": 16,
   "metadata": {
    "id": "FPDxafppDWEP"
   },
   "outputs": [],
   "source": [
    "# Define a function to split the dataset into X and y part\n",
    "def xy_split (dataset, timestep):\n",
    "    '''\n",
    "    Split the time series into X and y part based on the number of timestep.\n",
    "    Ex. Use n days to predict the next preceding day (n+1) price.\n",
    "    \n",
    "    -*-*-*-*-*-*-*-*-*-*-*-*-*-*-*-*-*-*-*-*-*-*-*-*-*-*-*-*-*-*-*-*-*-*-*-*-*-*\n",
    "\n",
    "    Inputs:\n",
    "    - dataset: Time series data\n",
    "    - timestep: number of days in integer\n",
    "    \n",
    "    Return: \n",
    "    - X_part, y_part (in arrays)\n",
    "    '''\n",
    "    \n",
    "    X_part, y_part = [], []\n",
    "    \n",
    "    for i in range(len(dataset)-timestep-1):\n",
    "         \n",
    "        X_part.append(dataset[i:(i+timestep)])\n",
    "\n",
    "        y_part.append(dataset[i+timestep])\n",
    "\n",
    "    return np.array(X_part), np.array(y_part)"
   ]
  },
  {
   "cell_type": "markdown",
   "metadata": {
    "id": "EtAPkJOlNhWN"
   },
   "source": [
    "## III. Modeling\n",
    "Metric used:\n",
    "- MAE\n",
    "- RMSE\n",
    "- R^2"
   ]
  },
  {
   "cell_type": "markdown",
   "metadata": {
    "id": "QYCzb0gJNWdC"
   },
   "source": [
    "### Baseline Model"
   ]
  },
  {
   "cell_type": "code",
   "execution_count": 17,
   "metadata": {
    "id": "O-vXGQc3iQGs"
   },
   "outputs": [],
   "source": [
    "# X,y split with timestep of 1\n",
    "X_train, y_train = xy_split(train_scale, timestep=1)\n",
    "X_val, y_val = xy_split(val_scale, timestep=1)\n",
    "X_test, y_test = xy_split(test_scale, timestep=1)"
   ]
  },
  {
   "cell_type": "code",
   "execution_count": 18,
   "metadata": {
    "colab": {
     "base_uri": "https://localhost:8080/"
    },
    "id": "cHAsXu2fDWBm",
    "outputId": "61b2d25d-cd77-4a60-bc73-0f133e9e8168"
   },
   "outputs": [
    {
     "name": "stdout",
     "output_type": "stream",
     "text": [
      "X_train shape:  (3936, 1, 1)\n",
      "y_train shape:  (3936, 1)\n",
      "X_val shape:  (251, 1, 1)\n",
      "y_val shape:  (251, 1)\n",
      "X_test shape:  (20, 1, 1)\n",
      "y_test shape:  (20, 1)\n"
     ]
    }
   ],
   "source": [
    "print(\"X_train shape: \", X_train.shape)\n",
    "print(\"y_train shape: \", y_train.shape)\n",
    "\n",
    "print(\"X_val shape: \", X_val.shape)\n",
    "print(\"y_val shape: \", y_val.shape)\n",
    "\n",
    "print(\"X_test shape: \", X_test.shape)\n",
    "print(\"y_test shape: \", y_test.shape)"
   ]
  },
  {
   "cell_type": "markdown",
   "metadata": {
    "id": "agyLLlIzCCpI"
   },
   "source": [
    "### Early Stopping\n",
    "- Since the validation set is much smaller than train set, the validation curves (accuracy and loss) will be spiky before convergence. Early stopping will be applied to prevent model loss\n"
   ]
  },
  {
   "cell_type": "code",
   "execution_count": 19,
   "metadata": {
    "id": "yDyNeHjVA7IM"
   },
   "outputs": [],
   "source": [
    "# Early Stopping\n",
    "es = EarlyStopping(monitor='val_loss', mode='min', verbose=1, patience=6)  # early stopping when MSE reaches minimum"
   ]
  },
  {
   "cell_type": "code",
   "execution_count": 20,
   "metadata": {
    "id": "tKrs3bEoEVR1"
   },
   "outputs": [],
   "source": [
    "# Build the model\n",
    "base_model = Sequential()\n",
    "base_model.add(LSTM(units=50, return_sequences=True, input_shape=(X_train.shape[1:])))\n",
    "base_model.add(LSTM(50))\n",
    "base_model.add(Dense(units=1))\n",
    "\n",
    "# Compile the model\n",
    "base_model.compile(optimizer='adam', loss='mean_squared_error')"
   ]
  },
  {
   "cell_type": "code",
   "execution_count": 21,
   "metadata": {
    "colab": {
     "base_uri": "https://localhost:8080/"
    },
    "id": "2dqEE6gsEXg0",
    "outputId": "986dabe3-c443-4d93-eaf1-6cc12b531d9f"
   },
   "outputs": [
    {
     "name": "stdout",
     "output_type": "stream",
     "text": [
      "Model: \"sequential\"\n",
      "_________________________________________________________________\n",
      "Layer (type)                 Output Shape              Param #   \n",
      "=================================================================\n",
      "lstm (LSTM)                  (None, 1, 50)             10400     \n",
      "_________________________________________________________________\n",
      "lstm_1 (LSTM)                (None, 50)                20200     \n",
      "_________________________________________________________________\n",
      "dense (Dense)                (None, 1)                 51        \n",
      "=================================================================\n",
      "Total params: 30,651\n",
      "Trainable params: 30,651\n",
      "Non-trainable params: 0\n",
      "_________________________________________________________________\n"
     ]
    }
   ],
   "source": [
    "base_model.summary()"
   ]
  },
  {
   "cell_type": "code",
   "execution_count": 22,
   "metadata": {
    "id": "uqGL_MT5BzTB"
   },
   "outputs": [],
   "source": [
    "# Model Checkpoint\n",
    "mc_base = ModelCheckpoint(filepath='/content/t1_u50.h5',\n",
    "                          monitor='val_loss', mode='min', verbose=1, save_best_only=True)"
   ]
  },
  {
   "cell_type": "code",
   "execution_count": 23,
   "metadata": {
    "colab": {
     "base_uri": "https://localhost:8080/"
    },
    "id": "TU_YLsoviUBx",
    "outputId": "606e4723-7614-4ff9-feee-82b32abed58b"
   },
   "outputs": [
    {
     "name": "stdout",
     "output_type": "stream",
     "text": [
      "Epoch 1/50\n",
      "172/172 [==============================] - 4s 8ms/step - loss: 0.0467 - val_loss: 0.0019\n",
      "\n",
      "Epoch 00001: val_loss improved from inf to 0.00194, saving model to /content/t1_u50.h5\n",
      "Epoch 2/50\n",
      "172/172 [==============================] - 1s 4ms/step - loss: 5.9753e-04 - val_loss: 0.0016\n",
      "\n",
      "Epoch 00002: val_loss improved from 0.00194 to 0.00160, saving model to /content/t1_u50.h5\n",
      "Epoch 3/50\n",
      "172/172 [==============================] - 1s 4ms/step - loss: 3.2135e-04 - val_loss: 0.0010\n",
      "\n",
      "Epoch 00003: val_loss improved from 0.00160 to 0.00100, saving model to /content/t1_u50.h5\n",
      "Epoch 4/50\n",
      "172/172 [==============================] - 1s 4ms/step - loss: 2.6117e-04 - val_loss: 7.5382e-04\n",
      "\n",
      "Epoch 00004: val_loss improved from 0.00100 to 0.00075, saving model to /content/t1_u50.h5\n",
      "Epoch 5/50\n",
      "172/172 [==============================] - 1s 4ms/step - loss: 2.0064e-04 - val_loss: 5.2968e-04\n",
      "\n",
      "Epoch 00005: val_loss improved from 0.00075 to 0.00053, saving model to /content/t1_u50.h5\n",
      "Epoch 6/50\n",
      "172/172 [==============================] - 1s 4ms/step - loss: 1.5327e-04 - val_loss: 3.1978e-04\n",
      "\n",
      "Epoch 00006: val_loss improved from 0.00053 to 0.00032, saving model to /content/t1_u50.h5\n",
      "Epoch 7/50\n",
      "172/172 [==============================] - 1s 4ms/step - loss: 1.2294e-04 - val_loss: 2.8523e-04\n",
      "\n",
      "Epoch 00007: val_loss improved from 0.00032 to 0.00029, saving model to /content/t1_u50.h5\n",
      "Epoch 8/50\n",
      "172/172 [==============================] - 1s 4ms/step - loss: 1.0115e-04 - val_loss: 1.7625e-04\n",
      "\n",
      "Epoch 00008: val_loss improved from 0.00029 to 0.00018, saving model to /content/t1_u50.h5\n",
      "Epoch 9/50\n",
      "172/172 [==============================] - 1s 4ms/step - loss: 9.3704e-05 - val_loss: 1.7428e-04\n",
      "\n",
      "Epoch 00009: val_loss improved from 0.00018 to 0.00017, saving model to /content/t1_u50.h5\n",
      "Epoch 10/50\n",
      "172/172 [==============================] - 1s 4ms/step - loss: 8.9578e-05 - val_loss: 1.7618e-04\n",
      "\n",
      "Epoch 00010: val_loss did not improve from 0.00017\n",
      "Epoch 11/50\n",
      "172/172 [==============================] - 1s 4ms/step - loss: 8.6938e-05 - val_loss: 1.9093e-04\n",
      "\n",
      "Epoch 00011: val_loss did not improve from 0.00017\n",
      "Epoch 12/50\n",
      "172/172 [==============================] - 1s 4ms/step - loss: 8.7976e-05 - val_loss: 1.7566e-04\n",
      "\n",
      "Epoch 00012: val_loss did not improve from 0.00017\n",
      "Epoch 13/50\n",
      "172/172 [==============================] - 1s 4ms/step - loss: 9.2235e-05 - val_loss: 2.7897e-04\n",
      "\n",
      "Epoch 00013: val_loss did not improve from 0.00017\n",
      "Epoch 14/50\n",
      "172/172 [==============================] - 1s 4ms/step - loss: 8.8165e-05 - val_loss: 1.8318e-04\n",
      "\n",
      "Epoch 00014: val_loss did not improve from 0.00017\n",
      "Epoch 15/50\n",
      "172/172 [==============================] - 1s 4ms/step - loss: 9.2155e-05 - val_loss: 2.3172e-04\n",
      "\n",
      "Epoch 00015: val_loss did not improve from 0.00017\n",
      "Epoch 00015: early stopping\n"
     ]
    },
    {
     "data": {
      "text/plain": [
       "<tensorflow.python.keras.callbacks.History at 0x7f982db2b490>"
      ]
     },
     "execution_count": 23,
     "metadata": {
      "tags": []
     },
     "output_type": "execute_result"
    }
   ],
   "source": [
    "# Fit the model\n",
    "base_model.fit(X_train, y_train, batch_size=23, epochs=50,\n",
    "               validation_data=(X_val, y_val),\n",
    "               callbacks=[es, mc_base])"
   ]
  },
  {
   "cell_type": "code",
   "execution_count": 24,
   "metadata": {
    "colab": {
     "base_uri": "https://localhost:8080/"
    },
    "id": "i_kwrS29PVf5",
    "outputId": "cea7635b-abe8-4b69-dcf3-74c8adc9a175"
   },
   "outputs": [
    {
     "name": "stdout",
     "output_type": "stream",
     "text": [
      "Train results: \n",
      "MAE: 0.6614\n",
      "RMSE: 0.8826\n",
      "R^2: 0.9978\n",
      "None\n",
      "\n",
      "\n",
      "Val results: \n",
      "MAE: 1.0129\n",
      "RMSE: 1.2517\n",
      "R^2: 0.9667\n",
      "None\n"
     ]
    }
   ],
   "source": [
    "base_y_val_true, base_y_val_inv = ut.lstm_model_evaluation(base_model, scaler, X_train, y_train, X_val, y_val)"
   ]
  },
  {
   "cell_type": "code",
   "execution_count": 25,
   "metadata": {
    "colab": {
     "base_uri": "https://localhost:8080/",
     "height": 592
    },
    "id": "So9Y5p6rdnSc",
    "outputId": "f4371eee-36d4-4d24-bdac-a18acf4b81c6"
   },
   "outputs": [
    {
     "data": {
      "image/png": "[encoded data removed]",
      "text/plain": [
       "<Figure size 1440x720 with 1 Axes>"
      ]
     },
     "metadata": {
      "needs_background": "light",
      "tags": []
     },
     "output_type": "display_data"
    }
   ],
   "source": [
    "ut.lstm_plot_prediction(base_y_val_true, base_y_val_inv)"
   ]
  },
  {
   "cell_type": "markdown",
   "metadata": {
    "id": "kgoJIOHfa7fz"
   },
   "source": [
    ">**Comment:** *Baseline Model*\n",
    "- Val R2 (0.9667) is slightly less than train R2 0.9978 => slightly overfit\n",
    "- Both MAE and RMSE for train and val are relative small\n",
    "- The plot shows that the prediction results is pretty close to actual price"
   ]
  },
  {
   "cell_type": "markdown",
   "metadata": {
    "id": "5eBV8bGEO1XQ"
   },
   "source": [
    "### Tuning Steps\n",
    "- Timestep changing\n",
    "- Number of input featuers\n",
    "- Increase the depth of the model"
   ]
  },
  {
   "cell_type": "markdown",
   "metadata": {
    "id": "-mtTDu27t4W4"
   },
   "source": [
    "#### a)Time Steps"
   ]
  },
  {
   "cell_type": "markdown",
   "metadata": {
    "id": "pelgAZRjPNM2"
   },
   "source": [
    "##### timestep = 5"
   ]
  },
  {
   "cell_type": "code",
   "execution_count": 26,
   "metadata": {
    "id": "SAY_hyfoNcKY"
   },
   "outputs": [],
   "source": [
    "# X,y split with timestep of 5\n",
    "X_train_5, y_train_5 = xy_split(train_scale, timestep=5)\n",
    "X_val_5, y_val_5 = xy_split(val_scale, timestep=5)"
   ]
  },
  {
   "cell_type": "code",
   "execution_count": 27,
   "metadata": {
    "id": "YWw4dw4XPiIy"
   },
   "outputs": [],
   "source": [
    "# Build the model\n",
    "t5_model = Sequential()\n",
    "t5_model.add(LSTM(units=50, return_sequences=True, input_shape=(X_train_5.shape[1:])))\n",
    "t5_model.add(LSTM(50))\n",
    "t5_model.add(Dense(units=1))\n",
    "\n",
    "# Compile the model\n",
    "t5_model.compile(optimizer='adam', loss='mean_squared_error')"
   ]
  },
  {
   "cell_type": "code",
   "execution_count": 28,
   "metadata": {
    "id": "_ekc8B8vPr1R"
   },
   "outputs": [],
   "source": [
    "# Model Checkpoint\n",
    "mc_t5 = ModelCheckpoint(filepath='/content/t5_u50.h5',\n",
    "                        monitor='val_loss', mode='min', verbose=1, save_best_only=True)"
   ]
  },
  {
   "cell_type": "code",
   "execution_count": 29,
   "metadata": {
    "colab": {
     "base_uri": "https://localhost:8080/"
    },
    "id": "zml2U29RP5Fd",
    "outputId": "d0bfcbc4-769c-40be-890f-712baa173235"
   },
   "outputs": [
    {
     "name": "stdout",
     "output_type": "stream",
     "text": [
      "Epoch 1/50\n",
      "171/171 [==============================] - 5s 12ms/step - loss: 0.0197 - val_loss: 7.7946e-04\n",
      "\n",
      "Epoch 00001: val_loss improved from inf to 0.00078, saving model to /content/t5_u50.h5\n",
      "Epoch 2/50\n",
      "171/171 [==============================] - 1s 7ms/step - loss: 3.1372e-04 - val_loss: 4.7065e-04\n",
      "\n",
      "Epoch 00002: val_loss improved from 0.00078 to 0.00047, saving model to /content/t5_u50.h5\n",
      "Epoch 3/50\n",
      "171/171 [==============================] - 1s 8ms/step - loss: 2.6501e-04 - val_loss: 5.0211e-04\n",
      "\n",
      "Epoch 00003: val_loss did not improve from 0.00047\n",
      "Epoch 4/50\n",
      "171/171 [==============================] - 1s 8ms/step - loss: 2.4403e-04 - val_loss: 4.9924e-04\n",
      "\n",
      "Epoch 00004: val_loss did not improve from 0.00047\n",
      "Epoch 5/50\n",
      "171/171 [==============================] - 1s 8ms/step - loss: 2.2496e-04 - val_loss: 4.8397e-04\n",
      "\n",
      "Epoch 00005: val_loss did not improve from 0.00047\n",
      "Epoch 6/50\n",
      "171/171 [==============================] - 1s 8ms/step - loss: 2.3162e-04 - val_loss: 4.6098e-04\n",
      "\n",
      "Epoch 00006: val_loss improved from 0.00047 to 0.00046, saving model to /content/t5_u50.h5\n",
      "Epoch 7/50\n",
      "171/171 [==============================] - 1s 8ms/step - loss: 2.4452e-04 - val_loss: 4.5276e-04\n",
      "\n",
      "Epoch 00007: val_loss improved from 0.00046 to 0.00045, saving model to /content/t5_u50.h5\n",
      "Epoch 8/50\n",
      "171/171 [==============================] - 1s 7ms/step - loss: 2.2805e-04 - val_loss: 6.0978e-04\n",
      "\n",
      "Epoch 00008: val_loss did not improve from 0.00045\n",
      "Epoch 9/50\n",
      "171/171 [==============================] - 1s 7ms/step - loss: 2.3561e-04 - val_loss: 5.6171e-04\n",
      "\n",
      "Epoch 00009: val_loss did not improve from 0.00045\n",
      "Epoch 10/50\n",
      "171/171 [==============================] - 1s 8ms/step - loss: 2.3192e-04 - val_loss: 6.3823e-04\n",
      "\n",
      "Epoch 00010: val_loss did not improve from 0.00045\n",
      "Epoch 11/50\n",
      "171/171 [==============================] - 1s 8ms/step - loss: 2.3296e-04 - val_loss: 6.1574e-04\n",
      "\n",
      "Epoch 00011: val_loss did not improve from 0.00045\n",
      "Epoch 12/50\n",
      "171/171 [==============================] - 1s 8ms/step - loss: 2.3609e-04 - val_loss: 7.1496e-04\n",
      "\n",
      "Epoch 00012: val_loss did not improve from 0.00045\n",
      "Epoch 13/50\n",
      "171/171 [==============================] - 1s 7ms/step - loss: 2.5180e-04 - val_loss: 5.3632e-04\n",
      "\n",
      "Epoch 00013: val_loss did not improve from 0.00045\n",
      "Epoch 00013: early stopping\n"
     ]
    },
    {
     "data": {
      "text/plain": [
       "<tensorflow.python.keras.callbacks.History at 0x7f9829767d90>"
      ]
     },
     "execution_count": 29,
     "metadata": {
      "tags": []
     },
     "output_type": "execute_result"
    }
   ],
   "source": [
    "# Fit the model\n",
    "t5_model.fit(X_train_5, y_train_5, batch_size=23, epochs=50,\n",
    "             validation_data=(X_val_5, y_val_5),\n",
    "             callbacks=[es, mc_t5])"
   ]
  },
  {
   "cell_type": "code",
   "execution_count": 30,
   "metadata": {
    "colab": {
     "base_uri": "https://localhost:8080/"
    },
    "id": "AMVEJtuOQSY4",
    "outputId": "6e820bb3-9b06-46b1-f8a3-50bee637a816"
   },
   "outputs": [
    {
     "name": "stdout",
     "output_type": "stream",
     "text": [
      "Train results: \n",
      "MAE: 0.7877\n",
      "RMSE: 1.1761\n",
      "R^2: 0.9961\n",
      "None\n",
      "\n",
      "\n",
      "Val results: \n",
      "MAE: 1.5363\n",
      "RMSE: 1.9042\n",
      "R^2: 0.9214\n",
      "None\n"
     ]
    }
   ],
   "source": [
    "t5_y_val_true, t5_y_val_inv = ut.lstm_model_evaluation(t5_model, scaler, X_train_5, y_train_5, X_val_5, y_val_5)"
   ]
  },
  {
   "cell_type": "code",
   "execution_count": 31,
   "metadata": {
    "colab": {
     "base_uri": "https://localhost:8080/",
     "height": 592
    },
    "id": "Sgtuonz2QlYn",
    "outputId": "79a7d0eb-1b28-45d5-bd9c-343707362ce3"
   },
   "outputs": [
    {
     "data": {
      "image/png": "[encoded data removed]",
      "text/plain": [
       "<Figure size 1440x720 with 1 Axes>"
      ]
     },
     "metadata": {
      "needs_background": "light",
      "tags": []
     },
     "output_type": "display_data"
    }
   ],
   "source": [
    "ut.lstm_plot_prediction(t5_y_val_true, t5_y_val_inv)"
   ]
  },
  {
   "cell_type": "markdown",
   "metadata": {},
   "source": [
    ">**Comment:** *timestep = 5*\n",
    "- Val R2 (0.9214) is slightly less than train R2 (0.9961) => slightly overfit\n",
    "- Both MAE and RMSE for train and val are relative small\n",
    "- The plot shows that the prediction results can track the pattern but it's somewhat far away from the actual price"
   ]
  },
  {
   "cell_type": "markdown",
   "metadata": {
    "id": "kFPTNErxQuCG"
   },
   "source": [
    "##### timestep = 21"
   ]
  },
  {
   "cell_type": "code",
   "execution_count": 32,
   "metadata": {
    "id": "HSHthplsQrCc"
   },
   "outputs": [],
   "source": [
    "# X,y split with timestep of 21\n",
    "X_train_21, y_train_21 = xy_split(train_scale, timestep=21)\n",
    "X_val_21, y_val_21 = xy_split(val_scale, timestep=21)"
   ]
  },
  {
   "cell_type": "code",
   "execution_count": 33,
   "metadata": {
    "id": "vg0fKftbQtpP"
   },
   "outputs": [],
   "source": [
    "# Build the model\n",
    "t21_model = Sequential()\n",
    "t21_model.add(LSTM(units=50, return_sequences=True, input_shape=(X_train_21.shape[1:])))\n",
    "t21_model.add(LSTM(units=50))\n",
    "t21_model.add(Dense(units=1))\n",
    "\n",
    "# Compile the model\n",
    "t21_model.compile(optimizer='adam', loss='mean_squared_error')"
   ]
  },
  {
   "cell_type": "code",
   "execution_count": 34,
   "metadata": {
    "id": "VIQO1Yu1QtnO"
   },
   "outputs": [],
   "source": [
    "# Model Checkpoint\n",
    "mc_t21 = ModelCheckpoint(filepath='/content/t21_u50.h5',\n",
    "                         monitor='val_loss', mode='min', verbose=1, save_best_only=True)"
   ]
  },
  {
   "cell_type": "code",
   "execution_count": 35,
   "metadata": {
    "colab": {
     "base_uri": "https://localhost:8080/"
    },
    "id": "MRGXGglgQtkQ",
    "outputId": "51f9c6c9-72a1-4247-ebef-6ca09c4c5373"
   },
   "outputs": [
    {
     "name": "stdout",
     "output_type": "stream",
     "text": [
      "Epoch 1/50\n",
      "171/171 [==============================] - 8s 25ms/step - loss: 0.0111 - val_loss: 7.5738e-04\n",
      "\n",
      "Epoch 00001: val_loss improved from inf to 0.00076, saving model to /content/t21_u50.h5\n",
      "Epoch 2/50\n",
      "171/171 [==============================] - 4s 21ms/step - loss: 4.3872e-04 - val_loss: 6.6505e-04\n",
      "\n",
      "Epoch 00002: val_loss improved from 0.00076 to 0.00067, saving model to /content/t21_u50.h5\n",
      "Epoch 3/50\n",
      "171/171 [==============================] - 4s 21ms/step - loss: 4.1297e-04 - val_loss: 6.7826e-04\n",
      "\n",
      "Epoch 00003: val_loss did not improve from 0.00067\n",
      "Epoch 4/50\n",
      "171/171 [==============================] - 4s 21ms/step - loss: 3.9655e-04 - val_loss: 6.0660e-04\n",
      "\n",
      "Epoch 00004: val_loss improved from 0.00067 to 0.00061, saving model to /content/t21_u50.h5\n",
      "Epoch 5/50\n",
      "171/171 [==============================] - 4s 21ms/step - loss: 4.5666e-04 - val_loss: 5.3631e-04\n",
      "\n",
      "Epoch 00005: val_loss improved from 0.00061 to 0.00054, saving model to /content/t21_u50.h5\n",
      "Epoch 6/50\n",
      "171/171 [==============================] - 4s 21ms/step - loss: 3.6272e-04 - val_loss: 0.0012\n",
      "\n",
      "Epoch 00006: val_loss did not improve from 0.00054\n",
      "Epoch 7/50\n",
      "171/171 [==============================] - 4s 21ms/step - loss: 3.4155e-04 - val_loss: 4.5380e-04\n",
      "\n",
      "Epoch 00007: val_loss improved from 0.00054 to 0.00045, saving model to /content/t21_u50.h5\n",
      "Epoch 8/50\n",
      "171/171 [==============================] - 4s 21ms/step - loss: 3.2058e-04 - val_loss: 4.9172e-04\n",
      "\n",
      "Epoch 00008: val_loss did not improve from 0.00045\n",
      "Epoch 9/50\n",
      "171/171 [==============================] - 4s 21ms/step - loss: 3.0871e-04 - val_loss: 4.9545e-04\n",
      "\n",
      "Epoch 00009: val_loss did not improve from 0.00045\n",
      "Epoch 10/50\n",
      "171/171 [==============================] - 4s 21ms/step - loss: 3.0046e-04 - val_loss: 8.6048e-04\n",
      "\n",
      "Epoch 00010: val_loss did not improve from 0.00045\n",
      "Epoch 11/50\n",
      "171/171 [==============================] - 4s 21ms/step - loss: 2.7722e-04 - val_loss: 4.6657e-04\n",
      "\n",
      "Epoch 00011: val_loss did not improve from 0.00045\n",
      "Epoch 12/50\n",
      "171/171 [==============================] - 4s 21ms/step - loss: 2.6404e-04 - val_loss: 9.4429e-04\n",
      "\n",
      "Epoch 00012: val_loss did not improve from 0.00045\n",
      "Epoch 13/50\n",
      "171/171 [==============================] - 3s 20ms/step - loss: 2.6215e-04 - val_loss: 0.0013\n",
      "\n",
      "Epoch 00013: val_loss did not improve from 0.00045\n",
      "Epoch 00013: early stopping\n"
     ]
    },
    {
     "data": {
      "text/plain": [
       "<tensorflow.python.keras.callbacks.History at 0x7f9825a5a3d0>"
      ]
     },
     "execution_count": 35,
     "metadata": {
      "tags": []
     },
     "output_type": "execute_result"
    }
   ],
   "source": [
    "# Fit the model\n",
    "t21_model.fit(X_train_21, y_train_21, batch_size=23, epochs=50,\n",
    "              validation_data=(X_val_21, y_val_21),\n",
    "              callbacks=[es, mc_t21])"
   ]
  },
  {
   "cell_type": "code",
   "execution_count": 36,
   "metadata": {
    "colab": {
     "base_uri": "https://localhost:8080/"
    },
    "id": "Y4kJ430dQtiI",
    "outputId": "19083c78-8bde-4299-9c9b-ac14e812edfd"
   },
   "outputs": [
    {
     "name": "stdout",
     "output_type": "stream",
     "text": [
      "Train results: \n",
      "MAE: 1.3377\n",
      "RMSE: 1.6635\n",
      "R^2: 0.9921\n",
      "None\n",
      "\n",
      "\n",
      "Val results: \n",
      "MAE: 2.5938\n",
      "RMSE: 2.9419\n",
      "R^2: 0.8157\n",
      "None\n"
     ]
    }
   ],
   "source": [
    "t21_y_val_true, t21_y_val_inv = ut.lstm_model_evaluation(t21_model, scaler, X_train_21, y_train_21, X_val_21, y_val_21)"
   ]
  },
  {
   "cell_type": "code",
   "execution_count": 37,
   "metadata": {
    "colab": {
     "base_uri": "https://localhost:8080/",
     "height": 592
    },
    "id": "-uUUVR1MQtfu",
    "outputId": "05f5a278-d506-4a2b-acf2-8cd2fa2f00c4"
   },
   "outputs": [
    {
     "data": {
      "image/png": "[encoded data removed]",
      "text/plain": [
       "<Figure size 1440x720 with 1 Axes>"
      ]
     },
     "metadata": {
      "needs_background": "light",
      "tags": []
     },
     "output_type": "display_data"
    }
   ],
   "source": [
    "ut.lstm_plot_prediction(t21_y_val_true, t21_y_val_inv)"
   ]
  },
  {
   "cell_type": "markdown",
   "metadata": {},
   "source": [
    ">**Comment:** *timestep = 21*\n",
    "- Val R2 (0.8157) is less than train R2 (0.9921) => overfit\n",
    "- Both MAE and RMSE for train and val are small. But the errors are bigger than baseline model's result\n",
    "- The plot shows that the prediction results can track the pattern but it's far away from the actual price"
   ]
  },
  {
   "cell_type": "markdown",
   "metadata": {
    "id": "IJMlks6GYCSY"
   },
   "source": [
    "#### Timestep Choosing\n",
    "- Increasing the time step can not improve the model performance. Although it can track the price pattern, the predicted results would become far away from the actual price when increasing the timestep\n",
    "- <b>timestep = 1</b> (baseline model) will be used for further model tuning"
   ]
  },
  {
   "cell_type": "markdown",
   "metadata": {
    "id": "Wnm-KRTfuNQ8"
   },
   "source": [
    "#### b) Input Features"
   ]
  },
  {
   "cell_type": "markdown",
   "metadata": {
    "id": "mEHa5kkuzt_B"
   },
   "source": [
    "##### Grid Search"
   ]
  },
  {
   "cell_type": "code",
   "execution_count": 38,
   "metadata": {
    "id": "-MRBycBwlxYL"
   },
   "outputs": [],
   "source": [
    "def feature_model(features):\n",
    "    '''\n",
    "    Create a LSTM model with custom input features.\n",
    "\n",
    "    -*-*-*-*-*-*-*-*-*-*-*-*-*-*-*-*-*-*-*-*-*-*-*-*-*-*-*-*-*-*-*-*-*-*-*-*-*-*\n",
    "\n",
    "    Inputs:\n",
    "    - fetures: integer\n",
    "\n",
    "    Return:\n",
    "    - Custom model\n",
    "    '''\n",
    "\n",
    "    # Build the model\n",
    "    model = Sequential()\n",
    "    model.add(LSTM(units=features, return_sequences=True, input_shape=(X_train.shape[1:])))\n",
    "    model.add(LSTM(units=features))\n",
    "    model.add(Dense(units=1))\n",
    "\n",
    "    # Compile the model\n",
    "    model.compile(optimizer='adam', loss='mean_squared_error')\n",
    "  \n",
    "    return model"
   ]
  },
  {
   "cell_type": "code",
   "execution_count": 39,
   "metadata": {
    "id": "qJaF0dKShbiO"
   },
   "outputs": [],
   "source": [
    "# Wrapper\n",
    "f_model = KerasRegressor(build_fn=feature_model)"
   ]
  },
  {
   "cell_type": "code",
   "execution_count": 40,
   "metadata": {
    "id": "wsxCIOJehuv3"
   },
   "outputs": [],
   "source": [
    "# Input features\n",
    "f = [50, 100, 150, 200, 250, 300]\n",
    "\n",
    "# Parameter grid\n",
    "f_param_grid = dict(features = f)"
   ]
  },
  {
   "cell_type": "code",
   "execution_count": 41,
   "metadata": {
    "id": "FnQgFiC6huta"
   },
   "outputs": [],
   "source": [
    "# Grid Search\n",
    "f_grid = GridSearchCV(f_model, param_grid = f_param_grid, cv=3)"
   ]
  },
  {
   "cell_type": "code",
   "execution_count": 42,
   "metadata": {
    "colab": {
     "base_uri": "https://localhost:8080/"
    },
    "id": "2flYfSLmhuo1",
    "outputId": "92d8cd2c-ed8a-4fa5-e8d8-50f90185be03"
   },
   "outputs": [
    {
     "name": "stdout",
     "output_type": "stream",
     "text": [
      "Epoch 00009: early stopping\n",
      "41/41 [==============================] - 1s 2ms/step - loss: 9.9429e-04\n",
      "Epoch 00026: early stopping\n",
      "41/41 [==============================] - 1s 2ms/step - loss: 3.8632e-05\n",
      "Epoch 00026: early stopping\n",
      "41/41 [==============================] - 1s 2ms/step - loss: 1.4186e-04\n",
      "Epoch 00008: early stopping\n",
      "41/41 [==============================] - 1s 2ms/step - loss: 4.9124e-04\n",
      "Epoch 00024: early stopping\n",
      "41/41 [==============================] - 1s 3ms/step - loss: 8.8213e-05\n",
      "Epoch 00024: early stopping\n",
      "41/41 [==============================] - 1s 2ms/step - loss: 1.7326e-04\n",
      "Epoch 00023: early stopping\n",
      "41/41 [==============================] - 1s 3ms/step - loss: 7.2445e-05\n",
      "Epoch 00019: early stopping\n",
      "41/41 [==============================] - 1s 2ms/step - loss: 4.0194e-05\n",
      "Epoch 00024: early stopping\n",
      "41/41 [==============================] - 1s 2ms/step - loss: 1.3977e-04\n",
      "Epoch 00026: early stopping\n",
      "41/41 [==============================] - 1s 3ms/step - loss: 8.1192e-05\n",
      "Epoch 00025: early stopping\n",
      "41/41 [==============================] - 1s 4ms/step - loss: 5.8375e-05\n",
      "Epoch 00007: early stopping\n",
      "41/41 [==============================] - 1s 4ms/step - loss: 3.4819e-04\n",
      "Epoch 00018: early stopping\n",
      "41/41 [==============================] - 1s 5ms/step - loss: 7.6528e-05\n",
      "Epoch 00023: early stopping\n",
      "41/41 [==============================] - 1s 5ms/step - loss: 4.2549e-05\n",
      "Epoch 00023: early stopping\n",
      "41/41 [==============================] - 1s 5ms/step - loss: 1.7427e-04\n",
      "Epoch 00021: early stopping\n",
      "41/41 [==============================] - 1s 5ms/step - loss: 7.3705e-05\n",
      "Epoch 00013: early stopping\n",
      "41/41 [==============================] - 1s 6ms/step - loss: 5.7210e-05\n",
      "Epoch 00007: early stopping\n",
      "41/41 [==============================] - 1s 6ms/step - loss: 2.8454e-04\n",
      "Epoch 00017: early stopping\n"
     ]
    }
   ],
   "source": [
    "f_grid_history = f_grid.fit(X_train, y_train,\n",
    "                            batch_size=23, epochs=50,\n",
    "                            validation_data=(X_val, y_val),\n",
    "                            callbacks=es,\n",
    "                            verbose=0)"
   ]
  },
  {
   "cell_type": "code",
   "execution_count": 43,
   "metadata": {
    "colab": {
     "base_uri": "https://localhost:8080/"
    },
    "id": "Fcx_mLj3humR",
    "outputId": "f2fef87d-e5d0-4921-b713-e022126339c8"
   },
   "outputs": [
    {
     "data": {
      "text/plain": [
       "{'features': 150}"
      ]
     },
     "execution_count": 43,
     "metadata": {
      "tags": []
     },
     "output_type": "execute_result"
    }
   ],
   "source": [
    "# Find the best parameter\n",
    "f_grid_history.best_params_"
   ]
  },
  {
   "cell_type": "code",
   "execution_count": 44,
   "metadata": {
    "colab": {
     "base_uri": "https://localhost:8080/"
    },
    "id": "WjWIy1k0P-AW",
    "outputId": "a32827be-d42c-499e-9bb1-8db081ee0837"
   },
   "outputs": [
    {
     "data": {
      "text/plain": [
       "150"
      ]
     },
     "execution_count": 44,
     "metadata": {
      "tags": []
     },
     "output_type": "execute_result"
    }
   ],
   "source": [
    "# Number of features\n",
    "n_features = f_grid_history.best_params_['features']\n",
    "n_features"
   ]
  },
  {
   "cell_type": "markdown",
   "metadata": {
    "id": "vg_W9vgkrCdE"
   },
   "source": [
    "##### input features = 150"
   ]
  },
  {
   "cell_type": "code",
   "execution_count": 49,
   "metadata": {
    "id": "liv2y41AnRrv"
   },
   "outputs": [],
   "source": [
    "model_f150 = feature_model(n_features)"
   ]
  },
  {
   "cell_type": "code",
   "execution_count": 50,
   "metadata": {
    "id": "juzbGEC8nDc3"
   },
   "outputs": [],
   "source": [
    "mc_f150 = ModelCheckpoint(filepath='/content/f150.h5',\n",
    "                          monitor='val_loss', mode='min', verbose=1, save_best_only=True)"
   ]
  },
  {
   "cell_type": "code",
   "execution_count": 51,
   "metadata": {
    "colab": {
     "base_uri": "https://localhost:8080/"
    },
    "id": "QH3FpZ1HnDZ6",
    "outputId": "75978388-bc7c-4c27-8e02-2888764b8fcd"
   },
   "outputs": [
    {
     "name": "stdout",
     "output_type": "stream",
     "text": [
      "Epoch 1/50\n",
      "172/172 [==============================] - 5s 12ms/step - loss: 0.0251 - val_loss: 7.7644e-04\n",
      "\n",
      "Epoch 00001: val_loss improved from inf to 0.00078, saving model to /content/f150.h5\n",
      "Epoch 2/50\n",
      "172/172 [==============================] - 1s 8ms/step - loss: 1.9355e-04 - val_loss: 4.0308e-04\n",
      "\n",
      "Epoch 00002: val_loss improved from 0.00078 to 0.00040, saving model to /content/f150.h5\n",
      "Epoch 3/50\n",
      "172/172 [==============================] - 1s 8ms/step - loss: 1.6115e-04 - val_loss: 3.9721e-04\n",
      "\n",
      "Epoch 00003: val_loss improved from 0.00040 to 0.00040, saving model to /content/f150.h5\n",
      "Epoch 4/50\n",
      "172/172 [==============================] - 1s 7ms/step - loss: 1.3038e-04 - val_loss: 3.2161e-04\n",
      "\n",
      "Epoch 00004: val_loss improved from 0.00040 to 0.00032, saving model to /content/f150.h5\n",
      "Epoch 5/50\n",
      "172/172 [==============================] - 1s 8ms/step - loss: 1.0894e-04 - val_loss: 2.6634e-04\n",
      "\n",
      "Epoch 00005: val_loss improved from 0.00032 to 0.00027, saving model to /content/f150.h5\n",
      "Epoch 6/50\n",
      "172/172 [==============================] - 1s 7ms/step - loss: 9.8996e-05 - val_loss: 1.8087e-04\n",
      "\n",
      "Epoch 00006: val_loss improved from 0.00027 to 0.00018, saving model to /content/f150.h5\n",
      "Epoch 7/50\n",
      "172/172 [==============================] - 1s 8ms/step - loss: 8.9966e-05 - val_loss: 1.9587e-04\n",
      "\n",
      "Epoch 00007: val_loss did not improve from 0.00018\n",
      "Epoch 8/50\n",
      "172/172 [==============================] - 1s 8ms/step - loss: 9.2092e-05 - val_loss: 1.7098e-04\n",
      "\n",
      "Epoch 00008: val_loss improved from 0.00018 to 0.00017, saving model to /content/f150.h5\n",
      "Epoch 9/50\n",
      "172/172 [==============================] - 1s 8ms/step - loss: 9.1019e-05 - val_loss: 1.7155e-04\n",
      "\n",
      "Epoch 00009: val_loss did not improve from 0.00017\n",
      "Epoch 10/50\n",
      "172/172 [==============================] - 1s 8ms/step - loss: 8.9589e-05 - val_loss: 1.7347e-04\n",
      "\n",
      "Epoch 00010: val_loss did not improve from 0.00017\n",
      "Epoch 11/50\n",
      "172/172 [==============================] - 1s 8ms/step - loss: 9.1040e-05 - val_loss: 1.7064e-04\n",
      "\n",
      "Epoch 00011: val_loss improved from 0.00017 to 0.00017, saving model to /content/f150.h5\n",
      "Epoch 12/50\n",
      "172/172 [==============================] - 1s 8ms/step - loss: 9.1860e-05 - val_loss: 2.1992e-04\n",
      "\n",
      "Epoch 00012: val_loss did not improve from 0.00017\n",
      "Epoch 13/50\n",
      "172/172 [==============================] - 1s 7ms/step - loss: 9.1109e-05 - val_loss: 2.5454e-04\n",
      "\n",
      "Epoch 00013: val_loss did not improve from 0.00017\n",
      "Epoch 14/50\n",
      "172/172 [==============================] - 1s 7ms/step - loss: 9.5790e-05 - val_loss: 1.7812e-04\n",
      "\n",
      "Epoch 00014: val_loss did not improve from 0.00017\n",
      "Epoch 15/50\n",
      "172/172 [==============================] - 1s 7ms/step - loss: 9.3013e-05 - val_loss: 1.8318e-04\n",
      "\n",
      "Epoch 00015: val_loss did not improve from 0.00017\n",
      "Epoch 16/50\n",
      "172/172 [==============================] - 1s 7ms/step - loss: 9.4893e-05 - val_loss: 2.9098e-04\n",
      "\n",
      "Epoch 00016: val_loss did not improve from 0.00017\n",
      "Epoch 17/50\n",
      "172/172 [==============================] - 1s 7ms/step - loss: 9.9811e-05 - val_loss: 3.2391e-04\n",
      "\n",
      "Epoch 00017: val_loss did not improve from 0.00017\n",
      "Epoch 00017: early stopping\n"
     ]
    },
    {
     "data": {
      "text/plain": [
       "<tensorflow.python.keras.callbacks.History at 0x7f9823213a90>"
      ]
     },
     "execution_count": 51,
     "metadata": {
      "tags": []
     },
     "output_type": "execute_result"
    }
   ],
   "source": [
    "model_f150.fit(X_train, y_train, batch_size=23, epochs=50,\n",
    "               validation_data=(X_val, y_val),\n",
    "               callbacks=[es, mc_f150])"
   ]
  },
  {
   "cell_type": "code",
   "execution_count": 52,
   "metadata": {
    "id": "vcglvWAtgtCl"
   },
   "outputs": [],
   "source": [
    "f150 = load_model('/content/f150.h5')"
   ]
  },
  {
   "cell_type": "code",
   "execution_count": 53,
   "metadata": {
    "colab": {
     "base_uri": "https://localhost:8080/"
    },
    "id": "r-XBtPCak5pI",
    "outputId": "03c090eb-a702-4b92-a58a-cb24ba12058e"
   },
   "outputs": [
    {
     "name": "stdout",
     "output_type": "stream",
     "text": [
      "Train results: \n",
      "MAE: 0.4878\n",
      "RMSE: 0.7660\n",
      "R^2: 0.9983\n",
      "None\n",
      "\n",
      "\n",
      "Val results: \n",
      "MAE: 0.8256\n",
      "RMSE: 1.0741\n",
      "R^2: 0.9755\n",
      "None\n"
     ]
    }
   ],
   "source": [
    "f150_y_val_true, f150_y_val_inv = ut.lstm_model_evaluation(f150, scaler, X_train, y_train, X_val, y_val)"
   ]
  },
  {
   "cell_type": "code",
   "execution_count": 56,
   "metadata": {
    "colab": {
     "base_uri": "https://localhost:8080/",
     "height": 592
    },
    "id": "sM0eGAm2k5lQ",
    "outputId": "2d16d98c-c0da-41cd-d380-ec9420d7b4fe"
   },
   "outputs": [
    {
     "data": {
      "image/png": "[encoded data removed]",
      "text/plain": [
       "<Figure size 1440x720 with 1 Axes>"
      ]
     },
     "metadata": {
      "needs_background": "light",
      "tags": []
     },
     "output_type": "display_data"
    }
   ],
   "source": [
    "ut.lstm_plot_prediction(f150_y_val_true, f150_y_val_inv)"
   ]
  },
  {
   "cell_type": "markdown",
   "metadata": {},
   "source": [
    ">**Comment:** *input feature = 150*\n",
    "- The R2 of f150 (0.9755) shows improvement compare with the baseline model (0.9667) \n",
    "- Both MAE and RMSE for f150 (0.8256, 1.0741) is less than the baseline model (1.0129, 1.2517)\n",
    "- The plot shows that the prediction results is pretty close to actual price. More points are predicted compare with baseline model"
   ]
  },
  {
   "cell_type": "markdown",
   "metadata": {
    "id": "0lhIvoIRthFb"
   },
   "source": [
    "#### c) Layers"
   ]
  },
  {
   "cell_type": "code",
   "execution_count": 57,
   "metadata": {
    "id": "kXla1kJto0UU"
   },
   "outputs": [],
   "source": [
    "def stack_model(layers):\n",
    "    '''\n",
    "    Create a LSTM with custom hidden layers.\n",
    "    \n",
    "    -*-*-*-*-*-*-*-*-*-*-*-*-*-*-*-*-*-*-*-*-*-*-*-*-*-*-*-*-*-*-*-*-*-*-*-*-*-*\n",
    "\n",
    "    Inputs:\n",
    "    - layers: interger (number of hidden layers)\n",
    "    \n",
    "    Return:\n",
    "    - Custome model\n",
    "\n",
    "    '''\n",
    "    if layers == 2:\n",
    "        # Build the model\n",
    "        model = Sequential()\n",
    "        model.add(LSTM(units=n_features, return_sequences=True, input_shape=(X_train.shape[1:])))\n",
    "        model.add(LSTM(units=n_features))\n",
    "        model.add(Dense(units=1))\n",
    "\n",
    "        # Compile the model\n",
    "        model.compile(optimizer='adam', loss='mean_squared_error')\n",
    "    \n",
    "        return model\n",
    "    \n",
    "    elif layers == 3:\n",
    "        # Build the model\n",
    "        model = Sequential()\n",
    "        model.add(LSTM(units=n_features, return_sequences=True, input_shape=(X_train.shape[1:])))\n",
    "        model.add(LSTM(units=n_features, return_sequences=True))\n",
    "        model.add(LSTM(units=n_features))\n",
    "        model.add(Dense(units=1))\n",
    "\n",
    "        # Compile the model\n",
    "        model.compile(optimizer='adam', loss='mean_squared_error')\n",
    "    \n",
    "        return model\n",
    "    \n",
    "    elif layers == 4:\n",
    "        # Build the model\n",
    "        model = Sequential()\n",
    "        model.add(LSTM(units=n_features, return_sequences=True, input_shape=(X_train.shape[1:])))\n",
    "        model.add(LSTM(units=n_features, return_sequences=True))\n",
    "        model.add(LSTM(units=n_features, return_sequences=True))\n",
    "        model.add(LSTM(units=n_features))\n",
    "        model.add(Dense(units=1))\n",
    "\n",
    "        # Compile the model\n",
    "        model.compile(optimizer='adam', loss='mean_squared_error')\n",
    "    \n",
    "        return model\n",
    "    \n",
    "    elif layers == 5:\n",
    "        # Build the model\n",
    "        model = Sequential()\n",
    "        model.add(LSTM(units=n_features, return_sequences=True, input_shape=(X_train.shape[1:])))\n",
    "        model.add(LSTM(units=n_features, return_sequences=True))\n",
    "        model.add(LSTM(units=n_features, return_sequences=True))\n",
    "        model.add(LSTM(units=n_features, return_sequences=True))\n",
    "        model.add(LSTM(units=n_features))\n",
    "        model.add(Dense(units=1))\n",
    "\n",
    "        # Compile the model\n",
    "        model.compile(optimizer='adam', loss='mean_squared_error')\n",
    "    \n",
    "        return model\n",
    "    \n",
    "    else:\n",
    "        print(\"Please select number of layers betweeen 2 to 5.\")"
   ]
  },
  {
   "cell_type": "markdown",
   "metadata": {
    "id": "zBS8DNkOy4bW"
   },
   "source": [
    "##### Grid Search"
   ]
  },
  {
   "cell_type": "code",
   "execution_count": 58,
   "metadata": {
    "id": "FI6Bd1ZIzE0i"
   },
   "outputs": [],
   "source": [
    "# Wrapper\n",
    "s_model = KerasRegressor(build_fn=stack_model)"
   ]
  },
  {
   "cell_type": "code",
   "execution_count": 59,
   "metadata": {
    "id": "txkHOTNuzM4T"
   },
   "outputs": [],
   "source": [
    "s = [2, 3, 4, 5]\n",
    "\n",
    "# Parameter grid\n",
    "s_param_grid = dict(layers = s)"
   ]
  },
  {
   "cell_type": "code",
   "execution_count": 60,
   "metadata": {
    "id": "pI-DTMgYzM26"
   },
   "outputs": [],
   "source": [
    "# Grid Search\n",
    "s_grid = GridSearchCV(s_model, param_grid = s_param_grid, cv=3)"
   ]
  },
  {
   "cell_type": "code",
   "execution_count": 61,
   "metadata": {
    "colab": {
     "base_uri": "https://localhost:8080/"
    },
    "id": "la7pvjipzMy3",
    "outputId": "d64b9149-5c1a-452c-b5e2-ab6d688c12aa"
   },
   "outputs": [
    {
     "name": "stdout",
     "output_type": "stream",
     "text": [
      "Epoch 00028: early stopping\n",
      "41/41 [==============================] - 1s 2ms/step - loss: 7.2577e-05\n",
      "Epoch 00020: early stopping\n",
      "41/41 [==============================] - 1s 2ms/step - loss: 6.1224e-05\n",
      "Epoch 00028: early stopping\n",
      "41/41 [==============================] - 1s 2ms/step - loss: 1.4514e-04\n",
      "Epoch 00021: early stopping\n",
      "41/41 [==============================] - 1s 3ms/step - loss: 1.4664e-04\n",
      "Epoch 00023: early stopping\n",
      "41/41 [==============================] - 1s 3ms/step - loss: 1.5600e-04\n",
      "Epoch 00016: early stopping\n",
      "41/41 [==============================] - 1s 3ms/step - loss: 1.6369e-04\n",
      "Epoch 00016: early stopping\n",
      "41/41 [==============================] - 1s 4ms/step - loss: 1.8863e-04\n",
      "Epoch 00019: early stopping\n",
      "41/41 [==============================] - 2s 4ms/step - loss: 7.3169e-05\n",
      "Epoch 00012: early stopping\n",
      "41/41 [==============================] - 1s 4ms/step - loss: 2.5300e-04\n",
      "Epoch 00012: early stopping\n",
      "41/41 [==============================] - 2s 4ms/step - loss: 1.7939e-04\n",
      "Epoch 00009: early stopping\n",
      "41/41 [==============================] - 2s 4ms/step - loss: 4.3160e-05\n",
      "Epoch 00008: early stopping\n",
      "41/41 [==============================] - 3s 4ms/step - loss: 1.7980e-04\n",
      "Epoch 00016: early stopping\n"
     ]
    }
   ],
   "source": [
    "s_grid_history = s_grid.fit(X_train, y_train,\n",
    "                            batch_size=23, epochs=50,\n",
    "                            validation_data=(X_val, y_val),\n",
    "                            callbacks=es,\n",
    "                            verbose=0)"
   ]
  },
  {
   "cell_type": "code",
   "execution_count": 62,
   "metadata": {
    "colab": {
     "base_uri": "https://localhost:8080/"
    },
    "id": "hA22usFKzMwm",
    "outputId": "65999495-3cbd-4c6b-c6d1-e64a32703181"
   },
   "outputs": [
    {
     "data": {
      "text/plain": [
       "{'layers': 2}"
      ]
     },
     "execution_count": 62,
     "metadata": {
      "tags": []
     },
     "output_type": "execute_result"
    }
   ],
   "source": [
    "s_grid_history.best_params_"
   ]
  },
  {
   "cell_type": "markdown",
   "metadata": {},
   "source": [
    "#### Layer Choosing\n",
    "- The grid search results indicate that the LSTM model with: generates the best results\n",
    "    - timestep = 1\n",
    "    - input features = 150\n",
    "    - 2 hidden layer\n"
   ]
  },
  {
   "cell_type": "markdown",
   "metadata": {
    "id": "fOEXgTtNBj0Q"
   },
   "source": [
    "### IV.Evaluation\n",
    "- Prediction on true holdout test set"
   ]
  },
  {
   "cell_type": "code",
   "execution_count": 63,
   "metadata": {
    "id": "Kh8ZWqCtBlCr"
   },
   "outputs": [],
   "source": [
    "# Load model (if run in another notebook)\n",
    "best = load_model('/content/f150.h5')"
   ]
  },
  {
   "cell_type": "code",
   "execution_count": 64,
   "metadata": {
    "id": "L1aKju0aLRdE"
   },
   "outputs": [],
   "source": [
    "# Make prediction on the holdout test set\n",
    "y_test_pred = best.predict(X_test)\n",
    "\n",
    "# Inverse transform the test prediction and actual\n",
    "y_test_inv = scaler.inverse_transform(y_test_pred)\n",
    "y_test_true = scaler.inverse_transform(y_test)"
   ]
  },
  {
   "cell_type": "code",
   "execution_count": 65,
   "metadata": {
    "colab": {
     "base_uri": "https://localhost:8080/"
    },
    "id": "4T9hzFzlLRaI",
    "outputId": "fffd7595-3d82-499a-d036-aeb4423d2c2c"
   },
   "outputs": [
    {
     "name": "stdout",
     "output_type": "stream",
     "text": [
      "MAE: 0.7335\n",
      "RMSE: 0.9228\n",
      "R^2: 0.7897\n"
     ]
    }
   ],
   "source": [
    "ut.evaluate(y_test_true, y_test_inv)"
   ]
  },
  {
   "cell_type": "code",
   "execution_count": 66,
   "metadata": {
    "colab": {
     "base_uri": "https://localhost:8080/",
     "height": 592
    },
    "id": "4o5-wPe4LRVO",
    "outputId": "72a3c1c4-eb1c-42a5-ad6c-74da1a8012c1"
   },
   "outputs": [
    {
     "data": {
      "image/png": "[encoded data removed]",
      "text/plain": [
       "<Figure size 1440x720 with 1 Axes>"
      ]
     },
     "metadata": {
      "needs_background": "light",
      "tags": []
     },
     "output_type": "display_data"
    }
   ],
   "source": [
    "ut.lstm_plot_prediction(y_test_true, y_test_inv)"
   ]
  },
  {
   "cell_type": "markdown",
   "metadata": {},
   "source": [
    ">**Comment:** *f150*\n",
    "- Test R2 is (0.7897)\n",
    "- Both MAE and RMSE for test results are relative small\n",
    "- The plot shows that the prediction results can track the pattern but it's slightly far away from the actual price"
   ]
  },
  {
   "cell_type": "markdown",
   "metadata": {},
   "source": [
    "## V. Conclusion\n",
    "- Among analyze 4213 historical data from VNQ, LSTM model <b>f150</b> generates the best results\n",
    "- True holdout test R2 reaches 0.7897, MAE and RMSE (0.7335, 0.9228) are relative small\n",
    "- The prediction results are unseen data is acceptable"
   ]
  }
 ],
 "metadata": {
  "colab": {
   "collapsed_sections": [],
   "name": "4_LSTM",
   "provenance": []
  },
  "kernelspec": {
   "display_name": "Python 3",
   "language": "python",
   "name": "python3"
  },
  "language_info": {
   "codemirror_mode": {
    "name": "ipython",
    "version": 3
   },
   "file_extension": ".py",
   "mimetype": "text/x-python",
   "name": "python",
   "nbconvert_exporter": "python",
   "pygments_lexer": "ipython3",
   "version": "3.6.9"
  },
  "toc": {
   "base_numbering": 1,
   "nav_menu": {},
   "number_sections": false,
   "sideBar": true,
   "skip_h1_title": false,
   "title_cell": "Table of Contents",
   "title_sidebar": "Contents",
   "toc_cell": false,
   "toc_position": {
    "height": "calc(100% - 180px)",
    "left": "10px",
    "top": "150px",
    "width": "358.391px"
   },
   "toc_section_display": true,
   "toc_window_display": true
  }
 },
 "nbformat": 4,
 "nbformat_minor": 1
}
