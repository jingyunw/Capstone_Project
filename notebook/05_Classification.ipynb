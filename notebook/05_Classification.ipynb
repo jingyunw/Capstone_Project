{
 "cells": [
  {
   "cell_type": "markdown",
   "metadata": {
    "id": "BhmsP3Z1YpYv"
   },
   "source": [
    "# Time Series Classification\n",
    "**Content:**\n",
    "- Google Colab Setup\n",
    "- Preprocessing\n",
    "- Modeling\n",
    "- Evaluation"
   ]
  },
  {
   "cell_type": "code",
   "execution_count": 2,
   "metadata": {
    "id": "4-crFrc7IhcS"
   },
   "outputs": [],
   "source": [
    "# util.py has pmdarima function inside\n",
    "# Need to install it before import the pyfile\n",
    "# !pip install pmdarima"
   ]
  },
  {
   "cell_type": "markdown",
   "metadata": {
    "id": "Ld58vlziWqM1"
   },
   "source": [
    "## I. Google Colab Setup"
   ]
  },
  {
   "cell_type": "code",
   "execution_count": 3,
   "metadata": {
    "id": "LzIwjGc-ItJi"
   },
   "outputs": [],
   "source": [
    "# Google Colab\n",
    "from google.colab import drive\n",
    "import os\n",
    "\n",
    "# General\n",
    "import pandas as pd\n",
    "import numpy as np\n",
    "import matplotlib.pyplot as plt\n",
    "%matplotlib inline\n",
    "import warnings\n",
    "warnings.filterwarnings('ignore')\n",
    "from pickle import dump, load\n",
    "\n",
    "# Scikit-Learn\n",
    "from sklearn.pipeline import Pipeline\n",
    "from sklearn.compose import ColumnTransformer\n",
    "from sklearn.preprocessing import LabelEncoder, MinMaxScaler\n",
    "from sklearn.metrics import accuracy_score, plot_confusion_matrix, classification_report, roc_auc_score, plot_roc_curve\n",
    "from sklearn.model_selection import GridSearchCV\n",
    "\n",
    "# Classifier\n",
    "from sklearn.linear_model import LogisticRegression\n",
    "from sklearn.neighbors import KNeighborsClassifier\n",
    "from sklearn.tree import DecisionTreeClassifier\n",
    "from sklearn.ensemble import RandomForestClassifier, BaggingClassifier, AdaBoostClassifier, GradientBoostingClassifier\n",
    "from xgboost import XGBClassifier\n",
    "from sklearn.svm import SVC, NuSVC"
   ]
  },
  {
   "cell_type": "code",
   "execution_count": 4,
   "metadata": {
    "colab": {
     "base_uri": "https://localhost:8080/"
    },
    "id": "TSuTJf0FItHH",
    "outputId": "9587e445-ac9e-4130-9f08-263076507c2b"
   },
   "outputs": [
    {
     "name": "stdout",
     "output_type": "stream",
     "text": [
      "Mounted at /gdrive\n"
     ]
    }
   ],
   "source": [
    "# Mount Google Drive\n",
    "drive.mount('/gdrive', force_remount=True)"
   ]
  },
  {
   "cell_type": "code",
   "execution_count": 5,
   "metadata": {
    "colab": {
     "base_uri": "https://localhost:8080/"
    },
    "id": "LE2SoVpgItEt",
    "outputId": "b7da8f44-7edd-4564-f1ea-ef7bf71bb5db"
   },
   "outputs": [
    {
     "name": "stdout",
     "output_type": "stream",
     "text": [
      "/content\n"
     ]
    }
   ],
   "source": [
    "# Get the current working directory\n",
    "print(os.getcwd())"
   ]
  },
  {
   "cell_type": "code",
   "execution_count": 6,
   "metadata": {
    "id": "JOexmeeDJIOB"
   },
   "outputs": [],
   "source": [
    "# Drive path is the path where I upload the ETFs history file and pre-written pyfile\n",
    "drive_path_csv = '/gdrive/MyDrive/Capstone_Project/REIT_ETFs.csv'\n",
    "drive_path_util = '/gdrive/MyDrive/Capstone_Project/util.py'\n",
    "\n",
    "# Expect to move these file into the local path\n",
    "local_path = '/content'"
   ]
  },
  {
   "cell_type": "code",
   "execution_count": 7,
   "metadata": {
    "id": "JFideisMItCG"
   },
   "outputs": [],
   "source": [
    "# Copy these file in drive path\n",
    "!cp '{drive_path_csv}' .\n",
    "!cp '{drive_path_util}' .\n",
    "\n",
    "# Change these file from drive path to the local path\n",
    "os.chdir(local_path)"
   ]
  },
  {
   "cell_type": "code",
   "execution_count": 8,
   "metadata": {
    "id": "Wc0Pgn7kIs_t"
   },
   "outputs": [],
   "source": [
    "# Pre-written function\n",
    "import util as ut"
   ]
  },
  {
   "cell_type": "markdown",
   "metadata": {
    "id": "fJlZGpc3Wwjs"
   },
   "source": [
    "## II. Preprocessing"
   ]
  },
  {
   "cell_type": "code",
   "execution_count": 9,
   "metadata": {
    "colab": {
     "base_uri": "https://localhost:8080/",
     "height": 419
    },
    "id": "KuGVgeJ9Is4h",
    "outputId": "d1c7b4fd-2192-4470-d067-d007131196a0"
   },
   "outputs": [
    {
     "data": {
      "text/html": [
       "<div>\n",
       "<style scoped>\n",
       "    .dataframe tbody tr th:only-of-type {\n",
       "        vertical-align: middle;\n",
       "    }\n",
       "\n",
       "    .dataframe tbody tr th {\n",
       "        vertical-align: top;\n",
       "    }\n",
       "\n",
       "    .dataframe thead th {\n",
       "        text-align: right;\n",
       "    }\n",
       "</style>\n",
       "<table border=\"1\" class=\"dataframe\">\n",
       "  <thead>\n",
       "    <tr style=\"text-align: right;\">\n",
       "      <th></th>\n",
       "      <th>Date</th>\n",
       "      <th>Open</th>\n",
       "      <th>High</th>\n",
       "      <th>Low</th>\n",
       "      <th>Close</th>\n",
       "      <th>Volume</th>\n",
       "      <th>Dividends</th>\n",
       "      <th>Stock Splits</th>\n",
       "      <th>Ticker</th>\n",
       "    </tr>\n",
       "  </thead>\n",
       "  <tbody>\n",
       "    <tr>\n",
       "      <th>0</th>\n",
       "      <td>2004-09-29</td>\n",
       "      <td>23.794544</td>\n",
       "      <td>23.861371</td>\n",
       "      <td>23.789772</td>\n",
       "      <td>23.794544</td>\n",
       "      <td>205800</td>\n",
       "      <td>0.0</td>\n",
       "      <td>0.0</td>\n",
       "      <td>VNQ</td>\n",
       "    </tr>\n",
       "    <tr>\n",
       "      <th>1</th>\n",
       "      <td>2004-09-30</td>\n",
       "      <td>23.866143</td>\n",
       "      <td>24.023660</td>\n",
       "      <td>23.861370</td>\n",
       "      <td>23.985474</td>\n",
       "      <td>27900</td>\n",
       "      <td>0.0</td>\n",
       "      <td>0.0</td>\n",
       "      <td>VNQ</td>\n",
       "    </tr>\n",
       "    <tr>\n",
       "      <th>2</th>\n",
       "      <td>2004-10-01</td>\n",
       "      <td>24.033207</td>\n",
       "      <td>24.462799</td>\n",
       "      <td>23.985476</td>\n",
       "      <td>24.429386</td>\n",
       "      <td>129800</td>\n",
       "      <td>0.0</td>\n",
       "      <td>0.0</td>\n",
       "      <td>VNQ</td>\n",
       "    </tr>\n",
       "    <tr>\n",
       "      <th>3</th>\n",
       "      <td>2004-10-04</td>\n",
       "      <td>24.529629</td>\n",
       "      <td>24.606000</td>\n",
       "      <td>24.529629</td>\n",
       "      <td>24.534403</td>\n",
       "      <td>8100</td>\n",
       "      <td>0.0</td>\n",
       "      <td>0.0</td>\n",
       "      <td>VNQ</td>\n",
       "    </tr>\n",
       "    <tr>\n",
       "      <th>4</th>\n",
       "      <td>2004-10-05</td>\n",
       "      <td>24.534403</td>\n",
       "      <td>24.582135</td>\n",
       "      <td>24.510535</td>\n",
       "      <td>24.529629</td>\n",
       "      <td>11900</td>\n",
       "      <td>0.0</td>\n",
       "      <td>0.0</td>\n",
       "      <td>VNQ</td>\n",
       "    </tr>\n",
       "    <tr>\n",
       "      <th>...</th>\n",
       "      <td>...</td>\n",
       "      <td>...</td>\n",
       "      <td>...</td>\n",
       "      <td>...</td>\n",
       "      <td>...</td>\n",
       "      <td>...</td>\n",
       "      <td>...</td>\n",
       "      <td>...</td>\n",
       "      <td>...</td>\n",
       "    </tr>\n",
       "    <tr>\n",
       "      <th>53434</th>\n",
       "      <td>2021-06-17</td>\n",
       "      <td>9.280000</td>\n",
       "      <td>9.290000</td>\n",
       "      <td>9.220000</td>\n",
       "      <td>9.220000</td>\n",
       "      <td>5200</td>\n",
       "      <td>0.0</td>\n",
       "      <td>0.0</td>\n",
       "      <td>REK</td>\n",
       "    </tr>\n",
       "    <tr>\n",
       "      <th>53435</th>\n",
       "      <td>2021-06-18</td>\n",
       "      <td>9.330000</td>\n",
       "      <td>9.370000</td>\n",
       "      <td>9.270000</td>\n",
       "      <td>9.370000</td>\n",
       "      <td>22800</td>\n",
       "      <td>0.0</td>\n",
       "      <td>0.0</td>\n",
       "      <td>REK</td>\n",
       "    </tr>\n",
       "    <tr>\n",
       "      <th>53436</th>\n",
       "      <td>2021-06-21</td>\n",
       "      <td>9.320000</td>\n",
       "      <td>9.320000</td>\n",
       "      <td>9.170000</td>\n",
       "      <td>9.170000</td>\n",
       "      <td>22900</td>\n",
       "      <td>0.0</td>\n",
       "      <td>0.0</td>\n",
       "      <td>REK</td>\n",
       "    </tr>\n",
       "    <tr>\n",
       "      <th>53437</th>\n",
       "      <td>2021-06-22</td>\n",
       "      <td>9.160000</td>\n",
       "      <td>9.230000</td>\n",
       "      <td>9.160000</td>\n",
       "      <td>9.220000</td>\n",
       "      <td>6200</td>\n",
       "      <td>0.0</td>\n",
       "      <td>0.0</td>\n",
       "      <td>REK</td>\n",
       "    </tr>\n",
       "    <tr>\n",
       "      <th>53438</th>\n",
       "      <td>2021-06-23</td>\n",
       "      <td>9.200000</td>\n",
       "      <td>9.260000</td>\n",
       "      <td>9.200000</td>\n",
       "      <td>9.260000</td>\n",
       "      <td>4500</td>\n",
       "      <td>0.0</td>\n",
       "      <td>0.0</td>\n",
       "      <td>REK</td>\n",
       "    </tr>\n",
       "  </tbody>\n",
       "</table>\n",
       "<p>53439 rows × 9 columns</p>\n",
       "</div>"
      ],
      "text/plain": [
       "             Date       Open       High  ...  Dividends  Stock Splits  Ticker\n",
       "0      2004-09-29  23.794544  23.861371  ...        0.0           0.0     VNQ\n",
       "1      2004-09-30  23.866143  24.023660  ...        0.0           0.0     VNQ\n",
       "2      2004-10-01  24.033207  24.462799  ...        0.0           0.0     VNQ\n",
       "3      2004-10-04  24.529629  24.606000  ...        0.0           0.0     VNQ\n",
       "4      2004-10-05  24.534403  24.582135  ...        0.0           0.0     VNQ\n",
       "...           ...        ...        ...  ...        ...           ...     ...\n",
       "53434  2021-06-17   9.280000   9.290000  ...        0.0           0.0     REK\n",
       "53435  2021-06-18   9.330000   9.370000  ...        0.0           0.0     REK\n",
       "53436  2021-06-21   9.320000   9.320000  ...        0.0           0.0     REK\n",
       "53437  2021-06-22   9.160000   9.230000  ...        0.0           0.0     REK\n",
       "53438  2021-06-23   9.200000   9.260000  ...        0.0           0.0     REK\n",
       "\n",
       "[53439 rows x 9 columns]"
      ]
     },
     "execution_count": 9,
     "metadata": {
      "tags": []
     },
     "output_type": "execute_result"
    }
   ],
   "source": [
    "data = pd.read_csv('/content/REIT_ETFs.csv')\n",
    "data"
   ]
  },
  {
   "cell_type": "code",
   "execution_count": 10,
   "metadata": {
    "id": "ntiAxLL9JLag"
   },
   "outputs": [],
   "source": [
    "# Select one REIT ETF\n",
    "vnq = data.copy().loc[data['Ticker'] == \"VNQ\"]"
   ]
  },
  {
   "cell_type": "code",
   "execution_count": 11,
   "metadata": {
    "id": "lTghZiwcNjQ2"
   },
   "outputs": [],
   "source": [
    "# Drop unnecessary columns\n",
    "vnq.drop(columns=['Volume', 'Dividends', 'Stock Splits', 'Ticker'], inplace=True)"
   ]
  },
  {
   "cell_type": "code",
   "execution_count": 12,
   "metadata": {
    "id": "qKCkQSyzUBTL"
   },
   "outputs": [],
   "source": [
    "# Shift index by 1 period => lag-1\n",
    "vnq['Lag 1'] = vnq['Close'].shift(periods=1)"
   ]
  },
  {
   "cell_type": "code",
   "execution_count": 13,
   "metadata": {
    "id": "z1fsKKm5P218"
   },
   "outputs": [],
   "source": [
    "# Find the difference between closing price and lag-1\n",
    "# Positive results => up trend\n",
    "# Negtive (or 0) result => down trend\n",
    "vnq.loc[vnq['Close'] - vnq['Lag 1'] > 0, 'Trend'] = 'up'\n",
    "vnq.loc[vnq['Close'] - vnq['Lag 1'] <= 0, 'Trend'] = 'down'"
   ]
  },
  {
   "cell_type": "code",
   "execution_count": 14,
   "metadata": {
    "colab": {
     "base_uri": "https://localhost:8080/"
    },
    "id": "RcNanN2uP2wP",
    "outputId": "c19e7c49-8e7f-4f99-bad6-158d6a1ecbde"
   },
   "outputs": [
    {
     "data": {
      "text/plain": [
       "1"
      ]
     },
     "execution_count": 14,
     "metadata": {
      "tags": []
     },
     "output_type": "execute_result"
    }
   ],
   "source": [
    "vnq['Trend'].isna().sum() # The 1st row should have a null value"
   ]
  },
  {
   "cell_type": "code",
   "execution_count": 15,
   "metadata": {
    "id": "pGXWDU_7W5yp"
   },
   "outputs": [],
   "source": [
    "# Drop the \"Lag 1\" column\n",
    "vnq.drop(columns=['Lag 1'], inplace=True)\n",
    "\n",
    "# Drop the 1st row\n",
    "vnq.drop([0], inplace=True)"
   ]
  },
  {
   "cell_type": "code",
   "execution_count": 16,
   "metadata": {
    "colab": {
     "base_uri": "https://localhost:8080/",
     "height": 467
    },
    "id": "l8AoVtcAJOBM",
    "outputId": "643365e0-b658-4b27-ba59-29e9d08b96cf"
   },
   "outputs": [
    {
     "name": "stdout",
     "output_type": "stream",
     "text": [
      "This dataframe's index is in datatime64? True\n"
     ]
    },
    {
     "data": {
      "text/html": [
       "<div>\n",
       "<style scoped>\n",
       "    .dataframe tbody tr th:only-of-type {\n",
       "        vertical-align: middle;\n",
       "    }\n",
       "\n",
       "    .dataframe tbody tr th {\n",
       "        vertical-align: top;\n",
       "    }\n",
       "\n",
       "    .dataframe thead th {\n",
       "        text-align: right;\n",
       "    }\n",
       "</style>\n",
       "<table border=\"1\" class=\"dataframe\">\n",
       "  <thead>\n",
       "    <tr style=\"text-align: right;\">\n",
       "      <th></th>\n",
       "      <th>Open</th>\n",
       "      <th>High</th>\n",
       "      <th>Low</th>\n",
       "      <th>Close</th>\n",
       "      <th>Trend</th>\n",
       "    </tr>\n",
       "    <tr>\n",
       "      <th>Date</th>\n",
       "      <th></th>\n",
       "      <th></th>\n",
       "      <th></th>\n",
       "      <th></th>\n",
       "      <th></th>\n",
       "    </tr>\n",
       "  </thead>\n",
       "  <tbody>\n",
       "    <tr>\n",
       "      <th>2004-09-30</th>\n",
       "      <td>23.866143</td>\n",
       "      <td>24.023660</td>\n",
       "      <td>23.861370</td>\n",
       "      <td>23.985474</td>\n",
       "      <td>up</td>\n",
       "    </tr>\n",
       "    <tr>\n",
       "      <th>2004-10-01</th>\n",
       "      <td>24.033207</td>\n",
       "      <td>24.462799</td>\n",
       "      <td>23.985476</td>\n",
       "      <td>24.429386</td>\n",
       "      <td>up</td>\n",
       "    </tr>\n",
       "    <tr>\n",
       "      <th>2004-10-04</th>\n",
       "      <td>24.529629</td>\n",
       "      <td>24.606000</td>\n",
       "      <td>24.529629</td>\n",
       "      <td>24.534403</td>\n",
       "      <td>up</td>\n",
       "    </tr>\n",
       "    <tr>\n",
       "      <th>2004-10-05</th>\n",
       "      <td>24.534403</td>\n",
       "      <td>24.582135</td>\n",
       "      <td>24.510535</td>\n",
       "      <td>24.529629</td>\n",
       "      <td>down</td>\n",
       "    </tr>\n",
       "    <tr>\n",
       "      <th>2004-10-06</th>\n",
       "      <td>24.582134</td>\n",
       "      <td>24.644186</td>\n",
       "      <td>24.577361</td>\n",
       "      <td>24.644186</td>\n",
       "      <td>up</td>\n",
       "    </tr>\n",
       "    <tr>\n",
       "      <th>...</th>\n",
       "      <td>...</td>\n",
       "      <td>...</td>\n",
       "      <td>...</td>\n",
       "      <td>...</td>\n",
       "      <td>...</td>\n",
       "    </tr>\n",
       "    <tr>\n",
       "      <th>2021-06-17</th>\n",
       "      <td>103.410004</td>\n",
       "      <td>103.699997</td>\n",
       "      <td>102.860001</td>\n",
       "      <td>103.550003</td>\n",
       "      <td>down</td>\n",
       "    </tr>\n",
       "    <tr>\n",
       "      <th>2021-06-18</th>\n",
       "      <td>103.019997</td>\n",
       "      <td>103.470001</td>\n",
       "      <td>101.790001</td>\n",
       "      <td>101.790001</td>\n",
       "      <td>down</td>\n",
       "    </tr>\n",
       "    <tr>\n",
       "      <th>2021-06-21</th>\n",
       "      <td>102.309998</td>\n",
       "      <td>104.209999</td>\n",
       "      <td>101.800003</td>\n",
       "      <td>103.889999</td>\n",
       "      <td>up</td>\n",
       "    </tr>\n",
       "    <tr>\n",
       "      <th>2021-06-22</th>\n",
       "      <td>103.889999</td>\n",
       "      <td>104.010002</td>\n",
       "      <td>103.279999</td>\n",
       "      <td>103.349998</td>\n",
       "      <td>down</td>\n",
       "    </tr>\n",
       "    <tr>\n",
       "      <th>2021-06-23</th>\n",
       "      <td>103.349998</td>\n",
       "      <td>103.750000</td>\n",
       "      <td>103.080002</td>\n",
       "      <td>103.169998</td>\n",
       "      <td>down</td>\n",
       "    </tr>\n",
       "  </tbody>\n",
       "</table>\n",
       "<p>4212 rows × 5 columns</p>\n",
       "</div>"
      ],
      "text/plain": [
       "                  Open        High         Low       Close Trend\n",
       "Date                                                            \n",
       "2004-09-30   23.866143   24.023660   23.861370   23.985474    up\n",
       "2004-10-01   24.033207   24.462799   23.985476   24.429386    up\n",
       "2004-10-04   24.529629   24.606000   24.529629   24.534403    up\n",
       "2004-10-05   24.534403   24.582135   24.510535   24.529629  down\n",
       "2004-10-06   24.582134   24.644186   24.577361   24.644186    up\n",
       "...                ...         ...         ...         ...   ...\n",
       "2021-06-17  103.410004  103.699997  102.860001  103.550003  down\n",
       "2021-06-18  103.019997  103.470001  101.790001  101.790001  down\n",
       "2021-06-21  102.309998  104.209999  101.800003  103.889999    up\n",
       "2021-06-22  103.889999  104.010002  103.279999  103.349998  down\n",
       "2021-06-23  103.349998  103.750000  103.080002  103.169998  down\n",
       "\n",
       "[4212 rows x 5 columns]"
      ]
     },
     "metadata": {
      "tags": []
     },
     "output_type": "display_data"
    }
   ],
   "source": [
    "# Set the \"Date\" column as the index \n",
    "ut.preprocess_df(vnq)"
   ]
  },
  {
   "cell_type": "code",
   "execution_count": 17,
   "metadata": {
    "colab": {
     "base_uri": "https://localhost:8080/"
    },
    "id": "ceypXmCts-id",
    "outputId": "5f2582b2-7ddb-4e56-c90b-68e0dc2ee657"
   },
   "outputs": [
    {
     "data": {
      "text/plain": [
       "array(['up', 'down'], dtype=object)"
      ]
     },
     "execution_count": 17,
     "metadata": {
      "tags": []
     },
     "output_type": "execute_result"
    }
   ],
   "source": [
    "vnq['Trend'].unique()"
   ]
  },
  {
   "cell_type": "code",
   "execution_count": 18,
   "metadata": {
    "colab": {
     "base_uri": "https://localhost:8080/"
    },
    "id": "7YZQXQNzq3af",
    "outputId": "5d5da39a-4067-4fb3-8331-08eeae566712"
   },
   "outputs": [
    {
     "data": {
      "text/plain": [
       "up      2264\n",
       "down    1948\n",
       "Name: Trend, dtype: int64"
      ]
     },
     "execution_count": 18,
     "metadata": {
      "tags": []
     },
     "output_type": "execute_result"
    }
   ],
   "source": [
    "vnq['Trend'].value_counts()"
   ]
  },
  {
   "cell_type": "code",
   "execution_count": 19,
   "metadata": {
    "id": "xP4OQG6_tDZC"
   },
   "outputs": [],
   "source": [
    "# Label encoding\n",
    "label_encoder = LabelEncoder()\n",
    "vnq['Trend']= label_encoder.fit_transform(vnq['Trend'])"
   ]
  },
  {
   "cell_type": "code",
   "execution_count": 20,
   "metadata": {
    "colab": {
     "base_uri": "https://localhost:8080/"
    },
    "id": "jvUWQjCbtSUF",
    "outputId": "7430c2a0-f4b2-41ae-d862-4421567e4fa1"
   },
   "outputs": [
    {
     "data": {
      "text/plain": [
       "1    2264\n",
       "0    1948\n",
       "Name: Trend, dtype: int64"
      ]
     },
     "execution_count": 20,
     "metadata": {
      "tags": []
     },
     "output_type": "execute_result"
    }
   ],
   "source": [
    "vnq['Trend'].value_counts()"
   ]
  },
  {
   "cell_type": "code",
   "execution_count": 21,
   "metadata": {
    "id": "iIY8GHfTbI8w"
   },
   "outputs": [],
   "source": [
    "# Split the data into train and test set\n",
    "# Test size = 1 year (252 days)\n",
    "# Train size = rest of the time\n",
    "train = vnq.iloc[:-252]\n",
    "test = vnq.iloc[-252:]"
   ]
  },
  {
   "cell_type": "code",
   "execution_count": 22,
   "metadata": {
    "id": "n6W2V7FacCHr"
   },
   "outputs": [],
   "source": [
    "def xy_split(dataset):\n",
    "    '''\n",
    "    Split the dataset into X-part and y-part(label).\n",
    "\n",
    "    -*-*-*-*-*-*-*-*-*-*-*-*-*-*-*-*-*-*-*-*-*-*-*-*-*-*-*-*-*-*-*-*-*-*-*-*-*-*\n",
    "    \n",
    "    Input:\n",
    "    - dataset: dataframe\n",
    "\n",
    "    Return:\n",
    "    - X, y\n",
    "    \n",
    "    '''\n",
    "\n",
    "    X = dataset.drop(columns=['Trend'], axis=1)\n",
    "    y = dataset['Trend']\n",
    "\n",
    "    return X, y"
   ]
  },
  {
   "cell_type": "code",
   "execution_count": 23,
   "metadata": {
    "id": "I4PYNjoJb-Sj"
   },
   "outputs": [],
   "source": [
    "X_train, y_train = xy_split(train)\n",
    "X_test, y_test = xy_split(test)"
   ]
  },
  {
   "cell_type": "markdown",
   "metadata": {
    "id": "Kd8EX2DAle68"
   },
   "source": [
    "### Pipeline"
   ]
  },
  {
   "cell_type": "code",
   "execution_count": 24,
   "metadata": {
    "colab": {
     "base_uri": "https://localhost:8080/"
    },
    "id": "kja3-sA8IJfS",
    "outputId": "7ded79eb-c0fc-4ba4-c5c1-b4190c555f8d"
   },
   "outputs": [
    {
     "data": {
      "text/plain": [
       "['Open', 'High', 'Low', 'Close']"
      ]
     },
     "execution_count": 24,
     "metadata": {
      "tags": []
     },
     "output_type": "execute_result"
    }
   ],
   "source": [
    "num_cols = vnq.columns[:-1].tolist()\n",
    "num_cols"
   ]
  },
  {
   "cell_type": "code",
   "execution_count": 25,
   "metadata": {
    "id": "t20UsRpOleY_"
   },
   "outputs": [],
   "source": [
    "# Set up scaling step\n",
    "num_transformer = Pipeline(steps=[('scaler', MinMaxScaler())])  \n",
    "\n",
    "# Put scaling step into a Column Transformer\n",
    "preprocessor = ColumnTransformer(transformers=[('num', num_transformer, num_cols)])"
   ]
  },
  {
   "cell_type": "markdown",
   "metadata": {
    "id": "aFFWq8u0Jof3"
   },
   "source": [
    "## III. Modeling"
   ]
  },
  {
   "cell_type": "markdown",
   "metadata": {
    "id": "NbwI_wyWJqzB"
   },
   "source": [
    "### Baseline Model\n",
    "- Logistic Regression"
   ]
  },
  {
   "cell_type": "code",
   "execution_count": 26,
   "metadata": {
    "colab": {
     "base_uri": "https://localhost:8080/",
     "height": 898
    },
    "id": "AAWdQv2zPx5S",
    "outputId": "8d0a0205-90ef-4830-bbe9-a1c5a00bd2c9"
   },
   "outputs": [
    {
     "name": "stdout",
     "output_type": "stream",
     "text": [
      "Train\n",
      "-*-*-*-*-*-*-*-*\n",
      "accuracy: 0.5439\n",
      "roc-auc: 0.7166 \n",
      "\n",
      "Test\n",
      "-*-*-*-*-*-*-*-*\n",
      "accuracy: 0.5714\n",
      "roc-auc: 0.8819\n",
      "\n",
      "\n",
      "              precision    recall  f1-score   support\n",
      "\n",
      "           0       0.00      0.00      0.00       108\n",
      "           1       0.57      1.00      0.73       144\n",
      "\n",
      "    accuracy                           0.57       252\n",
      "   macro avg       0.29      0.50      0.36       252\n",
      "weighted avg       0.33      0.57      0.42       252\n",
      "\n"
     ]
    },
    {
     "data": {
      "image/png": "[encoded data removed]",
      "text/plain": [
       "<Figure size 432x288 with 2 Axes>"
      ]
     },
     "metadata": {
      "needs_background": "light",
      "tags": []
     },
     "output_type": "display_data"
    },
    {
     "data": {
      "image/png": "[encoded data removed]",
      "text/plain": [
       "<Figure size 432x288 with 1 Axes>"
      ]
     },
     "metadata": {
      "needs_background": "light",
      "tags": []
     },
     "output_type": "display_data"
    },
    {
     "data": {
      "text/plain": [
       "([0.5439], [0.5714], [0.7166], [0.8819])"
      ]
     },
     "execution_count": 26,
     "metadata": {
      "tags": []
     },
     "output_type": "execute_result"
    }
   ],
   "source": [
    "lg_clf = Pipeline(steps=[\n",
    "    ('preprocess', preprocessor),\n",
    "    ('classifier', LogisticRegression(random_state=24))])\n",
    "\n",
    "lg_clf.fit(X_train, y_train)\n",
    "\n",
    "lg_result = ut.class_model_evaluation(lg_clf, X_train, y_train, X_test, y_test, use_decision_function='yes')\n",
    "lg_result"
   ]
  },
  {
   "cell_type": "markdown",
   "metadata": {
    "id": "tdKnkDTW4CHo"
   },
   "source": [
    ">**Comment:** *Logistic Regression*\n",
    "- Bad performance: unable to detect the down pattern"
   ]
  },
  {
   "cell_type": "markdown",
   "metadata": {
    "id": "PQxM9sRgJ1hW"
   },
   "source": [
    "### KNN"
   ]
  },
  {
   "cell_type": "code",
   "execution_count": 27,
   "metadata": {
    "colab": {
     "base_uri": "https://localhost:8080/",
     "height": 898
    },
    "id": "NSLT89qWl2SR",
    "outputId": "b8409523-f9c5-449a-ea0b-33e2fbd33327"
   },
   "outputs": [
    {
     "name": "stdout",
     "output_type": "stream",
     "text": [
      "Train\n",
      "-*-*-*-*-*-*-*-*\n",
      "accuracy: 0.8889\n",
      "roc-auc: 0.9539 \n",
      "\n",
      "Test\n",
      "-*-*-*-*-*-*-*-*\n",
      "accuracy: 0.7421\n",
      "roc-auc: 0.8156\n",
      "\n",
      "\n",
      "              precision    recall  f1-score   support\n",
      "\n",
      "           0       0.77      0.56      0.65       108\n",
      "           1       0.73      0.88      0.79       144\n",
      "\n",
      "    accuracy                           0.74       252\n",
      "   macro avg       0.75      0.72      0.72       252\n",
      "weighted avg       0.75      0.74      0.73       252\n",
      "\n"
     ]
    },
    {
     "data": {
      "image/png": "[encoded data removed]",
      "text/plain": [
       "<Figure size 432x288 with 2 Axes>"
      ]
     },
     "metadata": {
      "needs_background": "light",
      "tags": []
     },
     "output_type": "display_data"
    },
    {
     "data": {
      "image/png": "[encoded data removed]",
      "text/plain": [
       "<Figure size 432x288 with 1 Axes>"
      ]
     },
     "metadata": {
      "needs_background": "light",
      "tags": []
     },
     "output_type": "display_data"
    },
    {
     "data": {
      "text/plain": [
       "([0.8889], [0.7421], [0.9539], [0.8156])"
      ]
     },
     "execution_count": 27,
     "metadata": {
      "tags": []
     },
     "output_type": "execute_result"
    }
   ],
   "source": [
    "knn_clf = Pipeline(steps=[\n",
    "    ('preprocess', preprocessor),\n",
    "    ('classifier', KNeighborsClassifier())])\n",
    "\n",
    "knn_clf.fit(X_train, y_train)\n",
    "\n",
    "knn_result = ut.class_model_evaluation(knn_clf, X_train, y_train, X_test, y_test, use_decision_function='no')\n",
    "knn_result"
   ]
  },
  {
   "cell_type": "markdown",
   "metadata": {
    "id": "VWV4PECP4fmt"
   },
   "source": [
    ">**Comment:** *KNN*\n",
    "- overfit"
   ]
  },
  {
   "cell_type": "markdown",
   "metadata": {
    "id": "ppVrRWWmU5A3"
   },
   "source": [
    "### Tree"
   ]
  },
  {
   "cell_type": "markdown",
   "metadata": {
    "id": "hQdevE4KKsy9"
   },
   "source": [
    "#### Random Forest"
   ]
  },
  {
   "cell_type": "code",
   "execution_count": 28,
   "metadata": {
    "colab": {
     "base_uri": "https://localhost:8080/",
     "height": 898
    },
    "id": "soha-XSvpVBq",
    "outputId": "cb8186b9-7061-4d5a-82d0-a6f3c435645e"
   },
   "outputs": [
    {
     "name": "stdout",
     "output_type": "stream",
     "text": [
      "Train\n",
      "-*-*-*-*-*-*-*-*\n",
      "accuracy: 1.0000\n",
      "roc-auc: 1.0000 \n",
      "\n",
      "Test\n",
      "-*-*-*-*-*-*-*-*\n",
      "accuracy: 0.7024\n",
      "roc-auc: 0.7929\n",
      "\n",
      "\n",
      "              precision    recall  f1-score   support\n",
      "\n",
      "           0       0.62      0.77      0.69       108\n",
      "           1       0.79      0.65      0.71       144\n",
      "\n",
      "    accuracy                           0.70       252\n",
      "   macro avg       0.71      0.71      0.70       252\n",
      "weighted avg       0.72      0.70      0.70       252\n",
      "\n"
     ]
    },
    {
     "data": {
      "image/png": "[encoded data removed]",
      "text/plain": [
       "<Figure size 432x288 with 2 Axes>"
      ]
     },
     "metadata": {
      "needs_background": "light",
      "tags": []
     },
     "output_type": "display_data"
    },
    {
     "data": {
      "image/png": "[encoded data removed]",
      "text/plain": [
       "<Figure size 432x288 with 1 Axes>"
      ]
     },
     "metadata": {
      "needs_background": "light",
      "tags": []
     },
     "output_type": "display_data"
    },
    {
     "data": {
      "text/plain": [
       "([1.0], [0.7024], [1.0], [0.7929])"
      ]
     },
     "execution_count": 28,
     "metadata": {
      "tags": []
     },
     "output_type": "execute_result"
    }
   ],
   "source": [
    "rf_clf = Pipeline(steps=[\n",
    "    ('preprocess', preprocessor),\n",
    "    ('classifier', RandomForestClassifier(criterion='entropy', random_state=24))])\n",
    "\n",
    "rf_clf.fit(X_train, y_train)\n",
    "\n",
    "rf_result = ut.class_model_evaluation(rf_clf, X_train, y_train, X_test, y_test, use_decision_function='no')\n",
    "rf_result"
   ]
  },
  {
   "cell_type": "markdown",
   "metadata": {
    "id": "gpFjK5a94n91"
   },
   "source": [
    ">**Comment:** *Random Forest*\n",
    "- overfit"
   ]
  },
  {
   "cell_type": "markdown",
   "metadata": {
    "id": "juIRyGblvDHI"
   },
   "source": [
    "#### Bagging"
   ]
  },
  {
   "cell_type": "code",
   "execution_count": 29,
   "metadata": {
    "colab": {
     "base_uri": "https://localhost:8080/",
     "height": 898
    },
    "id": "AcMyrutAvJQW",
    "outputId": "b757cff3-e6af-4028-a2e8-877801b38b06"
   },
   "outputs": [
    {
     "name": "stdout",
     "output_type": "stream",
     "text": [
      "Train\n",
      "-*-*-*-*-*-*-*-*\n",
      "accuracy: 0.9899\n",
      "roc-auc: 0.9994 \n",
      "\n",
      "Test\n",
      "-*-*-*-*-*-*-*-*\n",
      "accuracy: 0.6865\n",
      "roc-auc: 0.8030\n",
      "\n",
      "\n",
      "              precision    recall  f1-score   support\n",
      "\n",
      "           0       0.60      0.81      0.69       108\n",
      "           1       0.81      0.59      0.68       144\n",
      "\n",
      "    accuracy                           0.69       252\n",
      "   macro avg       0.70      0.70      0.69       252\n",
      "weighted avg       0.72      0.69      0.69       252\n",
      "\n"
     ]
    },
    {
     "data": {
      "image/png": "[encoded data removed]",
      "text/plain": [
       "<Figure size 432x288 with 2 Axes>"
      ]
     },
     "metadata": {
      "needs_background": "light",
      "tags": []
     },
     "output_type": "display_data"
    },
    {
     "data": {
      "image/png": "[encoded data removed]",
      "text/plain": [
       "<Figure size 432x288 with 1 Axes>"
      ]
     },
     "metadata": {
      "needs_background": "light",
      "tags": []
     },
     "output_type": "display_data"
    },
    {
     "data": {
      "text/plain": [
       "([0.9899], [0.6865], [0.9994], [0.803])"
      ]
     },
     "execution_count": 29,
     "metadata": {
      "tags": []
     },
     "output_type": "execute_result"
    }
   ],
   "source": [
    "bag_clf = Pipeline(steps=[\n",
    "    ('preprocess', preprocessor),\n",
    "    ('classifier', BaggingClassifier(DecisionTreeClassifier(criterion='entropy', random_state=24)))])\n",
    "\n",
    "bag_clf.fit(X_train, y_train)\n",
    "\n",
    "bag_result = ut.class_model_evaluation(bag_clf, X_train, y_train, X_test, y_test, use_decision_function='no')\n",
    "bag_result"
   ]
  },
  {
   "cell_type": "markdown",
   "metadata": {
    "id": "4JOcDeLe4s5J"
   },
   "source": [
    ">**Comment:** *Bagging*\n",
    "- overfit"
   ]
  },
  {
   "cell_type": "markdown",
   "metadata": {
    "id": "DTeIoGsYDifD"
   },
   "source": [
    "### Boost"
   ]
  },
  {
   "cell_type": "markdown",
   "metadata": {
    "id": "9myb4z2TL1CH"
   },
   "source": [
    "#### XGBoost"
   ]
  },
  {
   "cell_type": "code",
   "execution_count": 30,
   "metadata": {
    "colab": {
     "base_uri": "https://localhost:8080/",
     "height": 898
    },
    "id": "qMz-SlyeK6P7",
    "outputId": "09a2ccf0-b630-4e7a-deea-3a64d9d57736"
   },
   "outputs": [
    {
     "name": "stdout",
     "output_type": "stream",
     "text": [
      "Train\n",
      "-*-*-*-*-*-*-*-*\n",
      "accuracy: 0.7563\n",
      "roc-auc: 0.8651 \n",
      "\n",
      "Test\n",
      "-*-*-*-*-*-*-*-*\n",
      "accuracy: 0.5794\n",
      "roc-auc: 0.5841\n",
      "\n",
      "\n",
      "              precision    recall  f1-score   support\n",
      "\n",
      "           0       0.56      0.09      0.16       108\n",
      "           1       0.58      0.94      0.72       144\n",
      "\n",
      "    accuracy                           0.58       252\n",
      "   macro avg       0.57      0.52      0.44       252\n",
      "weighted avg       0.57      0.58      0.48       252\n",
      "\n"
     ]
    },
    {
     "data": {
      "image/png": "[encoded data removed]",
      "text/plain": [
       "<Figure size 432x288 with 2 Axes>"
      ]
     },
     "metadata": {
      "needs_background": "light",
      "tags": []
     },
     "output_type": "display_data"
    },
    {
     "data": {
      "image/png": "[encoded data removed]",
      "text/plain": [
       "<Figure size 432x288 with 1 Axes>"
      ]
     },
     "metadata": {
      "needs_background": "light",
      "tags": []
     },
     "output_type": "display_data"
    },
    {
     "data": {
      "text/plain": [
       "([0.7563], [0.5794], [0.8651], [0.5841])"
      ]
     },
     "execution_count": 30,
     "metadata": {
      "tags": []
     },
     "output_type": "execute_result"
    }
   ],
   "source": [
    "xgb_clf = Pipeline(steps=[\n",
    "    ('preprocess', preprocessor),\n",
    "    ('classifier', XGBClassifier(random_state=24))])\n",
    "\n",
    "xgb_clf.fit(X_train, y_train)\n",
    "\n",
    "xgb_result = ut.class_model_evaluation(xgb_clf, X_train, y_train, X_test, y_test, use_decision_function='no')\n",
    "xgb_result"
   ]
  },
  {
   "cell_type": "markdown",
   "metadata": {
    "id": "cywcwxZP44v5"
   },
   "source": [
    ">**Comment:** *XGBoost*\n",
    "- slightly overfit\n",
    "- poor performance on detecting decrease trend"
   ]
  },
  {
   "cell_type": "markdown",
   "metadata": {
    "id": "_2rjFNYZL3gf"
   },
   "source": [
    "#### AdaBoost"
   ]
  },
  {
   "cell_type": "code",
   "execution_count": 31,
   "metadata": {
    "colab": {
     "base_uri": "https://localhost:8080/",
     "height": 898
    },
    "id": "9D7lrHQ2LSTU",
    "outputId": "65f9f552-c848-4e58-8b23-800bf33297cc"
   },
   "outputs": [
    {
     "name": "stdout",
     "output_type": "stream",
     "text": [
      "Train\n",
      "-*-*-*-*-*-*-*-*\n",
      "accuracy: 1.0000\n",
      "roc-auc: 1.0000 \n",
      "\n",
      "Test\n",
      "-*-*-*-*-*-*-*-*\n",
      "accuracy: 0.6786\n",
      "roc-auc: 0.6956\n",
      "\n",
      "\n",
      "              precision    recall  f1-score   support\n",
      "\n",
      "           0       0.59      0.81      0.68       108\n",
      "           1       0.81      0.58      0.67       144\n",
      "\n",
      "    accuracy                           0.68       252\n",
      "   macro avg       0.70      0.70      0.68       252\n",
      "weighted avg       0.71      0.68      0.68       252\n",
      "\n"
     ]
    },
    {
     "data": {
      "image/png": "[encoded data removed]",
      "text/plain": [
       "<Figure size 432x288 with 2 Axes>"
      ]
     },
     "metadata": {
      "needs_background": "light",
      "tags": []
     },
     "output_type": "display_data"
    },
    {
     "data": {
      "image/png": "[encoded data removed]",
      "text/plain": [
       "<Figure size 432x288 with 1 Axes>"
      ]
     },
     "metadata": {
      "needs_background": "light",
      "tags": []
     },
     "output_type": "display_data"
    },
    {
     "data": {
      "text/plain": [
       "([1.0], [0.6786], [1.0], [0.6956])"
      ]
     },
     "execution_count": 31,
     "metadata": {
      "tags": []
     },
     "output_type": "execute_result"
    }
   ],
   "source": [
    "ada_clf = Pipeline(steps=[\n",
    "    ('preprocess', preprocessor),\n",
    "    ('classifier', AdaBoostClassifier(DecisionTreeClassifier(criterion='entropy', random_state=24)))])\n",
    "\n",
    "ada_clf.fit(X_train, y_train)\n",
    "\n",
    "ada_result = ut.class_model_evaluation(ada_clf, X_train, y_train, X_test, y_test, use_decision_function='no')\n",
    "ada_result"
   ]
  },
  {
   "cell_type": "markdown",
   "metadata": {
    "id": "-yfXfJ7-4_je"
   },
   "source": [
    ">**Comment:** *AdaBoost*\n",
    "- overfit"
   ]
  },
  {
   "cell_type": "markdown",
   "metadata": {
    "id": "ab4G04VLL_y9"
   },
   "source": [
    "#### Gradient Boosting"
   ]
  },
  {
   "cell_type": "code",
   "execution_count": 32,
   "metadata": {
    "colab": {
     "base_uri": "https://localhost:8080/",
     "height": 902
    },
    "id": "ogqiymnzMD4j",
    "outputId": "98288ea3-8775-4298-82a2-cbf424b0be97"
   },
   "outputs": [
    {
     "name": "stdout",
     "output_type": "stream",
     "text": [
      "Train\n",
      "-*-*-*-*-*-*-*-*\n",
      "accuracy: 0.7672\n",
      "roc-auc: 0.8746 \n",
      "\n",
      "Test\n",
      "-*-*-*-*-*-*-*-*\n",
      "accuracy: 0.5595\n",
      "roc-auc: 0.5834\n",
      "\n",
      "\n",
      "              precision    recall  f1-score   support\n",
      "\n",
      "           0       0.48      0.29      0.36       108\n",
      "           1       0.59      0.76      0.66       144\n",
      "\n",
      "    accuracy                           0.56       252\n",
      "   macro avg       0.53      0.53      0.51       252\n",
      "weighted avg       0.54      0.56      0.53       252\n",
      "\n"
     ]
    },
    {
     "data": {
      "image/png": "[encoded data removed]",
      "text/plain": [
       "<Figure size 432x288 with 2 Axes>"
      ]
     },
     "metadata": {
      "needs_background": "light",
      "tags": []
     },
     "output_type": "display_data"
    },
    {
     "data": {
      "image/png": "[encoded data removed]",
      "text/plain": [
       "<Figure size 432x288 with 1 Axes>"
      ]
     },
     "metadata": {
      "needs_background": "light",
      "tags": []
     },
     "output_type": "display_data"
    },
    {
     "data": {
      "text/plain": [
       "([0.7672], [0.5595], [0.8746], [0.5834])"
      ]
     },
     "execution_count": 32,
     "metadata": {
      "tags": []
     },
     "output_type": "execute_result"
    }
   ],
   "source": [
    "gb_clf = Pipeline(steps=[\n",
    "    ('preprocess', preprocessor),\n",
    "    ('classifier', GradientBoostingClassifier(random_state=24))])\n",
    "\n",
    "gb_clf.fit(X_train, y_train)\n",
    "\n",
    "gb_result = ut.class_model_evaluation(gb_clf, X_train, y_train, X_test, y_test, use_decision_function='no')\n",
    "gb_result"
   ]
  },
  {
   "cell_type": "markdown",
   "metadata": {
    "id": "puYvHoCa5Ebe"
   },
   "source": [
    ">**Comment:** *Gradient Boost*\n",
    "- overfit"
   ]
  },
  {
   "cell_type": "markdown",
   "metadata": {
    "id": "nFWURFs8C6FE"
   },
   "source": [
    "### SVM"
   ]
  },
  {
   "cell_type": "markdown",
   "metadata": {
    "id": "V0X-j3JzDArN"
   },
   "source": [
    "#### SVC"
   ]
  },
  {
   "cell_type": "code",
   "execution_count": 33,
   "metadata": {
    "colab": {
     "base_uri": "https://localhost:8080/",
     "height": 898
    },
    "id": "I9erkdBNDFjd",
    "outputId": "aba8e1ea-cd00-468f-9fff-2c8c56ccdb41"
   },
   "outputs": [
    {
     "name": "stdout",
     "output_type": "stream",
     "text": [
      "Train\n",
      "-*-*-*-*-*-*-*-*\n",
      "accuracy: 0.7760\n",
      "roc-auc: 0.9085 \n",
      "\n",
      "Test\n",
      "-*-*-*-*-*-*-*-*\n",
      "accuracy: 0.8730\n",
      "roc-auc: 0.9383\n",
      "\n",
      "\n",
      "              precision    recall  f1-score   support\n",
      "\n",
      "           0       0.82      0.90      0.86       108\n",
      "           1       0.92      0.85      0.88       144\n",
      "\n",
      "    accuracy                           0.87       252\n",
      "   macro avg       0.87      0.88      0.87       252\n",
      "weighted avg       0.88      0.87      0.87       252\n",
      "\n"
     ]
    },
    {
     "data": {
      "image/png": "[encoded data removed]",
      "text/plain": [
       "<Figure size 432x288 with 2 Axes>"
      ]
     },
     "metadata": {
      "needs_background": "light",
      "tags": []
     },
     "output_type": "display_data"
    },
    {
     "data": {
      "image/png": "[encoded data removed]",
      "text/plain": [
       "<Figure size 432x288 with 1 Axes>"
      ]
     },
     "metadata": {
      "needs_background": "light",
      "tags": []
     },
     "output_type": "display_data"
    },
    {
     "data": {
      "text/plain": [
       "([0.776], [0.873], [0.9085], [0.9383])"
      ]
     },
     "execution_count": 33,
     "metadata": {
      "tags": []
     },
     "output_type": "execute_result"
    }
   ],
   "source": [
    "svc_clf = Pipeline(steps=[\n",
    "    ('preprocess', preprocessor),\n",
    "    ('classifier', SVC(kernel='poly', random_state=24))])\n",
    "\n",
    "svc_clf.fit(X_train, y_train)\n",
    "\n",
    "svc_result = ut.class_model_evaluation(svc_clf, X_train, y_train, X_test, y_test, use_decision_function='yes')\n",
    "svc_result"
   ]
  },
  {
   "cell_type": "markdown",
   "metadata": {
    "id": "CKlLbCVJk4v9"
   },
   "source": [
    ">**Comment:**\n",
    "- slightly underfit"
   ]
  },
  {
   "cell_type": "markdown",
   "metadata": {
    "id": "oJMkPNlBDDBE"
   },
   "source": [
    "#### NuSVC"
   ]
  },
  {
   "cell_type": "code",
   "execution_count": 34,
   "metadata": {
    "colab": {
     "base_uri": "https://localhost:8080/",
     "height": 898
    },
    "id": "g-YPIZmiDF-a",
    "outputId": "a024a035-fcc6-48aa-8f7a-a80b5fb5c653"
   },
   "outputs": [
    {
     "name": "stdout",
     "output_type": "stream",
     "text": [
      "Train\n",
      "-*-*-*-*-*-*-*-*\n",
      "accuracy: 0.8106\n",
      "roc-auc: 0.9140 \n",
      "\n",
      "Test\n",
      "-*-*-*-*-*-*-*-*\n",
      "accuracy: 0.8849\n",
      "roc-auc: 0.9366\n",
      "\n",
      "\n",
      "              precision    recall  f1-score   support\n",
      "\n",
      "           0       0.84      0.90      0.87       108\n",
      "           1       0.92      0.88      0.90       144\n",
      "\n",
      "    accuracy                           0.88       252\n",
      "   macro avg       0.88      0.89      0.88       252\n",
      "weighted avg       0.89      0.88      0.89       252\n",
      "\n"
     ]
    },
    {
     "data": {
      "image/png": "[encoded data removed]",
      "text/plain": [
       "<Figure size 432x288 with 2 Axes>"
      ]
     },
     "metadata": {
      "needs_background": "light",
      "tags": []
     },
     "output_type": "display_data"
    },
    {
     "data": {
      "image/png": "[encoded data removed]",
      "text/plain": [
       "<Figure size 432x288 with 1 Axes>"
      ]
     },
     "metadata": {
      "needs_background": "light",
      "tags": []
     },
     "output_type": "display_data"
    },
    {
     "data": {
      "text/plain": [
       "([0.8106], [0.8849], [0.914], [0.9366])"
      ]
     },
     "execution_count": 34,
     "metadata": {
      "tags": []
     },
     "output_type": "execute_result"
    }
   ],
   "source": [
    "# \n",
    "nusvc_clf = Pipeline(steps=[\n",
    "    ('preprocess', preprocessor),\n",
    "    ('classifier', NuSVC(kernel='poly', random_state=24))])\n",
    "\n",
    "nusvc_clf.fit(X_train, y_train)\n",
    "\n",
    "nusvc_result = ut.class_model_evaluation(nusvc_clf, X_train, y_train, X_test, y_test, use_decision_function='yes')\n",
    "nusvc_result"
   ]
  },
  {
   "cell_type": "markdown",
   "metadata": {
    "id": "7Hebpw0Jk-FP"
   },
   "source": [
    ">**Comment:**\n",
    "- slightly underfit"
   ]
  },
  {
   "cell_type": "markdown",
   "metadata": {
    "id": "T6gqYSyD0v3t"
   },
   "source": [
    "## IV. Evaluation"
   ]
  },
  {
   "cell_type": "code",
   "execution_count": 35,
   "metadata": {
    "id": "l8rsq9zNaPbF"
   },
   "outputs": [],
   "source": [
    "# Put all models' evaluation results in a list\n",
    "model_results = [lg_result,\n",
    "                 knn_result,\n",
    "                 rf_result,\n",
    "                 bag_result,\n",
    "                 xgb_result,\n",
    "                 ada_result,\n",
    "                 gb_result,\n",
    "                 svc_result,\n",
    "                 nusvc_result]"
   ]
  },
  {
   "cell_type": "code",
   "execution_count": 36,
   "metadata": {
    "colab": {
     "base_uri": "https://localhost:8080/",
     "height": 328
    },
    "id": "icHUKqXjfFHO",
    "outputId": "394f6cdf-2192-4318-c279-3e85d6843508"
   },
   "outputs": [
    {
     "data": {
      "text/html": [
       "<div>\n",
       "<style scoped>\n",
       "    .dataframe tbody tr th:only-of-type {\n",
       "        vertical-align: middle;\n",
       "    }\n",
       "\n",
       "    .dataframe tbody tr th {\n",
       "        vertical-align: top;\n",
       "    }\n",
       "\n",
       "    .dataframe thead th {\n",
       "        text-align: right;\n",
       "    }\n",
       "</style>\n",
       "<table border=\"1\" class=\"dataframe\">\n",
       "  <thead>\n",
       "    <tr style=\"text-align: right;\">\n",
       "      <th></th>\n",
       "      <th>classifier</th>\n",
       "      <th>train_acc</th>\n",
       "      <th>test_acc</th>\n",
       "      <th>acc_diff</th>\n",
       "      <th>train_roc_auc</th>\n",
       "      <th>test_roc_auc</th>\n",
       "      <th>roc_auc_diff</th>\n",
       "    </tr>\n",
       "  </thead>\n",
       "  <tbody>\n",
       "    <tr>\n",
       "      <th>0</th>\n",
       "      <td>Logistic Regression</td>\n",
       "      <td>0.5439</td>\n",
       "      <td>0.5714</td>\n",
       "      <td>0.0275</td>\n",
       "      <td>0.7166</td>\n",
       "      <td>0.8819</td>\n",
       "      <td>0.1653</td>\n",
       "    </tr>\n",
       "    <tr>\n",
       "      <th>1</th>\n",
       "      <td>KNN</td>\n",
       "      <td>0.8889</td>\n",
       "      <td>0.7421</td>\n",
       "      <td>0.1468</td>\n",
       "      <td>0.9539</td>\n",
       "      <td>0.8156</td>\n",
       "      <td>0.1383</td>\n",
       "    </tr>\n",
       "    <tr>\n",
       "      <th>2</th>\n",
       "      <td>Random Forest</td>\n",
       "      <td>1</td>\n",
       "      <td>0.7024</td>\n",
       "      <td>0.2976</td>\n",
       "      <td>1</td>\n",
       "      <td>0.7929</td>\n",
       "      <td>0.2071</td>\n",
       "    </tr>\n",
       "    <tr>\n",
       "      <th>3</th>\n",
       "      <td>Bagging</td>\n",
       "      <td>0.9899</td>\n",
       "      <td>0.6865</td>\n",
       "      <td>0.3034</td>\n",
       "      <td>0.9994</td>\n",
       "      <td>0.803</td>\n",
       "      <td>0.1964</td>\n",
       "    </tr>\n",
       "    <tr>\n",
       "      <th>4</th>\n",
       "      <td>XGBoost</td>\n",
       "      <td>0.7563</td>\n",
       "      <td>0.5794</td>\n",
       "      <td>0.1769</td>\n",
       "      <td>0.8651</td>\n",
       "      <td>0.5841</td>\n",
       "      <td>0.281</td>\n",
       "    </tr>\n",
       "    <tr>\n",
       "      <th>5</th>\n",
       "      <td>AdaBoost</td>\n",
       "      <td>1</td>\n",
       "      <td>0.6786</td>\n",
       "      <td>0.3214</td>\n",
       "      <td>1</td>\n",
       "      <td>0.6956</td>\n",
       "      <td>0.3044</td>\n",
       "    </tr>\n",
       "    <tr>\n",
       "      <th>6</th>\n",
       "      <td>GradientBoost</td>\n",
       "      <td>0.7672</td>\n",
       "      <td>0.5595</td>\n",
       "      <td>0.2077</td>\n",
       "      <td>0.8746</td>\n",
       "      <td>0.5834</td>\n",
       "      <td>0.2912</td>\n",
       "    </tr>\n",
       "    <tr>\n",
       "      <th>7</th>\n",
       "      <td>SVC</td>\n",
       "      <td>0.776</td>\n",
       "      <td>0.873</td>\n",
       "      <td>0.097</td>\n",
       "      <td>0.9085</td>\n",
       "      <td>0.9383</td>\n",
       "      <td>0.0298</td>\n",
       "    </tr>\n",
       "    <tr>\n",
       "      <th>8</th>\n",
       "      <td>NuSVC</td>\n",
       "      <td>0.8106</td>\n",
       "      <td>0.8849</td>\n",
       "      <td>0.0743</td>\n",
       "      <td>0.914</td>\n",
       "      <td>0.9366</td>\n",
       "      <td>0.0226</td>\n",
       "    </tr>\n",
       "  </tbody>\n",
       "</table>\n",
       "</div>"
      ],
      "text/plain": [
       "            classifier train_acc  ... test_roc_auc roc_auc_diff\n",
       "0  Logistic Regression    0.5439  ...       0.8819       0.1653\n",
       "1                  KNN    0.8889  ...       0.8156       0.1383\n",
       "2        Random Forest         1  ...       0.7929       0.2071\n",
       "3              Bagging    0.9899  ...        0.803       0.1964\n",
       "4              XGBoost    0.7563  ...       0.5841        0.281\n",
       "5             AdaBoost         1  ...       0.6956       0.3044\n",
       "6        GradientBoost    0.7672  ...       0.5834       0.2912\n",
       "7                  SVC     0.776  ...       0.9383       0.0298\n",
       "8                NuSVC    0.8106  ...       0.9366       0.0226\n",
       "\n",
       "[9 rows x 7 columns]"
      ]
     },
     "execution_count": 36,
     "metadata": {
      "tags": []
     },
     "output_type": "execute_result"
    }
   ],
   "source": [
    "df = ut.class_model_comparison(model_results)\n",
    "df"
   ]
  },
  {
   "cell_type": "code",
   "execution_count": 37,
   "metadata": {
    "colab": {
     "base_uri": "https://localhost:8080/"
    },
    "id": "6lwlkz_JdCEc",
    "outputId": "b8ebe3a6-fb9e-4af3-9d55-3334f1f5ca66"
   },
   "outputs": [
    {
     "data": {
      "text/plain": [
       "0.8849"
      ]
     },
     "execution_count": 37,
     "metadata": {
      "tags": []
     },
     "output_type": "execute_result"
    }
   ],
   "source": [
    "df['test_acc'].max()"
   ]
  },
  {
   "cell_type": "markdown",
   "metadata": {
    "id": "nnV5a8qej4aO"
   },
   "source": [
    "### Tuning Hyperparameter"
   ]
  },
  {
   "cell_type": "code",
   "execution_count": null,
   "metadata": {
    "id": "EyBP0xotUblS"
   },
   "outputs": [],
   "source": [
    "# This took real long time too run...\n",
    "\n",
    "# Polynomial degree\n",
    "d = list(range(1, 6, 1))\n",
    "\n",
    "param_grid = {'classifier__degree': d}\n",
    "\n",
    "# Grid search\n",
    "search = GridSearchCV(nusvc_clf, param_grid, cv=5, scoring='f1')\n",
    "search.fit(X_train, y_train)\n",
    "\n",
    "print(f\"Best parameter: {search.best_params_}\\n\")\n",
    "\n",
    "# Evaluate the model with best k\n",
    "ut.class_model_evaluation(search.best_estimator_, X_train, y_train, X_test, y_test)"
   ]
  }
 ],
 "metadata": {
  "colab": {
   "collapsed_sections": [],
   "name": "05_Classification",
   "provenance": [],
   "toc_visible": true
  },
  "kernelspec": {
   "display_name": "Python 3",
   "language": "python",
   "name": "python3"
  },
  "language_info": {
   "codemirror_mode": {
    "name": "ipython",
    "version": 3
   },
   "file_extension": ".py",
   "mimetype": "text/x-python",
   "name": "python",
   "nbconvert_exporter": "python",
   "pygments_lexer": "ipython3",
   "version": "3.6.9"
  },
  "toc": {
   "base_numbering": 1,
   "nav_menu": {},
   "number_sections": false,
   "sideBar": true,
   "skip_h1_title": false,
   "title_cell": "Table of Contents",
   "title_sidebar": "Contents",
   "toc_cell": false,
   "toc_position": {},
   "toc_section_display": true,
   "toc_window_display": true
  }
 },
 "nbformat": 4,
 "nbformat_minor": 1
}
