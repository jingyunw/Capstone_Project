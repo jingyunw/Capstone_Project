{
  "nbformat": 4,
  "nbformat_minor": 0,
  "metadata": {
    "colab": {
      "name": "05_Classification.ipynb",
      "provenance": [],
      "collapsed_sections": [],
      "toc_visible": true
    },
    "kernelspec": {
      "display_name": "Python 3",
      "language": "python",
      "name": "python3"
    },
    "language_info": {
      "codemirror_mode": {
        "name": "ipython",
        "version": 3
      },
      "file_extension": ".py",
      "mimetype": "text/x-python",
      "name": "python",
      "nbconvert_exporter": "python",
      "pygments_lexer": "ipython3",
      "version": "3.6.9"
    },
    "toc": {
      "base_numbering": 1,
      "nav_menu": {},
      "number_sections": false,
      "sideBar": true,
      "skip_h1_title": false,
      "title_cell": "Table of Contents",
      "title_sidebar": "Contents",
      "toc_cell": false,
      "toc_position": {
        "height": "calc(100% - 180px)",
        "left": "10px",
        "top": "150px",
        "width": "358.391px"
      },
      "toc_section_display": true,
      "toc_window_display": true
    }
  },
  "cells": [
    {
      "cell_type": "markdown",
      "metadata": {
        "id": "BhmsP3Z1YpYv"
      },
      "source": [
        "# Time Series Classification\n",
        "**Content:**\n",
        "- Google Colab Setup\n",
        "- Preprocessing\n",
        "- Modeling\n",
        "- Evaluation"
      ]
    },
    {
      "cell_type": "code",
      "metadata": {
        "id": "4-crFrc7IhcS"
      },
      "source": [
        "# util.py has pmdarima function inside\n",
        "# Need to install it before import the pyfile\n",
        "# !pip install pmdarima"
      ],
      "execution_count": 1,
      "outputs": []
    },
    {
      "cell_type": "markdown",
      "metadata": {
        "id": "Ld58vlziWqM1"
      },
      "source": [
        "## I. Google Colab Setup"
      ]
    },
    {
      "cell_type": "code",
      "metadata": {
        "id": "2M_ASM1ON86H"
      },
      "source": [
        "# Google Colab\n",
        "from google.colab import drive\n",
        "import os\n",
        "\n",
        "# General\n",
        "import pandas as pd\n",
        "pd.set_option('display.float_format', lambda x: '%.4f' % x)\n",
        "import numpy as np\n",
        "np.set_printoptions(precision=4, suppress=True)\n",
        "import matplotlib.pyplot as plt\n",
        "%matplotlib inline\n",
        "import warnings\n",
        "warnings.filterwarnings('ignore')\n",
        "from pickle import dump, load\n",
        "\n",
        "# Scikit-Learn\n",
        "from sklearn.pipeline import Pipeline\n",
        "from sklearn.compose import ColumnTransformer\n",
        "from sklearn.preprocessing import LabelEncoder, MinMaxScaler\n",
        "from sklearn.metrics import accuracy_score, plot_confusion_matrix, classification_report, roc_auc_score, plot_roc_curve\n",
        "from sklearn.model_selection import GridSearchCV\n",
        "\n",
        "# Classifier\n",
        "from sklearn.linear_model import LogisticRegression\n",
        "from sklearn.neighbors import KNeighborsClassifier\n",
        "from sklearn.tree import DecisionTreeClassifier\n",
        "from sklearn.ensemble import RandomForestClassifier, BaggingClassifier, AdaBoostClassifier, GradientBoostingClassifier\n",
        "from xgboost import XGBClassifier\n",
        "from sklearn.svm import SVC, NuSVC"
      ],
      "execution_count": 2,
      "outputs": []
    },
    {
      "cell_type": "code",
      "metadata": {
        "colab": {
          "base_uri": "https://localhost:8080/"
        },
        "id": "TSuTJf0FItHH",
        "outputId": "891e636c-89d6-4043-bb78-62ae7b3d02fe"
      },
      "source": [
        "# Mount Google Drive\n",
        "drive.mount('/gdrive', force_remount=True)"
      ],
      "execution_count": 3,
      "outputs": [
        {
          "output_type": "stream",
          "text": [
            "Mounted at /gdrive\n"
          ],
          "name": "stdout"
        }
      ]
    },
    {
      "cell_type": "code",
      "metadata": {
        "colab": {
          "base_uri": "https://localhost:8080/"
        },
        "id": "LE2SoVpgItEt",
        "outputId": "4dbb6443-6da0-406b-918c-951a58a5e47a"
      },
      "source": [
        "# Get the current working directory\n",
        "print(os.getcwd())"
      ],
      "execution_count": 4,
      "outputs": [
        {
          "output_type": "stream",
          "text": [
            "/content\n"
          ],
          "name": "stdout"
        }
      ]
    },
    {
      "cell_type": "code",
      "metadata": {
        "id": "JOexmeeDJIOB"
      },
      "source": [
        "# Drive path is the path where I upload the ETFs history file and pre-written pyfile\n",
        "drive_path_csv = '/gdrive/MyDrive/Capstone_Project/REIT_ETFs.csv'\n",
        "drive_path_util = '/gdrive/MyDrive/Capstone_Project/util.py'\n",
        "\n",
        "# Expect to move these file into the local path\n",
        "local_path = '/content'"
      ],
      "execution_count": 5,
      "outputs": []
    },
    {
      "cell_type": "code",
      "metadata": {
        "id": "JFideisMItCG"
      },
      "source": [
        "# Copy these file in drive path\n",
        "!cp '{drive_path_csv}' .\n",
        "!cp '{drive_path_util}' .\n",
        "\n",
        "# Change these file from drive path to the local path\n",
        "os.chdir(local_path)"
      ],
      "execution_count": 6,
      "outputs": []
    },
    {
      "cell_type": "code",
      "metadata": {
        "id": "Wc0Pgn7kIs_t"
      },
      "source": [
        "# Pre-written function\n",
        "import util as ut"
      ],
      "execution_count": 7,
      "outputs": []
    },
    {
      "cell_type": "markdown",
      "metadata": {
        "id": "fJlZGpc3Wwjs"
      },
      "source": [
        "## II. Preprocessing"
      ]
    },
    {
      "cell_type": "code",
      "metadata": {
        "colab": {
          "base_uri": "https://localhost:8080/",
          "height": 419
        },
        "id": "KuGVgeJ9Is4h",
        "outputId": "6051d4e0-f3a3-4d7e-8464-db77c49d5ce0"
      },
      "source": [
        "data = pd.read_csv('/content/REIT_ETFs.csv')\n",
        "data"
      ],
      "execution_count": 8,
      "outputs": [
        {
          "output_type": "execute_result",
          "data": {
            "text/html": [
              "<div>\n",
              "<style scoped>\n",
              "    .dataframe tbody tr th:only-of-type {\n",
              "        vertical-align: middle;\n",
              "    }\n",
              "\n",
              "    .dataframe tbody tr th {\n",
              "        vertical-align: top;\n",
              "    }\n",
              "\n",
              "    .dataframe thead th {\n",
              "        text-align: right;\n",
              "    }\n",
              "</style>\n",
              "<table border=\"1\" class=\"dataframe\">\n",
              "  <thead>\n",
              "    <tr style=\"text-align: right;\">\n",
              "      <th></th>\n",
              "      <th>Date</th>\n",
              "      <th>Open</th>\n",
              "      <th>High</th>\n",
              "      <th>Low</th>\n",
              "      <th>Close</th>\n",
              "      <th>Volume</th>\n",
              "      <th>Dividends</th>\n",
              "      <th>Stock Splits</th>\n",
              "      <th>Ticker</th>\n",
              "    </tr>\n",
              "  </thead>\n",
              "  <tbody>\n",
              "    <tr>\n",
              "      <th>0</th>\n",
              "      <td>2004-09-29</td>\n",
              "      <td>23.7945</td>\n",
              "      <td>23.8614</td>\n",
              "      <td>23.7898</td>\n",
              "      <td>23.7945</td>\n",
              "      <td>205800</td>\n",
              "      <td>0.0000</td>\n",
              "      <td>0.0000</td>\n",
              "      <td>VNQ</td>\n",
              "    </tr>\n",
              "    <tr>\n",
              "      <th>1</th>\n",
              "      <td>2004-09-30</td>\n",
              "      <td>23.8661</td>\n",
              "      <td>24.0237</td>\n",
              "      <td>23.8614</td>\n",
              "      <td>23.9855</td>\n",
              "      <td>27900</td>\n",
              "      <td>0.0000</td>\n",
              "      <td>0.0000</td>\n",
              "      <td>VNQ</td>\n",
              "    </tr>\n",
              "    <tr>\n",
              "      <th>2</th>\n",
              "      <td>2004-10-01</td>\n",
              "      <td>24.0332</td>\n",
              "      <td>24.4628</td>\n",
              "      <td>23.9855</td>\n",
              "      <td>24.4294</td>\n",
              "      <td>129800</td>\n",
              "      <td>0.0000</td>\n",
              "      <td>0.0000</td>\n",
              "      <td>VNQ</td>\n",
              "    </tr>\n",
              "    <tr>\n",
              "      <th>3</th>\n",
              "      <td>2004-10-04</td>\n",
              "      <td>24.5296</td>\n",
              "      <td>24.6060</td>\n",
              "      <td>24.5296</td>\n",
              "      <td>24.5344</td>\n",
              "      <td>8100</td>\n",
              "      <td>0.0000</td>\n",
              "      <td>0.0000</td>\n",
              "      <td>VNQ</td>\n",
              "    </tr>\n",
              "    <tr>\n",
              "      <th>4</th>\n",
              "      <td>2004-10-05</td>\n",
              "      <td>24.5344</td>\n",
              "      <td>24.5821</td>\n",
              "      <td>24.5105</td>\n",
              "      <td>24.5296</td>\n",
              "      <td>11900</td>\n",
              "      <td>0.0000</td>\n",
              "      <td>0.0000</td>\n",
              "      <td>VNQ</td>\n",
              "    </tr>\n",
              "    <tr>\n",
              "      <th>...</th>\n",
              "      <td>...</td>\n",
              "      <td>...</td>\n",
              "      <td>...</td>\n",
              "      <td>...</td>\n",
              "      <td>...</td>\n",
              "      <td>...</td>\n",
              "      <td>...</td>\n",
              "      <td>...</td>\n",
              "      <td>...</td>\n",
              "    </tr>\n",
              "    <tr>\n",
              "      <th>53434</th>\n",
              "      <td>2021-06-17</td>\n",
              "      <td>9.2800</td>\n",
              "      <td>9.2900</td>\n",
              "      <td>9.2200</td>\n",
              "      <td>9.2200</td>\n",
              "      <td>5200</td>\n",
              "      <td>0.0000</td>\n",
              "      <td>0.0000</td>\n",
              "      <td>REK</td>\n",
              "    </tr>\n",
              "    <tr>\n",
              "      <th>53435</th>\n",
              "      <td>2021-06-18</td>\n",
              "      <td>9.3300</td>\n",
              "      <td>9.3700</td>\n",
              "      <td>9.2700</td>\n",
              "      <td>9.3700</td>\n",
              "      <td>22800</td>\n",
              "      <td>0.0000</td>\n",
              "      <td>0.0000</td>\n",
              "      <td>REK</td>\n",
              "    </tr>\n",
              "    <tr>\n",
              "      <th>53436</th>\n",
              "      <td>2021-06-21</td>\n",
              "      <td>9.3200</td>\n",
              "      <td>9.3200</td>\n",
              "      <td>9.1700</td>\n",
              "      <td>9.1700</td>\n",
              "      <td>22900</td>\n",
              "      <td>0.0000</td>\n",
              "      <td>0.0000</td>\n",
              "      <td>REK</td>\n",
              "    </tr>\n",
              "    <tr>\n",
              "      <th>53437</th>\n",
              "      <td>2021-06-22</td>\n",
              "      <td>9.1600</td>\n",
              "      <td>9.2300</td>\n",
              "      <td>9.1600</td>\n",
              "      <td>9.2200</td>\n",
              "      <td>6200</td>\n",
              "      <td>0.0000</td>\n",
              "      <td>0.0000</td>\n",
              "      <td>REK</td>\n",
              "    </tr>\n",
              "    <tr>\n",
              "      <th>53438</th>\n",
              "      <td>2021-06-23</td>\n",
              "      <td>9.2000</td>\n",
              "      <td>9.2600</td>\n",
              "      <td>9.2000</td>\n",
              "      <td>9.2600</td>\n",
              "      <td>4500</td>\n",
              "      <td>0.0000</td>\n",
              "      <td>0.0000</td>\n",
              "      <td>REK</td>\n",
              "    </tr>\n",
              "  </tbody>\n",
              "</table>\n",
              "<p>53439 rows × 9 columns</p>\n",
              "</div>"
            ],
            "text/plain": [
              "             Date    Open    High  ...  Dividends  Stock Splits  Ticker\n",
              "0      2004-09-29 23.7945 23.8614  ...     0.0000        0.0000     VNQ\n",
              "1      2004-09-30 23.8661 24.0237  ...     0.0000        0.0000     VNQ\n",
              "2      2004-10-01 24.0332 24.4628  ...     0.0000        0.0000     VNQ\n",
              "3      2004-10-04 24.5296 24.6060  ...     0.0000        0.0000     VNQ\n",
              "4      2004-10-05 24.5344 24.5821  ...     0.0000        0.0000     VNQ\n",
              "...           ...     ...     ...  ...        ...           ...     ...\n",
              "53434  2021-06-17  9.2800  9.2900  ...     0.0000        0.0000     REK\n",
              "53435  2021-06-18  9.3300  9.3700  ...     0.0000        0.0000     REK\n",
              "53436  2021-06-21  9.3200  9.3200  ...     0.0000        0.0000     REK\n",
              "53437  2021-06-22  9.1600  9.2300  ...     0.0000        0.0000     REK\n",
              "53438  2021-06-23  9.2000  9.2600  ...     0.0000        0.0000     REK\n",
              "\n",
              "[53439 rows x 9 columns]"
            ]
          },
          "metadata": {
            "tags": []
          },
          "execution_count": 8
        }
      ]
    },
    {
      "cell_type": "code",
      "metadata": {
        "id": "ntiAxLL9JLag"
      },
      "source": [
        "# Select one REIT ETF\n",
        "vnq = data.copy().loc[data['Ticker'] == \"VNQ\"]"
      ],
      "execution_count": 9,
      "outputs": []
    },
    {
      "cell_type": "code",
      "metadata": {
        "id": "lTghZiwcNjQ2"
      },
      "source": [
        "# Drop unnecessary columns\n",
        "vnq.drop(columns=['Volume', 'Dividends', 'Stock Splits', 'Ticker'], inplace=True)"
      ],
      "execution_count": 10,
      "outputs": []
    },
    {
      "cell_type": "code",
      "metadata": {
        "id": "qKCkQSyzUBTL"
      },
      "source": [
        "# Shift index by 1 period => lag-1\n",
        "vnq['Lag 1'] = vnq['Close'].shift(periods=1)"
      ],
      "execution_count": 11,
      "outputs": []
    },
    {
      "cell_type": "code",
      "metadata": {
        "id": "z1fsKKm5P218"
      },
      "source": [
        "# Find the difference between closing price and lag-1\n",
        "# Positive results => up trend\n",
        "# Negtive (or 0) result => down trend\n",
        "vnq.loc[vnq['Close'] - vnq['Lag 1'] > 0, 'Trend'] = 'up'\n",
        "vnq.loc[vnq['Close'] - vnq['Lag 1'] <= 0, 'Trend'] = 'down'"
      ],
      "execution_count": 12,
      "outputs": []
    },
    {
      "cell_type": "code",
      "metadata": {
        "colab": {
          "base_uri": "https://localhost:8080/"
        },
        "id": "RcNanN2uP2wP",
        "outputId": "a8680e2f-786c-455e-9bfb-17e7bd765984"
      },
      "source": [
        "vnq['Trend'].isna().sum() # The 1st row should have a null value"
      ],
      "execution_count": 13,
      "outputs": [
        {
          "output_type": "execute_result",
          "data": {
            "text/plain": [
              "1"
            ]
          },
          "metadata": {
            "tags": []
          },
          "execution_count": 13
        }
      ]
    },
    {
      "cell_type": "code",
      "metadata": {
        "id": "pGXWDU_7W5yp"
      },
      "source": [
        "# Drop the \"Lag 1\" column\n",
        "vnq.drop(columns=['Lag 1'], inplace=True)\n",
        "\n",
        "# Drop the 1st row which has a null value\n",
        "vnq.drop([0], inplace=True)"
      ],
      "execution_count": 14,
      "outputs": []
    },
    {
      "cell_type": "code",
      "metadata": {
        "colab": {
          "base_uri": "https://localhost:8080/",
          "height": 467
        },
        "id": "l8AoVtcAJOBM",
        "outputId": "592d7692-e123-49c4-9bb0-b8c53e747554"
      },
      "source": [
        "# Set the \"Date\" column as the index \n",
        "ut.preprocess_df(vnq)"
      ],
      "execution_count": 15,
      "outputs": [
        {
          "output_type": "stream",
          "text": [
            "This dataframe's index is in datatime64? True\n"
          ],
          "name": "stdout"
        },
        {
          "output_type": "display_data",
          "data": {
            "text/html": [
              "<div>\n",
              "<style scoped>\n",
              "    .dataframe tbody tr th:only-of-type {\n",
              "        vertical-align: middle;\n",
              "    }\n",
              "\n",
              "    .dataframe tbody tr th {\n",
              "        vertical-align: top;\n",
              "    }\n",
              "\n",
              "    .dataframe thead th {\n",
              "        text-align: right;\n",
              "    }\n",
              "</style>\n",
              "<table border=\"1\" class=\"dataframe\">\n",
              "  <thead>\n",
              "    <tr style=\"text-align: right;\">\n",
              "      <th></th>\n",
              "      <th>Open</th>\n",
              "      <th>High</th>\n",
              "      <th>Low</th>\n",
              "      <th>Close</th>\n",
              "      <th>Trend</th>\n",
              "    </tr>\n",
              "    <tr>\n",
              "      <th>Date</th>\n",
              "      <th></th>\n",
              "      <th></th>\n",
              "      <th></th>\n",
              "      <th></th>\n",
              "      <th></th>\n",
              "    </tr>\n",
              "  </thead>\n",
              "  <tbody>\n",
              "    <tr>\n",
              "      <th>2004-09-30</th>\n",
              "      <td>23.8661</td>\n",
              "      <td>24.0237</td>\n",
              "      <td>23.8614</td>\n",
              "      <td>23.9855</td>\n",
              "      <td>up</td>\n",
              "    </tr>\n",
              "    <tr>\n",
              "      <th>2004-10-01</th>\n",
              "      <td>24.0332</td>\n",
              "      <td>24.4628</td>\n",
              "      <td>23.9855</td>\n",
              "      <td>24.4294</td>\n",
              "      <td>up</td>\n",
              "    </tr>\n",
              "    <tr>\n",
              "      <th>2004-10-04</th>\n",
              "      <td>24.5296</td>\n",
              "      <td>24.6060</td>\n",
              "      <td>24.5296</td>\n",
              "      <td>24.5344</td>\n",
              "      <td>up</td>\n",
              "    </tr>\n",
              "    <tr>\n",
              "      <th>2004-10-05</th>\n",
              "      <td>24.5344</td>\n",
              "      <td>24.5821</td>\n",
              "      <td>24.5105</td>\n",
              "      <td>24.5296</td>\n",
              "      <td>down</td>\n",
              "    </tr>\n",
              "    <tr>\n",
              "      <th>2004-10-06</th>\n",
              "      <td>24.5821</td>\n",
              "      <td>24.6442</td>\n",
              "      <td>24.5774</td>\n",
              "      <td>24.6442</td>\n",
              "      <td>up</td>\n",
              "    </tr>\n",
              "    <tr>\n",
              "      <th>...</th>\n",
              "      <td>...</td>\n",
              "      <td>...</td>\n",
              "      <td>...</td>\n",
              "      <td>...</td>\n",
              "      <td>...</td>\n",
              "    </tr>\n",
              "    <tr>\n",
              "      <th>2021-06-17</th>\n",
              "      <td>103.4100</td>\n",
              "      <td>103.7000</td>\n",
              "      <td>102.8600</td>\n",
              "      <td>103.5500</td>\n",
              "      <td>down</td>\n",
              "    </tr>\n",
              "    <tr>\n",
              "      <th>2021-06-18</th>\n",
              "      <td>103.0200</td>\n",
              "      <td>103.4700</td>\n",
              "      <td>101.7900</td>\n",
              "      <td>101.7900</td>\n",
              "      <td>down</td>\n",
              "    </tr>\n",
              "    <tr>\n",
              "      <th>2021-06-21</th>\n",
              "      <td>102.3100</td>\n",
              "      <td>104.2100</td>\n",
              "      <td>101.8000</td>\n",
              "      <td>103.8900</td>\n",
              "      <td>up</td>\n",
              "    </tr>\n",
              "    <tr>\n",
              "      <th>2021-06-22</th>\n",
              "      <td>103.8900</td>\n",
              "      <td>104.0100</td>\n",
              "      <td>103.2800</td>\n",
              "      <td>103.3500</td>\n",
              "      <td>down</td>\n",
              "    </tr>\n",
              "    <tr>\n",
              "      <th>2021-06-23</th>\n",
              "      <td>103.3500</td>\n",
              "      <td>103.7500</td>\n",
              "      <td>103.0800</td>\n",
              "      <td>103.1700</td>\n",
              "      <td>down</td>\n",
              "    </tr>\n",
              "  </tbody>\n",
              "</table>\n",
              "<p>4212 rows × 5 columns</p>\n",
              "</div>"
            ],
            "text/plain": [
              "               Open     High      Low    Close Trend\n",
              "Date                                                \n",
              "2004-09-30  23.8661  24.0237  23.8614  23.9855    up\n",
              "2004-10-01  24.0332  24.4628  23.9855  24.4294    up\n",
              "2004-10-04  24.5296  24.6060  24.5296  24.5344    up\n",
              "2004-10-05  24.5344  24.5821  24.5105  24.5296  down\n",
              "2004-10-06  24.5821  24.6442  24.5774  24.6442    up\n",
              "...             ...      ...      ...      ...   ...\n",
              "2021-06-17 103.4100 103.7000 102.8600 103.5500  down\n",
              "2021-06-18 103.0200 103.4700 101.7900 101.7900  down\n",
              "2021-06-21 102.3100 104.2100 101.8000 103.8900    up\n",
              "2021-06-22 103.8900 104.0100 103.2800 103.3500  down\n",
              "2021-06-23 103.3500 103.7500 103.0800 103.1700  down\n",
              "\n",
              "[4212 rows x 5 columns]"
            ]
          },
          "metadata": {
            "tags": []
          }
        }
      ]
    },
    {
      "cell_type": "code",
      "metadata": {
        "colab": {
          "base_uri": "https://localhost:8080/"
        },
        "id": "ceypXmCts-id",
        "outputId": "76a00695-af36-40bb-b6f9-f2bc3d0efa89"
      },
      "source": [
        "vnq['Trend'].unique()"
      ],
      "execution_count": 16,
      "outputs": [
        {
          "output_type": "execute_result",
          "data": {
            "text/plain": [
              "array(['up', 'down'], dtype=object)"
            ]
          },
          "metadata": {
            "tags": []
          },
          "execution_count": 16
        }
      ]
    },
    {
      "cell_type": "code",
      "metadata": {
        "colab": {
          "base_uri": "https://localhost:8080/"
        },
        "id": "7YZQXQNzq3af",
        "outputId": "db9f84ce-e3b0-4499-b2cc-bfe277181e83"
      },
      "source": [
        "vnq['Trend'].value_counts()"
      ],
      "execution_count": 17,
      "outputs": [
        {
          "output_type": "execute_result",
          "data": {
            "text/plain": [
              "up      2264\n",
              "down    1948\n",
              "Name: Trend, dtype: int64"
            ]
          },
          "metadata": {
            "tags": []
          },
          "execution_count": 17
        }
      ]
    },
    {
      "cell_type": "code",
      "metadata": {
        "id": "xP4OQG6_tDZC"
      },
      "source": [
        "# Label encoding\n",
        "label_encoder = LabelEncoder()\n",
        "vnq['Trend']= label_encoder.fit_transform(vnq['Trend'])"
      ],
      "execution_count": 18,
      "outputs": []
    },
    {
      "cell_type": "code",
      "metadata": {
        "colab": {
          "base_uri": "https://localhost:8080/"
        },
        "id": "jvUWQjCbtSUF",
        "outputId": "7ae67ea0-2284-4f82-df5d-7377de0a735a"
      },
      "source": [
        "vnq['Trend'].value_counts()"
      ],
      "execution_count": 19,
      "outputs": [
        {
          "output_type": "execute_result",
          "data": {
            "text/plain": [
              "1    2264\n",
              "0    1948\n",
              "Name: Trend, dtype: int64"
            ]
          },
          "metadata": {
            "tags": []
          },
          "execution_count": 19
        }
      ]
    },
    {
      "cell_type": "code",
      "metadata": {
        "id": "iIY8GHfTbI8w"
      },
      "source": [
        "# Split the data into train, val and test set\n",
        "# Test size = 1 month (22 days)\n",
        "# Val size = 1 year (253 days)\n",
        "# Train size = rest of the time\n",
        "train = vnq.iloc[:-275]\n",
        "val = vnq.iloc[-275:-22]\n",
        "test = vnq.iloc[-22:]"
      ],
      "execution_count": 20,
      "outputs": []
    },
    {
      "cell_type": "code",
      "metadata": {
        "id": "n6W2V7FacCHr"
      },
      "source": [
        "def xy_split(dataset):\n",
        "    '''\n",
        "    Split the dataset into X-part and y-part(label).\n",
        "\n",
        "    -*-*-*-*-*-*-*-*-*-*-*-*-*-*-*-*-*-*-*-*-*-*-*-*-*-*-*-*-*-*-*-*-*-*-*-*-*-*\n",
        "    \n",
        "    Input:\n",
        "    - dataset: dataframe\n",
        "\n",
        "    Return:\n",
        "    - X, y\n",
        "    \n",
        "    '''\n",
        "\n",
        "    X = dataset.drop(columns=['Trend'], axis=1)\n",
        "    y = dataset['Trend']\n",
        "\n",
        "    return X, y"
      ],
      "execution_count": 21,
      "outputs": []
    },
    {
      "cell_type": "code",
      "metadata": {
        "id": "I4PYNjoJb-Sj"
      },
      "source": [
        "X_train, y_train = xy_split(train)\n",
        "X_val, y_val = xy_split(val)\n",
        "X_test, y_test = xy_split(test)"
      ],
      "execution_count": 22,
      "outputs": []
    },
    {
      "cell_type": "markdown",
      "metadata": {
        "id": "Kd8EX2DAle68"
      },
      "source": [
        "### Pipeline"
      ]
    },
    {
      "cell_type": "code",
      "metadata": {
        "colab": {
          "base_uri": "https://localhost:8080/"
        },
        "id": "kja3-sA8IJfS",
        "outputId": "abb8d8d2-11a7-4766-90d5-e3617de22d15"
      },
      "source": [
        "num_cols = vnq.columns[:-1].tolist()\n",
        "num_cols"
      ],
      "execution_count": 23,
      "outputs": [
        {
          "output_type": "execute_result",
          "data": {
            "text/plain": [
              "['Open', 'High', 'Low', 'Close']"
            ]
          },
          "metadata": {
            "tags": []
          },
          "execution_count": 23
        }
      ]
    },
    {
      "cell_type": "code",
      "metadata": {
        "id": "t20UsRpOleY_"
      },
      "source": [
        "# Set up scaling step\n",
        "num_transformer = Pipeline(steps=[('scaler', MinMaxScaler())])  \n",
        "\n",
        "# Put scaling step into a Column Transformer\n",
        "preprocessor = ColumnTransformer(transformers=[('num', num_transformer, num_cols)])"
      ],
      "execution_count": 24,
      "outputs": []
    },
    {
      "cell_type": "markdown",
      "metadata": {
        "id": "aFFWq8u0Jof3"
      },
      "source": [
        "## III. Modeling\n",
        "Metrics used:\n",
        "- Accuracy\n",
        "- ROC-AUC\n",
        "- Classification Report\n",
        "- Confusion Matrix\n",
        "- ROC Curve"
      ]
    },
    {
      "cell_type": "markdown",
      "metadata": {
        "id": "NbwI_wyWJqzB"
      },
      "source": [
        "### Baseline Model\n",
        "- Logistic Regression"
      ]
    },
    {
      "cell_type": "code",
      "metadata": {
        "colab": {
          "base_uri": "https://localhost:8080/",
          "height": 898
        },
        "id": "AAWdQv2zPx5S",
        "outputId": "7090d8ae-0fca-484f-bfd3-36d3171328a7"
      },
      "source": [
        "lg_clf = Pipeline(steps=[\n",
        "    ('preprocess', preprocessor),\n",
        "    ('classifier', LogisticRegression(random_state=24))])\n",
        "\n",
        "lg_clf.fit(X_train, y_train)\n",
        "\n",
        "lg_result = ut.class_model_evaluation(lg_clf, X_train, y_train, X_val, y_val, use_decision_function='yes')\n",
        "lg_result"
      ],
      "execution_count": 25,
      "outputs": [
        {
          "output_type": "stream",
          "text": [
            "Train\n",
            "-*-*-*-*-*-*-*-*\n",
            "accuracy: 0.5438\n",
            "roc-auc: 0.7147 \n",
            "\n",
            "Val\n",
            "-*-*-*-*-*-*-*-*\n",
            "accuracy: 0.5731\n",
            "roc-auc: 0.8933\n",
            "\n",
            "\n",
            "              precision    recall  f1-score   support\n",
            "\n",
            "           0       0.00      0.00      0.00       108\n",
            "           1       0.57      1.00      0.73       145\n",
            "\n",
            "    accuracy                           0.57       253\n",
            "   macro avg       0.29      0.50      0.36       253\n",
            "weighted avg       0.33      0.57      0.42       253\n",
            "\n"
          ],
          "name": "stdout"
        },
        {
          "output_type": "display_data",
          "data": {
            "image/png": "[encoded data removed]",
            "text/plain": [
              "<Figure size 432x288 with 2 Axes>"
            ]
          },
          "metadata": {
            "tags": [],
            "needs_background": "light"
          }
        },
        {
          "output_type": "display_data",
          "data": {
            "image/png": "[encoded data removed]",
            "text/plain": [
              "<Figure size 432x288 with 1 Axes>"
            ]
          },
          "metadata": {
            "tags": [],
            "needs_background": "light"
          }
        },
        {
          "output_type": "execute_result",
          "data": {
            "text/plain": [
              "([0.5438], [0.5731], [0.7147], [0.8933])"
            ]
          },
          "metadata": {
            "tags": []
          },
          "execution_count": 25
        }
      ]
    },
    {
      "cell_type": "markdown",
      "metadata": {
        "id": "tdKnkDTW4CHo"
      },
      "source": [
        ">**Comment:** *Logistic Regression (Baseline Model)*\n",
        "- Val accuracy 0.5731 is higher than train accuracy 0.5438 => slightly underfit\n",
        "- Although the roc-score is 0.8933 which is relative good, the confusion matrix (TN is 0) indicates that the model is unable to detect the down pattern\n",
        "    - Logistic regression thinks the price will always increase haha :)"
      ]
    },
    {
      "cell_type": "markdown",
      "metadata": {
        "id": "PQxM9sRgJ1hW"
      },
      "source": [
        "### KNN"
      ]
    },
    {
      "cell_type": "code",
      "metadata": {
        "colab": {
          "base_uri": "https://localhost:8080/",
          "height": 898
        },
        "id": "NSLT89qWl2SR",
        "outputId": "4da071dd-077d-457f-9280-c61e02978c84"
      },
      "source": [
        "knn_clf = Pipeline(steps=[\n",
        "    ('preprocess', preprocessor),\n",
        "    ('classifier', KNeighborsClassifier())])\n",
        "\n",
        "knn_clf.fit(X_train, y_train)\n",
        "\n",
        "knn_result = ut.class_model_evaluation(knn_clf, X_train, y_train, X_val, y_val, use_decision_function='no')\n",
        "knn_result"
      ],
      "execution_count": 26,
      "outputs": [
        {
          "output_type": "stream",
          "text": [
            "Train\n",
            "-*-*-*-*-*-*-*-*\n",
            "accuracy: 0.8890\n",
            "roc-auc: 0.9541 \n",
            "\n",
            "Val\n",
            "-*-*-*-*-*-*-*-*\n",
            "accuracy: 0.7708\n",
            "roc-auc: 0.8355\n",
            "\n",
            "\n",
            "              precision    recall  f1-score   support\n",
            "\n",
            "           0       0.78      0.65      0.71       108\n",
            "           1       0.77      0.86      0.81       145\n",
            "\n",
            "    accuracy                           0.77       253\n",
            "   macro avg       0.77      0.76      0.76       253\n",
            "weighted avg       0.77      0.77      0.77       253\n",
            "\n"
          ],
          "name": "stdout"
        },
        {
          "output_type": "display_data",
          "data": {
            "image/png": "[encoded data removed]",
            "text/plain": [
              "<Figure size 432x288 with 2 Axes>"
            ]
          },
          "metadata": {
            "tags": [],
            "needs_background": "light"
          }
        },
        {
          "output_type": "display_data",
          "data": {
            "image/png": "[encoded data removed]",
            "text/plain": [
              "<Figure size 432x288 with 1 Axes>"
            ]
          },
          "metadata": {
            "tags": [],
            "needs_background": "light"
          }
        },
        {
          "output_type": "execute_result",
          "data": {
            "text/plain": [
              "([0.889], [0.7708], [0.9541], [0.8355])"
            ]
          },
          "metadata": {
            "tags": []
          },
          "execution_count": 26
        }
      ]
    },
    {
      "cell_type": "markdown",
      "metadata": {
        "id": "VWV4PECP4fmt"
      },
      "source": [
        ">**Comment:** *KNN*\n",
        "- Val accuracy 0.7708 is lower than train accuracy 0.8890 = > overfit\n",
        "- Model able to classfify the uptrend/downtrend, better than the baseline model"
      ]
    },
    {
      "cell_type": "markdown",
      "metadata": {
        "id": "ppVrRWWmU5A3"
      },
      "source": [
        "### Tree"
      ]
    },
    {
      "cell_type": "markdown",
      "metadata": {
        "id": "hQdevE4KKsy9"
      },
      "source": [
        "#### Random Forest"
      ]
    },
    {
      "cell_type": "code",
      "metadata": {
        "colab": {
          "base_uri": "https://localhost:8080/",
          "height": 898
        },
        "id": "soha-XSvpVBq",
        "outputId": "daffaf77-761f-46f4-d29a-dd290e46a038"
      },
      "source": [
        "rf_clf = Pipeline(steps=[\n",
        "    ('preprocess', preprocessor),\n",
        "    ('classifier', RandomForestClassifier(criterion='entropy', random_state=24))])\n",
        "\n",
        "rf_clf.fit(X_train, y_train)\n",
        "\n",
        "rf_result = ut.class_model_evaluation(rf_clf, X_train, y_train, X_val, y_val, use_decision_function='no')\n",
        "rf_result"
      ],
      "execution_count": 27,
      "outputs": [
        {
          "output_type": "stream",
          "text": [
            "Train\n",
            "-*-*-*-*-*-*-*-*\n",
            "accuracy: 1.0000\n",
            "roc-auc: 1.0000 \n",
            "\n",
            "Val\n",
            "-*-*-*-*-*-*-*-*\n",
            "accuracy: 0.7352\n",
            "roc-auc: 0.8113\n",
            "\n",
            "\n",
            "              precision    recall  f1-score   support\n",
            "\n",
            "           0       0.67      0.76      0.71       108\n",
            "           1       0.80      0.72      0.76       145\n",
            "\n",
            "    accuracy                           0.74       253\n",
            "   macro avg       0.73      0.74      0.73       253\n",
            "weighted avg       0.74      0.74      0.74       253\n",
            "\n"
          ],
          "name": "stdout"
        },
        {
          "output_type": "display_data",
          "data": {
            "image/png": "[encoded data removed]",
            "text/plain": [
              "<Figure size 432x288 with 2 Axes>"
            ]
          },
          "metadata": {
            "tags": [],
            "needs_background": "light"
          }
        },
        {
          "output_type": "display_data",
          "data": {
            "image/png": "[encoded data removed]",
            "text/plain": [
              "<Figure size 432x288 with 1 Axes>"
            ]
          },
          "metadata": {
            "tags": [],
            "needs_background": "light"
          }
        },
        {
          "output_type": "execute_result",
          "data": {
            "text/plain": [
              "([1.0], [0.7352], [1.0], [0.8113])"
            ]
          },
          "metadata": {
            "tags": []
          },
          "execution_count": 27
        }
      ]
    },
    {
      "cell_type": "markdown",
      "metadata": {
        "id": "gpFjK5a94n91"
      },
      "source": [
        ">**Comment:** *Random Forest*\n",
        "- Val accuracy 0.7352 is lower than train accuracy 1.0000 = > super overfit\n",
        "- Model is able to classify the uptrend/downtrend, better than the baseline model"
      ]
    },
    {
      "cell_type": "markdown",
      "metadata": {
        "id": "juIRyGblvDHI"
      },
      "source": [
        "#### Bagging"
      ]
    },
    {
      "cell_type": "code",
      "metadata": {
        "colab": {
          "base_uri": "https://localhost:8080/",
          "height": 898
        },
        "id": "AcMyrutAvJQW",
        "outputId": "116e99ae-9322-47b8-e77a-f44d6e80e92e"
      },
      "source": [
        "bag_clf = Pipeline(steps=[\n",
        "    ('preprocess', preprocessor),\n",
        "    ('classifier', BaggingClassifier(DecisionTreeClassifier(criterion='entropy', random_state=24)))])\n",
        "\n",
        "bag_clf.fit(X_train, y_train)\n",
        "\n",
        "bag_result = ut.class_model_evaluation(bag_clf, X_train, y_train, X_val, y_val, use_decision_function='no')\n",
        "bag_result"
      ],
      "execution_count": 28,
      "outputs": [
        {
          "output_type": "stream",
          "text": [
            "Train\n",
            "-*-*-*-*-*-*-*-*\n",
            "accuracy: 0.9896\n",
            "roc-auc: 0.9995 \n",
            "\n",
            "Val\n",
            "-*-*-*-*-*-*-*-*\n",
            "accuracy: 0.7628\n",
            "roc-auc: 0.8373\n",
            "\n",
            "\n",
            "              precision    recall  f1-score   support\n",
            "\n",
            "           0       0.71      0.75      0.73       108\n",
            "           1       0.81      0.77      0.79       145\n",
            "\n",
            "    accuracy                           0.76       253\n",
            "   macro avg       0.76      0.76      0.76       253\n",
            "weighted avg       0.77      0.76      0.76       253\n",
            "\n"
          ],
          "name": "stdout"
        },
        {
          "output_type": "display_data",
          "data": {
            "image/png": "[encoded data removed]",
            "text/plain": [
              "<Figure size 432x288 with 2 Axes>"
            ]
          },
          "metadata": {
            "tags": [],
            "needs_background": "light"
          }
        },
        {
          "output_type": "display_data",
          "data": {
            "image/png": "[encoded data removed]",
            "text/plain": [
              "<Figure size 432x288 with 1 Axes>"
            ]
          },
          "metadata": {
            "tags": [],
            "needs_background": "light"
          }
        },
        {
          "output_type": "execute_result",
          "data": {
            "text/plain": [
              "([0.9896], [0.7628], [0.9995], [0.8373])"
            ]
          },
          "metadata": {
            "tags": []
          },
          "execution_count": 28
        }
      ]
    },
    {
      "cell_type": "markdown",
      "metadata": {
        "id": "4JOcDeLe4s5J"
      },
      "source": [
        ">**Comment:** *Bagging*\n",
        "- Val accuracy 0.7431 is lower than train accuracy 0.9898 = > super overfit\n",
        "- Model is able to classify the uptrend/downtrend, better than the baseline model"
      ]
    },
    {
      "cell_type": "markdown",
      "metadata": {
        "id": "DTeIoGsYDifD"
      },
      "source": [
        "### Boost"
      ]
    },
    {
      "cell_type": "markdown",
      "metadata": {
        "id": "9myb4z2TL1CH"
      },
      "source": [
        "#### XGBoost"
      ]
    },
    {
      "cell_type": "code",
      "metadata": {
        "colab": {
          "base_uri": "https://localhost:8080/",
          "height": 898
        },
        "id": "qMz-SlyeK6P7",
        "outputId": "708ee19b-cdd6-4862-df99-abbb121b1c5c"
      },
      "source": [
        "xgb_clf = Pipeline(steps=[\n",
        "    ('preprocess', preprocessor),\n",
        "    ('classifier', XGBClassifier(random_state=24))])\n",
        "\n",
        "xgb_clf.fit(X_train, y_train)\n",
        "\n",
        "xgb_result = ut.class_model_evaluation(xgb_clf, X_train, y_train, X_val, y_val, use_decision_function='no')\n",
        "xgb_result"
      ],
      "execution_count": 29,
      "outputs": [
        {
          "output_type": "stream",
          "text": [
            "Train\n",
            "-*-*-*-*-*-*-*-*\n",
            "accuracy: 0.7536\n",
            "roc-auc: 0.8695 \n",
            "\n",
            "Val\n",
            "-*-*-*-*-*-*-*-*\n",
            "accuracy: 0.5810\n",
            "roc-auc: 0.6472\n",
            "\n",
            "\n",
            "              precision    recall  f1-score   support\n",
            "\n",
            "           0       0.55      0.10      0.17       108\n",
            "           1       0.58      0.94      0.72       145\n",
            "\n",
            "    accuracy                           0.58       253\n",
            "   macro avg       0.57      0.52      0.45       253\n",
            "weighted avg       0.57      0.58      0.49       253\n",
            "\n"
          ],
          "name": "stdout"
        },
        {
          "output_type": "display_data",
          "data": {
            "image/png": "[encoded data removed]",
            "text/plain": [
              "<Figure size 432x288 with 2 Axes>"
            ]
          },
          "metadata": {
            "tags": [],
            "needs_background": "light"
          }
        },
        {
          "output_type": "display_data",
          "data": {
            "image/png": "[encoded data removed]",
            "text/plain": [
              "<Figure size 432x288 with 1 Axes>"
            ]
          },
          "metadata": {
            "tags": [],
            "needs_background": "light"
          }
        },
        {
          "output_type": "execute_result",
          "data": {
            "text/plain": [
              "([0.7536], [0.581], [0.8695], [0.6472])"
            ]
          },
          "metadata": {
            "tags": []
          },
          "execution_count": 29
        }
      ]
    },
    {
      "cell_type": "markdown",
      "metadata": {
        "id": "cywcwxZP44v5"
      },
      "source": [
        ">**Comment:** *XGBoost*\n",
        "- Val accuracy 0.581 is lower than train accuracy 0.7536 = > overfit\n",
        "- Model is able to classify the uptrend/downtrend, better than the baseline model\n",
        "- ROC-AUC score is 0.65 which is relative worse (better than guessing)"
      ]
    },
    {
      "cell_type": "markdown",
      "metadata": {
        "id": "_2rjFNYZL3gf"
      },
      "source": [
        "#### AdaBoost"
      ]
    },
    {
      "cell_type": "code",
      "metadata": {
        "colab": {
          "base_uri": "https://localhost:8080/",
          "height": 898
        },
        "id": "9D7lrHQ2LSTU",
        "outputId": "d236f3e3-2dbc-4ccb-9087-b269900026c4"
      },
      "source": [
        "ada_clf = Pipeline(steps=[\n",
        "    ('preprocess', preprocessor),\n",
        "    ('classifier', AdaBoostClassifier(DecisionTreeClassifier(criterion='entropy', random_state=24)))])\n",
        "\n",
        "ada_clf.fit(X_train, y_train)\n",
        "\n",
        "ada_result = ut.class_model_evaluation(ada_clf, X_train, y_train, X_val, y_val, use_decision_function='no')\n",
        "ada_result"
      ],
      "execution_count": 30,
      "outputs": [
        {
          "output_type": "stream",
          "text": [
            "Train\n",
            "-*-*-*-*-*-*-*-*\n",
            "accuracy: 1.0000\n",
            "roc-auc: 1.0000 \n",
            "\n",
            "Val\n",
            "-*-*-*-*-*-*-*-*\n",
            "accuracy: 0.7036\n",
            "roc-auc: 0.7118\n",
            "\n",
            "\n",
            "              precision    recall  f1-score   support\n",
            "\n",
            "           0       0.62      0.77      0.69       108\n",
            "           1       0.79      0.66      0.72       145\n",
            "\n",
            "    accuracy                           0.70       253\n",
            "   macro avg       0.71      0.71      0.70       253\n",
            "weighted avg       0.72      0.70      0.70       253\n",
            "\n"
          ],
          "name": "stdout"
        },
        {
          "output_type": "display_data",
          "data": {
            "image/png": "[encoded data removed]",
            "text/plain": [
              "<Figure size 432x288 with 2 Axes>"
            ]
          },
          "metadata": {
            "tags": [],
            "needs_background": "light"
          }
        },
        {
          "output_type": "display_data",
          "data": {
            "image/png": "[encoded data removed]",
            "text/plain": [
              "<Figure size 432x288 with 1 Axes>"
            ]
          },
          "metadata": {
            "tags": [],
            "needs_background": "light"
          }
        },
        {
          "output_type": "execute_result",
          "data": {
            "text/plain": [
              "([1.0], [0.7036], [1.0], [0.7118])"
            ]
          },
          "metadata": {
            "tags": []
          },
          "execution_count": 30
        }
      ]
    },
    {
      "cell_type": "markdown",
      "metadata": {
        "id": "-yfXfJ7-4_je"
      },
      "source": [
        ">**Comment:** *AdaBoost*\n",
        "- Val accuracy 0.6838 is lower than train accuracy 1.000 = > super overfit\n",
        "- Model is able to classify the uptrend/downtrend, better than the baseline model\n",
        "- ROC-AUC score is 0.70 which is relative worse (better than guessing)"
      ]
    },
    {
      "cell_type": "markdown",
      "metadata": {
        "id": "ab4G04VLL_y9"
      },
      "source": [
        "#### Gradient Boosting"
      ]
    },
    {
      "cell_type": "code",
      "metadata": {
        "colab": {
          "base_uri": "https://localhost:8080/",
          "height": 898
        },
        "id": "ogqiymnzMD4j",
        "outputId": "b50d6f39-10a3-4e0a-c478-e4b85d99e2ab"
      },
      "source": [
        "gb_clf = Pipeline(steps=[\n",
        "    ('preprocess', preprocessor),\n",
        "    ('classifier', GradientBoostingClassifier(random_state=24))])\n",
        "\n",
        "gb_clf.fit(X_train, y_train)\n",
        "\n",
        "gb_result = ut.class_model_evaluation(gb_clf, X_train, y_train, X_val, y_val, use_decision_function='no')\n",
        "gb_result"
      ],
      "execution_count": 31,
      "outputs": [
        {
          "output_type": "stream",
          "text": [
            "Train\n",
            "-*-*-*-*-*-*-*-*\n",
            "accuracy: 0.7727\n",
            "roc-auc: 0.8748 \n",
            "\n",
            "Val\n",
            "-*-*-*-*-*-*-*-*\n",
            "accuracy: 0.5731\n",
            "roc-auc: 0.5531\n",
            "\n",
            "\n",
            "              precision    recall  f1-score   support\n",
            "\n",
            "           0       0.50      0.20      0.29       108\n",
            "           1       0.59      0.85      0.69       145\n",
            "\n",
            "    accuracy                           0.57       253\n",
            "   macro avg       0.54      0.53      0.49       253\n",
            "weighted avg       0.55      0.57      0.52       253\n",
            "\n"
          ],
          "name": "stdout"
        },
        {
          "output_type": "display_data",
          "data": {
            "image/png": "[encoded data removed]",
            "text/plain": [
              "<Figure size 432x288 with 2 Axes>"
            ]
          },
          "metadata": {
            "tags": [],
            "needs_background": "light"
          }
        },
        {
          "output_type": "display_data",
          "data": {
            "image/png": "[encoded data removed]",
            "text/plain": [
              "<Figure size 432x288 with 1 Axes>"
            ]
          },
          "metadata": {
            "tags": [],
            "needs_background": "light"
          }
        },
        {
          "output_type": "execute_result",
          "data": {
            "text/plain": [
              "([0.7727], [0.5731], [0.8748], [0.5531])"
            ]
          },
          "metadata": {
            "tags": []
          },
          "execution_count": 31
        }
      ]
    },
    {
      "cell_type": "markdown",
      "metadata": {
        "id": "puYvHoCa5Ebe"
      },
      "source": [
        ">**Comment:** *Gradient Boost*\n",
        "- Val accuracy 0.5731 is lower than train accuracy 0.7727 = > overfit\n",
        "- Model is able to classify the uptrend/downtrend, better than the baseline model\n",
        "- ROC-AUC score is 0.55 which is relative worse (better than guessing)"
      ]
    },
    {
      "cell_type": "markdown",
      "metadata": {
        "id": "nFWURFs8C6FE"
      },
      "source": [
        "### SVM"
      ]
    },
    {
      "cell_type": "markdown",
      "metadata": {
        "id": "V0X-j3JzDArN"
      },
      "source": [
        "#### SVC"
      ]
    },
    {
      "cell_type": "code",
      "metadata": {
        "colab": {
          "base_uri": "https://localhost:8080/",
          "height": 898
        },
        "id": "I9erkdBNDFjd",
        "outputId": "ac3b8094-39e7-4198-b465-0a34cacdb963"
      },
      "source": [
        "svc_clf = Pipeline(steps=[\n",
        "    ('preprocess', preprocessor),\n",
        "    ('classifier', SVC(kernel='poly', probability=True, random_state=24))])\n",
        "\n",
        "svc_clf.fit(X_train, y_train)\n",
        "\n",
        "svc_result = ut.class_model_evaluation(svc_clf, X_train, y_train, X_val, y_val, use_decision_function='yes')\n",
        "svc_result"
      ],
      "execution_count": 32,
      "outputs": [
        {
          "output_type": "stream",
          "text": [
            "Train\n",
            "-*-*-*-*-*-*-*-*\n",
            "accuracy: 0.7770\n",
            "roc-auc: 0.9115 \n",
            "\n",
            "Val\n",
            "-*-*-*-*-*-*-*-*\n",
            "accuracy: 0.8498\n",
            "roc-auc: 0.9302\n",
            "\n",
            "\n",
            "              precision    recall  f1-score   support\n",
            "\n",
            "           0       0.79      0.89      0.83       108\n",
            "           1       0.91      0.82      0.86       145\n",
            "\n",
            "    accuracy                           0.85       253\n",
            "   macro avg       0.85      0.85      0.85       253\n",
            "weighted avg       0.86      0.85      0.85       253\n",
            "\n"
          ],
          "name": "stdout"
        },
        {
          "output_type": "display_data",
          "data": {
            "image/png": "[encoded data removed]",
            "text/plain": [
              "<Figure size 432x288 with 2 Axes>"
            ]
          },
          "metadata": {
            "tags": [],
            "needs_background": "light"
          }
        },
        {
          "output_type": "display_data",
          "data": {
            "image/png": "[encoded data removed]",
            "text/plain": [
              "<Figure size 432x288 with 1 Axes>"
            ]
          },
          "metadata": {
            "tags": [],
            "needs_background": "light"
          }
        },
        {
          "output_type": "execute_result",
          "data": {
            "text/plain": [
              "([0.777], [0.8498], [0.9115], [0.9302])"
            ]
          },
          "metadata": {
            "tags": []
          },
          "execution_count": 32
        }
      ]
    },
    {
      "cell_type": "markdown",
      "metadata": {
        "id": "CKlLbCVJk4v9"
      },
      "source": [
        ">**Comment:** *SVC*\n",
        "- Val accuracy 0.8498 is higher than train accuracy 0.777 = > slightly underfit\n",
        "- Model is able to classify the uptrend/downtrend, better than the baseline model\n",
        "- ROC-AUC score is 0.93 which is relative good"
      ]
    },
    {
      "cell_type": "markdown",
      "metadata": {
        "id": "oJMkPNlBDDBE"
      },
      "source": [
        "#### NuSVC"
      ]
    },
    {
      "cell_type": "code",
      "metadata": {
        "colab": {
          "base_uri": "https://localhost:8080/",
          "height": 898
        },
        "id": "g-YPIZmiDF-a",
        "outputId": "14610f81-e926-4f56-eda2-6219f8958447"
      },
      "source": [
        "nusvc_clf = Pipeline(steps=[\n",
        "    ('preprocess', preprocessor),\n",
        "    ('classifier', NuSVC(kernel='poly', probability=True, random_state=24))])\n",
        "\n",
        "nusvc_clf.fit(X_train, y_train)\n",
        "\n",
        "nusvc_result = ut.class_model_evaluation(nusvc_clf, X_train, y_train, X_val, y_val, use_decision_function='yes')\n",
        "nusvc_result"
      ],
      "execution_count": 33,
      "outputs": [
        {
          "output_type": "stream",
          "text": [
            "Train\n",
            "-*-*-*-*-*-*-*-*\n",
            "accuracy: 0.8095\n",
            "roc-auc: 0.9162 \n",
            "\n",
            "Val\n",
            "-*-*-*-*-*-*-*-*\n",
            "accuracy: 0.8617\n",
            "roc-auc: 0.9292\n",
            "\n",
            "\n",
            "              precision    recall  f1-score   support\n",
            "\n",
            "           0       0.81      0.89      0.85       108\n",
            "           1       0.91      0.84      0.87       145\n",
            "\n",
            "    accuracy                           0.86       253\n",
            "   macro avg       0.86      0.87      0.86       253\n",
            "weighted avg       0.87      0.86      0.86       253\n",
            "\n"
          ],
          "name": "stdout"
        },
        {
          "output_type": "display_data",
          "data": {
            "image/png": "[encoded data removed]",
            "text/plain": [
              "<Figure size 432x288 with 2 Axes>"
            ]
          },
          "metadata": {
            "tags": [],
            "needs_background": "light"
          }
        },
        {
          "output_type": "display_data",
          "data": {
            "image/png": "[encoded data removed]",
            "text/plain": [
              "<Figure size 432x288 with 1 Axes>"
            ]
          },
          "metadata": {
            "tags": [],
            "needs_background": "light"
          }
        },
        {
          "output_type": "execute_result",
          "data": {
            "text/plain": [
              "([0.8095], [0.8617], [0.9162], [0.9292])"
            ]
          },
          "metadata": {
            "tags": []
          },
          "execution_count": 33
        }
      ]
    },
    {
      "cell_type": "markdown",
      "metadata": {
        "id": "7Hebpw0Jk-FP"
      },
      "source": [
        ">**Comment:** * NuSVC*\n",
        "- Val accuracy 0.8617 is higher than train accuracy 0.8095 = > slightly underfit\n",
        "- Model is able to classify the uptrend/downtrend, better than the baseline model\n",
        "- ROC-AUC score is 0.93 which is relative good"
      ]
    },
    {
      "cell_type": "markdown",
      "metadata": {
        "id": "T6gqYSyD0v3t"
      },
      "source": [
        "## IV. Evaluation\n",
        "I expect to utilize a model with higher accuracy while having fewer false positives and false negatives."
      ]
    },
    {
      "cell_type": "code",
      "metadata": {
        "id": "l8rsq9zNaPbF"
      },
      "source": [
        "# Put all models' evaluation results in a list\n",
        "model_results = [lg_result,\n",
        "                 knn_result,\n",
        "                 rf_result,\n",
        "                 bag_result,\n",
        "                 xgb_result,\n",
        "                 ada_result,\n",
        "                 gb_result,\n",
        "                 svc_result,\n",
        "                 nusvc_result]"
      ],
      "execution_count": 34,
      "outputs": []
    },
    {
      "cell_type": "code",
      "metadata": {
        "colab": {
          "base_uri": "https://localhost:8080/",
          "height": 328
        },
        "id": "icHUKqXjfFHO",
        "outputId": "6de261f0-e4c8-4c83-ed76-8538fe679a69"
      },
      "source": [
        "# Use pre-defined function to store the all classification model results in a df\n",
        "df = ut.class_model_comparison(model_results)\n",
        "df"
      ],
      "execution_count": 35,
      "outputs": [
        {
          "output_type": "execute_result",
          "data": {
            "text/html": [
              "<div>\n",
              "<style scoped>\n",
              "    .dataframe tbody tr th:only-of-type {\n",
              "        vertical-align: middle;\n",
              "    }\n",
              "\n",
              "    .dataframe tbody tr th {\n",
              "        vertical-align: top;\n",
              "    }\n",
              "\n",
              "    .dataframe thead th {\n",
              "        text-align: right;\n",
              "    }\n",
              "</style>\n",
              "<table border=\"1\" class=\"dataframe\">\n",
              "  <thead>\n",
              "    <tr style=\"text-align: right;\">\n",
              "      <th></th>\n",
              "      <th>classifier</th>\n",
              "      <th>train_acc</th>\n",
              "      <th>val_acc</th>\n",
              "      <th>acc_diff</th>\n",
              "      <th>train_roc_auc</th>\n",
              "      <th>val_roc_auc</th>\n",
              "      <th>roc_auc_diff</th>\n",
              "    </tr>\n",
              "  </thead>\n",
              "  <tbody>\n",
              "    <tr>\n",
              "      <th>0</th>\n",
              "      <td>Logistic Regression</td>\n",
              "      <td>0.5438</td>\n",
              "      <td>0.5731</td>\n",
              "      <td>0.0293</td>\n",
              "      <td>0.7147</td>\n",
              "      <td>0.8933</td>\n",
              "      <td>0.1786</td>\n",
              "    </tr>\n",
              "    <tr>\n",
              "      <th>1</th>\n",
              "      <td>KNN</td>\n",
              "      <td>0.8890</td>\n",
              "      <td>0.7708</td>\n",
              "      <td>0.1182</td>\n",
              "      <td>0.9541</td>\n",
              "      <td>0.8355</td>\n",
              "      <td>0.1186</td>\n",
              "    </tr>\n",
              "    <tr>\n",
              "      <th>2</th>\n",
              "      <td>Random Forest</td>\n",
              "      <td>1.0000</td>\n",
              "      <td>0.7352</td>\n",
              "      <td>0.2648</td>\n",
              "      <td>1.0000</td>\n",
              "      <td>0.8113</td>\n",
              "      <td>0.1887</td>\n",
              "    </tr>\n",
              "    <tr>\n",
              "      <th>3</th>\n",
              "      <td>Bagging</td>\n",
              "      <td>0.9896</td>\n",
              "      <td>0.7628</td>\n",
              "      <td>0.2268</td>\n",
              "      <td>0.9995</td>\n",
              "      <td>0.8373</td>\n",
              "      <td>0.1622</td>\n",
              "    </tr>\n",
              "    <tr>\n",
              "      <th>4</th>\n",
              "      <td>XGBoost</td>\n",
              "      <td>0.7536</td>\n",
              "      <td>0.5810</td>\n",
              "      <td>0.1726</td>\n",
              "      <td>0.8695</td>\n",
              "      <td>0.6472</td>\n",
              "      <td>0.2223</td>\n",
              "    </tr>\n",
              "    <tr>\n",
              "      <th>5</th>\n",
              "      <td>AdaBoost</td>\n",
              "      <td>1.0000</td>\n",
              "      <td>0.7036</td>\n",
              "      <td>0.2964</td>\n",
              "      <td>1.0000</td>\n",
              "      <td>0.7118</td>\n",
              "      <td>0.2882</td>\n",
              "    </tr>\n",
              "    <tr>\n",
              "      <th>6</th>\n",
              "      <td>GradientBoost</td>\n",
              "      <td>0.7727</td>\n",
              "      <td>0.5731</td>\n",
              "      <td>0.1996</td>\n",
              "      <td>0.8748</td>\n",
              "      <td>0.5531</td>\n",
              "      <td>0.3217</td>\n",
              "    </tr>\n",
              "    <tr>\n",
              "      <th>7</th>\n",
              "      <td>SVC</td>\n",
              "      <td>0.7770</td>\n",
              "      <td>0.8498</td>\n",
              "      <td>0.0728</td>\n",
              "      <td>0.9115</td>\n",
              "      <td>0.9302</td>\n",
              "      <td>0.0187</td>\n",
              "    </tr>\n",
              "    <tr>\n",
              "      <th>8</th>\n",
              "      <td>NuSVC</td>\n",
              "      <td>0.8095</td>\n",
              "      <td>0.8617</td>\n",
              "      <td>0.0522</td>\n",
              "      <td>0.9162</td>\n",
              "      <td>0.9292</td>\n",
              "      <td>0.0130</td>\n",
              "    </tr>\n",
              "  </tbody>\n",
              "</table>\n",
              "</div>"
            ],
            "text/plain": [
              "            classifier train_acc val_acc  ... train_roc_auc val_roc_auc roc_auc_diff\n",
              "0  Logistic Regression    0.5438  0.5731  ...        0.7147      0.8933       0.1786\n",
              "1                  KNN    0.8890  0.7708  ...        0.9541      0.8355       0.1186\n",
              "2        Random Forest    1.0000  0.7352  ...        1.0000      0.8113       0.1887\n",
              "3              Bagging    0.9896  0.7628  ...        0.9995      0.8373       0.1622\n",
              "4              XGBoost    0.7536  0.5810  ...        0.8695      0.6472       0.2223\n",
              "5             AdaBoost    1.0000  0.7036  ...        1.0000      0.7118       0.2882\n",
              "6        GradientBoost    0.7727  0.5731  ...        0.8748      0.5531       0.3217\n",
              "7                  SVC    0.7770  0.8498  ...        0.9115      0.9302       0.0187\n",
              "8                NuSVC    0.8095  0.8617  ...        0.9162      0.9292       0.0130\n",
              "\n",
              "[9 rows x 7 columns]"
            ]
          },
          "metadata": {
            "tags": []
          },
          "execution_count": 35
        }
      ]
    },
    {
      "cell_type": "code",
      "metadata": {
        "colab": {
          "base_uri": "https://localhost:8080/"
        },
        "id": "6lwlkz_JdCEc",
        "outputId": "7089fab3-b831-41cd-80f5-0c28537c57eb"
      },
      "source": [
        "df['val_acc'].max()"
      ],
      "execution_count": 36,
      "outputs": [
        {
          "output_type": "execute_result",
          "data": {
            "text/plain": [
              "0.8617"
            ]
          },
          "metadata": {
            "tags": []
          },
          "execution_count": 36
        }
      ]
    },
    {
      "cell_type": "markdown",
      "metadata": {
        "id": "OO1T6UFtN86R"
      },
      "source": [
        "- NuSVC is the best classifer with highest accuracy while having relative less FP and FN (f1-score: 0.85, 0.87)"
      ]
    },
    {
      "cell_type": "code",
      "metadata": {
        "colab": {
          "base_uri": "https://localhost:8080/",
          "height": 762
        },
        "id": "tIT6OPswBocO",
        "outputId": "ec734c34-62c9-4aa8-e9e9-f29fa4f0a912"
      },
      "source": [
        "ut.class_evaluate(nusvc_clf, X_test, y_test, use_decision_function='yes')"
      ],
      "execution_count": 37,
      "outputs": [
        {
          "output_type": "stream",
          "text": [
            "Test\n",
            "-*-*-*-*-*-*-*-*\n",
            "accuracy: 0.9091\n",
            "roc-auc: 0.9500\n",
            "              precision    recall  f1-score   support\n",
            "\n",
            "           0       0.90      0.90      0.90        10\n",
            "           1       0.92      0.92      0.92        12\n",
            "\n",
            "    accuracy                           0.91        22\n",
            "   macro avg       0.91      0.91      0.91        22\n",
            "weighted avg       0.91      0.91      0.91        22\n",
            "\n"
          ],
          "name": "stdout"
        },
        {
          "output_type": "display_data",
          "data": {
            "image/png": "[encoded data removed]",
            "text/plain": [
              "<Figure size 432x288 with 2 Axes>"
            ]
          },
          "metadata": {
            "tags": [],
            "needs_background": "light"
          }
        },
        {
          "output_type": "display_data",
          "data": {
            "image/png": "[encoded data removed]",
            "text/plain": [
              "<Figure size 432x288 with 1 Axes>"
            ]
          },
          "metadata": {
            "tags": [],
            "needs_background": "light"
          }
        }
      ]
    },
    {
      "cell_type": "code",
      "metadata": {
        "id": "mr0up8fyBj0M"
      },
      "source": [
        "# Save the best classification model\n",
        "dump(nusvc_clf, open('/content/nusvc.pkl', 'wb'))\n",
        "\n",
        "# Load the best model (if run in another notebook)\n",
        "# best = load(open('/content/nusvc.pkl', 'rb'))"
      ],
      "execution_count": 38,
      "outputs": []
    },
    {
      "cell_type": "code",
      "metadata": {
        "colab": {
          "base_uri": "https://localhost:8080/",
          "height": 762
        },
        "id": "XtzXOx6IPfNX",
        "outputId": "eed69e5a-1f03-4191-8bf0-2aaf059987ed"
      },
      "source": [
        "test_result = pd.DataFrame(columns=['true', 'pred', 'uptrend', 'downtrend'])\n",
        "\n",
        "test_result['true'] = y_test\n",
        "test_result['pred'] = nusvc_clf.predict(X_test)\n",
        "test_result['downtrend'] = nusvc_clf.predict_proba(X_test)[:, 0]\n",
        "test_result['uptrend'] = nusvc_clf.predict_proba(X_test)[:, 1]\n",
        "\n",
        "test_result"
      ],
      "execution_count": 39,
      "outputs": [
        {
          "output_type": "execute_result",
          "data": {
            "text/html": [
              "<div>\n",
              "<style scoped>\n",
              "    .dataframe tbody tr th:only-of-type {\n",
              "        vertical-align: middle;\n",
              "    }\n",
              "\n",
              "    .dataframe tbody tr th {\n",
              "        vertical-align: top;\n",
              "    }\n",
              "\n",
              "    .dataframe thead th {\n",
              "        text-align: right;\n",
              "    }\n",
              "</style>\n",
              "<table border=\"1\" class=\"dataframe\">\n",
              "  <thead>\n",
              "    <tr style=\"text-align: right;\">\n",
              "      <th></th>\n",
              "      <th>true</th>\n",
              "      <th>pred</th>\n",
              "      <th>uptrend</th>\n",
              "      <th>downtrend</th>\n",
              "    </tr>\n",
              "    <tr>\n",
              "      <th>Date</th>\n",
              "      <th></th>\n",
              "      <th></th>\n",
              "      <th></th>\n",
              "      <th></th>\n",
              "    </tr>\n",
              "  </thead>\n",
              "  <tbody>\n",
              "    <tr>\n",
              "      <th>2021-05-24</th>\n",
              "      <td>1</td>\n",
              "      <td>1</td>\n",
              "      <td>1.0000</td>\n",
              "      <td>0.0000</td>\n",
              "    </tr>\n",
              "    <tr>\n",
              "      <th>2021-05-25</th>\n",
              "      <td>0</td>\n",
              "      <td>0</td>\n",
              "      <td>0.0378</td>\n",
              "      <td>0.9622</td>\n",
              "    </tr>\n",
              "    <tr>\n",
              "      <th>2021-05-26</th>\n",
              "      <td>1</td>\n",
              "      <td>1</td>\n",
              "      <td>1.0000</td>\n",
              "      <td>0.0000</td>\n",
              "    </tr>\n",
              "    <tr>\n",
              "      <th>2021-05-27</th>\n",
              "      <td>0</td>\n",
              "      <td>0</td>\n",
              "      <td>0.0000</td>\n",
              "      <td>1.0000</td>\n",
              "    </tr>\n",
              "    <tr>\n",
              "      <th>2021-05-28</th>\n",
              "      <td>1</td>\n",
              "      <td>1</td>\n",
              "      <td>0.9949</td>\n",
              "      <td>0.0051</td>\n",
              "    </tr>\n",
              "    <tr>\n",
              "      <th>2021-06-01</th>\n",
              "      <td>1</td>\n",
              "      <td>1</td>\n",
              "      <td>1.0000</td>\n",
              "      <td>0.0000</td>\n",
              "    </tr>\n",
              "    <tr>\n",
              "      <th>2021-06-02</th>\n",
              "      <td>1</td>\n",
              "      <td>1</td>\n",
              "      <td>1.0000</td>\n",
              "      <td>0.0000</td>\n",
              "    </tr>\n",
              "    <tr>\n",
              "      <th>2021-06-03</th>\n",
              "      <td>0</td>\n",
              "      <td>0</td>\n",
              "      <td>0.0169</td>\n",
              "      <td>0.9831</td>\n",
              "    </tr>\n",
              "    <tr>\n",
              "      <th>2021-06-04</th>\n",
              "      <td>1</td>\n",
              "      <td>0</td>\n",
              "      <td>0.0000</td>\n",
              "      <td>1.0000</td>\n",
              "    </tr>\n",
              "    <tr>\n",
              "      <th>2021-06-07</th>\n",
              "      <td>1</td>\n",
              "      <td>1</td>\n",
              "      <td>1.0000</td>\n",
              "      <td>0.0000</td>\n",
              "    </tr>\n",
              "    <tr>\n",
              "      <th>2021-06-08</th>\n",
              "      <td>1</td>\n",
              "      <td>1</td>\n",
              "      <td>1.0000</td>\n",
              "      <td>0.0000</td>\n",
              "    </tr>\n",
              "    <tr>\n",
              "      <th>2021-06-09</th>\n",
              "      <td>1</td>\n",
              "      <td>1</td>\n",
              "      <td>0.7159</td>\n",
              "      <td>0.2841</td>\n",
              "    </tr>\n",
              "    <tr>\n",
              "      <th>2021-06-10</th>\n",
              "      <td>1</td>\n",
              "      <td>1</td>\n",
              "      <td>1.0000</td>\n",
              "      <td>0.0000</td>\n",
              "    </tr>\n",
              "    <tr>\n",
              "      <th>2021-06-11</th>\n",
              "      <td>0</td>\n",
              "      <td>0</td>\n",
              "      <td>0.0000</td>\n",
              "      <td>1.0000</td>\n",
              "    </tr>\n",
              "    <tr>\n",
              "      <th>2021-06-14</th>\n",
              "      <td>1</td>\n",
              "      <td>1</td>\n",
              "      <td>1.0000</td>\n",
              "      <td>0.0000</td>\n",
              "    </tr>\n",
              "    <tr>\n",
              "      <th>2021-06-15</th>\n",
              "      <td>0</td>\n",
              "      <td>0</td>\n",
              "      <td>0.0000</td>\n",
              "      <td>1.0000</td>\n",
              "    </tr>\n",
              "    <tr>\n",
              "      <th>2021-06-16</th>\n",
              "      <td>0</td>\n",
              "      <td>0</td>\n",
              "      <td>0.0000</td>\n",
              "      <td>1.0000</td>\n",
              "    </tr>\n",
              "    <tr>\n",
              "      <th>2021-06-17</th>\n",
              "      <td>0</td>\n",
              "      <td>1</td>\n",
              "      <td>1.0000</td>\n",
              "      <td>0.0000</td>\n",
              "    </tr>\n",
              "    <tr>\n",
              "      <th>2021-06-18</th>\n",
              "      <td>0</td>\n",
              "      <td>0</td>\n",
              "      <td>0.0000</td>\n",
              "      <td>1.0000</td>\n",
              "    </tr>\n",
              "    <tr>\n",
              "      <th>2021-06-21</th>\n",
              "      <td>1</td>\n",
              "      <td>1</td>\n",
              "      <td>1.0000</td>\n",
              "      <td>0.0000</td>\n",
              "    </tr>\n",
              "    <tr>\n",
              "      <th>2021-06-22</th>\n",
              "      <td>0</td>\n",
              "      <td>0</td>\n",
              "      <td>0.0000</td>\n",
              "      <td>1.0000</td>\n",
              "    </tr>\n",
              "    <tr>\n",
              "      <th>2021-06-23</th>\n",
              "      <td>0</td>\n",
              "      <td>0</td>\n",
              "      <td>0.2626</td>\n",
              "      <td>0.7374</td>\n",
              "    </tr>\n",
              "  </tbody>\n",
              "</table>\n",
              "</div>"
            ],
            "text/plain": [
              "            true  pred  uptrend  downtrend\n",
              "Date                                      \n",
              "2021-05-24     1     1   1.0000     0.0000\n",
              "2021-05-25     0     0   0.0378     0.9622\n",
              "2021-05-26     1     1   1.0000     0.0000\n",
              "2021-05-27     0     0   0.0000     1.0000\n",
              "2021-05-28     1     1   0.9949     0.0051\n",
              "2021-06-01     1     1   1.0000     0.0000\n",
              "2021-06-02     1     1   1.0000     0.0000\n",
              "2021-06-03     0     0   0.0169     0.9831\n",
              "2021-06-04     1     0   0.0000     1.0000\n",
              "2021-06-07     1     1   1.0000     0.0000\n",
              "2021-06-08     1     1   1.0000     0.0000\n",
              "2021-06-09     1     1   0.7159     0.2841\n",
              "2021-06-10     1     1   1.0000     0.0000\n",
              "2021-06-11     0     0   0.0000     1.0000\n",
              "2021-06-14     1     1   1.0000     0.0000\n",
              "2021-06-15     0     0   0.0000     1.0000\n",
              "2021-06-16     0     0   0.0000     1.0000\n",
              "2021-06-17     0     1   1.0000     0.0000\n",
              "2021-06-18     0     0   0.0000     1.0000\n",
              "2021-06-21     1     1   1.0000     0.0000\n",
              "2021-06-22     0     0   0.0000     1.0000\n",
              "2021-06-23     0     0   0.2626     0.7374"
            ]
          },
          "metadata": {
            "tags": []
          },
          "execution_count": 39
        }
      ]
    },
    {
      "cell_type": "code",
      "metadata": {
        "colab": {
          "base_uri": "https://localhost:8080/",
          "height": 762
        },
        "id": "viyyhs38PfKS",
        "outputId": "9f5cc42b-6693-4db9-9138-133efc53a74a"
      },
      "source": [
        "test_result"
      ],
      "execution_count": 40,
      "outputs": [
        {
          "output_type": "execute_result",
          "data": {
            "text/html": [
              "<div>\n",
              "<style scoped>\n",
              "    .dataframe tbody tr th:only-of-type {\n",
              "        vertical-align: middle;\n",
              "    }\n",
              "\n",
              "    .dataframe tbody tr th {\n",
              "        vertical-align: top;\n",
              "    }\n",
              "\n",
              "    .dataframe thead th {\n",
              "        text-align: right;\n",
              "    }\n",
              "</style>\n",
              "<table border=\"1\" class=\"dataframe\">\n",
              "  <thead>\n",
              "    <tr style=\"text-align: right;\">\n",
              "      <th></th>\n",
              "      <th>true</th>\n",
              "      <th>pred</th>\n",
              "      <th>uptrend</th>\n",
              "      <th>downtrend</th>\n",
              "    </tr>\n",
              "    <tr>\n",
              "      <th>Date</th>\n",
              "      <th></th>\n",
              "      <th></th>\n",
              "      <th></th>\n",
              "      <th></th>\n",
              "    </tr>\n",
              "  </thead>\n",
              "  <tbody>\n",
              "    <tr>\n",
              "      <th>2021-05-24</th>\n",
              "      <td>1</td>\n",
              "      <td>1</td>\n",
              "      <td>1.0000</td>\n",
              "      <td>0.0000</td>\n",
              "    </tr>\n",
              "    <tr>\n",
              "      <th>2021-05-25</th>\n",
              "      <td>0</td>\n",
              "      <td>0</td>\n",
              "      <td>0.0378</td>\n",
              "      <td>0.9622</td>\n",
              "    </tr>\n",
              "    <tr>\n",
              "      <th>2021-05-26</th>\n",
              "      <td>1</td>\n",
              "      <td>1</td>\n",
              "      <td>1.0000</td>\n",
              "      <td>0.0000</td>\n",
              "    </tr>\n",
              "    <tr>\n",
              "      <th>2021-05-27</th>\n",
              "      <td>0</td>\n",
              "      <td>0</td>\n",
              "      <td>0.0000</td>\n",
              "      <td>1.0000</td>\n",
              "    </tr>\n",
              "    <tr>\n",
              "      <th>2021-05-28</th>\n",
              "      <td>1</td>\n",
              "      <td>1</td>\n",
              "      <td>0.9949</td>\n",
              "      <td>0.0051</td>\n",
              "    </tr>\n",
              "    <tr>\n",
              "      <th>2021-06-01</th>\n",
              "      <td>1</td>\n",
              "      <td>1</td>\n",
              "      <td>1.0000</td>\n",
              "      <td>0.0000</td>\n",
              "    </tr>\n",
              "    <tr>\n",
              "      <th>2021-06-02</th>\n",
              "      <td>1</td>\n",
              "      <td>1</td>\n",
              "      <td>1.0000</td>\n",
              "      <td>0.0000</td>\n",
              "    </tr>\n",
              "    <tr>\n",
              "      <th>2021-06-03</th>\n",
              "      <td>0</td>\n",
              "      <td>0</td>\n",
              "      <td>0.0169</td>\n",
              "      <td>0.9831</td>\n",
              "    </tr>\n",
              "    <tr>\n",
              "      <th>2021-06-04</th>\n",
              "      <td>1</td>\n",
              "      <td>0</td>\n",
              "      <td>0.0000</td>\n",
              "      <td>1.0000</td>\n",
              "    </tr>\n",
              "    <tr>\n",
              "      <th>2021-06-07</th>\n",
              "      <td>1</td>\n",
              "      <td>1</td>\n",
              "      <td>1.0000</td>\n",
              "      <td>0.0000</td>\n",
              "    </tr>\n",
              "    <tr>\n",
              "      <th>2021-06-08</th>\n",
              "      <td>1</td>\n",
              "      <td>1</td>\n",
              "      <td>1.0000</td>\n",
              "      <td>0.0000</td>\n",
              "    </tr>\n",
              "    <tr>\n",
              "      <th>2021-06-09</th>\n",
              "      <td>1</td>\n",
              "      <td>1</td>\n",
              "      <td>0.7159</td>\n",
              "      <td>0.2841</td>\n",
              "    </tr>\n",
              "    <tr>\n",
              "      <th>2021-06-10</th>\n",
              "      <td>1</td>\n",
              "      <td>1</td>\n",
              "      <td>1.0000</td>\n",
              "      <td>0.0000</td>\n",
              "    </tr>\n",
              "    <tr>\n",
              "      <th>2021-06-11</th>\n",
              "      <td>0</td>\n",
              "      <td>0</td>\n",
              "      <td>0.0000</td>\n",
              "      <td>1.0000</td>\n",
              "    </tr>\n",
              "    <tr>\n",
              "      <th>2021-06-14</th>\n",
              "      <td>1</td>\n",
              "      <td>1</td>\n",
              "      <td>1.0000</td>\n",
              "      <td>0.0000</td>\n",
              "    </tr>\n",
              "    <tr>\n",
              "      <th>2021-06-15</th>\n",
              "      <td>0</td>\n",
              "      <td>0</td>\n",
              "      <td>0.0000</td>\n",
              "      <td>1.0000</td>\n",
              "    </tr>\n",
              "    <tr>\n",
              "      <th>2021-06-16</th>\n",
              "      <td>0</td>\n",
              "      <td>0</td>\n",
              "      <td>0.0000</td>\n",
              "      <td>1.0000</td>\n",
              "    </tr>\n",
              "    <tr>\n",
              "      <th>2021-06-17</th>\n",
              "      <td>0</td>\n",
              "      <td>1</td>\n",
              "      <td>1.0000</td>\n",
              "      <td>0.0000</td>\n",
              "    </tr>\n",
              "    <tr>\n",
              "      <th>2021-06-18</th>\n",
              "      <td>0</td>\n",
              "      <td>0</td>\n",
              "      <td>0.0000</td>\n",
              "      <td>1.0000</td>\n",
              "    </tr>\n",
              "    <tr>\n",
              "      <th>2021-06-21</th>\n",
              "      <td>1</td>\n",
              "      <td>1</td>\n",
              "      <td>1.0000</td>\n",
              "      <td>0.0000</td>\n",
              "    </tr>\n",
              "    <tr>\n",
              "      <th>2021-06-22</th>\n",
              "      <td>0</td>\n",
              "      <td>0</td>\n",
              "      <td>0.0000</td>\n",
              "      <td>1.0000</td>\n",
              "    </tr>\n",
              "    <tr>\n",
              "      <th>2021-06-23</th>\n",
              "      <td>0</td>\n",
              "      <td>0</td>\n",
              "      <td>0.2626</td>\n",
              "      <td>0.7374</td>\n",
              "    </tr>\n",
              "  </tbody>\n",
              "</table>\n",
              "</div>"
            ],
            "text/plain": [
              "            true  pred  uptrend  downtrend\n",
              "Date                                      \n",
              "2021-05-24     1     1   1.0000     0.0000\n",
              "2021-05-25     0     0   0.0378     0.9622\n",
              "2021-05-26     1     1   1.0000     0.0000\n",
              "2021-05-27     0     0   0.0000     1.0000\n",
              "2021-05-28     1     1   0.9949     0.0051\n",
              "2021-06-01     1     1   1.0000     0.0000\n",
              "2021-06-02     1     1   1.0000     0.0000\n",
              "2021-06-03     0     0   0.0169     0.9831\n",
              "2021-06-04     1     0   0.0000     1.0000\n",
              "2021-06-07     1     1   1.0000     0.0000\n",
              "2021-06-08     1     1   1.0000     0.0000\n",
              "2021-06-09     1     1   0.7159     0.2841\n",
              "2021-06-10     1     1   1.0000     0.0000\n",
              "2021-06-11     0     0   0.0000     1.0000\n",
              "2021-06-14     1     1   1.0000     0.0000\n",
              "2021-06-15     0     0   0.0000     1.0000\n",
              "2021-06-16     0     0   0.0000     1.0000\n",
              "2021-06-17     0     1   1.0000     0.0000\n",
              "2021-06-18     0     0   0.0000     1.0000\n",
              "2021-06-21     1     1   1.0000     0.0000\n",
              "2021-06-22     0     0   0.0000     1.0000\n",
              "2021-06-23     0     0   0.2626     0.7374"
            ]
          },
          "metadata": {
            "tags": []
          },
          "execution_count": 40
        }
      ]
    },
    {
      "cell_type": "code",
      "metadata": {
        "colab": {
          "base_uri": "https://localhost:8080/",
          "height": 142
        },
        "id": "Yo_SnlU7PfIT",
        "outputId": "5b7f593d-7e84-4e0d-d28d-d67285809237"
      },
      "source": [
        "test_result.loc[test_result['true'] != test_result['pred']]"
      ],
      "execution_count": 41,
      "outputs": [
        {
          "output_type": "execute_result",
          "data": {
            "text/html": [
              "<div>\n",
              "<style scoped>\n",
              "    .dataframe tbody tr th:only-of-type {\n",
              "        vertical-align: middle;\n",
              "    }\n",
              "\n",
              "    .dataframe tbody tr th {\n",
              "        vertical-align: top;\n",
              "    }\n",
              "\n",
              "    .dataframe thead th {\n",
              "        text-align: right;\n",
              "    }\n",
              "</style>\n",
              "<table border=\"1\" class=\"dataframe\">\n",
              "  <thead>\n",
              "    <tr style=\"text-align: right;\">\n",
              "      <th></th>\n",
              "      <th>true</th>\n",
              "      <th>pred</th>\n",
              "      <th>uptrend</th>\n",
              "      <th>downtrend</th>\n",
              "    </tr>\n",
              "    <tr>\n",
              "      <th>Date</th>\n",
              "      <th></th>\n",
              "      <th></th>\n",
              "      <th></th>\n",
              "      <th></th>\n",
              "    </tr>\n",
              "  </thead>\n",
              "  <tbody>\n",
              "    <tr>\n",
              "      <th>2021-06-04</th>\n",
              "      <td>1</td>\n",
              "      <td>0</td>\n",
              "      <td>0.0000</td>\n",
              "      <td>1.0000</td>\n",
              "    </tr>\n",
              "    <tr>\n",
              "      <th>2021-06-17</th>\n",
              "      <td>0</td>\n",
              "      <td>1</td>\n",
              "      <td>1.0000</td>\n",
              "      <td>0.0000</td>\n",
              "    </tr>\n",
              "  </tbody>\n",
              "</table>\n",
              "</div>"
            ],
            "text/plain": [
              "            true  pred  uptrend  downtrend\n",
              "Date                                      \n",
              "2021-06-04     1     0   0.0000     1.0000\n",
              "2021-06-17     0     1   1.0000     0.0000"
            ]
          },
          "metadata": {
            "tags": []
          },
          "execution_count": 41
        }
      ]
    },
    {
      "cell_type": "markdown",
      "metadata": {
        "id": "nnV5a8qej4aO"
      },
      "source": [
        "### Tuning Hyperparameter"
      ]
    },
    {
      "cell_type": "code",
      "metadata": {
        "id": "3RGjMEvHBeoF"
      },
      "source": [
        "# This took real long time too run...\n",
        "\n",
        "# Polynomial degree\n",
        "d = list(range(1, 6, 1))\n",
        "\n",
        "param_grid = {'classifier__degree': d}\n",
        "\n",
        "# Grid search\n",
        "search = GridSearchCV(nusvc_clf, param_grid, cv=5, scoring='f1')\n",
        "search.fit(X_train, y_train)\n",
        "\n",
        "print(f\"Best parameter: {search.best_params_}\\n\")\n",
        "\n",
        "# Evaluate the model with best k\n",
        "ut.class_model_evaluation(search.best_estimator_, X_train, y_train, X_test, y_test)"
      ],
      "execution_count": null,
      "outputs": []
    },
    {
      "cell_type": "markdown",
      "metadata": {
        "id": "me3bAPocN86R"
      },
      "source": [
        "## V. Conclusion\n",
        "- NuSVC is the best classifer with highest accuracy while having relative less FP and FN"
      ]
    },
    {
      "cell_type": "code",
      "metadata": {
        "id": "m3QyR7iLN86R"
      },
      "source": [
        ""
      ],
      "execution_count": null,
      "outputs": []
    }
  ]
}