{
  "nbformat": 4,
  "nbformat_minor": 0,
  "metadata": {
    "colab": {
      "name": "05_Classification",
      "provenance": [],
      "collapsed_sections": [],
      "toc_visible": true
    },
    "kernelspec": {
      "name": "python3",
      "display_name": "Python 3"
    },
    "language_info": {
      "name": "python"
    }
  },
  "cells": [
    {
      "cell_type": "markdown",
      "metadata": {
        "id": "BhmsP3Z1YpYv"
      },
      "source": [
        "# Time Series Classification\n",
        "**Content:**\n",
        "- Google Colab Setup\n",
        "- Preprocessing\n",
        "- Modeling\n",
        "- Evaluation"
      ]
    },
    {
      "cell_type": "code",
      "metadata": {
        "colab": {
          "base_uri": "https://localhost:8080/"
        },
        "id": "4-crFrc7IhcS",
        "outputId": "9b3577c0-bc18-4f75-9b03-966817005ca7"
      },
      "source": [
        "# util.py has pmdarima function inside\n",
        "# Need to install it before import the pyfile\n",
        "!pip install pmdarima"
      ],
      "execution_count": 1,
      "outputs": [
        {
          "output_type": "stream",
          "text": [
            "Collecting pmdarima\n",
            "\u001b[?25l  Downloading https://files.pythonhosted.org/packages/f4/c2/2a94bce6bba1deac3c0b16dbb14f28de0b9035e3211919cae8448455aa65/pmdarima-1.8.2-cp37-cp37m-manylinux1_x86_64.whl (1.5MB)\n",
            "\u001b[K     |████████████████████████████████| 1.5MB 5.3MB/s \n",
            "\u001b[?25hCollecting statsmodels!=0.12.0,>=0.11\n",
            "\u001b[?25l  Downloading https://files.pythonhosted.org/packages/da/69/8eef30a6237c54f3c0b524140e2975f4b1eea3489b45eb3339574fc8acee/statsmodels-0.12.2-cp37-cp37m-manylinux1_x86_64.whl (9.5MB)\n",
            "\u001b[K     |████████████████████████████████| 9.5MB 18.7MB/s \n",
            "\u001b[?25hRequirement already satisfied: numpy~=1.19.0 in /usr/local/lib/python3.7/dist-packages (from pmdarima) (1.19.5)\n",
            "Requirement already satisfied: scikit-learn>=0.22 in /usr/local/lib/python3.7/dist-packages (from pmdarima) (0.22.2.post1)\n",
            "Requirement already satisfied: urllib3 in /usr/local/lib/python3.7/dist-packages (from pmdarima) (1.24.3)\n",
            "Requirement already satisfied: Cython!=0.29.18,>=0.29 in /usr/local/lib/python3.7/dist-packages (from pmdarima) (0.29.23)\n",
            "Requirement already satisfied: pandas>=0.19 in /usr/local/lib/python3.7/dist-packages (from pmdarima) (1.1.5)\n",
            "Requirement already satisfied: setuptools!=50.0.0,>=38.6.0 in /usr/local/lib/python3.7/dist-packages (from pmdarima) (57.0.0)\n",
            "Requirement already satisfied: joblib>=0.11 in /usr/local/lib/python3.7/dist-packages (from pmdarima) (1.0.1)\n",
            "Requirement already satisfied: scipy>=1.3.2 in /usr/local/lib/python3.7/dist-packages (from pmdarima) (1.4.1)\n",
            "Requirement already satisfied: patsy>=0.5 in /usr/local/lib/python3.7/dist-packages (from statsmodels!=0.12.0,>=0.11->pmdarima) (0.5.1)\n",
            "Requirement already satisfied: python-dateutil>=2.7.3 in /usr/local/lib/python3.7/dist-packages (from pandas>=0.19->pmdarima) (2.8.1)\n",
            "Requirement already satisfied: pytz>=2017.2 in /usr/local/lib/python3.7/dist-packages (from pandas>=0.19->pmdarima) (2018.9)\n",
            "Requirement already satisfied: six in /usr/local/lib/python3.7/dist-packages (from patsy>=0.5->statsmodels!=0.12.0,>=0.11->pmdarima) (1.15.0)\n",
            "Installing collected packages: statsmodels, pmdarima\n",
            "  Found existing installation: statsmodels 0.10.2\n",
            "    Uninstalling statsmodels-0.10.2:\n",
            "      Successfully uninstalled statsmodels-0.10.2\n",
            "Successfully installed pmdarima-1.8.2 statsmodels-0.12.2\n"
          ],
          "name": "stdout"
        }
      ]
    },
    {
      "cell_type": "markdown",
      "metadata": {
        "id": "Ld58vlziWqM1"
      },
      "source": [
        "## I. Google Colab Setup"
      ]
    },
    {
      "cell_type": "code",
      "metadata": {
        "id": "LzIwjGc-ItJi"
      },
      "source": [
        "# Google Colab\n",
        "from google.colab import drive\n",
        "import os\n",
        "\n",
        "# General\n",
        "import pandas as pd\n",
        "import numpy as np\n",
        "import matplotlib.pyplot as plt\n",
        "%matplotlib inline\n",
        "import warnings\n",
        "warnings.filterwarnings('ignore')\n",
        "from pickle import dump, load\n",
        "\n",
        "# Scikit-Learn\n",
        "from sklearn.pipeline import Pipeline\n",
        "from sklearn.compose import ColumnTransformer\n",
        "from sklearn.preprocessing import LabelEncoder, MinMaxScaler\n",
        "from sklearn.metrics import accuracy_score, plot_confusion_matrix, classification_report, roc_auc_score, plot_roc_curve\n",
        "from sklearn.model_selection import GridSearchCV\n",
        "\n",
        "# Classifier\n",
        "from sklearn.linear_model import LogisticRegression\n",
        "from sklearn.neighbors import KNeighborsClassifier\n",
        "from sklearn.tree import DecisionTreeClassifier\n",
        "from sklearn.ensemble import RandomForestClassifier, BaggingClassifier, AdaBoostClassifier, GradientBoostingClassifier\n",
        "from xgboost import XGBClassifier\n",
        "from sklearn.svm import SVC, NuSVC"
      ],
      "execution_count": 2,
      "outputs": []
    },
    {
      "cell_type": "code",
      "metadata": {
        "colab": {
          "base_uri": "https://localhost:8080/"
        },
        "id": "TSuTJf0FItHH",
        "outputId": "da39edc2-7ea6-4cd4-8b28-c817f68f16f9"
      },
      "source": [
        "# Mount Google Drive\n",
        "drive.mount('/gdrive', force_remount=True)"
      ],
      "execution_count": 3,
      "outputs": [
        {
          "output_type": "stream",
          "text": [
            "Mounted at /gdrive\n"
          ],
          "name": "stdout"
        }
      ]
    },
    {
      "cell_type": "code",
      "metadata": {
        "colab": {
          "base_uri": "https://localhost:8080/"
        },
        "id": "LE2SoVpgItEt",
        "outputId": "05f05f39-34eb-4f8e-c6b8-3ff97d8ff90c"
      },
      "source": [
        "# Get the current working directory\n",
        "print(os.getcwd())"
      ],
      "execution_count": 4,
      "outputs": [
        {
          "output_type": "stream",
          "text": [
            "/content\n"
          ],
          "name": "stdout"
        }
      ]
    },
    {
      "cell_type": "code",
      "metadata": {
        "id": "JOexmeeDJIOB"
      },
      "source": [
        "# Drive path is the path where I upload the ETFs history file and pre-written pyfile\n",
        "drive_path_csv = '/gdrive/MyDrive/Capstone_Project/REIT_ETFs.csv'\n",
        "drive_path_util = '/gdrive/MyDrive/Capstone_Project/util.py'\n",
        "\n",
        "# Expect to move these file into the local path\n",
        "local_path = '/content'"
      ],
      "execution_count": 5,
      "outputs": []
    },
    {
      "cell_type": "code",
      "metadata": {
        "id": "JFideisMItCG"
      },
      "source": [
        "# Copy these file in drive path\n",
        "!cp '{drive_path_csv}' .\n",
        "!cp '{drive_path_util}' .\n",
        "\n",
        "# Change these file from drive path to the local path\n",
        "os.chdir(local_path)"
      ],
      "execution_count": 6,
      "outputs": []
    },
    {
      "cell_type": "code",
      "metadata": {
        "id": "Wc0Pgn7kIs_t"
      },
      "source": [
        "# Pre-written function\n",
        "import util as ut"
      ],
      "execution_count": 7,
      "outputs": []
    },
    {
      "cell_type": "markdown",
      "metadata": {
        "id": "fJlZGpc3Wwjs"
      },
      "source": [
        "## II. Preprocessing"
      ]
    },
    {
      "cell_type": "code",
      "metadata": {
        "colab": {
          "base_uri": "https://localhost:8080/",
          "height": 419
        },
        "id": "KuGVgeJ9Is4h",
        "outputId": "03d21f53-8e53-44df-c144-de44b0a99ff3"
      },
      "source": [
        "data = pd.read_csv('/content/REIT_ETFs.csv')\n",
        "data"
      ],
      "execution_count": 8,
      "outputs": [
        {
          "output_type": "execute_result",
          "data": {
            "text/html": [
              "<div>\n",
              "<style scoped>\n",
              "    .dataframe tbody tr th:only-of-type {\n",
              "        vertical-align: middle;\n",
              "    }\n",
              "\n",
              "    .dataframe tbody tr th {\n",
              "        vertical-align: top;\n",
              "    }\n",
              "\n",
              "    .dataframe thead th {\n",
              "        text-align: right;\n",
              "    }\n",
              "</style>\n",
              "<table border=\"1\" class=\"dataframe\">\n",
              "  <thead>\n",
              "    <tr style=\"text-align: right;\">\n",
              "      <th></th>\n",
              "      <th>Date</th>\n",
              "      <th>Open</th>\n",
              "      <th>High</th>\n",
              "      <th>Low</th>\n",
              "      <th>Close</th>\n",
              "      <th>Volume</th>\n",
              "      <th>Dividends</th>\n",
              "      <th>Stock Splits</th>\n",
              "      <th>Ticker</th>\n",
              "    </tr>\n",
              "  </thead>\n",
              "  <tbody>\n",
              "    <tr>\n",
              "      <th>0</th>\n",
              "      <td>2004-09-29</td>\n",
              "      <td>23.794544</td>\n",
              "      <td>23.861371</td>\n",
              "      <td>23.789772</td>\n",
              "      <td>23.794544</td>\n",
              "      <td>205800</td>\n",
              "      <td>0.0</td>\n",
              "      <td>0.0</td>\n",
              "      <td>VNQ</td>\n",
              "    </tr>\n",
              "    <tr>\n",
              "      <th>1</th>\n",
              "      <td>2004-09-30</td>\n",
              "      <td>23.866143</td>\n",
              "      <td>24.023660</td>\n",
              "      <td>23.861370</td>\n",
              "      <td>23.985474</td>\n",
              "      <td>27900</td>\n",
              "      <td>0.0</td>\n",
              "      <td>0.0</td>\n",
              "      <td>VNQ</td>\n",
              "    </tr>\n",
              "    <tr>\n",
              "      <th>2</th>\n",
              "      <td>2004-10-01</td>\n",
              "      <td>24.033207</td>\n",
              "      <td>24.462799</td>\n",
              "      <td>23.985476</td>\n",
              "      <td>24.429386</td>\n",
              "      <td>129800</td>\n",
              "      <td>0.0</td>\n",
              "      <td>0.0</td>\n",
              "      <td>VNQ</td>\n",
              "    </tr>\n",
              "    <tr>\n",
              "      <th>3</th>\n",
              "      <td>2004-10-04</td>\n",
              "      <td>24.529629</td>\n",
              "      <td>24.606000</td>\n",
              "      <td>24.529629</td>\n",
              "      <td>24.534403</td>\n",
              "      <td>8100</td>\n",
              "      <td>0.0</td>\n",
              "      <td>0.0</td>\n",
              "      <td>VNQ</td>\n",
              "    </tr>\n",
              "    <tr>\n",
              "      <th>4</th>\n",
              "      <td>2004-10-05</td>\n",
              "      <td>24.534403</td>\n",
              "      <td>24.582135</td>\n",
              "      <td>24.510535</td>\n",
              "      <td>24.529629</td>\n",
              "      <td>11900</td>\n",
              "      <td>0.0</td>\n",
              "      <td>0.0</td>\n",
              "      <td>VNQ</td>\n",
              "    </tr>\n",
              "    <tr>\n",
              "      <th>...</th>\n",
              "      <td>...</td>\n",
              "      <td>...</td>\n",
              "      <td>...</td>\n",
              "      <td>...</td>\n",
              "      <td>...</td>\n",
              "      <td>...</td>\n",
              "      <td>...</td>\n",
              "      <td>...</td>\n",
              "      <td>...</td>\n",
              "    </tr>\n",
              "    <tr>\n",
              "      <th>53434</th>\n",
              "      <td>2021-06-17</td>\n",
              "      <td>9.280000</td>\n",
              "      <td>9.290000</td>\n",
              "      <td>9.220000</td>\n",
              "      <td>9.220000</td>\n",
              "      <td>5200</td>\n",
              "      <td>0.0</td>\n",
              "      <td>0.0</td>\n",
              "      <td>REK</td>\n",
              "    </tr>\n",
              "    <tr>\n",
              "      <th>53435</th>\n",
              "      <td>2021-06-18</td>\n",
              "      <td>9.330000</td>\n",
              "      <td>9.370000</td>\n",
              "      <td>9.270000</td>\n",
              "      <td>9.370000</td>\n",
              "      <td>22800</td>\n",
              "      <td>0.0</td>\n",
              "      <td>0.0</td>\n",
              "      <td>REK</td>\n",
              "    </tr>\n",
              "    <tr>\n",
              "      <th>53436</th>\n",
              "      <td>2021-06-21</td>\n",
              "      <td>9.320000</td>\n",
              "      <td>9.320000</td>\n",
              "      <td>9.170000</td>\n",
              "      <td>9.170000</td>\n",
              "      <td>22900</td>\n",
              "      <td>0.0</td>\n",
              "      <td>0.0</td>\n",
              "      <td>REK</td>\n",
              "    </tr>\n",
              "    <tr>\n",
              "      <th>53437</th>\n",
              "      <td>2021-06-22</td>\n",
              "      <td>9.160000</td>\n",
              "      <td>9.230000</td>\n",
              "      <td>9.160000</td>\n",
              "      <td>9.220000</td>\n",
              "      <td>6200</td>\n",
              "      <td>0.0</td>\n",
              "      <td>0.0</td>\n",
              "      <td>REK</td>\n",
              "    </tr>\n",
              "    <tr>\n",
              "      <th>53438</th>\n",
              "      <td>2021-06-23</td>\n",
              "      <td>9.200000</td>\n",
              "      <td>9.260000</td>\n",
              "      <td>9.200000</td>\n",
              "      <td>9.260000</td>\n",
              "      <td>4500</td>\n",
              "      <td>0.0</td>\n",
              "      <td>0.0</td>\n",
              "      <td>REK</td>\n",
              "    </tr>\n",
              "  </tbody>\n",
              "</table>\n",
              "<p>53439 rows × 9 columns</p>\n",
              "</div>"
            ],
            "text/plain": [
              "             Date       Open       High  ...  Dividends  Stock Splits  Ticker\n",
              "0      2004-09-29  23.794544  23.861371  ...        0.0           0.0     VNQ\n",
              "1      2004-09-30  23.866143  24.023660  ...        0.0           0.0     VNQ\n",
              "2      2004-10-01  24.033207  24.462799  ...        0.0           0.0     VNQ\n",
              "3      2004-10-04  24.529629  24.606000  ...        0.0           0.0     VNQ\n",
              "4      2004-10-05  24.534403  24.582135  ...        0.0           0.0     VNQ\n",
              "...           ...        ...        ...  ...        ...           ...     ...\n",
              "53434  2021-06-17   9.280000   9.290000  ...        0.0           0.0     REK\n",
              "53435  2021-06-18   9.330000   9.370000  ...        0.0           0.0     REK\n",
              "53436  2021-06-21   9.320000   9.320000  ...        0.0           0.0     REK\n",
              "53437  2021-06-22   9.160000   9.230000  ...        0.0           0.0     REK\n",
              "53438  2021-06-23   9.200000   9.260000  ...        0.0           0.0     REK\n",
              "\n",
              "[53439 rows x 9 columns]"
            ]
          },
          "metadata": {
            "tags": []
          },
          "execution_count": 8
        }
      ]
    },
    {
      "cell_type": "code",
      "metadata": {
        "id": "ntiAxLL9JLag"
      },
      "source": [
        "# Select one REIT ETF\n",
        "vnq = data.copy().loc[data['Ticker'] == \"VNQ\"]"
      ],
      "execution_count": 9,
      "outputs": []
    },
    {
      "cell_type": "code",
      "metadata": {
        "id": "lTghZiwcNjQ2"
      },
      "source": [
        "# Drop unnecessary columns\n",
        "vnq.drop(columns=['Volume', 'Dividends', 'Stock Splits', 'Ticker'], inplace=True)"
      ],
      "execution_count": 10,
      "outputs": []
    },
    {
      "cell_type": "code",
      "metadata": {
        "id": "qKCkQSyzUBTL"
      },
      "source": [
        "# \n",
        "vnq['Lag 1'] = vnq['Close'].shift(periods=1)"
      ],
      "execution_count": 11,
      "outputs": []
    },
    {
      "cell_type": "code",
      "metadata": {
        "id": "z1fsKKm5P218"
      },
      "source": [
        "# \n",
        "vnq.loc[vnq['Close'] - vnq['Lag 1'] > 0, 'Trend'] = 'up'\n",
        "vnq.loc[vnq['Close'] - vnq['Lag 1'] <= 0, 'Trend'] = 'down'"
      ],
      "execution_count": 12,
      "outputs": []
    },
    {
      "cell_type": "code",
      "metadata": {
        "colab": {
          "base_uri": "https://localhost:8080/"
        },
        "id": "RcNanN2uP2wP",
        "outputId": "cf39345a-c38f-4856-8797-d3403e9f3ff1"
      },
      "source": [
        "vnq['Trend'].isna().sum()"
      ],
      "execution_count": 13,
      "outputs": [
        {
          "output_type": "execute_result",
          "data": {
            "text/plain": [
              "1"
            ]
          },
          "metadata": {
            "tags": []
          },
          "execution_count": 13
        }
      ]
    },
    {
      "cell_type": "code",
      "metadata": {
        "colab": {
          "base_uri": "https://localhost:8080/",
          "height": 419
        },
        "id": "pGXWDU_7W5yp",
        "outputId": "356b3552-41f2-4c31-d62c-45d9f0cde6b2"
      },
      "source": [
        "# Drop the \"Lag 1\" column\n",
        "vnq.drop(columns=['Lag 1'], inplace=True)\n",
        "\n",
        "# Drop the 1st row\n",
        "vnq.drop([0], inplace=True)\n",
        "vnq"
      ],
      "execution_count": 14,
      "outputs": [
        {
          "output_type": "execute_result",
          "data": {
            "text/html": [
              "<div>\n",
              "<style scoped>\n",
              "    .dataframe tbody tr th:only-of-type {\n",
              "        vertical-align: middle;\n",
              "    }\n",
              "\n",
              "    .dataframe tbody tr th {\n",
              "        vertical-align: top;\n",
              "    }\n",
              "\n",
              "    .dataframe thead th {\n",
              "        text-align: right;\n",
              "    }\n",
              "</style>\n",
              "<table border=\"1\" class=\"dataframe\">\n",
              "  <thead>\n",
              "    <tr style=\"text-align: right;\">\n",
              "      <th></th>\n",
              "      <th>Date</th>\n",
              "      <th>Open</th>\n",
              "      <th>High</th>\n",
              "      <th>Low</th>\n",
              "      <th>Close</th>\n",
              "      <th>Trend</th>\n",
              "    </tr>\n",
              "  </thead>\n",
              "  <tbody>\n",
              "    <tr>\n",
              "      <th>1</th>\n",
              "      <td>2004-09-30</td>\n",
              "      <td>23.866143</td>\n",
              "      <td>24.023660</td>\n",
              "      <td>23.861370</td>\n",
              "      <td>23.985474</td>\n",
              "      <td>up</td>\n",
              "    </tr>\n",
              "    <tr>\n",
              "      <th>2</th>\n",
              "      <td>2004-10-01</td>\n",
              "      <td>24.033207</td>\n",
              "      <td>24.462799</td>\n",
              "      <td>23.985476</td>\n",
              "      <td>24.429386</td>\n",
              "      <td>up</td>\n",
              "    </tr>\n",
              "    <tr>\n",
              "      <th>3</th>\n",
              "      <td>2004-10-04</td>\n",
              "      <td>24.529629</td>\n",
              "      <td>24.606000</td>\n",
              "      <td>24.529629</td>\n",
              "      <td>24.534403</td>\n",
              "      <td>up</td>\n",
              "    </tr>\n",
              "    <tr>\n",
              "      <th>4</th>\n",
              "      <td>2004-10-05</td>\n",
              "      <td>24.534403</td>\n",
              "      <td>24.582135</td>\n",
              "      <td>24.510535</td>\n",
              "      <td>24.529629</td>\n",
              "      <td>down</td>\n",
              "    </tr>\n",
              "    <tr>\n",
              "      <th>5</th>\n",
              "      <td>2004-10-06</td>\n",
              "      <td>24.582134</td>\n",
              "      <td>24.644186</td>\n",
              "      <td>24.577361</td>\n",
              "      <td>24.644186</td>\n",
              "      <td>up</td>\n",
              "    </tr>\n",
              "    <tr>\n",
              "      <th>...</th>\n",
              "      <td>...</td>\n",
              "      <td>...</td>\n",
              "      <td>...</td>\n",
              "      <td>...</td>\n",
              "      <td>...</td>\n",
              "      <td>...</td>\n",
              "    </tr>\n",
              "    <tr>\n",
              "      <th>4208</th>\n",
              "      <td>2021-06-17</td>\n",
              "      <td>103.410004</td>\n",
              "      <td>103.699997</td>\n",
              "      <td>102.860001</td>\n",
              "      <td>103.550003</td>\n",
              "      <td>down</td>\n",
              "    </tr>\n",
              "    <tr>\n",
              "      <th>4209</th>\n",
              "      <td>2021-06-18</td>\n",
              "      <td>103.019997</td>\n",
              "      <td>103.470001</td>\n",
              "      <td>101.790001</td>\n",
              "      <td>101.790001</td>\n",
              "      <td>down</td>\n",
              "    </tr>\n",
              "    <tr>\n",
              "      <th>4210</th>\n",
              "      <td>2021-06-21</td>\n",
              "      <td>102.309998</td>\n",
              "      <td>104.209999</td>\n",
              "      <td>101.800003</td>\n",
              "      <td>103.889999</td>\n",
              "      <td>up</td>\n",
              "    </tr>\n",
              "    <tr>\n",
              "      <th>4211</th>\n",
              "      <td>2021-06-22</td>\n",
              "      <td>103.889999</td>\n",
              "      <td>104.010002</td>\n",
              "      <td>103.279999</td>\n",
              "      <td>103.349998</td>\n",
              "      <td>down</td>\n",
              "    </tr>\n",
              "    <tr>\n",
              "      <th>4212</th>\n",
              "      <td>2021-06-23</td>\n",
              "      <td>103.349998</td>\n",
              "      <td>103.750000</td>\n",
              "      <td>103.080002</td>\n",
              "      <td>103.169998</td>\n",
              "      <td>down</td>\n",
              "    </tr>\n",
              "  </tbody>\n",
              "</table>\n",
              "<p>4212 rows × 6 columns</p>\n",
              "</div>"
            ],
            "text/plain": [
              "            Date        Open        High         Low       Close Trend\n",
              "1     2004-09-30   23.866143   24.023660   23.861370   23.985474    up\n",
              "2     2004-10-01   24.033207   24.462799   23.985476   24.429386    up\n",
              "3     2004-10-04   24.529629   24.606000   24.529629   24.534403    up\n",
              "4     2004-10-05   24.534403   24.582135   24.510535   24.529629  down\n",
              "5     2004-10-06   24.582134   24.644186   24.577361   24.644186    up\n",
              "...          ...         ...         ...         ...         ...   ...\n",
              "4208  2021-06-17  103.410004  103.699997  102.860001  103.550003  down\n",
              "4209  2021-06-18  103.019997  103.470001  101.790001  101.790001  down\n",
              "4210  2021-06-21  102.309998  104.209999  101.800003  103.889999    up\n",
              "4211  2021-06-22  103.889999  104.010002  103.279999  103.349998  down\n",
              "4212  2021-06-23  103.349998  103.750000  103.080002  103.169998  down\n",
              "\n",
              "[4212 rows x 6 columns]"
            ]
          },
          "metadata": {
            "tags": []
          },
          "execution_count": 14
        }
      ]
    },
    {
      "cell_type": "code",
      "metadata": {
        "colab": {
          "base_uri": "https://localhost:8080/",
          "height": 467
        },
        "id": "l8AoVtcAJOBM",
        "outputId": "44b0ab0b-7b79-4925-92cd-49867d4b3f4c"
      },
      "source": [
        "# Set the \"Date\" column as the index \n",
        "ut.preprocess_df(vnq)"
      ],
      "execution_count": 15,
      "outputs": [
        {
          "output_type": "stream",
          "text": [
            "This dataframe's index is in datatime64? True\n"
          ],
          "name": "stdout"
        },
        {
          "output_type": "display_data",
          "data": {
            "text/html": [
              "<div>\n",
              "<style scoped>\n",
              "    .dataframe tbody tr th:only-of-type {\n",
              "        vertical-align: middle;\n",
              "    }\n",
              "\n",
              "    .dataframe tbody tr th {\n",
              "        vertical-align: top;\n",
              "    }\n",
              "\n",
              "    .dataframe thead th {\n",
              "        text-align: right;\n",
              "    }\n",
              "</style>\n",
              "<table border=\"1\" class=\"dataframe\">\n",
              "  <thead>\n",
              "    <tr style=\"text-align: right;\">\n",
              "      <th></th>\n",
              "      <th>Open</th>\n",
              "      <th>High</th>\n",
              "      <th>Low</th>\n",
              "      <th>Close</th>\n",
              "      <th>Trend</th>\n",
              "    </tr>\n",
              "    <tr>\n",
              "      <th>Date</th>\n",
              "      <th></th>\n",
              "      <th></th>\n",
              "      <th></th>\n",
              "      <th></th>\n",
              "      <th></th>\n",
              "    </tr>\n",
              "  </thead>\n",
              "  <tbody>\n",
              "    <tr>\n",
              "      <th>2004-09-30</th>\n",
              "      <td>23.866143</td>\n",
              "      <td>24.023660</td>\n",
              "      <td>23.861370</td>\n",
              "      <td>23.985474</td>\n",
              "      <td>up</td>\n",
              "    </tr>\n",
              "    <tr>\n",
              "      <th>2004-10-01</th>\n",
              "      <td>24.033207</td>\n",
              "      <td>24.462799</td>\n",
              "      <td>23.985476</td>\n",
              "      <td>24.429386</td>\n",
              "      <td>up</td>\n",
              "    </tr>\n",
              "    <tr>\n",
              "      <th>2004-10-04</th>\n",
              "      <td>24.529629</td>\n",
              "      <td>24.606000</td>\n",
              "      <td>24.529629</td>\n",
              "      <td>24.534403</td>\n",
              "      <td>up</td>\n",
              "    </tr>\n",
              "    <tr>\n",
              "      <th>2004-10-05</th>\n",
              "      <td>24.534403</td>\n",
              "      <td>24.582135</td>\n",
              "      <td>24.510535</td>\n",
              "      <td>24.529629</td>\n",
              "      <td>down</td>\n",
              "    </tr>\n",
              "    <tr>\n",
              "      <th>2004-10-06</th>\n",
              "      <td>24.582134</td>\n",
              "      <td>24.644186</td>\n",
              "      <td>24.577361</td>\n",
              "      <td>24.644186</td>\n",
              "      <td>up</td>\n",
              "    </tr>\n",
              "    <tr>\n",
              "      <th>...</th>\n",
              "      <td>...</td>\n",
              "      <td>...</td>\n",
              "      <td>...</td>\n",
              "      <td>...</td>\n",
              "      <td>...</td>\n",
              "    </tr>\n",
              "    <tr>\n",
              "      <th>2021-06-17</th>\n",
              "      <td>103.410004</td>\n",
              "      <td>103.699997</td>\n",
              "      <td>102.860001</td>\n",
              "      <td>103.550003</td>\n",
              "      <td>down</td>\n",
              "    </tr>\n",
              "    <tr>\n",
              "      <th>2021-06-18</th>\n",
              "      <td>103.019997</td>\n",
              "      <td>103.470001</td>\n",
              "      <td>101.790001</td>\n",
              "      <td>101.790001</td>\n",
              "      <td>down</td>\n",
              "    </tr>\n",
              "    <tr>\n",
              "      <th>2021-06-21</th>\n",
              "      <td>102.309998</td>\n",
              "      <td>104.209999</td>\n",
              "      <td>101.800003</td>\n",
              "      <td>103.889999</td>\n",
              "      <td>up</td>\n",
              "    </tr>\n",
              "    <tr>\n",
              "      <th>2021-06-22</th>\n",
              "      <td>103.889999</td>\n",
              "      <td>104.010002</td>\n",
              "      <td>103.279999</td>\n",
              "      <td>103.349998</td>\n",
              "      <td>down</td>\n",
              "    </tr>\n",
              "    <tr>\n",
              "      <th>2021-06-23</th>\n",
              "      <td>103.349998</td>\n",
              "      <td>103.750000</td>\n",
              "      <td>103.080002</td>\n",
              "      <td>103.169998</td>\n",
              "      <td>down</td>\n",
              "    </tr>\n",
              "  </tbody>\n",
              "</table>\n",
              "<p>4212 rows × 5 columns</p>\n",
              "</div>"
            ],
            "text/plain": [
              "                  Open        High         Low       Close Trend\n",
              "Date                                                            \n",
              "2004-09-30   23.866143   24.023660   23.861370   23.985474    up\n",
              "2004-10-01   24.033207   24.462799   23.985476   24.429386    up\n",
              "2004-10-04   24.529629   24.606000   24.529629   24.534403    up\n",
              "2004-10-05   24.534403   24.582135   24.510535   24.529629  down\n",
              "2004-10-06   24.582134   24.644186   24.577361   24.644186    up\n",
              "...                ...         ...         ...         ...   ...\n",
              "2021-06-17  103.410004  103.699997  102.860001  103.550003  down\n",
              "2021-06-18  103.019997  103.470001  101.790001  101.790001  down\n",
              "2021-06-21  102.309998  104.209999  101.800003  103.889999    up\n",
              "2021-06-22  103.889999  104.010002  103.279999  103.349998  down\n",
              "2021-06-23  103.349998  103.750000  103.080002  103.169998  down\n",
              "\n",
              "[4212 rows x 5 columns]"
            ]
          },
          "metadata": {
            "tags": []
          }
        }
      ]
    },
    {
      "cell_type": "code",
      "metadata": {
        "colab": {
          "base_uri": "https://localhost:8080/"
        },
        "id": "ceypXmCts-id",
        "outputId": "22995b95-eaef-40fe-8d6d-76c6b17aeb15"
      },
      "source": [
        "vnq['Trend'].unique()"
      ],
      "execution_count": 16,
      "outputs": [
        {
          "output_type": "execute_result",
          "data": {
            "text/plain": [
              "array(['up', 'down'], dtype=object)"
            ]
          },
          "metadata": {
            "tags": []
          },
          "execution_count": 16
        }
      ]
    },
    {
      "cell_type": "code",
      "metadata": {
        "colab": {
          "base_uri": "https://localhost:8080/"
        },
        "id": "7YZQXQNzq3af",
        "outputId": "fea9d5ab-b385-4799-89e0-1185ff9896cc"
      },
      "source": [
        "vnq['Trend'].value_counts()"
      ],
      "execution_count": 17,
      "outputs": [
        {
          "output_type": "execute_result",
          "data": {
            "text/plain": [
              "up      2264\n",
              "down    1948\n",
              "Name: Trend, dtype: int64"
            ]
          },
          "metadata": {
            "tags": []
          },
          "execution_count": 17
        }
      ]
    },
    {
      "cell_type": "code",
      "metadata": {
        "id": "xP4OQG6_tDZC"
      },
      "source": [
        "# Label encoding\n",
        "label_encoder = LabelEncoder()\n",
        "vnq['Trend']= label_encoder.fit_transform(vnq['Trend'])"
      ],
      "execution_count": 18,
      "outputs": []
    },
    {
      "cell_type": "code",
      "metadata": {
        "colab": {
          "base_uri": "https://localhost:8080/"
        },
        "id": "jvUWQjCbtSUF",
        "outputId": "f6ca7d02-bad8-461c-968d-6e92f2b8188f"
      },
      "source": [
        "vnq['Trend'].value_counts()"
      ],
      "execution_count": 19,
      "outputs": [
        {
          "output_type": "execute_result",
          "data": {
            "text/plain": [
              "1    2264\n",
              "0    1948\n",
              "Name: Trend, dtype: int64"
            ]
          },
          "metadata": {
            "tags": []
          },
          "execution_count": 19
        }
      ]
    },
    {
      "cell_type": "code",
      "metadata": {
        "id": "iIY8GHfTbI8w"
      },
      "source": [
        "# Split the data into train, validation, and test set\n",
        "# Test size = 1 month (21 days)\n",
        "# Val size = 1 year (252 days)\n",
        "# Train size = rest of the time\n",
        "train = vnq.iloc[:-252]\n",
        "test = vnq.iloc[-252:]"
      ],
      "execution_count": 20,
      "outputs": []
    },
    {
      "cell_type": "code",
      "metadata": {
        "id": "n6W2V7FacCHr"
      },
      "source": [
        "def xy_split(dataset):\n",
        "    '''\n",
        "    Split the dataset into X-part and y-part.\n",
        "\n",
        "    -*-*-*-*-*-*-*-*-*-*-*-*-*-*-*-*-*-*-*-*-*-*-*-*-*-*-*-*-*-*-*-*-*-*-*-*-*-*\n",
        "    \n",
        "    Input:\n",
        "    - dataset: dataframe\n",
        "\n",
        "    Return:\n",
        "    - X, y\n",
        "    \n",
        "    '''\n",
        "\n",
        "    X = dataset.drop(columns=['Trend'], axis=1)\n",
        "    y = dataset['Trend']\n",
        "\n",
        "    return X, y"
      ],
      "execution_count": 21,
      "outputs": []
    },
    {
      "cell_type": "code",
      "metadata": {
        "id": "I4PYNjoJb-Sj"
      },
      "source": [
        "X_train, y_train = xy_split(train)\n",
        "X_test, y_test = xy_split(test)"
      ],
      "execution_count": 22,
      "outputs": []
    },
    {
      "cell_type": "markdown",
      "metadata": {
        "id": "Kd8EX2DAle68"
      },
      "source": [
        "### Pipeline"
      ]
    },
    {
      "cell_type": "code",
      "metadata": {
        "colab": {
          "base_uri": "https://localhost:8080/"
        },
        "id": "kja3-sA8IJfS",
        "outputId": "9ff7f79e-7355-4cfc-d7a6-4369ef70b285"
      },
      "source": [
        "num_cols = vnq.columns[:-1].tolist()\n",
        "num_cols"
      ],
      "execution_count": 23,
      "outputs": [
        {
          "output_type": "execute_result",
          "data": {
            "text/plain": [
              "['Open', 'High', 'Low', 'Close']"
            ]
          },
          "metadata": {
            "tags": []
          },
          "execution_count": 23
        }
      ]
    },
    {
      "cell_type": "code",
      "metadata": {
        "id": "t20UsRpOleY_"
      },
      "source": [
        "# Set up scaling step\n",
        "num_transformer = Pipeline(steps=[('scaler', MinMaxScaler())])  \n",
        "\n",
        "# Put scaling step into a Column Transformer\n",
        "preprocessor = ColumnTransformer(transformers=[('num', num_transformer, num_cols)])"
      ],
      "execution_count": 24,
      "outputs": []
    },
    {
      "cell_type": "markdown",
      "metadata": {
        "id": "aFFWq8u0Jof3"
      },
      "source": [
        "## III. Modeling"
      ]
    },
    {
      "cell_type": "markdown",
      "metadata": {
        "id": "NbwI_wyWJqzB"
      },
      "source": [
        "### Baseline Model"
      ]
    },
    {
      "cell_type": "code",
      "metadata": {
        "colab": {
          "base_uri": "https://localhost:8080/",
          "height": 898
        },
        "id": "AAWdQv2zPx5S",
        "outputId": "6689cd59-3973-4404-b777-12d7a684b749"
      },
      "source": [
        "# Logistic Regression\n",
        "lg_clf = Pipeline(steps=[\n",
        "    ('preprocess', preprocessor),\n",
        "    ('classifier', LogisticRegression(random_state=24))])\n",
        "\n",
        "lg_clf.fit(X_train, y_train)\n",
        "\n",
        "lg_result = ut.evaluate_classification(lg_clf, X_train, y_train, X_test, y_test, use_decision_function='yes')\n",
        "lg_result"
      ],
      "execution_count": 25,
      "outputs": [
        {
          "output_type": "stream",
          "text": [
            "Train\n",
            "-*-*-*-*-*-*-*-*\n",
            "accuracy: 0.5439\n",
            "roc-auc: 0.7166 \n",
            "\n",
            "Test\n",
            "-*-*-*-*-*-*-*-*\n",
            "accuracy: 0.5714\n",
            "roc-auc: 0.8819\n",
            "\n",
            "\n",
            "              precision    recall  f1-score   support\n",
            "\n",
            "           0       0.00      0.00      0.00       108\n",
            "           1       0.57      1.00      0.73       144\n",
            "\n",
            "    accuracy                           0.57       252\n",
            "   macro avg       0.29      0.50      0.36       252\n",
            "weighted avg       0.33      0.57      0.42       252\n",
            "\n"
          ],
          "name": "stdout"
        },
        {
          "output_type": "display_data",
          "data": {
            "image/png": "[encoded data removed]",
            "text/plain": [
              "<Figure size 432x288 with 2 Axes>"
            ]
          },
          "metadata": {
            "tags": [],
            "needs_background": "light"
          }
        },
        {
          "output_type": "display_data",
          "data": {
            "image/png": "[encoded data removed]",
            "text/plain": [
              "<Figure size 432x288 with 1 Axes>"
            ]
          },
          "metadata": {
            "tags": [],
            "needs_background": "light"
          }
        },
        {
          "output_type": "execute_result",
          "data": {
            "text/plain": [
              "([0.5439], [0.5714], [0.7166], [0.8819])"
            ]
          },
          "metadata": {
            "tags": []
          },
          "execution_count": 25
        }
      ]
    },
    {
      "cell_type": "markdown",
      "metadata": {
        "id": "tdKnkDTW4CHo"
      },
      "source": [
        ">**Comment:** *Logistic Regression*\n",
        "- Bad performance: unable to detect the decrease pattern"
      ]
    },
    {
      "cell_type": "markdown",
      "metadata": {
        "id": "PQxM9sRgJ1hW"
      },
      "source": [
        "### KNN"
      ]
    },
    {
      "cell_type": "code",
      "metadata": {
        "id": "NSLT89qWl2SR",
        "colab": {
          "base_uri": "https://localhost:8080/",
          "height": 898
        },
        "outputId": "3fe7707b-ce86-4781-f95b-34247d37dcc6"
      },
      "source": [
        "knn_clf = Pipeline(steps=[\n",
        "    ('preprocess', preprocessor),\n",
        "    ('classifier', KNeighborsClassifier())])\n",
        "\n",
        "knn_clf.fit(X_train, y_train)\n",
        "\n",
        "knn_result = ut.evaluate_classification(knn_clf, X_train, y_train, X_test, y_test, use_decision_function='no')\n",
        "knn_result"
      ],
      "execution_count": 26,
      "outputs": [
        {
          "output_type": "stream",
          "text": [
            "Train\n",
            "-*-*-*-*-*-*-*-*\n",
            "accuracy: 0.8889\n",
            "roc-auc: 0.9539 \n",
            "\n",
            "Test\n",
            "-*-*-*-*-*-*-*-*\n",
            "accuracy: 0.7421\n",
            "roc-auc: 0.8156\n",
            "\n",
            "\n",
            "              precision    recall  f1-score   support\n",
            "\n",
            "           0       0.77      0.56      0.65       108\n",
            "           1       0.73      0.88      0.79       144\n",
            "\n",
            "    accuracy                           0.74       252\n",
            "   macro avg       0.75      0.72      0.72       252\n",
            "weighted avg       0.75      0.74      0.73       252\n",
            "\n"
          ],
          "name": "stdout"
        },
        {
          "output_type": "display_data",
          "data": {
            "image/png": "[encoded data removed]",
            "text/plain": [
              "<Figure size 432x288 with 2 Axes>"
            ]
          },
          "metadata": {
            "tags": [],
            "needs_background": "light"
          }
        },
        {
          "output_type": "display_data",
          "data": {
            "image/png": "[encoded data removed]",
            "text/plain": [
              "<Figure size 432x288 with 1 Axes>"
            ]
          },
          "metadata": {
            "tags": [],
            "needs_background": "light"
          }
        },
        {
          "output_type": "execute_result",
          "data": {
            "text/plain": [
              "([0.8889], [0.7421], [0.9539], [0.8156])"
            ]
          },
          "metadata": {
            "tags": []
          },
          "execution_count": 26
        }
      ]
    },
    {
      "cell_type": "markdown",
      "metadata": {
        "id": "VWV4PECP4fmt"
      },
      "source": [
        ">**Comment:** *KNN*\n",
        "- slightly overfit"
      ]
    },
    {
      "cell_type": "markdown",
      "metadata": {
        "id": "ppVrRWWmU5A3"
      },
      "source": [
        "### Tree"
      ]
    },
    {
      "cell_type": "markdown",
      "metadata": {
        "id": "hQdevE4KKsy9"
      },
      "source": [
        "#### Random Forest"
      ]
    },
    {
      "cell_type": "code",
      "metadata": {
        "id": "soha-XSvpVBq",
        "colab": {
          "base_uri": "https://localhost:8080/",
          "height": 898
        },
        "outputId": "31d5d627-7e2f-43ce-b741-405ce3e1d705"
      },
      "source": [
        "rf_clf = Pipeline(steps=[\n",
        "    ('preprocess', preprocessor),\n",
        "    ('classifier', RandomForestClassifier(criterion='entropy', random_state=24))])\n",
        "\n",
        "rf_clf.fit(X_train, y_train)\n",
        "\n",
        "rf_result = ut.evaluate_classification(rf_clf, X_train, y_train, X_test, y_test, use_decision_function='no')\n",
        "rf_result"
      ],
      "execution_count": 27,
      "outputs": [
        {
          "output_type": "stream",
          "text": [
            "Train\n",
            "-*-*-*-*-*-*-*-*\n",
            "accuracy: 1.0000\n",
            "roc-auc: 1.0000 \n",
            "\n",
            "Test\n",
            "-*-*-*-*-*-*-*-*\n",
            "accuracy: 0.7024\n",
            "roc-auc: 0.7929\n",
            "\n",
            "\n",
            "              precision    recall  f1-score   support\n",
            "\n",
            "           0       0.62      0.77      0.69       108\n",
            "           1       0.79      0.65      0.71       144\n",
            "\n",
            "    accuracy                           0.70       252\n",
            "   macro avg       0.71      0.71      0.70       252\n",
            "weighted avg       0.72      0.70      0.70       252\n",
            "\n"
          ],
          "name": "stdout"
        },
        {
          "output_type": "display_data",
          "data": {
            "image/png": "[encoded data removed]",
            "text/plain": [
              "<Figure size 432x288 with 2 Axes>"
            ]
          },
          "metadata": {
            "tags": [],
            "needs_background": "light"
          }
        },
        {
          "output_type": "display_data",
          "data": {
            "image/png": "[encoded data removed]",
            "text/plain": [
              "<Figure size 432x288 with 1 Axes>"
            ]
          },
          "metadata": {
            "tags": [],
            "needs_background": "light"
          }
        },
        {
          "output_type": "execute_result",
          "data": {
            "text/plain": [
              "([1.0], [0.7024], [1.0], [0.7929])"
            ]
          },
          "metadata": {
            "tags": []
          },
          "execution_count": 27
        }
      ]
    },
    {
      "cell_type": "markdown",
      "metadata": {
        "id": "gpFjK5a94n91"
      },
      "source": [
        ">**Comment:** *Random Forest*\n",
        "- super overfit"
      ]
    },
    {
      "cell_type": "markdown",
      "metadata": {
        "id": "juIRyGblvDHI"
      },
      "source": [
        "#### Bagging"
      ]
    },
    {
      "cell_type": "code",
      "metadata": {
        "colab": {
          "base_uri": "https://localhost:8080/",
          "height": 898
        },
        "id": "AcMyrutAvJQW",
        "outputId": "5f2fc9a8-8d43-43b7-d46b-cb70544da065"
      },
      "source": [
        "bag_clf = Pipeline(steps=[\n",
        "    ('preprocess', preprocessor),\n",
        "    ('classifier', BaggingClassifier(DecisionTreeClassifier(criterion='entropy', random_state=24)))])\n",
        "\n",
        "bag_clf.fit(X_train, y_train)\n",
        "\n",
        "bag_result = ut.evaluate_classification(bag_clf, X_train, y_train, X_test, y_test, use_decision_function='no')\n",
        "bag_result"
      ],
      "execution_count": 28,
      "outputs": [
        {
          "output_type": "stream",
          "text": [
            "Train\n",
            "-*-*-*-*-*-*-*-*\n",
            "accuracy: 0.9866\n",
            "roc-auc: 0.9991 \n",
            "\n",
            "Test\n",
            "-*-*-*-*-*-*-*-*\n",
            "accuracy: 0.6825\n",
            "roc-auc: 0.7542\n",
            "\n",
            "\n",
            "              precision    recall  f1-score   support\n",
            "\n",
            "           0       0.60      0.77      0.67       108\n",
            "           1       0.78      0.62      0.69       144\n",
            "\n",
            "    accuracy                           0.68       252\n",
            "   macro avg       0.69      0.69      0.68       252\n",
            "weighted avg       0.70      0.68      0.68       252\n",
            "\n"
          ],
          "name": "stdout"
        },
        {
          "output_type": "display_data",
          "data": {
            "image/png": "[encoded data removed]",
            "text/plain": [
              "<Figure size 432x288 with 2 Axes>"
            ]
          },
          "metadata": {
            "tags": [],
            "needs_background": "light"
          }
        },
        {
          "output_type": "display_data",
          "data": {
            "image/png": "[encoded data removed]",
            "text/plain": [
              "<Figure size 432x288 with 1 Axes>"
            ]
          },
          "metadata": {
            "tags": [],
            "needs_background": "light"
          }
        },
        {
          "output_type": "execute_result",
          "data": {
            "text/plain": [
              "([0.9866], [0.6825], [0.9991], [0.7542])"
            ]
          },
          "metadata": {
            "tags": []
          },
          "execution_count": 28
        }
      ]
    },
    {
      "cell_type": "markdown",
      "metadata": {
        "id": "4JOcDeLe4s5J"
      },
      "source": [
        ">**Comment:** *Bagging*\n",
        "- super overfit"
      ]
    },
    {
      "cell_type": "markdown",
      "metadata": {
        "id": "DTeIoGsYDifD"
      },
      "source": [
        "### Boost"
      ]
    },
    {
      "cell_type": "markdown",
      "metadata": {
        "id": "9myb4z2TL1CH"
      },
      "source": [
        "#### XGBoost"
      ]
    },
    {
      "cell_type": "code",
      "metadata": {
        "colab": {
          "base_uri": "https://localhost:8080/",
          "height": 898
        },
        "id": "qMz-SlyeK6P7",
        "outputId": "5984293b-eeaa-4537-e45e-d37057754c68"
      },
      "source": [
        "xgb_clf = Pipeline(steps=[\n",
        "    ('preprocess', preprocessor),\n",
        "    ('classifier', XGBClassifier(random_state=24))])\n",
        "\n",
        "xgb_clf.fit(X_train, y_train)\n",
        "\n",
        "xgb_result = ut.evaluate_classification(xgb_clf, X_train, y_train, X_test, y_test, use_decision_function='no')\n",
        "xgb_result"
      ],
      "execution_count": 29,
      "outputs": [
        {
          "output_type": "stream",
          "text": [
            "Train\n",
            "-*-*-*-*-*-*-*-*\n",
            "accuracy: 0.7563\n",
            "roc-auc: 0.8651 \n",
            "\n",
            "Test\n",
            "-*-*-*-*-*-*-*-*\n",
            "accuracy: 0.5794\n",
            "roc-auc: 0.5841\n",
            "\n",
            "\n",
            "              precision    recall  f1-score   support\n",
            "\n",
            "           0       0.56      0.09      0.16       108\n",
            "           1       0.58      0.94      0.72       144\n",
            "\n",
            "    accuracy                           0.58       252\n",
            "   macro avg       0.57      0.52      0.44       252\n",
            "weighted avg       0.57      0.58      0.48       252\n",
            "\n"
          ],
          "name": "stdout"
        },
        {
          "output_type": "display_data",
          "data": {
            "image/png": "[encoded data removed]",
            "text/plain": [
              "<Figure size 432x288 with 2 Axes>"
            ]
          },
          "metadata": {
            "tags": [],
            "needs_background": "light"
          }
        },
        {
          "output_type": "display_data",
          "data": {
            "image/png": "[encoded data removed]",
            "text/plain": [
              "<Figure size 432x288 with 1 Axes>"
            ]
          },
          "metadata": {
            "tags": [],
            "needs_background": "light"
          }
        },
        {
          "output_type": "execute_result",
          "data": {
            "text/plain": [
              "([0.7563], [0.5794], [0.8651], [0.5841])"
            ]
          },
          "metadata": {
            "tags": []
          },
          "execution_count": 29
        }
      ]
    },
    {
      "cell_type": "markdown",
      "metadata": {
        "id": "cywcwxZP44v5"
      },
      "source": [
        ">**Comment:** *XGBoost*\n",
        "- slightly overfit\n",
        "- poor performance on detecting decrease trend"
      ]
    },
    {
      "cell_type": "markdown",
      "metadata": {
        "id": "_2rjFNYZL3gf"
      },
      "source": [
        "#### AdaBoost"
      ]
    },
    {
      "cell_type": "code",
      "metadata": {
        "colab": {
          "base_uri": "https://localhost:8080/",
          "height": 898
        },
        "id": "9D7lrHQ2LSTU",
        "outputId": "c7743ec4-9822-42da-9ee9-4cce7c8609a5"
      },
      "source": [
        "ada_clf = Pipeline(steps=[\n",
        "    ('preprocess', preprocessor),\n",
        "    ('classifier', AdaBoostClassifier(DecisionTreeClassifier(criterion='entropy', random_state=24)))])\n",
        "\n",
        "ada_clf.fit(X_train, y_train)\n",
        "\n",
        "ada_result = ut.evaluate_classification(ada_clf, X_train, y_train, X_test, y_test, use_decision_function='no')\n",
        "ada_result"
      ],
      "execution_count": 30,
      "outputs": [
        {
          "output_type": "stream",
          "text": [
            "Train\n",
            "-*-*-*-*-*-*-*-*\n",
            "accuracy: 1.0000\n",
            "roc-auc: 1.0000 \n",
            "\n",
            "Test\n",
            "-*-*-*-*-*-*-*-*\n",
            "accuracy: 0.6984\n",
            "roc-auc: 0.7118\n",
            "\n",
            "\n",
            "              precision    recall  f1-score   support\n",
            "\n",
            "           0       0.61      0.81      0.70       108\n",
            "           1       0.81      0.62      0.70       144\n",
            "\n",
            "    accuracy                           0.70       252\n",
            "   macro avg       0.71      0.71      0.70       252\n",
            "weighted avg       0.72      0.70      0.70       252\n",
            "\n"
          ],
          "name": "stdout"
        },
        {
          "output_type": "display_data",
          "data": {
            "image/png": "[encoded data removed]",
            "text/plain": [
              "<Figure size 432x288 with 2 Axes>"
            ]
          },
          "metadata": {
            "tags": [],
            "needs_background": "light"
          }
        },
        {
          "output_type": "display_data",
          "data": {
            "image/png": "[encoded data removed]",
            "text/plain": [
              "<Figure size 432x288 with 1 Axes>"
            ]
          },
          "metadata": {
            "tags": [],
            "needs_background": "light"
          }
        },
        {
          "output_type": "execute_result",
          "data": {
            "text/plain": [
              "([1.0], [0.6984], [1.0], [0.7118])"
            ]
          },
          "metadata": {
            "tags": []
          },
          "execution_count": 30
        }
      ]
    },
    {
      "cell_type": "markdown",
      "metadata": {
        "id": "-yfXfJ7-4_je"
      },
      "source": [
        ">**Comment:** *AdaBoost*\n",
        "- super overfit"
      ]
    },
    {
      "cell_type": "markdown",
      "metadata": {
        "id": "ab4G04VLL_y9"
      },
      "source": [
        "#### Gradient Boosting"
      ]
    },
    {
      "cell_type": "code",
      "metadata": {
        "colab": {
          "base_uri": "https://localhost:8080/",
          "height": 902
        },
        "id": "ogqiymnzMD4j",
        "outputId": "364da93c-fdcc-4888-c631-93a261516f6b"
      },
      "source": [
        "gb_clf = Pipeline(steps=[\n",
        "    ('preprocess', preprocessor),\n",
        "    ('classifier', GradientBoostingClassifier(random_state=24))])\n",
        "\n",
        "gb_clf.fit(X_train, y_train)\n",
        "\n",
        "gb_result = ut.evaluate_classification(gb_clf, X_train, y_train, X_test, y_test, use_decision_function='no')\n",
        "gb_result"
      ],
      "execution_count": 31,
      "outputs": [
        {
          "output_type": "stream",
          "text": [
            "Train\n",
            "-*-*-*-*-*-*-*-*\n",
            "accuracy: 0.7672\n",
            "roc-auc: 0.8746 \n",
            "\n",
            "Test\n",
            "-*-*-*-*-*-*-*-*\n",
            "accuracy: 0.5595\n",
            "roc-auc: 0.5834\n",
            "\n",
            "\n",
            "              precision    recall  f1-score   support\n",
            "\n",
            "           0       0.48      0.29      0.36       108\n",
            "           1       0.59      0.76      0.66       144\n",
            "\n",
            "    accuracy                           0.56       252\n",
            "   macro avg       0.53      0.53      0.51       252\n",
            "weighted avg       0.54      0.56      0.53       252\n",
            "\n"
          ],
          "name": "stdout"
        },
        {
          "output_type": "display_data",
          "data": {
            "image/png": "[encoded data removed]",
            "text/plain": [
              "<Figure size 432x288 with 2 Axes>"
            ]
          },
          "metadata": {
            "tags": [],
            "needs_background": "light"
          }
        },
        {
          "output_type": "display_data",
          "data": {
            "image/png": "[encoded data removed]",
            "text/plain": [
              "<Figure size 432x288 with 1 Axes>"
            ]
          },
          "metadata": {
            "tags": [],
            "needs_background": "light"
          }
        },
        {
          "output_type": "execute_result",
          "data": {
            "text/plain": [
              "([0.7672], [0.5595], [0.8746], [0.5834])"
            ]
          },
          "metadata": {
            "tags": []
          },
          "execution_count": 31
        }
      ]
    },
    {
      "cell_type": "markdown",
      "metadata": {
        "id": "puYvHoCa5Ebe"
      },
      "source": [
        ">**Comment:** *Gradient Boost*\n",
        "- slightly overfit"
      ]
    },
    {
      "cell_type": "markdown",
      "metadata": {
        "id": "nFWURFs8C6FE"
      },
      "source": [
        "### SVM"
      ]
    },
    {
      "cell_type": "markdown",
      "metadata": {
        "id": "V0X-j3JzDArN"
      },
      "source": [
        "#### SVC"
      ]
    },
    {
      "cell_type": "code",
      "metadata": {
        "colab": {
          "base_uri": "https://localhost:8080/",
          "height": 898
        },
        "id": "I9erkdBNDFjd",
        "outputId": "9f9113b3-ee7c-4316-cebc-f6e466fc1dee"
      },
      "source": [
        "svc_clf = Pipeline(steps=[\n",
        "    ('preprocess', preprocessor),\n",
        "    ('classifier', SVC(kernel='poly', random_state=24))])\n",
        "\n",
        "svc_clf.fit(X_train, y_train)\n",
        "\n",
        "svc_result = ut.evaluate_classification(svc_clf, X_train, y_train, X_test, y_test, use_decision_function='yes')\n",
        "svc_result"
      ],
      "execution_count": 32,
      "outputs": [
        {
          "output_type": "stream",
          "text": [
            "Train\n",
            "-*-*-*-*-*-*-*-*\n",
            "accuracy: 0.7760\n",
            "roc-auc: 0.9085 \n",
            "\n",
            "Test\n",
            "-*-*-*-*-*-*-*-*\n",
            "accuracy: 0.8730\n",
            "roc-auc: 0.9383\n",
            "\n",
            "\n",
            "              precision    recall  f1-score   support\n",
            "\n",
            "           0       0.82      0.90      0.86       108\n",
            "           1       0.92      0.85      0.88       144\n",
            "\n",
            "    accuracy                           0.87       252\n",
            "   macro avg       0.87      0.88      0.87       252\n",
            "weighted avg       0.88      0.87      0.87       252\n",
            "\n"
          ],
          "name": "stdout"
        },
        {
          "output_type": "display_data",
          "data": {
            "image/png": "[encoded data removed]",
            "text/plain": [
              "<Figure size 432x288 with 2 Axes>"
            ]
          },
          "metadata": {
            "tags": [],
            "needs_background": "light"
          }
        },
        {
          "output_type": "display_data",
          "data": {
            "image/png": "[encoded data removed]",
            "text/plain": [
              "<Figure size 432x288 with 1 Axes>"
            ]
          },
          "metadata": {
            "tags": [],
            "needs_background": "light"
          }
        },
        {
          "output_type": "execute_result",
          "data": {
            "text/plain": [
              "([0.776], [0.873], [0.9085], [0.9383])"
            ]
          },
          "metadata": {
            "tags": []
          },
          "execution_count": 32
        }
      ]
    },
    {
      "cell_type": "markdown",
      "metadata": {
        "id": "oJMkPNlBDDBE"
      },
      "source": [
        "#### NuSVC"
      ]
    },
    {
      "cell_type": "code",
      "metadata": {
        "colab": {
          "base_uri": "https://localhost:8080/",
          "height": 898
        },
        "id": "g-YPIZmiDF-a",
        "outputId": "8e3e14ab-d450-497a-8e64-4764817b3368"
      },
      "source": [
        "# \n",
        "nusvc_clf = Pipeline(steps=[\n",
        "    ('preprocess', preprocessor),\n",
        "    ('classifier', NuSVC(kernel='poly', random_state=24))])\n",
        "\n",
        "nusvc_clf.fit(X_train, y_train)\n",
        "\n",
        "nusvc_result = ut.evaluate_classification(nusvc_clf, X_train, y_train, X_test, y_test, use_decision_function='yes')\n",
        "nusvc_result"
      ],
      "execution_count": 33,
      "outputs": [
        {
          "output_type": "stream",
          "text": [
            "Train\n",
            "-*-*-*-*-*-*-*-*\n",
            "accuracy: 0.8106\n",
            "roc-auc: 0.9140 \n",
            "\n",
            "Test\n",
            "-*-*-*-*-*-*-*-*\n",
            "accuracy: 0.8849\n",
            "roc-auc: 0.9366\n",
            "\n",
            "\n",
            "              precision    recall  f1-score   support\n",
            "\n",
            "           0       0.84      0.90      0.87       108\n",
            "           1       0.92      0.88      0.90       144\n",
            "\n",
            "    accuracy                           0.88       252\n",
            "   macro avg       0.88      0.89      0.88       252\n",
            "weighted avg       0.89      0.88      0.89       252\n",
            "\n"
          ],
          "name": "stdout"
        },
        {
          "output_type": "display_data",
          "data": {
            "image/png": "[encoded data removed]",
            "text/plain": [
              "<Figure size 432x288 with 2 Axes>"
            ]
          },
          "metadata": {
            "tags": [],
            "needs_background": "light"
          }
        },
        {
          "output_type": "display_data",
          "data": {
            "image/png": "[encoded data removed]",
            "text/plain": [
              "<Figure size 432x288 with 1 Axes>"
            ]
          },
          "metadata": {
            "tags": [],
            "needs_background": "light"
          }
        },
        {
          "output_type": "execute_result",
          "data": {
            "text/plain": [
              "([0.8106], [0.8849], [0.914], [0.9366])"
            ]
          },
          "metadata": {
            "tags": []
          },
          "execution_count": 33
        }
      ]
    },
    {
      "cell_type": "markdown",
      "metadata": {
        "id": "T6gqYSyD0v3t"
      },
      "source": [
        "## IV. Evaluation"
      ]
    },
    {
      "cell_type": "code",
      "metadata": {
        "id": "l8rsq9zNaPbF"
      },
      "source": [
        "# Put all models' evaluation results in a list\n",
        "model_results = [lg_result,\n",
        "                 knn_result,\n",
        "                 rf_result,\n",
        "                 bag_result,\n",
        "                 xgb_result,\n",
        "                 ada_result,\n",
        "                 gb_result,\n",
        "                 svc_result,\n",
        "                 nusvc_result]"
      ],
      "execution_count": 34,
      "outputs": []
    },
    {
      "cell_type": "code",
      "metadata": {
        "colab": {
          "base_uri": "https://localhost:8080/",
          "height": 328
        },
        "id": "icHUKqXjfFHO",
        "outputId": "dd68d782-f0e0-45af-b9a4-5755bf5e243b"
      },
      "source": [
        "df = ut.model_comparison(model_results)\n",
        "df"
      ],
      "execution_count": 35,
      "outputs": [
        {
          "output_type": "execute_result",
          "data": {
            "text/html": [
              "<div>\n",
              "<style scoped>\n",
              "    .dataframe tbody tr th:only-of-type {\n",
              "        vertical-align: middle;\n",
              "    }\n",
              "\n",
              "    .dataframe tbody tr th {\n",
              "        vertical-align: top;\n",
              "    }\n",
              "\n",
              "    .dataframe thead th {\n",
              "        text-align: right;\n",
              "    }\n",
              "</style>\n",
              "<table border=\"1\" class=\"dataframe\">\n",
              "  <thead>\n",
              "    <tr style=\"text-align: right;\">\n",
              "      <th></th>\n",
              "      <th>classifier</th>\n",
              "      <th>train_acc</th>\n",
              "      <th>test_acc</th>\n",
              "      <th>acc_diff</th>\n",
              "      <th>train_roc_auc</th>\n",
              "      <th>test_roc_auc</th>\n",
              "      <th>roc_auc_diff</th>\n",
              "    </tr>\n",
              "  </thead>\n",
              "  <tbody>\n",
              "    <tr>\n",
              "      <th>0</th>\n",
              "      <td>Logistic Regression</td>\n",
              "      <td>0.5439</td>\n",
              "      <td>0.5714</td>\n",
              "      <td>0.0275</td>\n",
              "      <td>0.7166</td>\n",
              "      <td>0.8819</td>\n",
              "      <td>0.1653</td>\n",
              "    </tr>\n",
              "    <tr>\n",
              "      <th>1</th>\n",
              "      <td>KNN</td>\n",
              "      <td>0.8889</td>\n",
              "      <td>0.7421</td>\n",
              "      <td>0.1468</td>\n",
              "      <td>0.9539</td>\n",
              "      <td>0.8156</td>\n",
              "      <td>0.1383</td>\n",
              "    </tr>\n",
              "    <tr>\n",
              "      <th>2</th>\n",
              "      <td>Random Forest</td>\n",
              "      <td>1</td>\n",
              "      <td>0.7024</td>\n",
              "      <td>0.2976</td>\n",
              "      <td>1</td>\n",
              "      <td>0.7929</td>\n",
              "      <td>0.2071</td>\n",
              "    </tr>\n",
              "    <tr>\n",
              "      <th>3</th>\n",
              "      <td>Bagging</td>\n",
              "      <td>0.9866</td>\n",
              "      <td>0.6825</td>\n",
              "      <td>0.3041</td>\n",
              "      <td>0.9991</td>\n",
              "      <td>0.7542</td>\n",
              "      <td>0.2449</td>\n",
              "    </tr>\n",
              "    <tr>\n",
              "      <th>4</th>\n",
              "      <td>XGBoost</td>\n",
              "      <td>0.7563</td>\n",
              "      <td>0.5794</td>\n",
              "      <td>0.1769</td>\n",
              "      <td>0.8651</td>\n",
              "      <td>0.5841</td>\n",
              "      <td>0.281</td>\n",
              "    </tr>\n",
              "    <tr>\n",
              "      <th>5</th>\n",
              "      <td>AdaBoost</td>\n",
              "      <td>1</td>\n",
              "      <td>0.6984</td>\n",
              "      <td>0.3016</td>\n",
              "      <td>1</td>\n",
              "      <td>0.7118</td>\n",
              "      <td>0.2882</td>\n",
              "    </tr>\n",
              "    <tr>\n",
              "      <th>6</th>\n",
              "      <td>GradientBoost</td>\n",
              "      <td>0.7672</td>\n",
              "      <td>0.5595</td>\n",
              "      <td>0.2077</td>\n",
              "      <td>0.8746</td>\n",
              "      <td>0.5834</td>\n",
              "      <td>0.2912</td>\n",
              "    </tr>\n",
              "    <tr>\n",
              "      <th>7</th>\n",
              "      <td>SVC</td>\n",
              "      <td>0.776</td>\n",
              "      <td>0.873</td>\n",
              "      <td>0.097</td>\n",
              "      <td>0.9085</td>\n",
              "      <td>0.9383</td>\n",
              "      <td>0.0298</td>\n",
              "    </tr>\n",
              "    <tr>\n",
              "      <th>8</th>\n",
              "      <td>NuSVC</td>\n",
              "      <td>0.8106</td>\n",
              "      <td>0.8849</td>\n",
              "      <td>0.0743</td>\n",
              "      <td>0.914</td>\n",
              "      <td>0.9366</td>\n",
              "      <td>0.0226</td>\n",
              "    </tr>\n",
              "  </tbody>\n",
              "</table>\n",
              "</div>"
            ],
            "text/plain": [
              "            classifier train_acc  ... test_roc_auc roc_auc_diff\n",
              "0  Logistic Regression    0.5439  ...       0.8819       0.1653\n",
              "1                  KNN    0.8889  ...       0.8156       0.1383\n",
              "2        Random Forest         1  ...       0.7929       0.2071\n",
              "3              Bagging    0.9866  ...       0.7542       0.2449\n",
              "4              XGBoost    0.7563  ...       0.5841        0.281\n",
              "5             AdaBoost         1  ...       0.7118       0.2882\n",
              "6        GradientBoost    0.7672  ...       0.5834       0.2912\n",
              "7                  SVC     0.776  ...       0.9383       0.0298\n",
              "8                NuSVC    0.8106  ...       0.9366       0.0226\n",
              "\n",
              "[9 rows x 7 columns]"
            ]
          },
          "metadata": {
            "tags": []
          },
          "execution_count": 35
        }
      ]
    },
    {
      "cell_type": "code",
      "metadata": {
        "colab": {
          "base_uri": "https://localhost:8080/"
        },
        "id": "6lwlkz_JdCEc",
        "outputId": "ddfea2de-af8f-44b6-858d-f1dd56e9da3d"
      },
      "source": [
        "df['test_acc'].max()"
      ],
      "execution_count": 36,
      "outputs": [
        {
          "output_type": "execute_result",
          "data": {
            "text/plain": [
              "0.8849"
            ]
          },
          "metadata": {
            "tags": []
          },
          "execution_count": 36
        }
      ]
    },
    {
      "cell_type": "markdown",
      "metadata": {
        "id": "nnV5a8qej4aO"
      },
      "source": [
        "### Tuning Hyperparameter"
      ]
    },
    {
      "cell_type": "code",
      "metadata": {
        "id": "gabBiDuBmdC1"
      },
      "source": [
        "# Odd numbers from 1 to 25\n",
        "# n = list(range(1, 27, 2))\n",
        "# param_grid = {'classifier__n_neighbors': n}\n",
        "\n",
        "# Grid search for k\n",
        "# search = GridSearchCV(knn_clf, param_grid, cv=5, scoring='f1')\n",
        "# search.fit(X_train, y_train)\n",
        "\n",
        "# print(f\"Best parameter: {search.best_params_}\\n\")\n",
        "\n",
        "# Evaluate the model with best k\n",
        "# evaluate_classification(search.best_estimator_, X_train, y_train, X_test, y_test)"
      ],
      "execution_count": 223,
      "outputs": []
    },
    {
      "cell_type": "code",
      "metadata": {
        "id": "EdQ8pO9PAio9"
      },
      "source": [
        "# Odd numbers from 1 to 25\n",
        "# n = [0,1, 0.2, 0.3, 0.4, 0.5, 0.6, 0.7, 0.8, 0.9]\n",
        "# p_grid = {'classifier__nu': n}\n",
        "\n",
        "# Grid search for k\n",
        "# search = GridSearchCV(nusvc_clf, p_grid, cv=5, scoring='f1')\n",
        "# search.fit(X_train, y_train)\n",
        "\n",
        "# print(f\"Best parameter: {search.best_params_}\\n\")\n",
        "\n",
        "# Evaluate the model with best k\n",
        "# evaluate_classification(search.best_estimator_, X_train, y_train, X_test, y_test)"
      ],
      "execution_count": 224,
      "outputs": []
    },
    {
      "cell_type": "code",
      "metadata": {
        "id": "FOyQKguAImhT"
      },
      "source": [
        "# Odd numbers from 1 to 25\n",
        "# n = [0.1, 1, 10, 100, 1000]\n",
        "# p_grid = {'classifier__C': n}\n",
        "\n",
        "# Grid search for k\n",
        "# search = GridSearchCV(svc_clf, p_grid, cv=5, scoring='f1')\n",
        "# search.fit(X_train, y_train)\n",
        "\n",
        "# print(f\"Best parameter: {search.best_params_}\\n\")\n",
        "\n",
        "# Evaluate the model with best k\n",
        "# evaluate_classification(search.best_estimator_, X_train, y_train, X_test, y_test)"
      ],
      "execution_count": 225,
      "outputs": []
    },
    {
      "cell_type": "code",
      "metadata": {
        "id": "Qmaw9NmHXHeY"
      },
      "source": [
        ""
      ],
      "execution_count": 225,
      "outputs": []
    }
  ]
}