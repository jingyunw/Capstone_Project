{
 "cells": [
  {
   "cell_type": "markdown",
   "metadata": {},
   "source": [
    "# How to acquire a single REIT ETF's historical data?"
   ]
  },
  {
   "cell_type": "code",
   "execution_count": 1,
   "metadata": {},
   "outputs": [],
   "source": [
    "import pandas as pd\n",
    "import numpy as np\n",
    "import matplotlib.pyplot as plt\n",
    "\n",
    "# !pip install pandas-datareader\n",
    "# !pip install yfinance\n",
    "\n",
    "import yfinance as yf\n",
    "import pandas_datareader as pdr"
   ]
  },
  {
   "cell_type": "code",
   "execution_count": 2,
   "metadata": {},
   "outputs": [],
   "source": [
    "# Access ticker data from Yahoo Finance\n",
    "vnq = yf.Ticker('VNQ')"
   ]
  },
  {
   "cell_type": "code",
   "execution_count": 3,
   "metadata": {},
   "outputs": [
    {
     "data": {
      "text/plain": [
       "{'previousClose': 103.35,\n",
       " 'regularMarketOpen': 103.35,\n",
       " 'twoHundredDayAverage': 91.79985,\n",
       " 'trailingAnnualDividendYield': 0.03418481,\n",
       " 'payoutRatio': None,\n",
       " 'volume24Hr': None,\n",
       " 'regularMarketDayHigh': 103.75,\n",
       " 'navPrice': 103.93,\n",
       " 'averageDailyVolume10Day': 4302633,\n",
       " 'totalAssets': 74924646400,\n",
       " 'regularMarketPreviousClose': 103.35,\n",
       " 'fiftyDayAverage': 100.25823,\n",
       " 'trailingAnnualDividendRate': 3.533,\n",
       " 'open': 103.35,\n",
       " 'averageVolume10days': 4302633,\n",
       " 'expireDate': None,\n",
       " 'yield': 0.021,\n",
       " 'algorithm': None,\n",
       " 'dividendRate': None,\n",
       " 'exDividendDate': None,\n",
       " 'beta': None,\n",
       " 'circulatingSupply': None,\n",
       " 'startDate': None,\n",
       " 'regularMarketDayLow': 103.08,\n",
       " 'priceHint': 2,\n",
       " 'currency': 'USD',\n",
       " 'regularMarketVolume': 3513089,\n",
       " 'lastMarket': None,\n",
       " 'maxSupply': None,\n",
       " 'openInterest': None,\n",
       " 'marketCap': None,\n",
       " 'volumeAllCurrencies': None,\n",
       " 'strikePrice': None,\n",
       " 'averageVolume': 4250120,\n",
       " 'priceToSalesTrailing12Months': None,\n",
       " 'dayLow': 103.08,\n",
       " 'ask': 0,\n",
       " 'ytdReturn': None,\n",
       " 'askSize': 1200,\n",
       " 'volume': 3513089,\n",
       " 'fiftyTwoWeekHigh': 105.77,\n",
       " 'forwardPE': None,\n",
       " 'maxAge': 1,\n",
       " 'fromCurrency': None,\n",
       " 'fiveYearAvgDividendYield': None,\n",
       " 'fiftyTwoWeekLow': 75.46,\n",
       " 'bid': 0,\n",
       " 'tradeable': False,\n",
       " 'dividendYield': None,\n",
       " 'bidSize': 1100,\n",
       " 'dayHigh': 103.75,\n",
       " 'exchange': 'PCX',\n",
       " 'shortName': 'Vanguard Real Estate ETF',\n",
       " 'longName': 'Vanguard Real Estate Index Fund ETF Shares',\n",
       " 'exchangeTimezoneName': 'America/New_York',\n",
       " 'exchangeTimezoneShortName': 'EDT',\n",
       " 'isEsgPopulated': False,\n",
       " 'gmtOffSetMilliseconds': '-14400000',\n",
       " 'quoteType': 'ETF',\n",
       " 'symbol': 'VNQ',\n",
       " 'messageBoardId': 'finmb_22939711',\n",
       " 'market': 'us_market',\n",
       " 'annualHoldingsTurnover': None,\n",
       " 'enterpriseToRevenue': None,\n",
       " 'beta3Year': 0.84,\n",
       " 'profitMargins': None,\n",
       " 'enterpriseToEbitda': None,\n",
       " '52WeekChange': None,\n",
       " 'morningStarRiskRating': None,\n",
       " 'forwardEps': None,\n",
       " 'revenueQuarterlyGrowth': None,\n",
       " 'fundInceptionDate': 1095897600,\n",
       " 'annualReportExpenseRatio': None,\n",
       " 'bookValue': None,\n",
       " 'fundFamily': 'Vanguard',\n",
       " 'lastFiscalYearEnd': None,\n",
       " 'netIncomeToCommon': None,\n",
       " 'trailingEps': None,\n",
       " 'lastDividendValue': None,\n",
       " 'SandP52WeekChange': None,\n",
       " 'priceToBook': None,\n",
       " 'nextFiscalYearEnd': None,\n",
       " 'mostRecentQuarter': None,\n",
       " 'enterpriseValue': None,\n",
       " 'threeYearAverageReturn': 0.1301,\n",
       " 'lastSplitDate': None,\n",
       " 'lastSplitFactor': None,\n",
       " 'legalType': 'Exchange Traded Fund',\n",
       " 'morningStarOverallRating': None,\n",
       " 'earningsQuarterlyGrowth': None,\n",
       " 'pegRatio': None,\n",
       " 'lastCapGain': None,\n",
       " 'category': 'Real Estate',\n",
       " 'fiveYearAverageReturn': 0.08189999,\n",
       " 'phone': '866-499-8473',\n",
       " 'longBusinessSummary': 'The investment seeks to provide a high level of income and moderate long-term capital appreciation by tracking the performance of the MSCI US Investable Market Real Estate 25/50 Index that measures the performance of publicly traded equity REITs and other real estate-related investments.\\n The advisor attempts to track the index by investing all, or substantially all, of its assets-either directly or indirectly through a wholly owned subsidiary, which is itself a registered investment company-in the stocks that make up the index, holding each stock in approximately the same proportion as its weighting in the index. The fund is non-diversified.',\n",
       " 'companyOfficers': [],\n",
       " 'regularMarketPrice': 103.17,\n",
       " 'logo_url': ''}"
      ]
     },
     "execution_count": 3,
     "metadata": {},
     "output_type": "execute_result"
    }
   ],
   "source": [
    "# Access ticker info\n",
    "vnq_dict = vnq.info\n",
    "vnq_dict"
   ]
  },
  {
   "cell_type": "code",
   "execution_count": 4,
   "metadata": {},
   "outputs": [
    {
     "data": {
      "text/plain": [
       "1095897600"
      ]
     },
     "execution_count": 4,
     "metadata": {},
     "output_type": "execute_result"
    }
   ],
   "source": [
    "# Want to know the Inception Data of that stock\n",
    "vnq_dict.get('fundInceptionDate')\n",
    "\n",
    "# epoch & unix format"
   ]
  },
  {
   "cell_type": "markdown",
   "metadata": {},
   "source": [
    "[epoch & unix converter](https://www.epochconverter.com/)"
   ]
  },
  {
   "cell_type": "code",
   "execution_count": 5,
   "metadata": {},
   "outputs": [
    {
     "data": {
      "text/plain": [
       "Timestamp('2004-09-23 00:00:00')"
      ]
     },
     "execution_count": 5,
     "metadata": {},
     "output_type": "execute_result"
    }
   ],
   "source": [
    "# Epoch & Unix Timestamp Conversion\n",
    "incep_date = pd.to_datetime(vnq_dict.get('fundInceptionDate'), unit='s')\n",
    "incep_date"
   ]
  },
  {
   "cell_type": "code",
   "execution_count": 6,
   "metadata": {},
   "outputs": [
    {
     "data": {
      "text/plain": [
       "2004"
      ]
     },
     "execution_count": 6,
     "metadata": {},
     "output_type": "execute_result"
    }
   ],
   "source": [
    "# Extract the year\n",
    "incep_date.year"
   ]
  },
  {
   "cell_type": "code",
   "execution_count": 7,
   "metadata": {},
   "outputs": [
    {
     "data": {
      "text/html": [
       "<div>\n",
       "<style scoped>\n",
       "    .dataframe tbody tr th:only-of-type {\n",
       "        vertical-align: middle;\n",
       "    }\n",
       "\n",
       "    .dataframe tbody tr th {\n",
       "        vertical-align: top;\n",
       "    }\n",
       "\n",
       "    .dataframe thead th {\n",
       "        text-align: right;\n",
       "    }\n",
       "</style>\n",
       "<table border=\"1\" class=\"dataframe\">\n",
       "  <thead>\n",
       "    <tr style=\"text-align: right;\">\n",
       "      <th></th>\n",
       "      <th>Dividends</th>\n",
       "      <th>Stock Splits</th>\n",
       "    </tr>\n",
       "    <tr>\n",
       "      <th>Date</th>\n",
       "      <th></th>\n",
       "      <th></th>\n",
       "    </tr>\n",
       "  </thead>\n",
       "  <tbody>\n",
       "    <tr>\n",
       "      <th>2004-12-22</th>\n",
       "      <td>1.270</td>\n",
       "      <td>0.0</td>\n",
       "    </tr>\n",
       "    <tr>\n",
       "      <th>2005-03-24</th>\n",
       "      <td>0.614</td>\n",
       "      <td>0.0</td>\n",
       "    </tr>\n",
       "    <tr>\n",
       "      <th>2005-06-27</th>\n",
       "      <td>0.644</td>\n",
       "      <td>0.0</td>\n",
       "    </tr>\n",
       "    <tr>\n",
       "      <th>2005-09-26</th>\n",
       "      <td>0.676</td>\n",
       "      <td>0.0</td>\n",
       "    </tr>\n",
       "    <tr>\n",
       "      <th>2005-12-27</th>\n",
       "      <td>1.627</td>\n",
       "      <td>0.0</td>\n",
       "    </tr>\n",
       "    <tr>\n",
       "      <th>...</th>\n",
       "      <td>...</td>\n",
       "      <td>...</td>\n",
       "    </tr>\n",
       "    <tr>\n",
       "      <th>2020-03-10</th>\n",
       "      <td>0.648</td>\n",
       "      <td>0.0</td>\n",
       "    </tr>\n",
       "    <tr>\n",
       "      <th>2020-06-25</th>\n",
       "      <td>0.759</td>\n",
       "      <td>0.0</td>\n",
       "    </tr>\n",
       "    <tr>\n",
       "      <th>2020-09-25</th>\n",
       "      <td>0.590</td>\n",
       "      <td>0.0</td>\n",
       "    </tr>\n",
       "    <tr>\n",
       "      <th>2020-12-24</th>\n",
       "      <td>1.338</td>\n",
       "      <td>0.0</td>\n",
       "    </tr>\n",
       "    <tr>\n",
       "      <th>2021-03-25</th>\n",
       "      <td>0.526</td>\n",
       "      <td>0.0</td>\n",
       "    </tr>\n",
       "  </tbody>\n",
       "</table>\n",
       "<p>66 rows × 2 columns</p>\n",
       "</div>"
      ],
      "text/plain": [
       "            Dividends  Stock Splits\n",
       "Date                               \n",
       "2004-12-22      1.270           0.0\n",
       "2005-03-24      0.614           0.0\n",
       "2005-06-27      0.644           0.0\n",
       "2005-09-26      0.676           0.0\n",
       "2005-12-27      1.627           0.0\n",
       "...               ...           ...\n",
       "2020-03-10      0.648           0.0\n",
       "2020-06-25      0.759           0.0\n",
       "2020-09-25      0.590           0.0\n",
       "2020-12-24      1.338           0.0\n",
       "2021-03-25      0.526           0.0\n",
       "\n",
       "[66 rows x 2 columns]"
      ]
     },
     "execution_count": 7,
     "metadata": {},
     "output_type": "execute_result"
    }
   ],
   "source": [
    "# Show dividends and stock splits\n",
    "vnq.actions"
   ]
  },
  {
   "cell_type": "code",
   "execution_count": 8,
   "metadata": {},
   "outputs": [
    {
     "data": {
      "text/html": [
       "<div>\n",
       "<style scoped>\n",
       "    .dataframe tbody tr th:only-of-type {\n",
       "        vertical-align: middle;\n",
       "    }\n",
       "\n",
       "    .dataframe tbody tr th {\n",
       "        vertical-align: top;\n",
       "    }\n",
       "\n",
       "    .dataframe thead th {\n",
       "        text-align: right;\n",
       "    }\n",
       "</style>\n",
       "<table border=\"1\" class=\"dataframe\">\n",
       "  <thead>\n",
       "    <tr style=\"text-align: right;\">\n",
       "      <th></th>\n",
       "      <th>Open</th>\n",
       "      <th>High</th>\n",
       "      <th>Low</th>\n",
       "      <th>Close</th>\n",
       "      <th>Volume</th>\n",
       "      <th>Dividends</th>\n",
       "      <th>Stock Splits</th>\n",
       "    </tr>\n",
       "    <tr>\n",
       "      <th>Date</th>\n",
       "      <th></th>\n",
       "      <th></th>\n",
       "      <th></th>\n",
       "      <th></th>\n",
       "      <th></th>\n",
       "      <th></th>\n",
       "      <th></th>\n",
       "    </tr>\n",
       "  </thead>\n",
       "  <tbody>\n",
       "    <tr>\n",
       "      <th>2004-09-29</th>\n",
       "      <td>23.794544</td>\n",
       "      <td>23.861371</td>\n",
       "      <td>23.789772</td>\n",
       "      <td>23.794544</td>\n",
       "      <td>205800</td>\n",
       "      <td>0.0</td>\n",
       "      <td>0</td>\n",
       "    </tr>\n",
       "    <tr>\n",
       "      <th>2004-09-30</th>\n",
       "      <td>23.866143</td>\n",
       "      <td>24.023660</td>\n",
       "      <td>23.861370</td>\n",
       "      <td>23.985474</td>\n",
       "      <td>27900</td>\n",
       "      <td>0.0</td>\n",
       "      <td>0</td>\n",
       "    </tr>\n",
       "    <tr>\n",
       "      <th>2004-10-01</th>\n",
       "      <td>24.033207</td>\n",
       "      <td>24.462799</td>\n",
       "      <td>23.985476</td>\n",
       "      <td>24.429386</td>\n",
       "      <td>129800</td>\n",
       "      <td>0.0</td>\n",
       "      <td>0</td>\n",
       "    </tr>\n",
       "    <tr>\n",
       "      <th>2004-10-04</th>\n",
       "      <td>24.529629</td>\n",
       "      <td>24.606000</td>\n",
       "      <td>24.529629</td>\n",
       "      <td>24.534403</td>\n",
       "      <td>8100</td>\n",
       "      <td>0.0</td>\n",
       "      <td>0</td>\n",
       "    </tr>\n",
       "    <tr>\n",
       "      <th>2004-10-05</th>\n",
       "      <td>24.534403</td>\n",
       "      <td>24.582135</td>\n",
       "      <td>24.510535</td>\n",
       "      <td>24.529629</td>\n",
       "      <td>11900</td>\n",
       "      <td>0.0</td>\n",
       "      <td>0</td>\n",
       "    </tr>\n",
       "    <tr>\n",
       "      <th>...</th>\n",
       "      <td>...</td>\n",
       "      <td>...</td>\n",
       "      <td>...</td>\n",
       "      <td>...</td>\n",
       "      <td>...</td>\n",
       "      <td>...</td>\n",
       "      <td>...</td>\n",
       "    </tr>\n",
       "    <tr>\n",
       "      <th>2021-06-17</th>\n",
       "      <td>103.410004</td>\n",
       "      <td>103.699997</td>\n",
       "      <td>102.860001</td>\n",
       "      <td>103.550003</td>\n",
       "      <td>5055100</td>\n",
       "      <td>0.0</td>\n",
       "      <td>0</td>\n",
       "    </tr>\n",
       "    <tr>\n",
       "      <th>2021-06-18</th>\n",
       "      <td>103.019997</td>\n",
       "      <td>103.470001</td>\n",
       "      <td>101.790001</td>\n",
       "      <td>101.790001</td>\n",
       "      <td>5358000</td>\n",
       "      <td>0.0</td>\n",
       "      <td>0</td>\n",
       "    </tr>\n",
       "    <tr>\n",
       "      <th>2021-06-21</th>\n",
       "      <td>102.309998</td>\n",
       "      <td>104.209999</td>\n",
       "      <td>101.800003</td>\n",
       "      <td>103.889999</td>\n",
       "      <td>3672900</td>\n",
       "      <td>0.0</td>\n",
       "      <td>0</td>\n",
       "    </tr>\n",
       "    <tr>\n",
       "      <th>2021-06-22</th>\n",
       "      <td>103.889999</td>\n",
       "      <td>104.010002</td>\n",
       "      <td>103.279999</td>\n",
       "      <td>103.349998</td>\n",
       "      <td>3088200</td>\n",
       "      <td>0.0</td>\n",
       "      <td>0</td>\n",
       "    </tr>\n",
       "    <tr>\n",
       "      <th>2021-06-23</th>\n",
       "      <td>103.349998</td>\n",
       "      <td>103.750000</td>\n",
       "      <td>103.080002</td>\n",
       "      <td>103.169998</td>\n",
       "      <td>3682900</td>\n",
       "      <td>0.0</td>\n",
       "      <td>0</td>\n",
       "    </tr>\n",
       "  </tbody>\n",
       "</table>\n",
       "<p>4213 rows × 7 columns</p>\n",
       "</div>"
      ],
      "text/plain": [
       "                  Open        High         Low       Close   Volume  \\\n",
       "Date                                                                  \n",
       "2004-09-29   23.794544   23.861371   23.789772   23.794544   205800   \n",
       "2004-09-30   23.866143   24.023660   23.861370   23.985474    27900   \n",
       "2004-10-01   24.033207   24.462799   23.985476   24.429386   129800   \n",
       "2004-10-04   24.529629   24.606000   24.529629   24.534403     8100   \n",
       "2004-10-05   24.534403   24.582135   24.510535   24.529629    11900   \n",
       "...                ...         ...         ...         ...      ...   \n",
       "2021-06-17  103.410004  103.699997  102.860001  103.550003  5055100   \n",
       "2021-06-18  103.019997  103.470001  101.790001  101.790001  5358000   \n",
       "2021-06-21  102.309998  104.209999  101.800003  103.889999  3672900   \n",
       "2021-06-22  103.889999  104.010002  103.279999  103.349998  3088200   \n",
       "2021-06-23  103.349998  103.750000  103.080002  103.169998  3682900   \n",
       "\n",
       "            Dividends  Stock Splits  \n",
       "Date                                 \n",
       "2004-09-29        0.0             0  \n",
       "2004-09-30        0.0             0  \n",
       "2004-10-01        0.0             0  \n",
       "2004-10-04        0.0             0  \n",
       "2004-10-05        0.0             0  \n",
       "...               ...           ...  \n",
       "2021-06-17        0.0             0  \n",
       "2021-06-18        0.0             0  \n",
       "2021-06-21        0.0             0  \n",
       "2021-06-22        0.0             0  \n",
       "2021-06-23        0.0             0  \n",
       "\n",
       "[4213 rows x 7 columns]"
      ]
     },
     "execution_count": 8,
     "metadata": {},
     "output_type": "execute_result"
    }
   ],
   "source": [
    "# Get historical market data\n",
    "data = vnq.history(period='max')\n",
    "data"
   ]
  },
  {
   "cell_type": "code",
   "execution_count": 9,
   "metadata": {},
   "outputs": [
    {
     "data": {
      "text/plain": [
       "DatetimeIndex(['2004-09-29', '2004-09-30', '2004-10-01', '2004-10-04',\n",
       "               '2004-10-05', '2004-10-06', '2004-10-07', '2004-10-08',\n",
       "               '2004-10-11', '2004-10-12',\n",
       "               ...\n",
       "               '2021-06-10', '2021-06-11', '2021-06-14', '2021-06-15',\n",
       "               '2021-06-16', '2021-06-17', '2021-06-18', '2021-06-21',\n",
       "               '2021-06-22', '2021-06-23'],\n",
       "              dtype='datetime64[ns]', name='Date', length=4213, freq=None)"
      ]
     },
     "execution_count": 9,
     "metadata": {},
     "output_type": "execute_result"
    }
   ],
   "source": [
    "# Check the index\n",
    "data.index"
   ]
  },
  {
   "cell_type": "code",
   "execution_count": 10,
   "metadata": {},
   "outputs": [
    {
     "data": {
      "text/plain": [
       "(4213, 7)"
      ]
     },
     "execution_count": 10,
     "metadata": {},
     "output_type": "execute_result"
    }
   ],
   "source": [
    "# Check the size of dataframe\n",
    "data.shape"
   ]
  },
  {
   "cell_type": "code",
   "execution_count": 11,
   "metadata": {},
   "outputs": [
    {
     "data": {
      "text/html": [
       "<div>\n",
       "<style scoped>\n",
       "    .dataframe tbody tr th:only-of-type {\n",
       "        vertical-align: middle;\n",
       "    }\n",
       "\n",
       "    .dataframe tbody tr th {\n",
       "        vertical-align: top;\n",
       "    }\n",
       "\n",
       "    .dataframe thead th {\n",
       "        text-align: right;\n",
       "    }\n",
       "</style>\n",
       "<table border=\"1\" class=\"dataframe\">\n",
       "  <thead>\n",
       "    <tr style=\"text-align: right;\">\n",
       "      <th></th>\n",
       "      <th>Open</th>\n",
       "      <th>High</th>\n",
       "      <th>Low</th>\n",
       "      <th>Close</th>\n",
       "      <th>Volume</th>\n",
       "      <th>Dividends</th>\n",
       "      <th>Stock Splits</th>\n",
       "    </tr>\n",
       "    <tr>\n",
       "      <th>Date</th>\n",
       "      <th></th>\n",
       "      <th></th>\n",
       "      <th></th>\n",
       "      <th></th>\n",
       "      <th></th>\n",
       "      <th></th>\n",
       "      <th></th>\n",
       "    </tr>\n",
       "  </thead>\n",
       "  <tbody>\n",
       "  </tbody>\n",
       "</table>\n",
       "</div>"
      ],
      "text/plain": [
       "Empty DataFrame\n",
       "Columns: [Open, High, Low, Close, Volume, Dividends, Stock Splits]\n",
       "Index: []"
      ]
     },
     "execution_count": 11,
     "metadata": {},
     "output_type": "execute_result"
    }
   ],
   "source": [
    "data.loc[data['Stock Splits'] !=0]"
   ]
  },
  {
   "cell_type": "code",
   "execution_count": 12,
   "metadata": {},
   "outputs": [
    {
     "data": {
      "image/png": "[encoded data removed]",
      "text/plain": [
       "<Figure size 1080x648 with 1 Axes>"
      ]
     },
     "metadata": {
      "needs_background": "light"
     },
     "output_type": "display_data"
    }
   ],
   "source": [
    "# Visualize the chart\n",
    "data['Close'].plot(figsize=(15,9));"
   ]
  },
  {
   "cell_type": "markdown",
   "metadata": {},
   "source": [
    "Get the start year of that REIT ETF (steps will be used in another notebook)"
   ]
  },
  {
   "cell_type": "code",
   "execution_count": 13,
   "metadata": {},
   "outputs": [
    {
     "data": {
      "text/plain": [
       "1095897600"
      ]
     },
     "execution_count": 13,
     "metadata": {},
     "output_type": "execute_result"
    }
   ],
   "source": [
    "timestamp = yf.Ticker('VNQ').info.get('fundInceptionDate')\n",
    "timestamp"
   ]
  },
  {
   "cell_type": "code",
   "execution_count": 14,
   "metadata": {},
   "outputs": [
    {
     "data": {
      "text/plain": [
       "2004"
      ]
     },
     "execution_count": 14,
     "metadata": {},
     "output_type": "execute_result"
    }
   ],
   "source": [
    "pd.to_datetime(timestamp, unit='s').year"
   ]
  },
  {
   "cell_type": "code",
   "execution_count": 15,
   "metadata": {},
   "outputs": [
    {
     "data": {
      "text/plain": [
       "2004"
      ]
     },
     "execution_count": 15,
     "metadata": {},
     "output_type": "execute_result"
    }
   ],
   "source": [
    "pd.to_datetime((vnq.info.get('fundInceptionDate')), unit='s').year"
   ]
  }
 ],
 "metadata": {
  "kernelspec": {
   "display_name": "learn-env",
   "language": "python",
   "name": "learn-env"
  },
  "language_info": {
   "codemirror_mode": {
    "name": "ipython",
    "version": 3
   },
   "file_extension": ".py",
   "mimetype": "text/x-python",
   "name": "python",
   "nbconvert_exporter": "python",
   "pygments_lexer": "ipython3",
   "version": "3.6.9"
  },
  "toc": {
   "base_numbering": 1,
   "nav_menu": {},
   "number_sections": false,
   "sideBar": true,
   "skip_h1_title": false,
   "title_cell": "Table of Contents",
   "title_sidebar": "Contents",
   "toc_cell": false,
   "toc_position": {},
   "toc_section_display": true,
   "toc_window_display": false
  }
 },
 "nbformat": 4,
 "nbformat_minor": 4
}
