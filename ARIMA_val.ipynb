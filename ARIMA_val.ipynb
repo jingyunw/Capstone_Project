{
 "cells": [
  {
   "cell_type": "code",
   "execution_count": 1,
   "metadata": {
    "ExecuteTime": {
     "end_time": "2021-06-30T02:17:26.746524Z",
     "start_time": "2021-06-30T02:17:24.882526Z"
    }
   },
   "outputs": [],
   "source": [
    "import pandas as pd\n",
    "import numpy as np\n",
    "\n",
    "import matplotlib.pyplot as plt\n",
    "from matplotlib.pylab import rcParams\n",
    "rcParams['figure.figsize'] = 12, 4\n",
    "%matplotlib inline\n",
    "\n",
    "import warnings\n",
    "warnings.filterwarnings('ignore')\n",
    "\n",
    "from sklearn.metrics import mean_squared_error, mean_absolute_error, mean_absolute_percentage_error\n",
    "\n",
    "import util as ut\n",
    "import fetch_data as fd\n",
    "\n",
    "import yfinance as yf"
   ]
  },
  {
   "cell_type": "code",
   "execution_count": 27,
   "metadata": {
    "ExecuteTime": {
     "end_time": "2021-06-30T03:01:12.949493Z",
     "start_time": "2021-06-30T03:01:12.943006Z"
    }
   },
   "outputs": [],
   "source": [
    "# pmdarima\n",
    "import pmdarima as pm\n",
    "from pmdarima.arima import decompose\n",
    "from pmdarima.utils import decomposed_plot\n",
    "from pmdarima.arima.stationarity import ADFTest\n",
    "from pmdarima.arima.utils import ndiffs\n",
    "from pmdarima import model_selection\n",
    "\n",
    "# statsmodels\n",
    "import statsmodels.api as sm\n",
    "from statsmodels.tsa.stattools import adfuller\n",
    "from statsmodels.tsa.seasonal import seasonal_decompose\n",
    "from statsmodels.graphics.tsaplots import plot_acf, plot_pacf\n",
    "from statsmodels.tsa.arima_model import ARIMA, ARIMAResults\n",
    "from statsmodels.tsa.arima.model import ARIMA, ARIMAResults"
   ]
  },
  {
   "cell_type": "code",
   "execution_count": 5,
   "metadata": {
    "ExecuteTime": {
     "end_time": "2021-06-30T02:18:32.634528Z",
     "start_time": "2021-06-30T02:18:32.261293Z"
    }
   },
   "outputs": [
    {
     "data": {
      "text/html": [
       "<div>\n",
       "<style scoped>\n",
       "    .dataframe tbody tr th:only-of-type {\n",
       "        vertical-align: middle;\n",
       "    }\n",
       "\n",
       "    .dataframe tbody tr th {\n",
       "        vertical-align: top;\n",
       "    }\n",
       "\n",
       "    .dataframe thead th {\n",
       "        text-align: right;\n",
       "    }\n",
       "</style>\n",
       "<table border=\"1\" class=\"dataframe\">\n",
       "  <thead>\n",
       "    <tr style=\"text-align: right;\">\n",
       "      <th></th>\n",
       "      <th>Open</th>\n",
       "      <th>High</th>\n",
       "      <th>Low</th>\n",
       "      <th>Close</th>\n",
       "      <th>Volume</th>\n",
       "      <th>Dividends</th>\n",
       "      <th>Stock Splits</th>\n",
       "    </tr>\n",
       "    <tr>\n",
       "      <th>Date</th>\n",
       "      <th></th>\n",
       "      <th></th>\n",
       "      <th></th>\n",
       "      <th></th>\n",
       "      <th></th>\n",
       "      <th></th>\n",
       "      <th></th>\n",
       "    </tr>\n",
       "  </thead>\n",
       "  <tbody>\n",
       "    <tr>\n",
       "      <th>2004-09-29</th>\n",
       "      <td>23.626417</td>\n",
       "      <td>23.692772</td>\n",
       "      <td>23.621678</td>\n",
       "      <td>23.626417</td>\n",
       "      <td>205800</td>\n",
       "      <td>0.000</td>\n",
       "      <td>0</td>\n",
       "    </tr>\n",
       "    <tr>\n",
       "      <th>2004-09-30</th>\n",
       "      <td>23.697501</td>\n",
       "      <td>23.853905</td>\n",
       "      <td>23.692762</td>\n",
       "      <td>23.815989</td>\n",
       "      <td>27900</td>\n",
       "      <td>0.000</td>\n",
       "      <td>0</td>\n",
       "    </tr>\n",
       "    <tr>\n",
       "      <th>2004-10-01</th>\n",
       "      <td>23.863388</td>\n",
       "      <td>24.289944</td>\n",
       "      <td>23.815994</td>\n",
       "      <td>24.256767</td>\n",
       "      <td>129800</td>\n",
       "      <td>0.000</td>\n",
       "      <td>0</td>\n",
       "    </tr>\n",
       "    <tr>\n",
       "      <th>2004-10-04</th>\n",
       "      <td>24.356298</td>\n",
       "      <td>24.432130</td>\n",
       "      <td>24.356298</td>\n",
       "      <td>24.361038</td>\n",
       "      <td>8100</td>\n",
       "      <td>0.000</td>\n",
       "      <td>0</td>\n",
       "    </tr>\n",
       "    <tr>\n",
       "      <th>2004-10-05</th>\n",
       "      <td>24.361039</td>\n",
       "      <td>24.408433</td>\n",
       "      <td>24.337340</td>\n",
       "      <td>24.356298</td>\n",
       "      <td>11900</td>\n",
       "      <td>0.000</td>\n",
       "      <td>0</td>\n",
       "    </tr>\n",
       "    <tr>\n",
       "      <th>...</th>\n",
       "      <td>...</td>\n",
       "      <td>...</td>\n",
       "      <td>...</td>\n",
       "      <td>...</td>\n",
       "      <td>...</td>\n",
       "      <td>...</td>\n",
       "      <td>...</td>\n",
       "    </tr>\n",
       "    <tr>\n",
       "      <th>2021-06-23</th>\n",
       "      <td>102.619723</td>\n",
       "      <td>103.016898</td>\n",
       "      <td>102.351634</td>\n",
       "      <td>102.440994</td>\n",
       "      <td>3682900</td>\n",
       "      <td>0.000</td>\n",
       "      <td>0</td>\n",
       "    </tr>\n",
       "    <tr>\n",
       "      <th>2021-06-24</th>\n",
       "      <td>102.820000</td>\n",
       "      <td>102.820000</td>\n",
       "      <td>101.660004</td>\n",
       "      <td>102.220001</td>\n",
       "      <td>3229000</td>\n",
       "      <td>0.729</td>\n",
       "      <td>0</td>\n",
       "    </tr>\n",
       "    <tr>\n",
       "      <th>2021-06-25</th>\n",
       "      <td>102.250000</td>\n",
       "      <td>103.010002</td>\n",
       "      <td>102.080002</td>\n",
       "      <td>102.910004</td>\n",
       "      <td>2739100</td>\n",
       "      <td>0.000</td>\n",
       "      <td>0</td>\n",
       "    </tr>\n",
       "    <tr>\n",
       "      <th>2021-06-28</th>\n",
       "      <td>103.089996</td>\n",
       "      <td>103.150002</td>\n",
       "      <td>101.690002</td>\n",
       "      <td>102.610001</td>\n",
       "      <td>3940700</td>\n",
       "      <td>0.000</td>\n",
       "      <td>0</td>\n",
       "    </tr>\n",
       "    <tr>\n",
       "      <th>2021-06-29</th>\n",
       "      <td>102.769997</td>\n",
       "      <td>103.199997</td>\n",
       "      <td>102.260002</td>\n",
       "      <td>102.330002</td>\n",
       "      <td>3765550</td>\n",
       "      <td>0.000</td>\n",
       "      <td>0</td>\n",
       "    </tr>\n",
       "  </tbody>\n",
       "</table>\n",
       "<p>4217 rows × 7 columns</p>\n",
       "</div>"
      ],
      "text/plain": [
       "                  Open        High         Low       Close   Volume  \\\n",
       "Date                                                                  \n",
       "2004-09-29   23.626417   23.692772   23.621678   23.626417   205800   \n",
       "2004-09-30   23.697501   23.853905   23.692762   23.815989    27900   \n",
       "2004-10-01   23.863388   24.289944   23.815994   24.256767   129800   \n",
       "2004-10-04   24.356298   24.432130   24.356298   24.361038     8100   \n",
       "2004-10-05   24.361039   24.408433   24.337340   24.356298    11900   \n",
       "...                ...         ...         ...         ...      ...   \n",
       "2021-06-23  102.619723  103.016898  102.351634  102.440994  3682900   \n",
       "2021-06-24  102.820000  102.820000  101.660004  102.220001  3229000   \n",
       "2021-06-25  102.250000  103.010002  102.080002  102.910004  2739100   \n",
       "2021-06-28  103.089996  103.150002  101.690002  102.610001  3940700   \n",
       "2021-06-29  102.769997  103.199997  102.260002  102.330002  3765550   \n",
       "\n",
       "            Dividends  Stock Splits  \n",
       "Date                                 \n",
       "2004-09-29      0.000             0  \n",
       "2004-09-30      0.000             0  \n",
       "2004-10-01      0.000             0  \n",
       "2004-10-04      0.000             0  \n",
       "2004-10-05      0.000             0  \n",
       "...               ...           ...  \n",
       "2021-06-23      0.000             0  \n",
       "2021-06-24      0.729             0  \n",
       "2021-06-25      0.000             0  \n",
       "2021-06-28      0.000             0  \n",
       "2021-06-29      0.000             0  \n",
       "\n",
       "[4217 rows x 7 columns]"
      ]
     },
     "execution_count": 5,
     "metadata": {},
     "output_type": "execute_result"
    }
   ],
   "source": [
    "vnq_new = fd.get_stock_data('VNQ')\n",
    "vnq_new"
   ]
  },
  {
   "cell_type": "code",
   "execution_count": 8,
   "metadata": {
    "ExecuteTime": {
     "end_time": "2021-06-30T02:42:27.057205Z",
     "start_time": "2021-06-30T02:42:27.045958Z"
    }
   },
   "outputs": [
    {
     "data": {
      "text/html": [
       "<div>\n",
       "<style scoped>\n",
       "    .dataframe tbody tr th:only-of-type {\n",
       "        vertical-align: middle;\n",
       "    }\n",
       "\n",
       "    .dataframe tbody tr th {\n",
       "        vertical-align: top;\n",
       "    }\n",
       "\n",
       "    .dataframe thead th {\n",
       "        text-align: right;\n",
       "    }\n",
       "</style>\n",
       "<table border=\"1\" class=\"dataframe\">\n",
       "  <thead>\n",
       "    <tr style=\"text-align: right;\">\n",
       "      <th></th>\n",
       "      <th>Open</th>\n",
       "      <th>High</th>\n",
       "      <th>Low</th>\n",
       "      <th>Close</th>\n",
       "      <th>Volume</th>\n",
       "      <th>Dividends</th>\n",
       "      <th>Stock Splits</th>\n",
       "    </tr>\n",
       "    <tr>\n",
       "      <th>Date</th>\n",
       "      <th></th>\n",
       "      <th></th>\n",
       "      <th></th>\n",
       "      <th></th>\n",
       "      <th></th>\n",
       "      <th></th>\n",
       "      <th></th>\n",
       "    </tr>\n",
       "  </thead>\n",
       "  <tbody>\n",
       "    <tr>\n",
       "      <th>2021-06-24</th>\n",
       "      <td>102.820000</td>\n",
       "      <td>102.820000</td>\n",
       "      <td>101.660004</td>\n",
       "      <td>102.220001</td>\n",
       "      <td>3229000</td>\n",
       "      <td>0.729</td>\n",
       "      <td>0</td>\n",
       "    </tr>\n",
       "    <tr>\n",
       "      <th>2021-06-25</th>\n",
       "      <td>102.250000</td>\n",
       "      <td>103.010002</td>\n",
       "      <td>102.080002</td>\n",
       "      <td>102.910004</td>\n",
       "      <td>2739100</td>\n",
       "      <td>0.000</td>\n",
       "      <td>0</td>\n",
       "    </tr>\n",
       "    <tr>\n",
       "      <th>2021-06-28</th>\n",
       "      <td>103.089996</td>\n",
       "      <td>103.150002</td>\n",
       "      <td>101.690002</td>\n",
       "      <td>102.610001</td>\n",
       "      <td>3940700</td>\n",
       "      <td>0.000</td>\n",
       "      <td>0</td>\n",
       "    </tr>\n",
       "    <tr>\n",
       "      <th>2021-06-29</th>\n",
       "      <td>102.769997</td>\n",
       "      <td>103.199997</td>\n",
       "      <td>102.260002</td>\n",
       "      <td>102.330002</td>\n",
       "      <td>3765550</td>\n",
       "      <td>0.000</td>\n",
       "      <td>0</td>\n",
       "    </tr>\n",
       "  </tbody>\n",
       "</table>\n",
       "</div>"
      ],
      "text/plain": [
       "                  Open        High         Low       Close   Volume  \\\n",
       "Date                                                                  \n",
       "2021-06-24  102.820000  102.820000  101.660004  102.220001  3229000   \n",
       "2021-06-25  102.250000  103.010002  102.080002  102.910004  2739100   \n",
       "2021-06-28  103.089996  103.150002  101.690002  102.610001  3940700   \n",
       "2021-06-29  102.769997  103.199997  102.260002  102.330002  3765550   \n",
       "\n",
       "            Dividends  Stock Splits  \n",
       "Date                                 \n",
       "2021-06-24      0.729             0  \n",
       "2021-06-25      0.000             0  \n",
       "2021-06-28      0.000             0  \n",
       "2021-06-29      0.000             0  "
      ]
     },
     "execution_count": 8,
     "metadata": {},
     "output_type": "execute_result"
    }
   ],
   "source": [
    "vnq_val = vnq_new.iloc[-4:]\n",
    "vnq_val"
   ]
  },
  {
   "cell_type": "markdown",
   "metadata": {},
   "source": [
    "https://machinelearningmastery.com/save-arima-time-series-forecasting-model-python/"
   ]
  },
  {
   "cell_type": "code",
   "execution_count": 10,
   "metadata": {
    "ExecuteTime": {
     "end_time": "2021-06-30T02:47:00.203099Z",
     "start_time": "2021-06-30T02:47:00.194865Z"
    }
   },
   "outputs": [],
   "source": [
    "# load model\n",
    "loaded = ARIMAResults.load('models/arima_statsmodels.pkl')"
   ]
  },
  {
   "cell_type": "code",
   "execution_count": 12,
   "metadata": {
    "ExecuteTime": {
     "end_time": "2021-06-30T02:48:35.999422Z",
     "start_time": "2021-06-30T02:48:35.996492Z"
    }
   },
   "outputs": [],
   "source": [
    "val = vnq_val['Close']"
   ]
  },
  {
   "cell_type": "code",
   "execution_count": 42,
   "metadata": {
    "ExecuteTime": {
     "end_time": "2021-06-30T03:07:40.202801Z",
     "start_time": "2021-06-30T03:07:40.199452Z"
    }
   },
   "outputs": [],
   "source": [
    "# Make prediction\n",
    "forecast, stderr, conf_int = loaded.forecast(steps=4)"
   ]
  },
  {
   "cell_type": "code",
   "execution_count": 43,
   "metadata": {
    "ExecuteTime": {
     "end_time": "2021-06-30T03:07:46.577175Z",
     "start_time": "2021-06-30T03:07:46.573513Z"
    }
   },
   "outputs": [
    {
     "data": {
      "text/plain": [
       "array([103.57757269, 103.56937718, 103.46875799, 103.70252525])"
      ]
     },
     "execution_count": 43,
     "metadata": {},
     "output_type": "execute_result"
    }
   ],
   "source": [
    "forecast"
   ]
  },
  {
   "cell_type": "code",
   "execution_count": 33,
   "metadata": {
    "ExecuteTime": {
     "end_time": "2021-06-30T03:05:46.337134Z",
     "start_time": "2021-06-30T03:05:46.333379Z"
    }
   },
   "outputs": [
    {
     "data": {
      "text/plain": [
       "array([102.22000122, 102.91000366, 102.61000061, 102.33000183])"
      ]
     },
     "execution_count": 33,
     "metadata": {},
     "output_type": "execute_result"
    }
   ],
   "source": [
    "val.values"
   ]
  },
  {
   "cell_type": "code",
   "execution_count": 44,
   "metadata": {
    "ExecuteTime": {
     "end_time": "2021-06-30T03:08:25.931686Z",
     "start_time": "2021-06-30T03:08:25.926868Z"
    }
   },
   "outputs": [
    {
     "name": "stdout",
     "output_type": "stream",
     "text": [
      "MSE: 1.225 \n",
      "MAE: 1.062\n",
      "MAPE:0.010 \n"
     ]
    }
   ],
   "source": [
    "ut.evaluate(val.values, forecast)"
   ]
  },
  {
   "cell_type": "code",
   "execution_count": 45,
   "metadata": {
    "ExecuteTime": {
     "end_time": "2021-06-30T03:09:58.000401Z",
     "start_time": "2021-06-30T03:09:57.993175Z"
    }
   },
   "outputs": [],
   "source": [
    "val_df = pd.DataFrame(index=val.index,\n",
    "                      columns=['actual', 'predicted'])"
   ]
  },
  {
   "cell_type": "code",
   "execution_count": 47,
   "metadata": {
    "ExecuteTime": {
     "end_time": "2021-06-30T03:10:24.838394Z",
     "start_time": "2021-06-30T03:10:24.835491Z"
    }
   },
   "outputs": [],
   "source": [
    "val_df['actual'] = val.values"
   ]
  },
  {
   "cell_type": "code",
   "execution_count": 49,
   "metadata": {
    "ExecuteTime": {
     "end_time": "2021-06-30T03:10:43.684235Z",
     "start_time": "2021-06-30T03:10:43.681671Z"
    }
   },
   "outputs": [],
   "source": [
    "val_df['predicted'] = forecast"
   ]
  },
  {
   "cell_type": "code",
   "execution_count": 50,
   "metadata": {
    "ExecuteTime": {
     "end_time": "2021-06-30T03:10:46.432461Z",
     "start_time": "2021-06-30T03:10:46.424848Z"
    }
   },
   "outputs": [
    {
     "data": {
      "text/html": [
       "<div>\n",
       "<style scoped>\n",
       "    .dataframe tbody tr th:only-of-type {\n",
       "        vertical-align: middle;\n",
       "    }\n",
       "\n",
       "    .dataframe tbody tr th {\n",
       "        vertical-align: top;\n",
       "    }\n",
       "\n",
       "    .dataframe thead th {\n",
       "        text-align: right;\n",
       "    }\n",
       "</style>\n",
       "<table border=\"1\" class=\"dataframe\">\n",
       "  <thead>\n",
       "    <tr style=\"text-align: right;\">\n",
       "      <th></th>\n",
       "      <th>actual</th>\n",
       "      <th>predicted</th>\n",
       "    </tr>\n",
       "    <tr>\n",
       "      <th>Date</th>\n",
       "      <th></th>\n",
       "      <th></th>\n",
       "    </tr>\n",
       "  </thead>\n",
       "  <tbody>\n",
       "    <tr>\n",
       "      <th>2021-06-24</th>\n",
       "      <td>102.220001</td>\n",
       "      <td>103.577573</td>\n",
       "    </tr>\n",
       "    <tr>\n",
       "      <th>2021-06-25</th>\n",
       "      <td>102.910004</td>\n",
       "      <td>103.569377</td>\n",
       "    </tr>\n",
       "    <tr>\n",
       "      <th>2021-06-28</th>\n",
       "      <td>102.610001</td>\n",
       "      <td>103.468758</td>\n",
       "    </tr>\n",
       "    <tr>\n",
       "      <th>2021-06-29</th>\n",
       "      <td>102.330002</td>\n",
       "      <td>103.702525</td>\n",
       "    </tr>\n",
       "  </tbody>\n",
       "</table>\n",
       "</div>"
      ],
      "text/plain": [
       "                actual   predicted\n",
       "Date                              \n",
       "2021-06-24  102.220001  103.577573\n",
       "2021-06-25  102.910004  103.569377\n",
       "2021-06-28  102.610001  103.468758\n",
       "2021-06-29  102.330002  103.702525"
      ]
     },
     "execution_count": 50,
     "metadata": {},
     "output_type": "execute_result"
    }
   ],
   "source": [
    "val_df"
   ]
  },
  {
   "cell_type": "code",
   "execution_count": 52,
   "metadata": {
    "ExecuteTime": {
     "end_time": "2021-06-30T03:11:09.848231Z",
     "start_time": "2021-06-30T03:11:09.692000Z"
    }
   },
   "outputs": [
    {
     "data": {
      "image/png": "[encoded data removed]",
      "text/plain": [
       "<Figure size 432x288 with 1 Axes>"
      ]
     },
     "metadata": {
      "needs_background": "light"
     },
     "output_type": "display_data"
    }
   ],
   "source": [
    "val_df.plot();"
   ]
  },
  {
   "cell_type": "code",
   "execution_count": null,
   "metadata": {},
   "outputs": [],
   "source": []
  }
 ],
 "metadata": {
  "kernelspec": {
   "display_name": "learn-env",
   "language": "python",
   "name": "learn-env"
  },
  "language_info": {
   "codemirror_mode": {
    "name": "ipython",
    "version": 3
   },
   "file_extension": ".py",
   "mimetype": "text/x-python",
   "name": "python",
   "nbconvert_exporter": "python",
   "pygments_lexer": "ipython3",
   "version": "3.6.9"
  },
  "toc": {
   "base_numbering": 1,
   "nav_menu": {},
   "number_sections": true,
   "sideBar": true,
   "skip_h1_title": false,
   "title_cell": "Table of Contents",
   "title_sidebar": "Contents",
   "toc_cell": false,
   "toc_position": {},
   "toc_section_display": true,
   "toc_window_display": false
  }
 },
 "nbformat": 4,
 "nbformat_minor": 4
}
