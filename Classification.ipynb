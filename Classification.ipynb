{
  "nbformat": 4,
  "nbformat_minor": 0,
  "metadata": {
    "colab": {
      "name": "Classification",
      "provenance": [],
      "collapsed_sections": [],
      "toc_visible": true
    },
    "kernelspec": {
      "name": "python3",
      "display_name": "Python 3"
    },
    "language_info": {
      "name": "python"
    }
  },
  "cells": [
    {
      "cell_type": "markdown",
      "metadata": {
        "id": "BhmsP3Z1YpYv"
      },
      "source": [
        "# Classification"
      ]
    },
    {
      "cell_type": "code",
      "metadata": {
        "colab": {
          "base_uri": "https://localhost:8080/"
        },
        "id": "4-crFrc7IhcS",
        "outputId": "0a040eda-a3e1-441a-e120-16da669a0528"
      },
      "source": [
        "# util.py has pmdarima function inside\n",
        "# Need to install it before import the pyfile\n",
        "!pip install pmdarima"
      ],
      "execution_count": 1,
      "outputs": [
        {
          "output_type": "stream",
          "text": [
            "Collecting pmdarima\n",
            "\u001b[?25l  Downloading https://files.pythonhosted.org/packages/f4/c2/2a94bce6bba1deac3c0b16dbb14f28de0b9035e3211919cae8448455aa65/pmdarima-1.8.2-cp37-cp37m-manylinux1_x86_64.whl (1.5MB)\n",
            "\u001b[K     |████████████████████████████████| 1.5MB 8.8MB/s \n",
            "\u001b[?25hRequirement already satisfied: joblib>=0.11 in /usr/local/lib/python3.7/dist-packages (from pmdarima) (1.0.1)\n",
            "Requirement already satisfied: scikit-learn>=0.22 in /usr/local/lib/python3.7/dist-packages (from pmdarima) (0.22.2.post1)\n",
            "Requirement already satisfied: scipy>=1.3.2 in /usr/local/lib/python3.7/dist-packages (from pmdarima) (1.4.1)\n",
            "Collecting statsmodels!=0.12.0,>=0.11\n",
            "\u001b[?25l  Downloading https://files.pythonhosted.org/packages/da/69/8eef30a6237c54f3c0b524140e2975f4b1eea3489b45eb3339574fc8acee/statsmodels-0.12.2-cp37-cp37m-manylinux1_x86_64.whl (9.5MB)\n",
            "\u001b[K     |████████████████████████████████| 9.5MB 24.5MB/s \n",
            "\u001b[?25hRequirement already satisfied: pandas>=0.19 in /usr/local/lib/python3.7/dist-packages (from pmdarima) (1.1.5)\n",
            "Requirement already satisfied: Cython!=0.29.18,>=0.29 in /usr/local/lib/python3.7/dist-packages (from pmdarima) (0.29.23)\n",
            "Requirement already satisfied: numpy~=1.19.0 in /usr/local/lib/python3.7/dist-packages (from pmdarima) (1.19.5)\n",
            "Requirement already satisfied: urllib3 in /usr/local/lib/python3.7/dist-packages (from pmdarima) (1.24.3)\n",
            "Requirement already satisfied: setuptools!=50.0.0,>=38.6.0 in /usr/local/lib/python3.7/dist-packages (from pmdarima) (57.0.0)\n",
            "Requirement already satisfied: patsy>=0.5 in /usr/local/lib/python3.7/dist-packages (from statsmodels!=0.12.0,>=0.11->pmdarima) (0.5.1)\n",
            "Requirement already satisfied: python-dateutil>=2.7.3 in /usr/local/lib/python3.7/dist-packages (from pandas>=0.19->pmdarima) (2.8.1)\n",
            "Requirement already satisfied: pytz>=2017.2 in /usr/local/lib/python3.7/dist-packages (from pandas>=0.19->pmdarima) (2018.9)\n",
            "Requirement already satisfied: six in /usr/local/lib/python3.7/dist-packages (from patsy>=0.5->statsmodels!=0.12.0,>=0.11->pmdarima) (1.15.0)\n",
            "Installing collected packages: statsmodels, pmdarima\n",
            "  Found existing installation: statsmodels 0.10.2\n",
            "    Uninstalling statsmodels-0.10.2:\n",
            "      Successfully uninstalled statsmodels-0.10.2\n",
            "Successfully installed pmdarima-1.8.2 statsmodels-0.12.2\n"
          ],
          "name": "stdout"
        }
      ]
    },
    {
      "cell_type": "markdown",
      "metadata": {
        "id": "Ld58vlziWqM1"
      },
      "source": [
        "## Google Colab Setup"
      ]
    },
    {
      "cell_type": "code",
      "metadata": {
        "id": "LzIwjGc-ItJi"
      },
      "source": [
        "# Google Colab\n",
        "from google.colab import drive\n",
        "import os\n",
        "\n",
        "# General\n",
        "import pandas as pd\n",
        "import numpy as np\n",
        "import matplotlib.pyplot as plt\n",
        "%matplotlib inline\n",
        "import warnings\n",
        "warnings.filterwarnings('ignore')\n",
        "from pickle import dump, load\n",
        "\n",
        "# Scikit-Learn\n",
        "from sklearn.pipeline import Pipeline\n",
        "from sklearn.compose import ColumnTransformer\n",
        "from sklearn.preprocessing import LabelEncoder, MinMaxScaler\n",
        "from sklearn.metrics import accuracy_score, plot_confusion_matrix, classification_report\n",
        "from sklearn.model_selection import GridSearchCV\n",
        "\n",
        "# Classifier\n",
        "from sklearn.linear_model import LogisticRegression\n",
        "from sklearn.neighbors import KNeighborsClassifier\n",
        "from sklearn.tree import DecisionTreeClassifier\n",
        "from sklearn.ensemble import RandomForestClassifier, BaggingClassifier, AdaBoostClassifier, GradientBoostingClassifier\n",
        "from xgboost import XGBClassifier"
      ],
      "execution_count": 2,
      "outputs": []
    },
    {
      "cell_type": "code",
      "metadata": {
        "colab": {
          "base_uri": "https://localhost:8080/"
        },
        "id": "TSuTJf0FItHH",
        "outputId": "571e11bf-cd57-493b-cf9c-4552cfea706c"
      },
      "source": [
        "# Mount Google Drive\n",
        "drive.mount('/gdrive', force_remount=True)"
      ],
      "execution_count": 3,
      "outputs": [
        {
          "output_type": "stream",
          "text": [
            "Mounted at /gdrive\n"
          ],
          "name": "stdout"
        }
      ]
    },
    {
      "cell_type": "code",
      "metadata": {
        "colab": {
          "base_uri": "https://localhost:8080/"
        },
        "id": "LE2SoVpgItEt",
        "outputId": "869fb865-ddf5-44e0-c9c0-2968221ebd6d"
      },
      "source": [
        "# Get the current working directory\n",
        "print(os.getcwd())"
      ],
      "execution_count": 4,
      "outputs": [
        {
          "output_type": "stream",
          "text": [
            "/content\n"
          ],
          "name": "stdout"
        }
      ]
    },
    {
      "cell_type": "code",
      "metadata": {
        "id": "JOexmeeDJIOB"
      },
      "source": [
        "# Drive path is the path where I upload the ETFs history file and pre-written pyfile\n",
        "drive_path_csv = '/gdrive/MyDrive/Capstone_Project/REIT_ETFs.csv'\n",
        "drive_path_util = '/gdrive/MyDrive/Capstone_Project/util.py'\n",
        "\n",
        "# Expect to move these file into the local path\n",
        "local_path = '/content'"
      ],
      "execution_count": 5,
      "outputs": []
    },
    {
      "cell_type": "code",
      "metadata": {
        "id": "JFideisMItCG"
      },
      "source": [
        "# Copy these file in drive path\n",
        "!cp '{drive_path_csv}' .\n",
        "!cp '{drive_path_util}' .\n",
        "\n",
        "# Change these file from drive path to the local path\n",
        "os.chdir(local_path)"
      ],
      "execution_count": 6,
      "outputs": []
    },
    {
      "cell_type": "code",
      "metadata": {
        "id": "Wc0Pgn7kIs_t"
      },
      "source": [
        "# Pre-written function\n",
        "import util as ut"
      ],
      "execution_count": 7,
      "outputs": []
    },
    {
      "cell_type": "markdown",
      "metadata": {
        "id": "fJlZGpc3Wwjs"
      },
      "source": [
        "## Preprocessing"
      ]
    },
    {
      "cell_type": "code",
      "metadata": {
        "colab": {
          "base_uri": "https://localhost:8080/",
          "height": 419
        },
        "id": "KuGVgeJ9Is4h",
        "outputId": "3630389b-0419-4e56-c11c-fb531ae7f81e"
      },
      "source": [
        "data = pd.read_csv('/content/REIT_ETFs.csv')\n",
        "data"
      ],
      "execution_count": 8,
      "outputs": [
        {
          "output_type": "execute_result",
          "data": {
            "text/html": [
              "<div>\n",
              "<style scoped>\n",
              "    .dataframe tbody tr th:only-of-type {\n",
              "        vertical-align: middle;\n",
              "    }\n",
              "\n",
              "    .dataframe tbody tr th {\n",
              "        vertical-align: top;\n",
              "    }\n",
              "\n",
              "    .dataframe thead th {\n",
              "        text-align: right;\n",
              "    }\n",
              "</style>\n",
              "<table border=\"1\" class=\"dataframe\">\n",
              "  <thead>\n",
              "    <tr style=\"text-align: right;\">\n",
              "      <th></th>\n",
              "      <th>Date</th>\n",
              "      <th>Open</th>\n",
              "      <th>High</th>\n",
              "      <th>Low</th>\n",
              "      <th>Close</th>\n",
              "      <th>Volume</th>\n",
              "      <th>Dividends</th>\n",
              "      <th>Stock Splits</th>\n",
              "      <th>Ticker</th>\n",
              "    </tr>\n",
              "  </thead>\n",
              "  <tbody>\n",
              "    <tr>\n",
              "      <th>0</th>\n",
              "      <td>2004-09-29</td>\n",
              "      <td>23.794544</td>\n",
              "      <td>23.861371</td>\n",
              "      <td>23.789772</td>\n",
              "      <td>23.794544</td>\n",
              "      <td>205800</td>\n",
              "      <td>0.0</td>\n",
              "      <td>0.0</td>\n",
              "      <td>VNQ</td>\n",
              "    </tr>\n",
              "    <tr>\n",
              "      <th>1</th>\n",
              "      <td>2004-09-30</td>\n",
              "      <td>23.866143</td>\n",
              "      <td>24.023660</td>\n",
              "      <td>23.861370</td>\n",
              "      <td>23.985474</td>\n",
              "      <td>27900</td>\n",
              "      <td>0.0</td>\n",
              "      <td>0.0</td>\n",
              "      <td>VNQ</td>\n",
              "    </tr>\n",
              "    <tr>\n",
              "      <th>2</th>\n",
              "      <td>2004-10-01</td>\n",
              "      <td>24.033207</td>\n",
              "      <td>24.462799</td>\n",
              "      <td>23.985476</td>\n",
              "      <td>24.429386</td>\n",
              "      <td>129800</td>\n",
              "      <td>0.0</td>\n",
              "      <td>0.0</td>\n",
              "      <td>VNQ</td>\n",
              "    </tr>\n",
              "    <tr>\n",
              "      <th>3</th>\n",
              "      <td>2004-10-04</td>\n",
              "      <td>24.529629</td>\n",
              "      <td>24.606000</td>\n",
              "      <td>24.529629</td>\n",
              "      <td>24.534403</td>\n",
              "      <td>8100</td>\n",
              "      <td>0.0</td>\n",
              "      <td>0.0</td>\n",
              "      <td>VNQ</td>\n",
              "    </tr>\n",
              "    <tr>\n",
              "      <th>4</th>\n",
              "      <td>2004-10-05</td>\n",
              "      <td>24.534403</td>\n",
              "      <td>24.582135</td>\n",
              "      <td>24.510535</td>\n",
              "      <td>24.529629</td>\n",
              "      <td>11900</td>\n",
              "      <td>0.0</td>\n",
              "      <td>0.0</td>\n",
              "      <td>VNQ</td>\n",
              "    </tr>\n",
              "    <tr>\n",
              "      <th>...</th>\n",
              "      <td>...</td>\n",
              "      <td>...</td>\n",
              "      <td>...</td>\n",
              "      <td>...</td>\n",
              "      <td>...</td>\n",
              "      <td>...</td>\n",
              "      <td>...</td>\n",
              "      <td>...</td>\n",
              "      <td>...</td>\n",
              "    </tr>\n",
              "    <tr>\n",
              "      <th>53434</th>\n",
              "      <td>2021-06-17</td>\n",
              "      <td>9.280000</td>\n",
              "      <td>9.290000</td>\n",
              "      <td>9.220000</td>\n",
              "      <td>9.220000</td>\n",
              "      <td>5200</td>\n",
              "      <td>0.0</td>\n",
              "      <td>0.0</td>\n",
              "      <td>REK</td>\n",
              "    </tr>\n",
              "    <tr>\n",
              "      <th>53435</th>\n",
              "      <td>2021-06-18</td>\n",
              "      <td>9.330000</td>\n",
              "      <td>9.370000</td>\n",
              "      <td>9.270000</td>\n",
              "      <td>9.370000</td>\n",
              "      <td>22800</td>\n",
              "      <td>0.0</td>\n",
              "      <td>0.0</td>\n",
              "      <td>REK</td>\n",
              "    </tr>\n",
              "    <tr>\n",
              "      <th>53436</th>\n",
              "      <td>2021-06-21</td>\n",
              "      <td>9.320000</td>\n",
              "      <td>9.320000</td>\n",
              "      <td>9.170000</td>\n",
              "      <td>9.170000</td>\n",
              "      <td>22900</td>\n",
              "      <td>0.0</td>\n",
              "      <td>0.0</td>\n",
              "      <td>REK</td>\n",
              "    </tr>\n",
              "    <tr>\n",
              "      <th>53437</th>\n",
              "      <td>2021-06-22</td>\n",
              "      <td>9.160000</td>\n",
              "      <td>9.230000</td>\n",
              "      <td>9.160000</td>\n",
              "      <td>9.220000</td>\n",
              "      <td>6200</td>\n",
              "      <td>0.0</td>\n",
              "      <td>0.0</td>\n",
              "      <td>REK</td>\n",
              "    </tr>\n",
              "    <tr>\n",
              "      <th>53438</th>\n",
              "      <td>2021-06-23</td>\n",
              "      <td>9.200000</td>\n",
              "      <td>9.260000</td>\n",
              "      <td>9.200000</td>\n",
              "      <td>9.260000</td>\n",
              "      <td>4500</td>\n",
              "      <td>0.0</td>\n",
              "      <td>0.0</td>\n",
              "      <td>REK</td>\n",
              "    </tr>\n",
              "  </tbody>\n",
              "</table>\n",
              "<p>53439 rows × 9 columns</p>\n",
              "</div>"
            ],
            "text/plain": [
              "             Date       Open       High  ...  Dividends  Stock Splits  Ticker\n",
              "0      2004-09-29  23.794544  23.861371  ...        0.0           0.0     VNQ\n",
              "1      2004-09-30  23.866143  24.023660  ...        0.0           0.0     VNQ\n",
              "2      2004-10-01  24.033207  24.462799  ...        0.0           0.0     VNQ\n",
              "3      2004-10-04  24.529629  24.606000  ...        0.0           0.0     VNQ\n",
              "4      2004-10-05  24.534403  24.582135  ...        0.0           0.0     VNQ\n",
              "...           ...        ...        ...  ...        ...           ...     ...\n",
              "53434  2021-06-17   9.280000   9.290000  ...        0.0           0.0     REK\n",
              "53435  2021-06-18   9.330000   9.370000  ...        0.0           0.0     REK\n",
              "53436  2021-06-21   9.320000   9.320000  ...        0.0           0.0     REK\n",
              "53437  2021-06-22   9.160000   9.230000  ...        0.0           0.0     REK\n",
              "53438  2021-06-23   9.200000   9.260000  ...        0.0           0.0     REK\n",
              "\n",
              "[53439 rows x 9 columns]"
            ]
          },
          "metadata": {
            "tags": []
          },
          "execution_count": 8
        }
      ]
    },
    {
      "cell_type": "code",
      "metadata": {
        "id": "ntiAxLL9JLag"
      },
      "source": [
        "# Select one REIT ETF\n",
        "vnq = data.copy().loc[data['Ticker'] == \"VNQ\"]"
      ],
      "execution_count": 9,
      "outputs": []
    },
    {
      "cell_type": "code",
      "metadata": {
        "id": "lTghZiwcNjQ2"
      },
      "source": [
        "# Drop unnecessary columns\n",
        "vnq.drop(columns=['Volume', 'Dividends', 'Stock Splits', 'Ticker'], inplace=True)"
      ],
      "execution_count": 10,
      "outputs": []
    },
    {
      "cell_type": "code",
      "metadata": {
        "id": "qKCkQSyzUBTL"
      },
      "source": [
        "vnq['Lag 1'] = vnq['Close'].shift(periods=1)"
      ],
      "execution_count": 11,
      "outputs": []
    },
    {
      "cell_type": "code",
      "metadata": {
        "id": "z1fsKKm5P218"
      },
      "source": [
        "vnq.loc[vnq['Close'] - vnq['Lag 1'] > 0, 'Trend'] = 'increase'\n",
        "vnq.loc[vnq['Close'] - vnq['Lag 1'] < 0, 'Trend'] = 'decrease'\n",
        "vnq.loc[vnq['Close'] - vnq['Lag 1'] == 0, 'Trend'] = 'unchange'"
      ],
      "execution_count": 12,
      "outputs": []
    },
    {
      "cell_type": "code",
      "metadata": {
        "colab": {
          "base_uri": "https://localhost:8080/"
        },
        "id": "RcNanN2uP2wP",
        "outputId": "b6ae2296-63e3-4dce-a528-fec79b6d2868"
      },
      "source": [
        "vnq['Trend'].isna().sum()"
      ],
      "execution_count": 13,
      "outputs": [
        {
          "output_type": "execute_result",
          "data": {
            "text/plain": [
              "1"
            ]
          },
          "metadata": {
            "tags": []
          },
          "execution_count": 13
        }
      ]
    },
    {
      "cell_type": "code",
      "metadata": {
        "colab": {
          "base_uri": "https://localhost:8080/",
          "height": 419
        },
        "id": "pGXWDU_7W5yp",
        "outputId": "1c901f1b-b92e-4b65-905a-8188bd5b098c"
      },
      "source": [
        "# Drop the \"Lag 1\" column\n",
        "vnq.drop(columns=['Lag 1'], inplace=True)\n",
        "\n",
        "# Drop the 1st row\n",
        "vnq.drop([0], inplace=True)\n",
        "vnq"
      ],
      "execution_count": 14,
      "outputs": [
        {
          "output_type": "execute_result",
          "data": {
            "text/html": [
              "<div>\n",
              "<style scoped>\n",
              "    .dataframe tbody tr th:only-of-type {\n",
              "        vertical-align: middle;\n",
              "    }\n",
              "\n",
              "    .dataframe tbody tr th {\n",
              "        vertical-align: top;\n",
              "    }\n",
              "\n",
              "    .dataframe thead th {\n",
              "        text-align: right;\n",
              "    }\n",
              "</style>\n",
              "<table border=\"1\" class=\"dataframe\">\n",
              "  <thead>\n",
              "    <tr style=\"text-align: right;\">\n",
              "      <th></th>\n",
              "      <th>Date</th>\n",
              "      <th>Open</th>\n",
              "      <th>High</th>\n",
              "      <th>Low</th>\n",
              "      <th>Close</th>\n",
              "      <th>Trend</th>\n",
              "    </tr>\n",
              "  </thead>\n",
              "  <tbody>\n",
              "    <tr>\n",
              "      <th>1</th>\n",
              "      <td>2004-09-30</td>\n",
              "      <td>23.866143</td>\n",
              "      <td>24.023660</td>\n",
              "      <td>23.861370</td>\n",
              "      <td>23.985474</td>\n",
              "      <td>increase</td>\n",
              "    </tr>\n",
              "    <tr>\n",
              "      <th>2</th>\n",
              "      <td>2004-10-01</td>\n",
              "      <td>24.033207</td>\n",
              "      <td>24.462799</td>\n",
              "      <td>23.985476</td>\n",
              "      <td>24.429386</td>\n",
              "      <td>increase</td>\n",
              "    </tr>\n",
              "    <tr>\n",
              "      <th>3</th>\n",
              "      <td>2004-10-04</td>\n",
              "      <td>24.529629</td>\n",
              "      <td>24.606000</td>\n",
              "      <td>24.529629</td>\n",
              "      <td>24.534403</td>\n",
              "      <td>increase</td>\n",
              "    </tr>\n",
              "    <tr>\n",
              "      <th>4</th>\n",
              "      <td>2004-10-05</td>\n",
              "      <td>24.534403</td>\n",
              "      <td>24.582135</td>\n",
              "      <td>24.510535</td>\n",
              "      <td>24.529629</td>\n",
              "      <td>decrease</td>\n",
              "    </tr>\n",
              "    <tr>\n",
              "      <th>5</th>\n",
              "      <td>2004-10-06</td>\n",
              "      <td>24.582134</td>\n",
              "      <td>24.644186</td>\n",
              "      <td>24.577361</td>\n",
              "      <td>24.644186</td>\n",
              "      <td>increase</td>\n",
              "    </tr>\n",
              "    <tr>\n",
              "      <th>...</th>\n",
              "      <td>...</td>\n",
              "      <td>...</td>\n",
              "      <td>...</td>\n",
              "      <td>...</td>\n",
              "      <td>...</td>\n",
              "      <td>...</td>\n",
              "    </tr>\n",
              "    <tr>\n",
              "      <th>4208</th>\n",
              "      <td>2021-06-17</td>\n",
              "      <td>103.410004</td>\n",
              "      <td>103.699997</td>\n",
              "      <td>102.860001</td>\n",
              "      <td>103.550003</td>\n",
              "      <td>decrease</td>\n",
              "    </tr>\n",
              "    <tr>\n",
              "      <th>4209</th>\n",
              "      <td>2021-06-18</td>\n",
              "      <td>103.019997</td>\n",
              "      <td>103.470001</td>\n",
              "      <td>101.790001</td>\n",
              "      <td>101.790001</td>\n",
              "      <td>decrease</td>\n",
              "    </tr>\n",
              "    <tr>\n",
              "      <th>4210</th>\n",
              "      <td>2021-06-21</td>\n",
              "      <td>102.309998</td>\n",
              "      <td>104.209999</td>\n",
              "      <td>101.800003</td>\n",
              "      <td>103.889999</td>\n",
              "      <td>increase</td>\n",
              "    </tr>\n",
              "    <tr>\n",
              "      <th>4211</th>\n",
              "      <td>2021-06-22</td>\n",
              "      <td>103.889999</td>\n",
              "      <td>104.010002</td>\n",
              "      <td>103.279999</td>\n",
              "      <td>103.349998</td>\n",
              "      <td>decrease</td>\n",
              "    </tr>\n",
              "    <tr>\n",
              "      <th>4212</th>\n",
              "      <td>2021-06-23</td>\n",
              "      <td>103.349998</td>\n",
              "      <td>103.750000</td>\n",
              "      <td>103.080002</td>\n",
              "      <td>103.169998</td>\n",
              "      <td>decrease</td>\n",
              "    </tr>\n",
              "  </tbody>\n",
              "</table>\n",
              "<p>4212 rows × 6 columns</p>\n",
              "</div>"
            ],
            "text/plain": [
              "            Date        Open        High         Low       Close     Trend\n",
              "1     2004-09-30   23.866143   24.023660   23.861370   23.985474  increase\n",
              "2     2004-10-01   24.033207   24.462799   23.985476   24.429386  increase\n",
              "3     2004-10-04   24.529629   24.606000   24.529629   24.534403  increase\n",
              "4     2004-10-05   24.534403   24.582135   24.510535   24.529629  decrease\n",
              "5     2004-10-06   24.582134   24.644186   24.577361   24.644186  increase\n",
              "...          ...         ...         ...         ...         ...       ...\n",
              "4208  2021-06-17  103.410004  103.699997  102.860001  103.550003  decrease\n",
              "4209  2021-06-18  103.019997  103.470001  101.790001  101.790001  decrease\n",
              "4210  2021-06-21  102.309998  104.209999  101.800003  103.889999  increase\n",
              "4211  2021-06-22  103.889999  104.010002  103.279999  103.349998  decrease\n",
              "4212  2021-06-23  103.349998  103.750000  103.080002  103.169998  decrease\n",
              "\n",
              "[4212 rows x 6 columns]"
            ]
          },
          "metadata": {
            "tags": []
          },
          "execution_count": 14
        }
      ]
    },
    {
      "cell_type": "code",
      "metadata": {
        "colab": {
          "base_uri": "https://localhost:8080/",
          "height": 467
        },
        "id": "l8AoVtcAJOBM",
        "outputId": "dc81c30d-d109-4745-fe84-bc76da5ca996"
      },
      "source": [
        "# Preprocess the dataframe\n",
        "ut.preprocess_df(vnq)"
      ],
      "execution_count": 15,
      "outputs": [
        {
          "output_type": "stream",
          "text": [
            "This dataframe's index is in datatime64? True\n"
          ],
          "name": "stdout"
        },
        {
          "output_type": "display_data",
          "data": {
            "text/html": [
              "<div>\n",
              "<style scoped>\n",
              "    .dataframe tbody tr th:only-of-type {\n",
              "        vertical-align: middle;\n",
              "    }\n",
              "\n",
              "    .dataframe tbody tr th {\n",
              "        vertical-align: top;\n",
              "    }\n",
              "\n",
              "    .dataframe thead th {\n",
              "        text-align: right;\n",
              "    }\n",
              "</style>\n",
              "<table border=\"1\" class=\"dataframe\">\n",
              "  <thead>\n",
              "    <tr style=\"text-align: right;\">\n",
              "      <th></th>\n",
              "      <th>Open</th>\n",
              "      <th>High</th>\n",
              "      <th>Low</th>\n",
              "      <th>Close</th>\n",
              "      <th>Trend</th>\n",
              "    </tr>\n",
              "    <tr>\n",
              "      <th>Date</th>\n",
              "      <th></th>\n",
              "      <th></th>\n",
              "      <th></th>\n",
              "      <th></th>\n",
              "      <th></th>\n",
              "    </tr>\n",
              "  </thead>\n",
              "  <tbody>\n",
              "    <tr>\n",
              "      <th>2004-09-30</th>\n",
              "      <td>23.866143</td>\n",
              "      <td>24.023660</td>\n",
              "      <td>23.861370</td>\n",
              "      <td>23.985474</td>\n",
              "      <td>increase</td>\n",
              "    </tr>\n",
              "    <tr>\n",
              "      <th>2004-10-01</th>\n",
              "      <td>24.033207</td>\n",
              "      <td>24.462799</td>\n",
              "      <td>23.985476</td>\n",
              "      <td>24.429386</td>\n",
              "      <td>increase</td>\n",
              "    </tr>\n",
              "    <tr>\n",
              "      <th>2004-10-04</th>\n",
              "      <td>24.529629</td>\n",
              "      <td>24.606000</td>\n",
              "      <td>24.529629</td>\n",
              "      <td>24.534403</td>\n",
              "      <td>increase</td>\n",
              "    </tr>\n",
              "    <tr>\n",
              "      <th>2004-10-05</th>\n",
              "      <td>24.534403</td>\n",
              "      <td>24.582135</td>\n",
              "      <td>24.510535</td>\n",
              "      <td>24.529629</td>\n",
              "      <td>decrease</td>\n",
              "    </tr>\n",
              "    <tr>\n",
              "      <th>2004-10-06</th>\n",
              "      <td>24.582134</td>\n",
              "      <td>24.644186</td>\n",
              "      <td>24.577361</td>\n",
              "      <td>24.644186</td>\n",
              "      <td>increase</td>\n",
              "    </tr>\n",
              "    <tr>\n",
              "      <th>...</th>\n",
              "      <td>...</td>\n",
              "      <td>...</td>\n",
              "      <td>...</td>\n",
              "      <td>...</td>\n",
              "      <td>...</td>\n",
              "    </tr>\n",
              "    <tr>\n",
              "      <th>2021-06-17</th>\n",
              "      <td>103.410004</td>\n",
              "      <td>103.699997</td>\n",
              "      <td>102.860001</td>\n",
              "      <td>103.550003</td>\n",
              "      <td>decrease</td>\n",
              "    </tr>\n",
              "    <tr>\n",
              "      <th>2021-06-18</th>\n",
              "      <td>103.019997</td>\n",
              "      <td>103.470001</td>\n",
              "      <td>101.790001</td>\n",
              "      <td>101.790001</td>\n",
              "      <td>decrease</td>\n",
              "    </tr>\n",
              "    <tr>\n",
              "      <th>2021-06-21</th>\n",
              "      <td>102.309998</td>\n",
              "      <td>104.209999</td>\n",
              "      <td>101.800003</td>\n",
              "      <td>103.889999</td>\n",
              "      <td>increase</td>\n",
              "    </tr>\n",
              "    <tr>\n",
              "      <th>2021-06-22</th>\n",
              "      <td>103.889999</td>\n",
              "      <td>104.010002</td>\n",
              "      <td>103.279999</td>\n",
              "      <td>103.349998</td>\n",
              "      <td>decrease</td>\n",
              "    </tr>\n",
              "    <tr>\n",
              "      <th>2021-06-23</th>\n",
              "      <td>103.349998</td>\n",
              "      <td>103.750000</td>\n",
              "      <td>103.080002</td>\n",
              "      <td>103.169998</td>\n",
              "      <td>decrease</td>\n",
              "    </tr>\n",
              "  </tbody>\n",
              "</table>\n",
              "<p>4212 rows × 5 columns</p>\n",
              "</div>"
            ],
            "text/plain": [
              "                  Open        High         Low       Close     Trend\n",
              "Date                                                                \n",
              "2004-09-30   23.866143   24.023660   23.861370   23.985474  increase\n",
              "2004-10-01   24.033207   24.462799   23.985476   24.429386  increase\n",
              "2004-10-04   24.529629   24.606000   24.529629   24.534403  increase\n",
              "2004-10-05   24.534403   24.582135   24.510535   24.529629  decrease\n",
              "2004-10-06   24.582134   24.644186   24.577361   24.644186  increase\n",
              "...                ...         ...         ...         ...       ...\n",
              "2021-06-17  103.410004  103.699997  102.860001  103.550003  decrease\n",
              "2021-06-18  103.019997  103.470001  101.790001  101.790001  decrease\n",
              "2021-06-21  102.309998  104.209999  101.800003  103.889999  increase\n",
              "2021-06-22  103.889999  104.010002  103.279999  103.349998  decrease\n",
              "2021-06-23  103.349998  103.750000  103.080002  103.169998  decrease\n",
              "\n",
              "[4212 rows x 5 columns]"
            ]
          },
          "metadata": {
            "tags": []
          }
        }
      ]
    },
    {
      "cell_type": "code",
      "metadata": {
        "colab": {
          "base_uri": "https://localhost:8080/"
        },
        "id": "ceypXmCts-id",
        "outputId": "15682a47-b5b5-4873-f1af-941e63152552"
      },
      "source": [
        "vnq['Trend'].unique()"
      ],
      "execution_count": 16,
      "outputs": [
        {
          "output_type": "execute_result",
          "data": {
            "text/plain": [
              "array(['increase', 'decrease', 'unchange'], dtype=object)"
            ]
          },
          "metadata": {
            "tags": []
          },
          "execution_count": 16
        }
      ]
    },
    {
      "cell_type": "code",
      "metadata": {
        "colab": {
          "base_uri": "https://localhost:8080/"
        },
        "id": "7YZQXQNzq3af",
        "outputId": "afbc6247-dfc6-4cd5-8b0e-5c84a4cd1478"
      },
      "source": [
        "vnq['Trend'].value_counts()"
      ],
      "execution_count": 17,
      "outputs": [
        {
          "output_type": "execute_result",
          "data": {
            "text/plain": [
              "increase    2264\n",
              "decrease    1924\n",
              "unchange      24\n",
              "Name: Trend, dtype: int64"
            ]
          },
          "metadata": {
            "tags": []
          },
          "execution_count": 17
        }
      ]
    },
    {
      "cell_type": "code",
      "metadata": {
        "colab": {
          "base_uri": "https://localhost:8080/",
          "height": 824
        },
        "id": "z60MppUlrBSt",
        "outputId": "0c46de2a-03bb-4173-f4a0-4d2c4451bcde"
      },
      "source": [
        "vnq.loc[vnq['Trend'] == \"unchange\"]"
      ],
      "execution_count": 18,
      "outputs": [
        {
          "output_type": "execute_result",
          "data": {
            "text/html": [
              "<div>\n",
              "<style scoped>\n",
              "    .dataframe tbody tr th:only-of-type {\n",
              "        vertical-align: middle;\n",
              "    }\n",
              "\n",
              "    .dataframe tbody tr th {\n",
              "        vertical-align: top;\n",
              "    }\n",
              "\n",
              "    .dataframe thead th {\n",
              "        text-align: right;\n",
              "    }\n",
              "</style>\n",
              "<table border=\"1\" class=\"dataframe\">\n",
              "  <thead>\n",
              "    <tr style=\"text-align: right;\">\n",
              "      <th></th>\n",
              "      <th>Open</th>\n",
              "      <th>High</th>\n",
              "      <th>Low</th>\n",
              "      <th>Close</th>\n",
              "      <th>Trend</th>\n",
              "    </tr>\n",
              "    <tr>\n",
              "      <th>Date</th>\n",
              "      <th></th>\n",
              "      <th></th>\n",
              "      <th></th>\n",
              "      <th></th>\n",
              "      <th></th>\n",
              "    </tr>\n",
              "  </thead>\n",
              "  <tbody>\n",
              "    <tr>\n",
              "      <th>2005-01-13</th>\n",
              "      <td>25.643964</td>\n",
              "      <td>26.063717</td>\n",
              "      <td>25.609798</td>\n",
              "      <td>25.648844</td>\n",
              "      <td>unchange</td>\n",
              "    </tr>\n",
              "    <tr>\n",
              "      <th>2005-05-10</th>\n",
              "      <td>27.540726</td>\n",
              "      <td>27.585178</td>\n",
              "      <td>27.407370</td>\n",
              "      <td>27.585178</td>\n",
              "      <td>unchange</td>\n",
              "    </tr>\n",
              "    <tr>\n",
              "      <th>2005-07-25</th>\n",
              "      <td>30.636503</td>\n",
              "      <td>30.751361</td>\n",
              "      <td>30.536630</td>\n",
              "      <td>30.586567</td>\n",
              "      <td>unchange</td>\n",
              "    </tr>\n",
              "    <tr>\n",
              "      <th>2006-04-12</th>\n",
              "      <td>33.705856</td>\n",
              "      <td>33.857168</td>\n",
              "      <td>33.523240</td>\n",
              "      <td>33.705856</td>\n",
              "      <td>unchange</td>\n",
              "    </tr>\n",
              "    <tr>\n",
              "      <th>2006-07-17</th>\n",
              "      <td>35.035622</td>\n",
              "      <td>35.051442</td>\n",
              "      <td>34.856329</td>\n",
              "      <td>34.951248</td>\n",
              "      <td>unchange</td>\n",
              "    </tr>\n",
              "    <tr>\n",
              "      <th>2007-02-05</th>\n",
              "      <td>45.812184</td>\n",
              "      <td>45.817613</td>\n",
              "      <td>45.676484</td>\n",
              "      <td>45.725334</td>\n",
              "      <td>unchange</td>\n",
              "    </tr>\n",
              "    <tr>\n",
              "      <th>2009-06-09</th>\n",
              "      <td>21.063772</td>\n",
              "      <td>21.082226</td>\n",
              "      <td>20.682358</td>\n",
              "      <td>20.799244</td>\n",
              "      <td>unchange</td>\n",
              "    </tr>\n",
              "    <tr>\n",
              "      <th>2010-08-13</th>\n",
              "      <td>32.361681</td>\n",
              "      <td>32.621877</td>\n",
              "      <td>32.277117</td>\n",
              "      <td>32.381195</td>\n",
              "      <td>unchange</td>\n",
              "    </tr>\n",
              "    <tr>\n",
              "      <th>2010-11-03</th>\n",
              "      <td>36.499140</td>\n",
              "      <td>36.499140</td>\n",
              "      <td>36.046263</td>\n",
              "      <td>36.361309</td>\n",
              "      <td>unchange</td>\n",
              "    </tr>\n",
              "    <tr>\n",
              "      <th>2011-02-02</th>\n",
              "      <td>38.006990</td>\n",
              "      <td>38.272403</td>\n",
              "      <td>37.967180</td>\n",
              "      <td>38.026897</td>\n",
              "      <td>unchange</td>\n",
              "    </tr>\n",
              "    <tr>\n",
              "      <th>2012-04-19</th>\n",
              "      <td>43.916614</td>\n",
              "      <td>44.131651</td>\n",
              "      <td>43.653016</td>\n",
              "      <td>43.861118</td>\n",
              "      <td>unchange</td>\n",
              "    </tr>\n",
              "    <tr>\n",
              "      <th>2014-01-09</th>\n",
              "      <td>48.723649</td>\n",
              "      <td>48.738531</td>\n",
              "      <td>48.173100</td>\n",
              "      <td>48.530216</td>\n",
              "      <td>unchange</td>\n",
              "    </tr>\n",
              "    <tr>\n",
              "      <th>2014-10-09</th>\n",
              "      <td>55.954917</td>\n",
              "      <td>56.671996</td>\n",
              "      <td>55.916778</td>\n",
              "      <td>56.008316</td>\n",
              "      <td>unchange</td>\n",
              "    </tr>\n",
              "    <tr>\n",
              "      <th>2015-11-17</th>\n",
              "      <td>61.193485</td>\n",
              "      <td>61.883908</td>\n",
              "      <td>61.129997</td>\n",
              "      <td>61.360138</td>\n",
              "      <td>unchange</td>\n",
              "    </tr>\n",
              "    <tr>\n",
              "      <th>2015-12-24</th>\n",
              "      <td>63.786281</td>\n",
              "      <td>64.124247</td>\n",
              "      <td>63.552931</td>\n",
              "      <td>63.906982</td>\n",
              "      <td>unchange</td>\n",
              "    </tr>\n",
              "    <tr>\n",
              "      <th>2016-03-22</th>\n",
              "      <td>66.070660</td>\n",
              "      <td>66.404271</td>\n",
              "      <td>65.810283</td>\n",
              "      <td>66.200851</td>\n",
              "      <td>unchange</td>\n",
              "    </tr>\n",
              "    <tr>\n",
              "      <th>2016-05-25</th>\n",
              "      <td>67.771265</td>\n",
              "      <td>67.771265</td>\n",
              "      <td>66.925039</td>\n",
              "      <td>67.592255</td>\n",
              "      <td>unchange</td>\n",
              "    </tr>\n",
              "    <tr>\n",
              "      <th>2017-04-04</th>\n",
              "      <td>70.319118</td>\n",
              "      <td>70.880245</td>\n",
              "      <td>70.225596</td>\n",
              "      <td>70.421143</td>\n",
              "      <td>unchange</td>\n",
              "    </tr>\n",
              "    <tr>\n",
              "      <th>2017-06-30</th>\n",
              "      <td>71.634526</td>\n",
              "      <td>71.995015</td>\n",
              "      <td>71.231119</td>\n",
              "      <td>71.437119</td>\n",
              "      <td>unchange</td>\n",
              "    </tr>\n",
              "    <tr>\n",
              "      <th>2018-06-07</th>\n",
              "      <td>71.059248</td>\n",
              "      <td>71.237078</td>\n",
              "      <td>70.623576</td>\n",
              "      <td>71.050362</td>\n",
              "      <td>unchange</td>\n",
              "    </tr>\n",
              "    <tr>\n",
              "      <th>2019-02-08</th>\n",
              "      <td>77.164780</td>\n",
              "      <td>77.763308</td>\n",
              "      <td>77.026655</td>\n",
              "      <td>77.459442</td>\n",
              "      <td>unchange</td>\n",
              "    </tr>\n",
              "    <tr>\n",
              "      <th>2019-07-18</th>\n",
              "      <td>83.005093</td>\n",
              "      <td>83.445167</td>\n",
              "      <td>82.555655</td>\n",
              "      <td>83.220444</td>\n",
              "      <td>unchange</td>\n",
              "    </tr>\n",
              "    <tr>\n",
              "      <th>2019-08-01</th>\n",
              "      <td>83.342166</td>\n",
              "      <td>84.006955</td>\n",
              "      <td>82.724189</td>\n",
              "      <td>83.229805</td>\n",
              "      <td>unchange</td>\n",
              "    </tr>\n",
              "    <tr>\n",
              "      <th>2019-09-20</th>\n",
              "      <td>87.696085</td>\n",
              "      <td>87.958254</td>\n",
              "      <td>87.246646</td>\n",
              "      <td>87.499451</td>\n",
              "      <td>unchange</td>\n",
              "    </tr>\n",
              "  </tbody>\n",
              "</table>\n",
              "</div>"
            ],
            "text/plain": [
              "                 Open       High        Low      Close     Trend\n",
              "Date                                                            \n",
              "2005-01-13  25.643964  26.063717  25.609798  25.648844  unchange\n",
              "2005-05-10  27.540726  27.585178  27.407370  27.585178  unchange\n",
              "2005-07-25  30.636503  30.751361  30.536630  30.586567  unchange\n",
              "2006-04-12  33.705856  33.857168  33.523240  33.705856  unchange\n",
              "2006-07-17  35.035622  35.051442  34.856329  34.951248  unchange\n",
              "2007-02-05  45.812184  45.817613  45.676484  45.725334  unchange\n",
              "2009-06-09  21.063772  21.082226  20.682358  20.799244  unchange\n",
              "2010-08-13  32.361681  32.621877  32.277117  32.381195  unchange\n",
              "2010-11-03  36.499140  36.499140  36.046263  36.361309  unchange\n",
              "2011-02-02  38.006990  38.272403  37.967180  38.026897  unchange\n",
              "2012-04-19  43.916614  44.131651  43.653016  43.861118  unchange\n",
              "2014-01-09  48.723649  48.738531  48.173100  48.530216  unchange\n",
              "2014-10-09  55.954917  56.671996  55.916778  56.008316  unchange\n",
              "2015-11-17  61.193485  61.883908  61.129997  61.360138  unchange\n",
              "2015-12-24  63.786281  64.124247  63.552931  63.906982  unchange\n",
              "2016-03-22  66.070660  66.404271  65.810283  66.200851  unchange\n",
              "2016-05-25  67.771265  67.771265  66.925039  67.592255  unchange\n",
              "2017-04-04  70.319118  70.880245  70.225596  70.421143  unchange\n",
              "2017-06-30  71.634526  71.995015  71.231119  71.437119  unchange\n",
              "2018-06-07  71.059248  71.237078  70.623576  71.050362  unchange\n",
              "2019-02-08  77.164780  77.763308  77.026655  77.459442  unchange\n",
              "2019-07-18  83.005093  83.445167  82.555655  83.220444  unchange\n",
              "2019-08-01  83.342166  84.006955  82.724189  83.229805  unchange\n",
              "2019-09-20  87.696085  87.958254  87.246646  87.499451  unchange"
            ]
          },
          "metadata": {
            "tags": []
          },
          "execution_count": 18
        }
      ]
    },
    {
      "cell_type": "code",
      "metadata": {
        "id": "xP4OQG6_tDZC"
      },
      "source": [
        "# Label encoding\n",
        "label_encoder = LabelEncoder()\n",
        "vnq['Trend']= label_encoder.fit_transform(vnq['Trend'])"
      ],
      "execution_count": 19,
      "outputs": []
    },
    {
      "cell_type": "code",
      "metadata": {
        "colab": {
          "base_uri": "https://localhost:8080/"
        },
        "id": "jvUWQjCbtSUF",
        "outputId": "eca9587b-eb2e-41d8-dc43-fd44c7084c31"
      },
      "source": [
        "vnq['Trend'].value_counts()"
      ],
      "execution_count": 20,
      "outputs": [
        {
          "output_type": "execute_result",
          "data": {
            "text/plain": [
              "1    2264\n",
              "0    1924\n",
              "2      24\n",
              "Name: Trend, dtype: int64"
            ]
          },
          "metadata": {
            "tags": []
          },
          "execution_count": 20
        }
      ]
    },
    {
      "cell_type": "code",
      "metadata": {
        "id": "iIY8GHfTbI8w"
      },
      "source": [
        "# Split the data into train, validation, and test set\n",
        "# Test size = 1 month (21 days)\n",
        "# Val size = 1 year (252 days)\n",
        "# Train size = rest of the time\n",
        "train = vnq.iloc[:-252]\n",
        "test = vnq.iloc[-252:]"
      ],
      "execution_count": 21,
      "outputs": []
    },
    {
      "cell_type": "code",
      "metadata": {
        "id": "n6W2V7FacCHr"
      },
      "source": [
        "def xy_split(dataset):\n",
        "    '''\n",
        "    Split the dataset into X-part and y-part.\n",
        "\n",
        "    -*-*-*-*-*-*-*-*-*-*-*-*-*-*-*-*-*-*-*-*-*-*-*-*-*-*-*-*-*-*-*-*-*-*-*-*-*-*\n",
        "    \n",
        "    Input:\n",
        "    - dataset: dataframe\n",
        "\n",
        "    Return:\n",
        "    - X, y\n",
        "    \n",
        "    '''\n",
        "\n",
        "    X = dataset.drop(columns=['Trend'], axis=1)\n",
        "    y = dataset['Trend']\n",
        "\n",
        "    return X, y"
      ],
      "execution_count": 22,
      "outputs": []
    },
    {
      "cell_type": "code",
      "metadata": {
        "id": "I4PYNjoJb-Sj"
      },
      "source": [
        "X_train, y_train = xy_split(train)\n",
        "X_test, y_test = xy_split(test)"
      ],
      "execution_count": 23,
      "outputs": []
    },
    {
      "cell_type": "markdown",
      "metadata": {
        "id": "Kd8EX2DAle68"
      },
      "source": [
        "## Pipeline"
      ]
    },
    {
      "cell_type": "code",
      "metadata": {
        "id": "6yDCc1xzI6aV"
      },
      "source": [
        "def evaluate_classification(model, X_train, y_train, X_test, y_test):\n",
        "    '''\n",
        "    Evaluate the classfication model...\n",
        "\n",
        "    -*-*-*-*-*-*-*-*-*-*-*-*-*-*-*-*-*-*-*-*-*-*-*-*-*-*-*-*-*-*-*-*-*-*-*-*-*-*\n",
        "    \n",
        "    Inputs:\n",
        "    - model: classification model name\n",
        "    - X_train, y_train, X_test,  y_test\n",
        "\n",
        "    Outputs:\n",
        "    - Train accuracy, Test accuracy, confusion matrix, classification report \n",
        "\n",
        "    '''\n",
        "\n",
        "    # Prediction\n",
        "    y_train_pred = model.predict(X_train)\n",
        "    y_test_pred = model.predict(X_test)\n",
        "    \n",
        "    # Train\n",
        "    print(\"Train\")\n",
        "    print(\"-*-*-*-*-*-*-*-*\")\n",
        "    print(f\"Accuracy: {accuracy_score(y_train, y_train_pred):.4f}\", \"\\n\")\n",
        "    \n",
        "    # Test\n",
        "    print(\"Test\")\n",
        "    print(\"-*-*-*-*-*-*-*-*\")\n",
        "    print(f\"Accuracy: {accuracy_score(y_test, y_test_pred):.4f}\")\n",
        "\n",
        "    # Confusion Matrix\n",
        "    plot_confusion_matrix(model, X_test, y_test, cmap=plt.cm.Blues, values_format = '.0f')\n",
        "\n",
        "    # Classification Report\n",
        "    print(classification_report(y_test, y_test_pred))"
      ],
      "execution_count": 24,
      "outputs": []
    },
    {
      "cell_type": "code",
      "metadata": {
        "colab": {
          "base_uri": "https://localhost:8080/"
        },
        "id": "aFhFBICuIMWI",
        "outputId": "3924f436-a461-4c28-ddc6-52d4a400d4da"
      },
      "source": [
        "vnq.columns[:-1]"
      ],
      "execution_count": 25,
      "outputs": [
        {
          "output_type": "execute_result",
          "data": {
            "text/plain": [
              "Index(['Open', 'High', 'Low', 'Close'], dtype='object')"
            ]
          },
          "metadata": {
            "tags": []
          },
          "execution_count": 25
        }
      ]
    },
    {
      "cell_type": "code",
      "metadata": {
        "id": "kja3-sA8IJfS"
      },
      "source": [
        "num_cols = vnq.columns[:-1].tolist()"
      ],
      "execution_count": 26,
      "outputs": []
    },
    {
      "cell_type": "code",
      "metadata": {
        "id": "t20UsRpOleY_"
      },
      "source": [
        "# Set up preprocessing steps for different types of columns\n",
        "num_transformer = Pipeline(steps=[('scaler', MinMaxScaler())])  # Scaling\n",
        "\n",
        "# Put preprocessing steps together into a Column Transformer\n",
        "preprocessor = ColumnTransformer(transformers=[('num', num_transformer, num_cols)])"
      ],
      "execution_count": 27,
      "outputs": []
    },
    {
      "cell_type": "markdown",
      "metadata": {
        "id": "aFFWq8u0Jof3"
      },
      "source": [
        "## Modeling"
      ]
    },
    {
      "cell_type": "markdown",
      "metadata": {
        "id": "NbwI_wyWJqzB"
      },
      "source": [
        "### Baseline Model"
      ]
    },
    {
      "cell_type": "code",
      "metadata": {
        "id": "xU4gelPRl2U6",
        "colab": {
          "base_uri": "https://localhost:8080/",
          "height": 551
        },
        "outputId": "13c024bf-6602-4a2a-c0cb-e54e34923197"
      },
      "source": [
        "# Logistic Regression\n",
        "lg_clf = Pipeline(steps=[\n",
        "    ('preprocess', preprocessor),\n",
        "    ('classifier', LogisticRegression(random_state=24))])\n",
        "\n",
        "lg_clf.fit(X_train, y_train)\n",
        "\n",
        "lg_result = evaluate_classification(lg_clf, X_train, y_train, X_test, y_test)\n",
        "lg_result"
      ],
      "execution_count": 28,
      "outputs": [
        {
          "output_type": "stream",
          "text": [
            "Train\n",
            "-*-*-*-*-*-*-*-*\n",
            "Accuracy: 0.5672 \n",
            "\n",
            "Test\n",
            "-*-*-*-*-*-*-*-*\n",
            "Accuracy: 0.5754\n",
            "              precision    recall  f1-score   support\n",
            "\n",
            "           0       0.67      0.02      0.04       108\n",
            "           1       0.57      0.99      0.73       144\n",
            "\n",
            "    accuracy                           0.58       252\n",
            "   macro avg       0.62      0.51      0.38       252\n",
            "weighted avg       0.61      0.58      0.43       252\n",
            "\n"
          ],
          "name": "stdout"
        },
        {
          "output_type": "display_data",
          "data": {
            "image/png": "[encoded data removed]",
            "text/plain": [
              "<Figure size 432x288 with 2 Axes>"
            ]
          },
          "metadata": {
            "tags": [],
            "needs_background": "light"
          }
        }
      ]
    },
    {
      "cell_type": "markdown",
      "metadata": {
        "id": "PQxM9sRgJ1hW"
      },
      "source": [
        "### KNN"
      ]
    },
    {
      "cell_type": "code",
      "metadata": {
        "id": "NSLT89qWl2SR",
        "colab": {
          "base_uri": "https://localhost:8080/",
          "height": 551
        },
        "outputId": "64f93f56-0d91-463a-cf85-149bc0fea6c5"
      },
      "source": [
        "knn_clf = Pipeline(steps=[\n",
        "    ('preprocess', preprocessor),\n",
        "    ('classifier', KNeighborsClassifier())])\n",
        "\n",
        "knn_clf.fit(X_train, y_train)\n",
        "\n",
        "knn_result = evaluate_classification(knn_clf, X_train, y_train, X_test, y_test)\n",
        "knn_result"
      ],
      "execution_count": 29,
      "outputs": [
        {
          "output_type": "stream",
          "text": [
            "Train\n",
            "-*-*-*-*-*-*-*-*\n",
            "Accuracy: 0.8854 \n",
            "\n",
            "Test\n",
            "-*-*-*-*-*-*-*-*\n",
            "Accuracy: 0.7421\n",
            "              precision    recall  f1-score   support\n",
            "\n",
            "           0       0.77      0.56      0.65       108\n",
            "           1       0.73      0.88      0.79       144\n",
            "\n",
            "    accuracy                           0.74       252\n",
            "   macro avg       0.75      0.72      0.72       252\n",
            "weighted avg       0.75      0.74      0.73       252\n",
            "\n"
          ],
          "name": "stdout"
        },
        {
          "output_type": "display_data",
          "data": {
            "image/png": "[encoded data removed]",
            "text/plain": [
              "<Figure size 432x288 with 2 Axes>"
            ]
          },
          "metadata": {
            "tags": [],
            "needs_background": "light"
          }
        }
      ]
    },
    {
      "cell_type": "markdown",
      "metadata": {
        "id": "hQdevE4KKsy9"
      },
      "source": [
        "### Random Forest"
      ]
    },
    {
      "cell_type": "code",
      "metadata": {
        "id": "soha-XSvpVBq",
        "colab": {
          "base_uri": "https://localhost:8080/",
          "height": 551
        },
        "outputId": "3d3a3e1a-3578-41b3-fb47-1918487f4998"
      },
      "source": [
        "rf_clf = Pipeline(steps=[\n",
        "    ('preprocess', preprocessor),\n",
        "    ('classifier', RandomForestClassifier(criterion='entropy', random_state=24))])\n",
        "\n",
        "rf_clf.fit(X_train, y_train)\n",
        "\n",
        "rf_result = evaluate_classification(rf_clf, X_train, y_train, X_test, y_test)\n",
        "rf_result"
      ],
      "execution_count": 30,
      "outputs": [
        {
          "output_type": "stream",
          "text": [
            "Train\n",
            "-*-*-*-*-*-*-*-*\n",
            "Accuracy: 1.0000 \n",
            "\n",
            "Test\n",
            "-*-*-*-*-*-*-*-*\n",
            "Accuracy: 0.7024\n",
            "              precision    recall  f1-score   support\n",
            "\n",
            "           0       0.62      0.79      0.69       108\n",
            "           1       0.80      0.64      0.71       144\n",
            "\n",
            "    accuracy                           0.70       252\n",
            "   macro avg       0.71      0.71      0.70       252\n",
            "weighted avg       0.72      0.70      0.70       252\n",
            "\n"
          ],
          "name": "stdout"
        },
        {
          "output_type": "display_data",
          "data": {
            "image/png": "[encoded data removed]",
            "text/plain": [
              "<Figure size 432x288 with 2 Axes>"
            ]
          },
          "metadata": {
            "tags": [],
            "needs_background": "light"
          }
        }
      ]
    },
    {
      "cell_type": "markdown",
      "metadata": {
        "id": "9myb4z2TL1CH"
      },
      "source": [
        "### XGBoost"
      ]
    },
    {
      "cell_type": "code",
      "metadata": {
        "colab": {
          "base_uri": "https://localhost:8080/",
          "height": 551
        },
        "id": "qMz-SlyeK6P7",
        "outputId": "949cba50-3119-4c35-cea1-35096b476b70"
      },
      "source": [
        "xgb_clf = Pipeline(steps=[\n",
        "    ('preprocess', preprocessor),\n",
        "    ('classifier', XGBClassifier(random_state=24))])\n",
        "\n",
        "xgb_clf.fit(X_train, y_train)\n",
        "\n",
        "xgb_result = evaluate_classification(xgb_clf, X_train, y_train, X_test, y_test)\n",
        "xgb_result"
      ],
      "execution_count": 31,
      "outputs": [
        {
          "output_type": "stream",
          "text": [
            "Train\n",
            "-*-*-*-*-*-*-*-*\n",
            "Accuracy: 0.7621 \n",
            "\n",
            "Test\n",
            "-*-*-*-*-*-*-*-*\n",
            "Accuracy: 0.5714\n",
            "              precision    recall  f1-score   support\n",
            "\n",
            "           0       0.50      0.09      0.16       108\n",
            "           1       0.58      0.93      0.71       144\n",
            "\n",
            "    accuracy                           0.57       252\n",
            "   macro avg       0.54      0.51      0.43       252\n",
            "weighted avg       0.54      0.57      0.47       252\n",
            "\n"
          ],
          "name": "stdout"
        },
        {
          "output_type": "display_data",
          "data": {
            "image/png": "[encoded data removed]",
            "text/plain": [
              "<Figure size 432x288 with 2 Axes>"
            ]
          },
          "metadata": {
            "tags": [],
            "needs_background": "light"
          }
        }
      ]
    },
    {
      "cell_type": "markdown",
      "metadata": {
        "id": "_2rjFNYZL3gf"
      },
      "source": [
        "### AdaBoost"
      ]
    },
    {
      "cell_type": "code",
      "metadata": {
        "colab": {
          "base_uri": "https://localhost:8080/",
          "height": 568
        },
        "id": "9D7lrHQ2LSTU",
        "outputId": "932e239f-155f-4152-bd6d-b76ba68901c5"
      },
      "source": [
        "ada_clf = Pipeline(steps=[\n",
        "    ('preprocess', preprocessor),\n",
        "    ('classifier', AdaBoostClassifier(DecisionTreeClassifier(criterion='entropy', random_state=24)))])\n",
        "\n",
        "ada_clf.fit(X_train, y_train)\n",
        "\n",
        "ada_result = evaluate_classification(ada_clf, X_train, y_train, X_test, y_test)\n",
        "ada_result"
      ],
      "execution_count": 32,
      "outputs": [
        {
          "output_type": "stream",
          "text": [
            "Train\n",
            "-*-*-*-*-*-*-*-*\n",
            "Accuracy: 1.0000 \n",
            "\n",
            "Test\n",
            "-*-*-*-*-*-*-*-*\n",
            "Accuracy: 0.6587\n",
            "              precision    recall  f1-score   support\n",
            "\n",
            "           0       0.61      0.77      0.68       108\n",
            "           1       0.78      0.58      0.66       144\n",
            "           2       0.00      0.00      0.00         0\n",
            "\n",
            "    accuracy                           0.66       252\n",
            "   macro avg       0.46      0.45      0.45       252\n",
            "weighted avg       0.71      0.66      0.67       252\n",
            "\n"
          ],
          "name": "stdout"
        },
        {
          "output_type": "display_data",
          "data": {
            "image/png": "[encoded data removed]",
            "text/plain": [
              "<Figure size 432x288 with 2 Axes>"
            ]
          },
          "metadata": {
            "tags": [],
            "needs_background": "light"
          }
        }
      ]
    },
    {
      "cell_type": "markdown",
      "metadata": {
        "id": "ab4G04VLL_y9"
      },
      "source": [
        "### Gradient Boosting"
      ]
    },
    {
      "cell_type": "code",
      "metadata": {
        "colab": {
          "base_uri": "https://localhost:8080/",
          "height": 568
        },
        "id": "ogqiymnzMD4j",
        "outputId": "19044395-09f1-4a64-c793-c861d2d04bac"
      },
      "source": [
        "gb_clf = Pipeline(steps=[\n",
        "    ('preprocess', preprocessor),\n",
        "    ('classifier', GradientBoostingClassifier(random_state=24))])\n",
        "\n",
        "gb_clf.fit(X_train, y_train)\n",
        "\n",
        "gb_result = evaluate_classification(gb_clf, X_train, y_train, X_test, y_test)\n",
        "gb_result"
      ],
      "execution_count": 33,
      "outputs": [
        {
          "output_type": "stream",
          "text": [
            "Train\n",
            "-*-*-*-*-*-*-*-*\n",
            "Accuracy: 0.7917 \n",
            "\n",
            "Test\n",
            "-*-*-*-*-*-*-*-*\n",
            "Accuracy: 0.5635\n",
            "              precision    recall  f1-score   support\n",
            "\n",
            "           0       0.50      0.32      0.39       108\n",
            "           1       0.60      0.74      0.66       144\n",
            "           2       0.00      0.00      0.00         0\n",
            "\n",
            "    accuracy                           0.56       252\n",
            "   macro avg       0.37      0.36      0.35       252\n",
            "weighted avg       0.56      0.56      0.55       252\n",
            "\n"
          ],
          "name": "stdout"
        },
        {
          "output_type": "display_data",
          "data": {
            "image/png": "[encoded data removed]",
            "text/plain": [
              "<Figure size 432x288 with 2 Axes>"
            ]
          },
          "metadata": {
            "tags": [],
            "needs_background": "light"
          }
        }
      ]
    },
    {
      "cell_type": "markdown",
      "metadata": {
        "id": "2D8BngORMYHy"
      },
      "source": [
        "### Bagging"
      ]
    },
    {
      "cell_type": "code",
      "metadata": {
        "colab": {
          "base_uri": "https://localhost:8080/",
          "height": 568
        },
        "id": "l736Hb1IMSgZ",
        "outputId": "5c38c053-5d26-4fa5-f530-e6da14d692cc"
      },
      "source": [
        "bag_clf = Pipeline(steps=[\n",
        "    ('preprocess', preprocessor),\n",
        "    ('classifier', BaggingClassifier(DecisionTreeClassifier(criterion='entropy', random_state=24)))])\n",
        "\n",
        "bag_clf.fit(X_train, y_train)\n",
        "\n",
        "bag_result = evaluate_classification(bag_clf, X_train, y_train, X_test, y_test)\n",
        "bag_result"
      ],
      "execution_count": 34,
      "outputs": [
        {
          "output_type": "stream",
          "text": [
            "Train\n",
            "-*-*-*-*-*-*-*-*\n",
            "Accuracy: 0.9838 \n",
            "\n",
            "Test\n",
            "-*-*-*-*-*-*-*-*\n",
            "Accuracy: 0.7103\n",
            "              precision    recall  f1-score   support\n",
            "\n",
            "           0       0.70      0.60      0.65       108\n",
            "           1       0.73      0.79      0.76       144\n",
            "           2       0.00      0.00      0.00         0\n",
            "\n",
            "    accuracy                           0.71       252\n",
            "   macro avg       0.48      0.46      0.47       252\n",
            "weighted avg       0.71      0.71      0.71       252\n",
            "\n"
          ],
          "name": "stdout"
        },
        {
          "output_type": "display_data",
          "data": {
            "image/png": "[encoded data removed]",
            "text/plain": [
              "<Figure size 432x288 with 2 Axes>"
            ]
          },
          "metadata": {
            "tags": [],
            "needs_background": "light"
          }
        }
      ]
    },
    {
      "cell_type": "code",
      "metadata": {
        "id": "7ojOkaxMaX49"
      },
      "source": [
        ""
      ],
      "execution_count": null,
      "outputs": []
    }
  ]
}