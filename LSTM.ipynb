{
  "nbformat": 4,
  "nbformat_minor": 0,
  "metadata": {
    "colab": {
      "name": "LSTM",
      "provenance": [],
      "collapsed_sections": []
    },
    "kernelspec": {
      "name": "python3",
      "display_name": "Python 3"
    },
    "language_info": {
      "name": "python"
    }
  },
  "cells": [
    {
      "cell_type": "markdown",
      "metadata": {
        "id": "E8Rnbkn7g3l9"
      },
      "source": [
        "# LSTM"
      ]
    },
    {
      "cell_type": "code",
      "metadata": {
        "id": "wwfDbUjDe-Mx"
      },
      "source": [
        "# Google Colab\n",
        "from google.colab import drive\n",
        "import os\n",
        "\n",
        "# General\n",
        "import pandas as pd\n",
        "import numpy as np\n",
        "import matplotlib.pyplot as plt\n",
        "%matplotlib inline\n",
        "import warnings\n",
        "warnings.filterwarnings('ignore')\n",
        "\n",
        "# Scikit-Learn\n",
        "from sklearn.model_selection import GridSearchCV\n",
        "from sklearn.preprocessing import MinMaxScaler\n",
        "\n",
        "from sklearn.metrics import confusion_matrix, mean_squared_error, mean_absolute_error, mean_absolute_error\n",
        "\n",
        "# Keras, Tensorflow\n",
        "from tensorflow.keras.models import Sequential\n",
        "from tensorflow.keras.layers import LSTM, Dense, Dropout "
      ],
      "execution_count": 106,
      "outputs": []
    },
    {
      "cell_type": "markdown",
      "metadata": {
        "id": "IxqB6kJ5g03i"
      },
      "source": [
        "## Goole Colab Setup"
      ]
    },
    {
      "cell_type": "code",
      "metadata": {
        "colab": {
          "base_uri": "https://localhost:8080/"
        },
        "id": "7L2DWsfHfLcU",
        "outputId": "57b42073-f12d-4e51-cccc-967ffb0f6091"
      },
      "source": [
        "# Mount Google Drive\n",
        "drive.mount('/gdrive', force_remount=True)"
      ],
      "execution_count": 107,
      "outputs": [
        {
          "output_type": "stream",
          "text": [
            "Mounted at /gdrive\n"
          ],
          "name": "stdout"
        }
      ]
    },
    {
      "cell_type": "code",
      "metadata": {
        "colab": {
          "base_uri": "https://localhost:8080/"
        },
        "id": "ZGNeDG67ePKF",
        "outputId": "10e3d2d8-d058-462d-ea33-0870771fa036"
      },
      "source": [
        "# Get the current working directory\n",
        "print(os.getcwd())"
      ],
      "execution_count": 108,
      "outputs": [
        {
          "output_type": "stream",
          "text": [
            "/content\n"
          ],
          "name": "stdout"
        }
      ]
    },
    {
      "cell_type": "code",
      "metadata": {
        "id": "-d50lPIlePUS"
      },
      "source": [
        "# Drive path is the path where I upload the ETFs history file\n",
        "drive_path = '/gdrive/MyDrive/Capstone_Project/REIT_ETFs.csv'\n",
        "\n",
        "# Expect to move the file into the local path\n",
        "local_path = '/content'"
      ],
      "execution_count": 109,
      "outputs": []
    },
    {
      "cell_type": "code",
      "metadata": {
        "id": "OjXoZYqYePcy"
      },
      "source": [
        "# Copy the file in drive path\n",
        "!cp '{drive_path}' .\n",
        "\n",
        "# Change the file from drive path to the local path\n",
        "os.chdir(local_path)"
      ],
      "execution_count": 110,
      "outputs": []
    },
    {
      "cell_type": "markdown",
      "metadata": {
        "id": "wX4TrSmvhBFS"
      },
      "source": [
        "## Preprocesing"
      ]
    },
    {
      "cell_type": "code",
      "metadata": {
        "colab": {
          "base_uri": "https://localhost:8080/",
          "height": 419
        },
        "id": "TDBk_8lylots",
        "outputId": "640265cf-4c25-49fc-9714-f2868808c232"
      },
      "source": [
        "data = pd.read_csv('/content/REIT_ETFs.csv')\n",
        "data"
      ],
      "execution_count": 111,
      "outputs": [
        {
          "output_type": "execute_result",
          "data": {
            "text/html": [
              "<div>\n",
              "<style scoped>\n",
              "    .dataframe tbody tr th:only-of-type {\n",
              "        vertical-align: middle;\n",
              "    }\n",
              "\n",
              "    .dataframe tbody tr th {\n",
              "        vertical-align: top;\n",
              "    }\n",
              "\n",
              "    .dataframe thead th {\n",
              "        text-align: right;\n",
              "    }\n",
              "</style>\n",
              "<table border=\"1\" class=\"dataframe\">\n",
              "  <thead>\n",
              "    <tr style=\"text-align: right;\">\n",
              "      <th></th>\n",
              "      <th>Date</th>\n",
              "      <th>Open</th>\n",
              "      <th>High</th>\n",
              "      <th>Low</th>\n",
              "      <th>Close</th>\n",
              "      <th>Volume</th>\n",
              "      <th>Dividends</th>\n",
              "      <th>Stock Splits</th>\n",
              "      <th>Ticker</th>\n",
              "    </tr>\n",
              "  </thead>\n",
              "  <tbody>\n",
              "    <tr>\n",
              "      <th>0</th>\n",
              "      <td>2004-09-29</td>\n",
              "      <td>23.794544</td>\n",
              "      <td>23.861371</td>\n",
              "      <td>23.789772</td>\n",
              "      <td>23.794544</td>\n",
              "      <td>205800</td>\n",
              "      <td>0.0</td>\n",
              "      <td>0.0</td>\n",
              "      <td>VNQ</td>\n",
              "    </tr>\n",
              "    <tr>\n",
              "      <th>1</th>\n",
              "      <td>2004-09-30</td>\n",
              "      <td>23.866143</td>\n",
              "      <td>24.023660</td>\n",
              "      <td>23.861370</td>\n",
              "      <td>23.985474</td>\n",
              "      <td>27900</td>\n",
              "      <td>0.0</td>\n",
              "      <td>0.0</td>\n",
              "      <td>VNQ</td>\n",
              "    </tr>\n",
              "    <tr>\n",
              "      <th>2</th>\n",
              "      <td>2004-10-01</td>\n",
              "      <td>24.033207</td>\n",
              "      <td>24.462799</td>\n",
              "      <td>23.985476</td>\n",
              "      <td>24.429386</td>\n",
              "      <td>129800</td>\n",
              "      <td>0.0</td>\n",
              "      <td>0.0</td>\n",
              "      <td>VNQ</td>\n",
              "    </tr>\n",
              "    <tr>\n",
              "      <th>3</th>\n",
              "      <td>2004-10-04</td>\n",
              "      <td>24.529629</td>\n",
              "      <td>24.606000</td>\n",
              "      <td>24.529629</td>\n",
              "      <td>24.534403</td>\n",
              "      <td>8100</td>\n",
              "      <td>0.0</td>\n",
              "      <td>0.0</td>\n",
              "      <td>VNQ</td>\n",
              "    </tr>\n",
              "    <tr>\n",
              "      <th>4</th>\n",
              "      <td>2004-10-05</td>\n",
              "      <td>24.534403</td>\n",
              "      <td>24.582135</td>\n",
              "      <td>24.510535</td>\n",
              "      <td>24.529629</td>\n",
              "      <td>11900</td>\n",
              "      <td>0.0</td>\n",
              "      <td>0.0</td>\n",
              "      <td>VNQ</td>\n",
              "    </tr>\n",
              "    <tr>\n",
              "      <th>...</th>\n",
              "      <td>...</td>\n",
              "      <td>...</td>\n",
              "      <td>...</td>\n",
              "      <td>...</td>\n",
              "      <td>...</td>\n",
              "      <td>...</td>\n",
              "      <td>...</td>\n",
              "      <td>...</td>\n",
              "      <td>...</td>\n",
              "    </tr>\n",
              "    <tr>\n",
              "      <th>53434</th>\n",
              "      <td>2021-06-17</td>\n",
              "      <td>9.280000</td>\n",
              "      <td>9.290000</td>\n",
              "      <td>9.220000</td>\n",
              "      <td>9.220000</td>\n",
              "      <td>5200</td>\n",
              "      <td>0.0</td>\n",
              "      <td>0.0</td>\n",
              "      <td>REK</td>\n",
              "    </tr>\n",
              "    <tr>\n",
              "      <th>53435</th>\n",
              "      <td>2021-06-18</td>\n",
              "      <td>9.330000</td>\n",
              "      <td>9.370000</td>\n",
              "      <td>9.270000</td>\n",
              "      <td>9.370000</td>\n",
              "      <td>22800</td>\n",
              "      <td>0.0</td>\n",
              "      <td>0.0</td>\n",
              "      <td>REK</td>\n",
              "    </tr>\n",
              "    <tr>\n",
              "      <th>53436</th>\n",
              "      <td>2021-06-21</td>\n",
              "      <td>9.320000</td>\n",
              "      <td>9.320000</td>\n",
              "      <td>9.170000</td>\n",
              "      <td>9.170000</td>\n",
              "      <td>22900</td>\n",
              "      <td>0.0</td>\n",
              "      <td>0.0</td>\n",
              "      <td>REK</td>\n",
              "    </tr>\n",
              "    <tr>\n",
              "      <th>53437</th>\n",
              "      <td>2021-06-22</td>\n",
              "      <td>9.160000</td>\n",
              "      <td>9.230000</td>\n",
              "      <td>9.160000</td>\n",
              "      <td>9.220000</td>\n",
              "      <td>6200</td>\n",
              "      <td>0.0</td>\n",
              "      <td>0.0</td>\n",
              "      <td>REK</td>\n",
              "    </tr>\n",
              "    <tr>\n",
              "      <th>53438</th>\n",
              "      <td>2021-06-23</td>\n",
              "      <td>9.200000</td>\n",
              "      <td>9.260000</td>\n",
              "      <td>9.200000</td>\n",
              "      <td>9.260000</td>\n",
              "      <td>4500</td>\n",
              "      <td>0.0</td>\n",
              "      <td>0.0</td>\n",
              "      <td>REK</td>\n",
              "    </tr>\n",
              "  </tbody>\n",
              "</table>\n",
              "<p>53439 rows × 9 columns</p>\n",
              "</div>"
            ],
            "text/plain": [
              "             Date       Open       High  ...  Dividends  Stock Splits  Ticker\n",
              "0      2004-09-29  23.794544  23.861371  ...        0.0           0.0     VNQ\n",
              "1      2004-09-30  23.866143  24.023660  ...        0.0           0.0     VNQ\n",
              "2      2004-10-01  24.033207  24.462799  ...        0.0           0.0     VNQ\n",
              "3      2004-10-04  24.529629  24.606000  ...        0.0           0.0     VNQ\n",
              "4      2004-10-05  24.534403  24.582135  ...        0.0           0.0     VNQ\n",
              "...           ...        ...        ...  ...        ...           ...     ...\n",
              "53434  2021-06-17   9.280000   9.290000  ...        0.0           0.0     REK\n",
              "53435  2021-06-18   9.330000   9.370000  ...        0.0           0.0     REK\n",
              "53436  2021-06-21   9.320000   9.320000  ...        0.0           0.0     REK\n",
              "53437  2021-06-22   9.160000   9.230000  ...        0.0           0.0     REK\n",
              "53438  2021-06-23   9.200000   9.260000  ...        0.0           0.0     REK\n",
              "\n",
              "[53439 rows x 9 columns]"
            ]
          },
          "metadata": {
            "tags": []
          },
          "execution_count": 111
        }
      ]
    },
    {
      "cell_type": "code",
      "metadata": {
        "id": "hMIJ-BYVl0Uh"
      },
      "source": [
        "vnq = data.loc[data['Ticker'] == \"VNQ\"]"
      ],
      "execution_count": 112,
      "outputs": []
    },
    {
      "cell_type": "code",
      "metadata": {
        "colab": {
          "base_uri": "https://localhost:8080/",
          "height": 252
        },
        "id": "LLxzU-2sl8KO",
        "outputId": "6e0fe446-7d8d-4c56-b9d3-f801268f7f3a"
      },
      "source": [
        "# Convert Date column to datetime64 type\n",
        "vnq['Date'] = pd.to_datetime(vnq['Date'])\n",
        "\n",
        "# Set index to a datetime index\n",
        "vnq.set_index('Date', inplace=True)\n",
        "\n",
        "# Check\n",
        "display(vnq.head())\n",
        "\n",
        "print(vnq.index.inferred_type == \"datetime64\")"
      ],
      "execution_count": 113,
      "outputs": [
        {
          "output_type": "display_data",
          "data": {
            "text/html": [
              "<div>\n",
              "<style scoped>\n",
              "    .dataframe tbody tr th:only-of-type {\n",
              "        vertical-align: middle;\n",
              "    }\n",
              "\n",
              "    .dataframe tbody tr th {\n",
              "        vertical-align: top;\n",
              "    }\n",
              "\n",
              "    .dataframe thead th {\n",
              "        text-align: right;\n",
              "    }\n",
              "</style>\n",
              "<table border=\"1\" class=\"dataframe\">\n",
              "  <thead>\n",
              "    <tr style=\"text-align: right;\">\n",
              "      <th></th>\n",
              "      <th>Open</th>\n",
              "      <th>High</th>\n",
              "      <th>Low</th>\n",
              "      <th>Close</th>\n",
              "      <th>Volume</th>\n",
              "      <th>Dividends</th>\n",
              "      <th>Stock Splits</th>\n",
              "      <th>Ticker</th>\n",
              "    </tr>\n",
              "    <tr>\n",
              "      <th>Date</th>\n",
              "      <th></th>\n",
              "      <th></th>\n",
              "      <th></th>\n",
              "      <th></th>\n",
              "      <th></th>\n",
              "      <th></th>\n",
              "      <th></th>\n",
              "      <th></th>\n",
              "    </tr>\n",
              "  </thead>\n",
              "  <tbody>\n",
              "    <tr>\n",
              "      <th>2004-09-29</th>\n",
              "      <td>23.794544</td>\n",
              "      <td>23.861371</td>\n",
              "      <td>23.789772</td>\n",
              "      <td>23.794544</td>\n",
              "      <td>205800</td>\n",
              "      <td>0.0</td>\n",
              "      <td>0.0</td>\n",
              "      <td>VNQ</td>\n",
              "    </tr>\n",
              "    <tr>\n",
              "      <th>2004-09-30</th>\n",
              "      <td>23.866143</td>\n",
              "      <td>24.023660</td>\n",
              "      <td>23.861370</td>\n",
              "      <td>23.985474</td>\n",
              "      <td>27900</td>\n",
              "      <td>0.0</td>\n",
              "      <td>0.0</td>\n",
              "      <td>VNQ</td>\n",
              "    </tr>\n",
              "    <tr>\n",
              "      <th>2004-10-01</th>\n",
              "      <td>24.033207</td>\n",
              "      <td>24.462799</td>\n",
              "      <td>23.985476</td>\n",
              "      <td>24.429386</td>\n",
              "      <td>129800</td>\n",
              "      <td>0.0</td>\n",
              "      <td>0.0</td>\n",
              "      <td>VNQ</td>\n",
              "    </tr>\n",
              "    <tr>\n",
              "      <th>2004-10-04</th>\n",
              "      <td>24.529629</td>\n",
              "      <td>24.606000</td>\n",
              "      <td>24.529629</td>\n",
              "      <td>24.534403</td>\n",
              "      <td>8100</td>\n",
              "      <td>0.0</td>\n",
              "      <td>0.0</td>\n",
              "      <td>VNQ</td>\n",
              "    </tr>\n",
              "    <tr>\n",
              "      <th>2004-10-05</th>\n",
              "      <td>24.534403</td>\n",
              "      <td>24.582135</td>\n",
              "      <td>24.510535</td>\n",
              "      <td>24.529629</td>\n",
              "      <td>11900</td>\n",
              "      <td>0.0</td>\n",
              "      <td>0.0</td>\n",
              "      <td>VNQ</td>\n",
              "    </tr>\n",
              "  </tbody>\n",
              "</table>\n",
              "</div>"
            ],
            "text/plain": [
              "                 Open       High        Low  ...  Dividends  Stock Splits  Ticker\n",
              "Date                                         ...                                 \n",
              "2004-09-29  23.794544  23.861371  23.789772  ...        0.0           0.0     VNQ\n",
              "2004-09-30  23.866143  24.023660  23.861370  ...        0.0           0.0     VNQ\n",
              "2004-10-01  24.033207  24.462799  23.985476  ...        0.0           0.0     VNQ\n",
              "2004-10-04  24.529629  24.606000  24.529629  ...        0.0           0.0     VNQ\n",
              "2004-10-05  24.534403  24.582135  24.510535  ...        0.0           0.0     VNQ\n",
              "\n",
              "[5 rows x 8 columns]"
            ]
          },
          "metadata": {
            "tags": []
          }
        },
        {
          "output_type": "stream",
          "text": [
            "True\n"
          ],
          "name": "stdout"
        }
      ]
    },
    {
      "cell_type": "code",
      "metadata": {
        "id": "MUnWpJkbe9C9"
      },
      "source": [
        "# Drop unnecessary columns\n",
        "# vnq.drop(columns=vnq.columns[-3:].tolist(), inplace=True)"
      ],
      "execution_count": null,
      "outputs": []
    },
    {
      "cell_type": "code",
      "metadata": {
        "id": "YnEc3QyuDWL1"
      },
      "source": [
        "train = vnq['Close'].iloc[:-253]\n",
        "test = vnq['Close'].iloc[-253:]"
      ],
      "execution_count": 114,
      "outputs": []
    },
    {
      "cell_type": "code",
      "metadata": {
        "id": "wrsNRPZ6DWJS"
      },
      "source": [
        "# Scale the data\n",
        "scaler = MinMaxScaler()\n",
        "\n",
        "train_scale = scaler.fit_transform(train.values.reshape(-1,1))\n",
        "test_scale = scaler.transform(test.values.reshape(-1,1))"
      ],
      "execution_count": 115,
      "outputs": []
    },
    {
      "cell_type": "code",
      "metadata": {
        "colab": {
          "base_uri": "https://localhost:8080/"
        },
        "id": "af3C85DzHnK6",
        "outputId": "65584a0d-73eb-4cf7-942b-78adeff3d511"
      },
      "source": [
        "train_scale.shape"
      ],
      "execution_count": 116,
      "outputs": [
        {
          "output_type": "execute_result",
          "data": {
            "text/plain": [
              "(3960, 1)"
            ]
          },
          "metadata": {
            "tags": []
          },
          "execution_count": 116
        }
      ]
    },
    {
      "cell_type": "code",
      "metadata": {
        "id": "6smttbpjDWGs"
      },
      "source": [
        "def train_test_split (series, timestep):\n",
        "    '''\n",
        "    series: train or test set\n",
        "    \n",
        "    timestep: use n days to predict the next preceding day's price\n",
        "    '''\n",
        "    \n",
        "    train_part, test_part = [], []\n",
        "    \n",
        "    for i in range(len(series)-timestep-1):\n",
        "         \n",
        "        train_part.append(series[i:(i+timestep)])\n",
        "\n",
        "        test_part.append(series[i+timestep])\n",
        "\n",
        "\n",
        "    return np.array(train_part), np.array(test_part)"
      ],
      "execution_count": 117,
      "outputs": []
    },
    {
      "cell_type": "code",
      "metadata": {
        "id": "FPDxafppDWEP"
      },
      "source": [
        "X_train, y_train = train_test_split(train_scale, timestep=22)\n",
        "X_test, y_test = train_test_split(test_scale, timestep=22)"
      ],
      "execution_count": 118,
      "outputs": []
    },
    {
      "cell_type": "code",
      "metadata": {
        "colab": {
          "base_uri": "https://localhost:8080/"
        },
        "id": "cHAsXu2fDWBm",
        "outputId": "087521ba-5f18-46bc-8b1c-91b1634d5cb5"
      },
      "source": [
        "print(\"X_train shape: \", X_train.shape)\n",
        "print(\"y_train shape: \", y_train.shape)\n",
        " \n",
        "print(\"X_test shape: \", X_test.shape)\n",
        "print(\"y_test shape: \", y_test.shape)"
      ],
      "execution_count": 119,
      "outputs": [
        {
          "output_type": "stream",
          "text": [
            "X_train shape:  (3937, 22, 1)\n",
            "y_train shape:  (3937, 1)\n",
            "X_test shape:  (230, 22, 1)\n",
            "y_test shape:  (230, 1)\n"
          ],
          "name": "stdout"
        }
      ]
    },
    {
      "cell_type": "markdown",
      "metadata": {
        "id": "Df3gvNUeViLs"
      },
      "source": [
        "https://www.tensorflow.org/versions/r2.0/api_docs/python/tf/keras/layers/LSTM"
      ]
    },
    {
      "cell_type": "code",
      "metadata": {
        "id": "tKrs3bEoEVR1"
      },
      "source": [
        "model = Sequential()\n",
        "model.add(LSTM(units=50, return_sequences=True, input_shape=(X_train.shape[1:])))\n",
        "model.add(LSTM(50))\n",
        "model.add(Dense(units=1))\n",
        "\n",
        "model.compile(optimizer='adam', loss='mean_squared_error')"
      ],
      "execution_count": 121,
      "outputs": []
    },
    {
      "cell_type": "code",
      "metadata": {
        "colab": {
          "base_uri": "https://localhost:8080/"
        },
        "id": "2dqEE6gsEXg0",
        "outputId": "e151b7be-a86b-47e4-d69b-a9d2e3fd3373"
      },
      "source": [
        "model.summary()"
      ],
      "execution_count": 122,
      "outputs": [
        {
          "output_type": "stream",
          "text": [
            "Model: \"sequential_7\"\n",
            "_________________________________________________________________\n",
            "Layer (type)                 Output Shape              Param #   \n",
            "=================================================================\n",
            "lstm_7 (LSTM)                (None, 22, 50)            10400     \n",
            "_________________________________________________________________\n",
            "lstm_8 (LSTM)                (None, 50)                20200     \n",
            "_________________________________________________________________\n",
            "dense_6 (Dense)              (None, 1)                 51        \n",
            "=================================================================\n",
            "Total params: 30,651\n",
            "Trainable params: 30,651\n",
            "Non-trainable params: 0\n",
            "_________________________________________________________________\n"
          ],
          "name": "stdout"
        }
      ]
    },
    {
      "cell_type": "code",
      "metadata": {
        "colab": {
          "base_uri": "https://localhost:8080/"
        },
        "id": "TU_YLsoviUBx",
        "outputId": "26459f39-8d3f-4156-dae4-0fc98f6eb036"
      },
      "source": [
        "model.fit(X_train, y_train, batch_size=1, epochs=1)"
      ],
      "execution_count": 123,
      "outputs": [
        {
          "output_type": "stream",
          "text": [
            "3937/3937 [==============================] - 48s 11ms/step - loss: 8.3122e-04\n"
          ],
          "name": "stdout"
        },
        {
          "output_type": "execute_result",
          "data": {
            "text/plain": [
              "<tensorflow.python.keras.callbacks.History at 0x7fc26fe396d0>"
            ]
          },
          "metadata": {
            "tags": []
          },
          "execution_count": 123
        }
      ]
    },
    {
      "cell_type": "code",
      "metadata": {
        "id": "9ODrFJHkENy1"
      },
      "source": [
        "y_train_pred = model.predict(X_train)\n",
        "y_test_pred = model.predict(X_test)"
      ],
      "execution_count": 124,
      "outputs": []
    },
    {
      "cell_type": "code",
      "metadata": {
        "id": "mkgw-NYiHStN"
      },
      "source": [
        "y_train_inv = scaler.inverse_transform(y_train_pred)\n",
        "y_test_inv = scaler.inverse_transform(y_test_pred)"
      ],
      "execution_count": 125,
      "outputs": []
    },
    {
      "cell_type": "code",
      "metadata": {
        "colab": {
          "base_uri": "https://localhost:8080/"
        },
        "id": "I7cbwvNMJlYg",
        "outputId": "377326b8-8aeb-44df-cc30-3e6d6d0f20f4"
      },
      "source": [
        "print(\"MSE of train: \", mean_squared_error(y_train, y_train_pred))\n",
        "print(\"MSE of test: \", mean_squared_error(y_test, y_test_pred))"
      ],
      "execution_count": 128,
      "outputs": [
        {
          "output_type": "stream",
          "text": [
            "MSE of train:  0.00023992367924560783\n",
            "MSE of test:  0.0002817367753101771\n"
          ],
          "name": "stdout"
        }
      ]
    },
    {
      "cell_type": "code",
      "metadata": {
        "colab": {
          "base_uri": "https://localhost:8080/"
        },
        "id": "w8W3zIkkZwm7",
        "outputId": "b2e6ec98-fdd6-42f3-8619-4ecf1879ca29"
      },
      "source": [
        "y_test_inv.shape"
      ],
      "execution_count": 139,
      "outputs": [
        {
          "output_type": "execute_result",
          "data": {
            "text/plain": [
              "(230, 1)"
            ]
          },
          "metadata": {
            "tags": []
          },
          "execution_count": 139
        }
      ]
    },
    {
      "cell_type": "code",
      "metadata": {
        "colab": {
          "base_uri": "https://localhost:8080/"
        },
        "id": "MDvQ9vwha2RA",
        "outputId": "898bdfbf-1af5-4933-aee2-d4d559f9847c"
      },
      "source": [
        "test.shape"
      ],
      "execution_count": 142,
      "outputs": [
        {
          "output_type": "execute_result",
          "data": {
            "text/plain": [
              "(253,)"
            ]
          },
          "metadata": {
            "tags": []
          },
          "execution_count": 142
        }
      ]
    },
    {
      "cell_type": "code",
      "metadata": {
        "colab": {
          "base_uri": "https://localhost:8080/"
        },
        "id": "2PnV0TnDa54P",
        "outputId": "cf8bad15-c663-469c-979d-d5ed3b8739b6"
      },
      "source": [
        "test"
      ],
      "execution_count": 143,
      "outputs": [
        {
          "output_type": "execute_result",
          "data": {
            "text/plain": [
              "Date\n",
              "2020-06-23     76.604248\n",
              "2020-06-24     74.421883\n",
              "2020-06-25     75.372398\n",
              "2020-06-26     73.925735\n",
              "2020-06-29     75.352982\n",
              "                 ...    \n",
              "2021-06-17    103.550003\n",
              "2021-06-18    101.790001\n",
              "2021-06-21    103.889999\n",
              "2021-06-22    103.349998\n",
              "2021-06-23    103.169998\n",
              "Name: Close, Length: 253, dtype: float64"
            ]
          },
          "metadata": {
            "tags": []
          },
          "execution_count": 143
        }
      ]
    },
    {
      "cell_type": "code",
      "metadata": {
        "id": "vTfYYnakbNWp"
      },
      "source": [
        "test_index = test.index[23:]"
      ],
      "execution_count": 147,
      "outputs": []
    },
    {
      "cell_type": "code",
      "metadata": {
        "id": "shB8liOubVrA"
      },
      "source": [
        "pred_df = pd.DataFrame(index=test_index,\n",
        "                       columns=['predicted'])\n",
        "pred_df['predicted'] = y_test_inv"
      ],
      "execution_count": 148,
      "outputs": []
    },
    {
      "cell_type": "code",
      "metadata": {
        "colab": {
          "base_uri": "https://localhost:8080/",
          "height": 450
        },
        "id": "uvOVUJkWb5fv",
        "outputId": "6b0315b5-4bfd-494d-8418-d47f787c9f02"
      },
      "source": [
        "pred_df"
      ],
      "execution_count": 149,
      "outputs": [
        {
          "output_type": "execute_result",
          "data": {
            "text/html": [
              "<div>\n",
              "<style scoped>\n",
              "    .dataframe tbody tr th:only-of-type {\n",
              "        vertical-align: middle;\n",
              "    }\n",
              "\n",
              "    .dataframe tbody tr th {\n",
              "        vertical-align: top;\n",
              "    }\n",
              "\n",
              "    .dataframe thead th {\n",
              "        text-align: right;\n",
              "    }\n",
              "</style>\n",
              "<table border=\"1\" class=\"dataframe\">\n",
              "  <thead>\n",
              "    <tr style=\"text-align: right;\">\n",
              "      <th></th>\n",
              "      <th>predicted</th>\n",
              "    </tr>\n",
              "    <tr>\n",
              "      <th>Date</th>\n",
              "      <th></th>\n",
              "    </tr>\n",
              "  </thead>\n",
              "  <tbody>\n",
              "    <tr>\n",
              "      <th>2020-07-27</th>\n",
              "      <td>77.033897</td>\n",
              "    </tr>\n",
              "    <tr>\n",
              "      <th>2020-07-28</th>\n",
              "      <td>77.082634</td>\n",
              "    </tr>\n",
              "    <tr>\n",
              "      <th>2020-07-29</th>\n",
              "      <td>77.237198</td>\n",
              "    </tr>\n",
              "    <tr>\n",
              "      <th>2020-07-30</th>\n",
              "      <td>77.821548</td>\n",
              "    </tr>\n",
              "    <tr>\n",
              "      <th>2020-07-31</th>\n",
              "      <td>78.877258</td>\n",
              "    </tr>\n",
              "    <tr>\n",
              "      <th>...</th>\n",
              "      <td>...</td>\n",
              "    </tr>\n",
              "    <tr>\n",
              "      <th>2021-06-17</th>\n",
              "      <td>105.916534</td>\n",
              "    </tr>\n",
              "    <tr>\n",
              "      <th>2021-06-18</th>\n",
              "      <td>105.187935</td>\n",
              "    </tr>\n",
              "    <tr>\n",
              "      <th>2021-06-21</th>\n",
              "      <td>104.433807</td>\n",
              "    </tr>\n",
              "    <tr>\n",
              "      <th>2021-06-22</th>\n",
              "      <td>103.263519</td>\n",
              "    </tr>\n",
              "    <tr>\n",
              "      <th>2021-06-23</th>\n",
              "      <td>102.938728</td>\n",
              "    </tr>\n",
              "  </tbody>\n",
              "</table>\n",
              "<p>230 rows × 1 columns</p>\n",
              "</div>"
            ],
            "text/plain": [
              "             predicted\n",
              "Date                  \n",
              "2020-07-27   77.033897\n",
              "2020-07-28   77.082634\n",
              "2020-07-29   77.237198\n",
              "2020-07-30   77.821548\n",
              "2020-07-31   78.877258\n",
              "...                ...\n",
              "2021-06-17  105.916534\n",
              "2021-06-18  105.187935\n",
              "2021-06-21  104.433807\n",
              "2021-06-22  103.263519\n",
              "2021-06-23  102.938728\n",
              "\n",
              "[230 rows x 1 columns]"
            ]
          },
          "metadata": {
            "tags": []
          },
          "execution_count": 149
        }
      ]
    },
    {
      "cell_type": "code",
      "metadata": {
        "colab": {
          "base_uri": "https://localhost:8080/"
        },
        "id": "Zg026k5Ib6Q6",
        "outputId": "89e50bd8-c31a-4141-f6fd-6fc7190276f6"
      },
      "source": [
        "test.iloc[23:].index"
      ],
      "execution_count": 154,
      "outputs": [
        {
          "output_type": "execute_result",
          "data": {
            "text/plain": [
              "DatetimeIndex(['2020-07-27', '2020-07-28', '2020-07-29', '2020-07-30',\n",
              "               '2020-07-31', '2020-08-03', '2020-08-04', '2020-08-05',\n",
              "               '2020-08-06', '2020-08-07',\n",
              "               ...\n",
              "               '2021-06-10', '2021-06-11', '2021-06-14', '2021-06-15',\n",
              "               '2021-06-16', '2021-06-17', '2021-06-18', '2021-06-21',\n",
              "               '2021-06-22', '2021-06-23'],\n",
              "              dtype='datetime64[ns]', name='Date', length=230, freq=None)"
            ]
          },
          "metadata": {
            "tags": []
          },
          "execution_count": 154
        }
      ]
    },
    {
      "cell_type": "code",
      "metadata": {
        "id": "pIMtFspLb_sR"
      },
      "source": [
        "actual_df = pd.DataFrame(index=test.iloc[23:].index,\n",
        "                         columns=['actual'])\n",
        "actual_df['actual'] = test.iloc[23:].values"
      ],
      "execution_count": 155,
      "outputs": []
    },
    {
      "cell_type": "code",
      "metadata": {
        "colab": {
          "base_uri": "https://localhost:8080/",
          "height": 450
        },
        "id": "kw5ucnvacVq6",
        "outputId": "66e383a3-bdab-48e0-c8d7-45a73e0a8f0c"
      },
      "source": [
        "actual_df"
      ],
      "execution_count": 156,
      "outputs": [
        {
          "output_type": "execute_result",
          "data": {
            "text/html": [
              "<div>\n",
              "<style scoped>\n",
              "    .dataframe tbody tr th:only-of-type {\n",
              "        vertical-align: middle;\n",
              "    }\n",
              "\n",
              "    .dataframe tbody tr th {\n",
              "        vertical-align: top;\n",
              "    }\n",
              "\n",
              "    .dataframe thead th {\n",
              "        text-align: right;\n",
              "    }\n",
              "</style>\n",
              "<table border=\"1\" class=\"dataframe\">\n",
              "  <thead>\n",
              "    <tr style=\"text-align: right;\">\n",
              "      <th></th>\n",
              "      <th>actual</th>\n",
              "    </tr>\n",
              "    <tr>\n",
              "      <th>Date</th>\n",
              "      <th></th>\n",
              "    </tr>\n",
              "  </thead>\n",
              "  <tbody>\n",
              "    <tr>\n",
              "      <th>2020-07-27</th>\n",
              "      <td>76.644310</td>\n",
              "    </tr>\n",
              "    <tr>\n",
              "      <th>2020-07-28</th>\n",
              "      <td>78.168648</td>\n",
              "    </tr>\n",
              "    <tr>\n",
              "      <th>2020-07-29</th>\n",
              "      <td>79.683281</td>\n",
              "    </tr>\n",
              "    <tr>\n",
              "      <th>2020-07-30</th>\n",
              "      <td>79.168701</td>\n",
              "    </tr>\n",
              "    <tr>\n",
              "      <th>2020-07-31</th>\n",
              "      <td>79.023056</td>\n",
              "    </tr>\n",
              "    <tr>\n",
              "      <th>...</th>\n",
              "      <td>...</td>\n",
              "    </tr>\n",
              "    <tr>\n",
              "      <th>2021-06-17</th>\n",
              "      <td>103.550003</td>\n",
              "    </tr>\n",
              "    <tr>\n",
              "      <th>2021-06-18</th>\n",
              "      <td>101.790001</td>\n",
              "    </tr>\n",
              "    <tr>\n",
              "      <th>2021-06-21</th>\n",
              "      <td>103.889999</td>\n",
              "    </tr>\n",
              "    <tr>\n",
              "      <th>2021-06-22</th>\n",
              "      <td>103.349998</td>\n",
              "    </tr>\n",
              "    <tr>\n",
              "      <th>2021-06-23</th>\n",
              "      <td>103.169998</td>\n",
              "    </tr>\n",
              "  </tbody>\n",
              "</table>\n",
              "<p>230 rows × 1 columns</p>\n",
              "</div>"
            ],
            "text/plain": [
              "                actual\n",
              "Date                  \n",
              "2020-07-27   76.644310\n",
              "2020-07-28   78.168648\n",
              "2020-07-29   79.683281\n",
              "2020-07-30   79.168701\n",
              "2020-07-31   79.023056\n",
              "...                ...\n",
              "2021-06-17  103.550003\n",
              "2021-06-18  101.790001\n",
              "2021-06-21  103.889999\n",
              "2021-06-22  103.349998\n",
              "2021-06-23  103.169998\n",
              "\n",
              "[230 rows x 1 columns]"
            ]
          },
          "metadata": {
            "tags": []
          },
          "execution_count": 156
        }
      ]
    },
    {
      "cell_type": "code",
      "metadata": {
        "id": "01bf2QKIcWqD"
      },
      "source": [
        "compare_df = pd.concat([actual_df, pred_df], axis=1)"
      ],
      "execution_count": 162,
      "outputs": []
    },
    {
      "cell_type": "code",
      "metadata": {
        "colab": {
          "base_uri": "https://localhost:8080/",
          "height": 450
        },
        "id": "vxPz5UzHcmq_",
        "outputId": "d3555d61-a0fe-4c4b-d2c1-86e777e6a0c5"
      },
      "source": [
        "compare_df"
      ],
      "execution_count": 163,
      "outputs": [
        {
          "output_type": "execute_result",
          "data": {
            "text/html": [
              "<div>\n",
              "<style scoped>\n",
              "    .dataframe tbody tr th:only-of-type {\n",
              "        vertical-align: middle;\n",
              "    }\n",
              "\n",
              "    .dataframe tbody tr th {\n",
              "        vertical-align: top;\n",
              "    }\n",
              "\n",
              "    .dataframe thead th {\n",
              "        text-align: right;\n",
              "    }\n",
              "</style>\n",
              "<table border=\"1\" class=\"dataframe\">\n",
              "  <thead>\n",
              "    <tr style=\"text-align: right;\">\n",
              "      <th></th>\n",
              "      <th>actual</th>\n",
              "      <th>predicted</th>\n",
              "    </tr>\n",
              "    <tr>\n",
              "      <th>Date</th>\n",
              "      <th></th>\n",
              "      <th></th>\n",
              "    </tr>\n",
              "  </thead>\n",
              "  <tbody>\n",
              "    <tr>\n",
              "      <th>2020-07-27</th>\n",
              "      <td>76.644310</td>\n",
              "      <td>77.033897</td>\n",
              "    </tr>\n",
              "    <tr>\n",
              "      <th>2020-07-28</th>\n",
              "      <td>78.168648</td>\n",
              "      <td>77.082634</td>\n",
              "    </tr>\n",
              "    <tr>\n",
              "      <th>2020-07-29</th>\n",
              "      <td>79.683281</td>\n",
              "      <td>77.237198</td>\n",
              "    </tr>\n",
              "    <tr>\n",
              "      <th>2020-07-30</th>\n",
              "      <td>79.168701</td>\n",
              "      <td>77.821548</td>\n",
              "    </tr>\n",
              "    <tr>\n",
              "      <th>2020-07-31</th>\n",
              "      <td>79.023056</td>\n",
              "      <td>78.877258</td>\n",
              "    </tr>\n",
              "    <tr>\n",
              "      <th>...</th>\n",
              "      <td>...</td>\n",
              "      <td>...</td>\n",
              "    </tr>\n",
              "    <tr>\n",
              "      <th>2021-06-17</th>\n",
              "      <td>103.550003</td>\n",
              "      <td>105.916534</td>\n",
              "    </tr>\n",
              "    <tr>\n",
              "      <th>2021-06-18</th>\n",
              "      <td>101.790001</td>\n",
              "      <td>105.187935</td>\n",
              "    </tr>\n",
              "    <tr>\n",
              "      <th>2021-06-21</th>\n",
              "      <td>103.889999</td>\n",
              "      <td>104.433807</td>\n",
              "    </tr>\n",
              "    <tr>\n",
              "      <th>2021-06-22</th>\n",
              "      <td>103.349998</td>\n",
              "      <td>103.263519</td>\n",
              "    </tr>\n",
              "    <tr>\n",
              "      <th>2021-06-23</th>\n",
              "      <td>103.169998</td>\n",
              "      <td>102.938728</td>\n",
              "    </tr>\n",
              "  </tbody>\n",
              "</table>\n",
              "<p>230 rows × 2 columns</p>\n",
              "</div>"
            ],
            "text/plain": [
              "                actual   predicted\n",
              "Date                              \n",
              "2020-07-27   76.644310   77.033897\n",
              "2020-07-28   78.168648   77.082634\n",
              "2020-07-29   79.683281   77.237198\n",
              "2020-07-30   79.168701   77.821548\n",
              "2020-07-31   79.023056   78.877258\n",
              "...                ...         ...\n",
              "2021-06-17  103.550003  105.916534\n",
              "2021-06-18  101.790001  105.187935\n",
              "2021-06-21  103.889999  104.433807\n",
              "2021-06-22  103.349998  103.263519\n",
              "2021-06-23  103.169998  102.938728\n",
              "\n",
              "[230 rows x 2 columns]"
            ]
          },
          "metadata": {
            "tags": []
          },
          "execution_count": 163
        }
      ]
    },
    {
      "cell_type": "code",
      "metadata": {
        "colab": {
          "base_uri": "https://localhost:8080/",
          "height": 539
        },
        "id": "-Aa89tK6dPAE",
        "outputId": "dfe11383-61d5-48e8-bcc3-24bde7ed6b36"
      },
      "source": [
        "compare_df.plot(figsize=(15,9))"
      ],
      "execution_count": 168,
      "outputs": [
        {
          "output_type": "execute_result",
          "data": {
            "text/plain": [
              "<matplotlib.axes._subplots.AxesSubplot at 0x7fc26d3d49d0>"
            ]
          },
          "metadata": {
            "tags": []
          },
          "execution_count": 168
        },
        {
          "output_type": "display_data",
          "data": {
            "image/png": "[encoded data removed]",
            "text/plain": [
              "<Figure size 1080x648 with 1 Axes>"
            ]
          },
          "metadata": {
            "tags": [],
            "needs_background": "light"
          }
        }
      ]
    },
    {
      "cell_type": "code",
      "metadata": {
        "id": "MkI4uMmPdTDp"
      },
      "source": [
        ""
      ],
      "execution_count": null,
      "outputs": []
    }
  ]
}